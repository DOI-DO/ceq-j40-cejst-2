{
 "cells": [
  {
   "cell_type": "code",
   "execution_count": 3,
   "id": "d51a1d53-32b7-4971-ad83-72206b740eb2",
   "metadata": {},
   "outputs": [],
   "source": [
    "import pandas as pd\n",
    "import numpy as np\n",
    "\n",
    "%load_ext lab_black"
   ]
  },
  {
   "cell_type": "code",
   "execution_count": 5,
   "id": "d55ea5fe-6e3a-4b45-bf28-41f4d93eb902",
   "metadata": {},
   "outputs": [],
   "source": [
    "data = pd.read_csv(\"./raw/Draft_Disadvantaged_Communities__DAC___2021.csv\")"
   ]
  },
  {
   "cell_type": "code",
   "execution_count": 18,
   "id": "756db63e-f4ac-4421-9dda-4769fb2cd45a",
   "metadata": {},
   "outputs": [],
   "source": [
    "data[\"nyc_dac\"] = data[\"DAC_Designation\"] == \"Designated as a Draft DAC\"\n",
    "data = data.rename(columns={\"GEOID\": \"GEOID10_TRACT\"})"
   ]
  },
  {
   "cell_type": "code",
   "execution_count": 19,
   "id": "284fb55b-f5db-463e-9d27-9e84e71d058d",
   "metadata": {},
   "outputs": [
    {
     "data": {
      "text/plain": [
       "Not Designated as a Draft DAC    0.650061\n",
       "Designated as a Draft DAC        0.349939\n",
       "Name: DAC_Designation, dtype: float64"
      ]
     },
     "execution_count": 19,
     "metadata": {},
     "output_type": "execute_result"
    }
   ],
   "source": [
    "data[\"DAC_Designation\"].value_counts(normalize=True)"
   ]
  },
  {
   "cell_type": "code",
   "execution_count": 20,
   "id": "a3191a93-4e4d-4b83-8a78-7f30eed524e5",
   "metadata": {},
   "outputs": [],
   "source": [
    "data.to_csv(\"./clean/nyc_dac.csv\", index=False)"
   ]
  }
 ],
 "metadata": {
  "kernelspec": {
   "display_name": "Python 3 (ipykernel)",
   "language": "python",
   "name": "python3"
  },
  "language_info": {
   "codemirror_mode": {
    "name": "ipython",
    "version": 3
   },
   "file_extension": ".py",
   "mimetype": "text/x-python",
   "name": "python",
   "nbconvert_exporter": "python",
   "pygments_lexer": "ipython3",
   "version": "3.9.10"
  }
 },
 "nbformat": 4,
 "nbformat_minor": 5
}
