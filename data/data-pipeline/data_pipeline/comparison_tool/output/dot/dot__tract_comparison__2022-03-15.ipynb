{
 "cells": [
  {
   "cell_type": "code",
   "execution_count": 1,
   "id": "81788485-12d4-41f4-b5db-aa4874a32501",
   "metadata": {
    "execution": {
     "iopub.execute_input": "2022-03-15T20:31:46.148994Z",
     "iopub.status.busy": "2022-03-15T20:31:46.148694Z",
     "iopub.status.idle": "2022-03-15T20:31:47.874975Z",
     "shell.execute_reply": "2022-03-15T20:31:47.874261Z"
    },
    "papermill": {
     "duration": 1.748024,
     "end_time": "2022-03-15T20:31:47.877125",
     "exception": false,
     "start_time": "2022-03-15T20:31:46.129101",
     "status": "completed"
    },
    "tags": []
   },
   "outputs": [],
   "source": [
    "import pandas as pd\n",
    "import numpy as np\n",
    "import os\n",
    "import datetime\n",
    "import sys\n",
    "import seaborn as sns\n",
    "import matplotlib.pyplot as plt\n",
    "\n",
    "from data_pipeline.score import field_names\n",
    "from data_pipeline.comparison_tool.src import utils   \n",
    "\n",
    "pd.options.display.float_format = \"{:,.3f}\".format\n",
    "%load_ext lab_black"
   ]
  },
  {
   "cell_type": "markdown",
   "id": "2820ead7-981d-40e0-8a07-80f9f1c48b9c",
   "metadata": {
    "papermill": {
     "duration": 0.012067,
     "end_time": "2022-03-15T20:31:47.901773",
     "exception": false,
     "start_time": "2022-03-15T20:31:47.889706",
     "status": "completed"
    },
    "tags": []
   },
   "source": [
    "# Comparator definition comparison\n",
    "\n",
    "This notebook answers a few questions:\n",
    "1. How many tracts are flagged and what's the size of overlap by comparator?\n",
    "2. What are the demographics of each set of tracts by \"category\" of score (CEJST but not comparator, comparator but not CEJST, CEJST and comparator)?\n",
    "3. What are the overall demographics of ALL comparator vs ALL CEJST?\n",
    "\n",
    "It produces a single Excel file of the stats listed, but is interactive even after run-time. This notebook focuses on 1:1 comparison. It can be pointed in the YAML to either a simple output (tract and boolean for highlight) or to the output from an ETL."
   ]
  },
  {
   "cell_type": "code",
   "execution_count": 2,
   "id": "2093584e-312b-44f7-87d7-6099d9fe000f",
   "metadata": {
    "execution": {
     "iopub.execute_input": "2022-03-15T20:31:47.927314Z",
     "iopub.status.busy": "2022-03-15T20:31:47.927106Z",
     "iopub.status.idle": "2022-03-15T20:31:47.935497Z",
     "shell.execute_reply": "2022-03-15T20:31:47.935007Z"
    },
    "papermill": {
     "duration": 0.024337,
     "end_time": "2022-03-15T20:31:47.937266",
     "exception": false,
     "start_time": "2022-03-15T20:31:47.912929",
     "status": "completed"
    },
    "tags": [
     "parameters"
    ]
   },
   "outputs": [],
   "source": [
    "## These are parameters and get overridden by the \"injected parameters\" cell below\n",
    "ADDITIONAL_DEMO_COLUMNS = []\n",
    "COMPARATOR_COLUMN = None\n",
    "COMPARATOR_FILE = None\n",
    "DEMOGRAPHIC_COLUMNS = []\n",
    "DEMOGRAPHIC_FILE = None\n",
    "OUTPUT_DATA_PATH = None\n",
    "SCORE_FILE = None\n",
    "OTHER_COMPARATOR_COLUMNS = None\n",
    "OUTPUT_NAME = None"
   ]
  },
  {
   "cell_type": "code",
   "execution_count": 3,
   "id": "c1a6fd7a",
   "metadata": {
    "execution": {
     "iopub.execute_input": "2022-03-15T20:31:47.960739Z",
     "iopub.status.busy": "2022-03-15T20:31:47.960532Z",
     "iopub.status.idle": "2022-03-15T20:31:47.976719Z",
     "shell.execute_reply": "2022-03-15T20:31:47.976229Z"
    },
    "papermill": {
     "duration": 0.030004,
     "end_time": "2022-03-15T20:31:47.978436",
     "exception": false,
     "start_time": "2022-03-15T20:31:47.948432",
     "status": "completed"
    },
    "tags": [
     "injected-parameters"
    ]
   },
   "outputs": [],
   "source": [
    "# Parameters\n",
    "ADDITIONAL_DEMO_COLUMNS = [\n",
    "    \"Urban Heuristic Flag\",\n",
    "    \"Percent of individuals below 200% Federal Poverty Line\",\n",
    "    \"Percent individuals age 25 or over with less than high school degree\",\n",
    "    \"Unemployment (percent)\",\n",
    "    \"Percent of households in linguistic isolation\",\n",
    "]\n",
    "COMPARATOR_COLUMN = \"dot_prioritized\"\n",
    "COMPARATOR_FILE = (\n",
    "    \"/Users/emmausds/Desktop/justice40-analysis/agency_data/data/dot/clean/dot_data.csv\"\n",
    ")\n",
    "DEMOGRAPHIC_COLUMNS = [\n",
    "    \"Percent Black or African American alone\",\n",
    "    \"Percent American Indian and Alaska Native alone\",\n",
    "    \"Percent Asian alone\",\n",
    "    \"Percent Native Hawaiian and Other Pacific alone\",\n",
    "    \"Percent Two or more races\",\n",
    "    \"Percent Non-Hispanic White\",\n",
    "    \"Percent Hispanic or Latino\",\n",
    "]\n",
    "DEMOGRAPHIC_FILE = \"/Users/emmausds/Desktop/justice40-tool/data/data-pipeline/data_pipeline/data/dataset/census_acs_2019/usa.csv\"\n",
    "GEOID_COLUMN = \"GEOID10_TRACT\"\n",
    "OUTPUT_DATA_PATH = \"/Users/emmausds/Desktop/justice40-tool/data/data-pipeline/data_pipeline/comparison_tool/output/dot\"\n",
    "SCORE_COLUMN = \"Definition M (communities)\"\n",
    "SCORE_FILE = \"/Users/emmausds/Desktop/justice40-tool/data/data-pipeline/data_pipeline/data/score/csv/full/usa.csv\"\n",
    "TOTAL_POPULATION_COLUMN = \"Total population\"\n",
    "OTHER_AGENCY_COLUMNS = [\n",
    "    \"TransportationDisadvantage\",\n",
    "    \"HealthDisadvantage\",\n",
    "    \"EconomyDisadvantage\",\n",
    "    \"EquityDisadvantage\",\n",
    "    \"EnvironmentalDisadvantage\",\n",
    "    \"OpportunityZone\",\n",
    "    \"SumDisadvantage\",\n",
    "]\n",
    "OUTPUT_NAME = \"dot\"\n"
   ]
  },
  {
   "cell_type": "code",
   "execution_count": 4,
   "id": "bd38aaaa",
   "metadata": {
    "execution": {
     "iopub.execute_input": "2022-03-15T20:31:48.003537Z",
     "iopub.status.busy": "2022-03-15T20:31:48.003265Z",
     "iopub.status.idle": "2022-03-15T20:31:48.008005Z",
     "shell.execute_reply": "2022-03-15T20:31:48.007398Z"
    },
    "papermill": {
     "duration": 0.019563,
     "end_time": "2022-03-15T20:31:48.009904",
     "exception": false,
     "start_time": "2022-03-15T20:31:47.990341",
     "status": "completed"
    },
    "tags": []
   },
   "outputs": [],
   "source": [
    "## These are constants for all runs\n",
    "GEOID_COLUMN = field_names.GEOID_TRACT_FIELD\n",
    "SCORE_COLUMN = field_names.SCORE_M_COMMUNITIES\n",
    "TOTAL_POPULATION_COLUMN = field_names.TOTAL_POP_FIELD"
   ]
  },
  {
   "cell_type": "markdown",
   "id": "8a3940be",
   "metadata": {
    "papermill": {
     "duration": 0.012268,
     "end_time": "2022-03-15T20:31:48.036119",
     "exception": false,
     "start_time": "2022-03-15T20:31:48.023851",
     "status": "completed"
    },
    "tags": []
   },
   "source": [
    "__Date and time of last run__"
   ]
  },
  {
   "cell_type": "code",
   "execution_count": 5,
   "id": "5f19a1e3-fe05-425d-9160-4d4e193fadf7",
   "metadata": {
    "execution": {
     "iopub.execute_input": "2022-03-15T20:31:48.060670Z",
     "iopub.status.busy": "2022-03-15T20:31:48.060417Z",
     "iopub.status.idle": "2022-03-15T20:31:48.112392Z",
     "shell.execute_reply": "2022-03-15T20:31:48.111883Z"
    },
    "papermill": {
     "duration": 0.066241,
     "end_time": "2022-03-15T20:31:48.114196",
     "exception": false,
     "start_time": "2022-03-15T20:31:48.047955",
     "status": "completed"
    },
    "tags": []
   },
   "outputs": [
    {
     "data": {
      "text/plain": [
       "datetime.datetime(2022, 3, 15, 16, 31, 48, 61429)"
      ]
     },
     "execution_count": 5,
     "metadata": {},
     "output_type": "execute_result"
    }
   ],
   "source": [
    "datetime.datetime.now()"
   ]
  },
  {
   "cell_type": "markdown",
   "id": "269b0f06-edee-4fce-8755-a8e7fe92e340",
   "metadata": {
    "papermill": {
     "duration": 0.012424,
     "end_time": "2022-03-15T20:31:48.140673",
     "exception": false,
     "start_time": "2022-03-15T20:31:48.128249",
     "status": "completed"
    },
    "tags": []
   },
   "source": [
    "__Congfigure output (autocreated)__"
   ]
  },
  {
   "cell_type": "code",
   "execution_count": 6,
   "id": "acace944-18fa-4b05-a581-8147e8e09299",
   "metadata": {
    "execution": {
     "iopub.execute_input": "2022-03-15T20:31:48.165797Z",
     "iopub.status.busy": "2022-03-15T20:31:48.165519Z",
     "iopub.status.idle": "2022-03-15T20:31:48.172473Z",
     "shell.execute_reply": "2022-03-15T20:31:48.171381Z"
    },
    "papermill": {
     "duration": 0.021864,
     "end_time": "2022-03-15T20:31:48.174575",
     "exception": false,
     "start_time": "2022-03-15T20:31:48.152711",
     "status": "completed"
    },
    "tags": []
   },
   "outputs": [],
   "source": [
    "OUTPUT_EXCEL = os.path.join(\n",
    "    OUTPUT_DATA_PATH,\n",
    "    f\"{OUTPUT_NAME}__{datetime.datetime.now().strftime('%Y-%m-%d')}.xlsx\",\n",
    ")"
   ]
  },
  {
   "cell_type": "markdown",
   "id": "f5517217-f107-4fee-b4ca-be61f6b2b7c3",
   "metadata": {
    "papermill": {
     "duration": 0.011984,
     "end_time": "2022-03-15T20:31:48.198800",
     "exception": false,
     "start_time": "2022-03-15T20:31:48.186816",
     "status": "completed"
    },
    "tags": []
   },
   "source": [
    "__Read in data__"
   ]
  },
  {
   "cell_type": "code",
   "execution_count": 7,
   "id": "cdefecf2-100b-4ad2-b0bd-101c0bad5a92",
   "metadata": {
    "execution": {
     "iopub.execute_input": "2022-03-15T20:31:48.226015Z",
     "iopub.status.busy": "2022-03-15T20:31:48.225740Z",
     "iopub.status.idle": "2022-03-15T20:31:51.039144Z",
     "shell.execute_reply": "2022-03-15T20:31:51.038445Z"
    },
    "papermill": {
     "duration": 2.830464,
     "end_time": "2022-03-15T20:31:51.041146",
     "exception": false,
     "start_time": "2022-03-15T20:31:48.210682",
     "status": "completed"
    },
    "tags": []
   },
   "outputs": [],
   "source": [
    "comparator_cols = [COMPARATOR_COLUMN] + OTHER_COMPARATOR_COLUMNS if OTHER_COMPARATOR_COLUMNS else [COMPARATOR_COLUMN]\n",
    "\n",
    "#papermill_description=Loading_data\n",
    "joined_frame = pd.concat(\n",
    "    [\n",
    "        utils.read_file(\n",
    "            SCORE_FILE,\n",
    "            columns=[TOTAL_POPULATION_COLUMN, SCORE_COLUMN] + ADDITIONAL_DEMO_COLUMNS,\n",
    "            geoid=GEOID_COLUMN,\n",
    "        ),\n",
    "        utils.read_file(COMPARATOR_FILE, columns=comparator_cols, geoid=GEOID_COLUMN),\n",
    "        utils.read_file(\n",
    "            DEMOGRAPHIC_FILE,\n",
    "            DEMOGRAPHIC_COLUMNS,\n",
    "            geoid=GEOID_COLUMN,\n",
    "        ),\n",
    "    ],\n",
    "    axis=1,\n",
    ").reset_index()\n",
    "\n",
    "# Comparator may provide simple list of tracts; this will fill all census tracts with \"False\"\n",
    "joined_frame = joined_frame.fillna({COMPARATOR_COLUMN: False, SCORE_COLUMN: False})"
   ]
  },
  {
   "cell_type": "markdown",
   "id": "da71a62c-9c2c-46bd-815f-37cdb9ca18a1",
   "metadata": {
    "papermill": {
     "duration": 0.012135,
     "end_time": "2022-03-15T20:31:51.065916",
     "exception": false,
     "start_time": "2022-03-15T20:31:51.053781",
     "status": "completed"
    },
    "tags": []
   },
   "source": [
    "## High-level summary"
   ]
  },
  {
   "cell_type": "markdown",
   "id": "bfaf9912-1ffe-49e7-a38a-2f815b07826d",
   "metadata": {
    "papermill": {
     "duration": 0.012537,
     "end_time": "2022-03-15T20:31:51.092855",
     "exception": false,
     "start_time": "2022-03-15T20:31:51.080318",
     "status": "completed"
    },
    "tags": []
   },
   "source": [
    "What *shares* of tracts and population highlighted by the comparator are covered by CEJST?"
   ]
  },
  {
   "cell_type": "code",
   "execution_count": 8,
   "id": "93d2990c-edc0-404b-aeea-b62e3ca7b308",
   "metadata": {
    "execution": {
     "iopub.execute_input": "2022-03-15T20:31:51.120423Z",
     "iopub.status.busy": "2022-03-15T20:31:51.120050Z",
     "iopub.status.idle": "2022-03-15T20:31:51.144438Z",
     "shell.execute_reply": "2022-03-15T20:31:51.143902Z"
    },
    "papermill": {
     "duration": 0.040636,
     "end_time": "2022-03-15T20:31:51.146287",
     "exception": false,
     "start_time": "2022-03-15T20:31:51.105651",
     "status": "completed"
    },
    "tags": []
   },
   "outputs": [
    {
     "data": {
      "text/html": [
       "<div>\n",
       "<style scoped>\n",
       "    .dataframe tbody tr th:only-of-type {\n",
       "        vertical-align: middle;\n",
       "    }\n",
       "\n",
       "    .dataframe tbody tr th {\n",
       "        vertical-align: top;\n",
       "    }\n",
       "\n",
       "    .dataframe thead th {\n",
       "        text-align: right;\n",
       "    }\n",
       "</style>\n",
       "<table border=\"1\" class=\"dataframe\">\n",
       "  <thead>\n",
       "    <tr style=\"text-align: right;\">\n",
       "      <th></th>\n",
       "      <th></th>\n",
       "      <th>Population</th>\n",
       "      <th>Count of tracts</th>\n",
       "      <th>Share of tracts</th>\n",
       "      <th>Share of population</th>\n",
       "    </tr>\n",
       "    <tr>\n",
       "      <th>dot_prioritized</th>\n",
       "      <th>Definition M (communities)</th>\n",
       "      <th></th>\n",
       "      <th></th>\n",
       "      <th></th>\n",
       "      <th></th>\n",
       "    </tr>\n",
       "  </thead>\n",
       "  <tbody>\n",
       "    <tr>\n",
       "      <th rowspan=\"2\" valign=\"top\">False</th>\n",
       "      <th>False</th>\n",
       "      <td>190,221,619.000</td>\n",
       "      <td>41794</td>\n",
       "      <td>0.564</td>\n",
       "      <td>0.583</td>\n",
       "    </tr>\n",
       "    <tr>\n",
       "      <th>True</th>\n",
       "      <td>27,334,843.000</td>\n",
       "      <td>7411</td>\n",
       "      <td>0.100</td>\n",
       "      <td>0.084</td>\n",
       "    </tr>\n",
       "    <tr>\n",
       "      <th rowspan=\"2\" valign=\"top\">True</th>\n",
       "      <th>False</th>\n",
       "      <td>42,569,343.000</td>\n",
       "      <td>8889</td>\n",
       "      <td>0.120</td>\n",
       "      <td>0.130</td>\n",
       "    </tr>\n",
       "    <tr>\n",
       "      <th>True</th>\n",
       "      <td>66,164,166.000</td>\n",
       "      <td>16066</td>\n",
       "      <td>0.217</td>\n",
       "      <td>0.203</td>\n",
       "    </tr>\n",
       "  </tbody>\n",
       "</table>\n",
       "</div>"
      ],
      "text/plain": [
       "                                                Population  Count of tracts  \\\n",
       "dot_prioritized Definition M (communities)                                    \n",
       "False           False                      190,221,619.000            41794   \n",
       "                True                        27,334,843.000             7411   \n",
       "True            False                       42,569,343.000             8889   \n",
       "                True                        66,164,166.000            16066   \n",
       "\n",
       "                                            Share of tracts  \\\n",
       "dot_prioritized Definition M (communities)                    \n",
       "False           False                                 0.564   \n",
       "                True                                  0.100   \n",
       "True            False                                 0.120   \n",
       "                True                                  0.217   \n",
       "\n",
       "                                            Share of population  \n",
       "dot_prioritized Definition M (communities)                       \n",
       "False           False                                     0.583  \n",
       "                True                                      0.084  \n",
       "True            False                                     0.130  \n",
       "                True                                      0.203  "
      ]
     },
     "execution_count": 8,
     "metadata": {},
     "output_type": "execute_result"
    }
   ],
   "source": [
    "#papermill_description=Summary_stats\n",
    "population = utils.produce_summary_stats(\n",
    "    joined_frame, COMPARATOR_COLUMN, SCORE_COLUMN, TOTAL_POPULATION_COLUMN, GEOID_COLUMN\n",
    ")\n",
    "population"
   ]
  },
  {
   "cell_type": "markdown",
   "id": "0c945e85-874d-4f1f-921e-ff2f0de42767",
   "metadata": {
    "papermill": {
     "duration": 0.014124,
     "end_time": "2022-03-15T20:31:51.173982",
     "exception": false,
     "start_time": "2022-03-15T20:31:51.159858",
     "status": "completed"
    },
    "tags": []
   },
   "source": [
    "## Tract-level stats\n",
    "\n",
    "First, this walks through overall stats for disadvantaged communities under the comparator definition and under the CEJST's definition. Next, this walks through stats by group (e.g., CEJST and not comparator). This is at the tract level, so the average across tracts, where tracts are not population-weighted. "
   ]
  },
  {
   "cell_type": "code",
   "execution_count": 9,
   "id": "618d2bac-8800-4fd7-a75d-f4abaae30923",
   "metadata": {
    "execution": {
     "iopub.execute_input": "2022-03-15T20:31:51.202666Z",
     "iopub.status.busy": "2022-03-15T20:31:51.202408Z",
     "iopub.status.idle": "2022-03-15T20:31:51.226924Z",
     "shell.execute_reply": "2022-03-15T20:31:51.226359Z"
    },
    "papermill": {
     "duration": 0.041071,
     "end_time": "2022-03-15T20:31:51.228640",
     "exception": false,
     "start_time": "2022-03-15T20:31:51.187569",
     "status": "completed"
    },
    "tags": []
   },
   "outputs": [
    {
     "data": {
      "text/html": [
       "<div>\n",
       "<style scoped>\n",
       "    .dataframe tbody tr th:only-of-type {\n",
       "        vertical-align: middle;\n",
       "    }\n",
       "\n",
       "    .dataframe tbody tr th {\n",
       "        vertical-align: top;\n",
       "    }\n",
       "\n",
       "    .dataframe thead th {\n",
       "        text-align: right;\n",
       "    }\n",
       "</style>\n",
       "<table border=\"1\" class=\"dataframe\">\n",
       "  <thead>\n",
       "    <tr style=\"text-align: right;\">\n",
       "      <th></th>\n",
       "      <th>dot_prioritized</th>\n",
       "      <th>Definition M (communities)</th>\n",
       "    </tr>\n",
       "  </thead>\n",
       "  <tbody>\n",
       "    <tr>\n",
       "      <th>Urban Heuristic Flag</th>\n",
       "      <td>0.921</td>\n",
       "      <td>0.839</td>\n",
       "    </tr>\n",
       "    <tr>\n",
       "      <th>Percent of individuals below 200% Federal Poverty Line</th>\n",
       "      <td>0.467</td>\n",
       "      <td>0.530</td>\n",
       "    </tr>\n",
       "    <tr>\n",
       "      <th>Percent individuals age 25 or over with less than high school degree</th>\n",
       "      <td>0.204</td>\n",
       "      <td>0.225</td>\n",
       "    </tr>\n",
       "    <tr>\n",
       "      <th>Unemployment (percent)</th>\n",
       "      <td>0.083</td>\n",
       "      <td>0.091</td>\n",
       "    </tr>\n",
       "    <tr>\n",
       "      <th>Percent of households in linguistic isolation</th>\n",
       "      <td>0.114</td>\n",
       "      <td>0.112</td>\n",
       "    </tr>\n",
       "    <tr>\n",
       "      <th>Percent Black or African American alone</th>\n",
       "      <td>0.245</td>\n",
       "      <td>0.250</td>\n",
       "    </tr>\n",
       "    <tr>\n",
       "      <th>Percent American Indian and Alaska Native alone</th>\n",
       "      <td>0.011</td>\n",
       "      <td>0.016</td>\n",
       "    </tr>\n",
       "    <tr>\n",
       "      <th>Percent Asian alone</th>\n",
       "      <td>0.061</td>\n",
       "      <td>0.040</td>\n",
       "    </tr>\n",
       "    <tr>\n",
       "      <th>Percent Native Hawaiian and Other Pacific alone</th>\n",
       "      <td>0.002</td>\n",
       "      <td>0.002</td>\n",
       "    </tr>\n",
       "    <tr>\n",
       "      <th>Percent Two or more races</th>\n",
       "      <td>0.037</td>\n",
       "      <td>0.034</td>\n",
       "    </tr>\n",
       "    <tr>\n",
       "      <th>Percent Non-Hispanic White</th>\n",
       "      <td>0.346</td>\n",
       "      <td>0.379</td>\n",
       "    </tr>\n",
       "    <tr>\n",
       "      <th>Percent Hispanic or Latino</th>\n",
       "      <td>0.323</td>\n",
       "      <td>0.304</td>\n",
       "    </tr>\n",
       "  </tbody>\n",
       "</table>\n",
       "</div>"
      ],
      "text/plain": [
       "                                                    dot_prioritized  \\\n",
       "Urban Heuristic Flag                                          0.921   \n",
       "Percent of individuals below 200% Federal Pover...            0.467   \n",
       "Percent individuals age 25 or over with less th...            0.204   \n",
       "Unemployment (percent)                                        0.083   \n",
       "Percent of households in linguistic isolation                 0.114   \n",
       "Percent Black or African American alone                       0.245   \n",
       "Percent American Indian and Alaska Native alone               0.011   \n",
       "Percent Asian alone                                           0.061   \n",
       "Percent Native Hawaiian and Other Pacific alone               0.002   \n",
       "Percent Two or more races                                     0.037   \n",
       "Percent Non-Hispanic White                                    0.346   \n",
       "Percent Hispanic or Latino                                    0.323   \n",
       "\n",
       "                                                    Definition M (communities)  \n",
       "Urban Heuristic Flag                                                     0.839  \n",
       "Percent of individuals below 200% Federal Pover...                       0.530  \n",
       "Percent individuals age 25 or over with less th...                       0.225  \n",
       "Unemployment (percent)                                                   0.091  \n",
       "Percent of households in linguistic isolation                            0.112  \n",
       "Percent Black or African American alone                                  0.250  \n",
       "Percent American Indian and Alaska Native alone                          0.016  \n",
       "Percent Asian alone                                                      0.040  \n",
       "Percent Native Hawaiian and Other Pacific alone                          0.002  \n",
       "Percent Two or more races                                                0.034  \n",
       "Percent Non-Hispanic White                                               0.379  \n",
       "Percent Hispanic or Latino                                               0.304  "
      ]
     },
     "execution_count": 9,
     "metadata": {},
     "output_type": "execute_result"
    }
   ],
   "source": [
    "#papermill_description=Tract_stats\n",
    "tract_level_by_identification = pd.concat(\n",
    "    [\n",
    "        utils.get_demo_series(\n",
    "            COMPARATOR_COLUMN, joined_frame, ADDITIONAL_DEMO_COLUMNS + DEMOGRAPHIC_COLUMNS\n",
    "        ),\n",
    "        utils.get_demo_series(\n",
    "            SCORE_COLUMN, joined_frame, ADDITIONAL_DEMO_COLUMNS + DEMOGRAPHIC_COLUMNS\n",
    "        ),\n",
    "    ],\n",
    "    axis=1,\n",
    ")\n",
    "\n",
    "tract_level_by_identification"
   ]
  },
  {
   "cell_type": "code",
   "execution_count": 10,
   "id": "0f37bfa5-5e9e-46d1-97af-8d0e7d53c80b",
   "metadata": {
    "execution": {
     "iopub.execute_input": "2022-03-15T20:31:51.257775Z",
     "iopub.status.busy": "2022-03-15T20:31:51.257553Z",
     "iopub.status.idle": "2022-03-15T20:31:51.814674Z",
     "shell.execute_reply": "2022-03-15T20:31:51.814170Z"
    },
    "papermill": {
     "duration": 0.57351,
     "end_time": "2022-03-15T20:31:51.816475",
     "exception": false,
     "start_time": "2022-03-15T20:31:51.242965",
     "status": "completed"
    },
    "tags": []
   },
   "outputs": [
    {
     "data": {
      "image/png": "[encoded data removed]",
      "text/plain": [
       "<Figure size 792x792 with 1 Axes>"
      ]
     },
     "metadata": {
      "needs_background": "light"
     },
     "output_type": "display_data"
    }
   ],
   "source": [
    "plt.figure(figsize=(11, 11))\n",
    "sns.barplot(\n",
    "    y=\"Variable\",\n",
    "    x=\"Avg in tracts\",\n",
    "    hue=\"Definition\",\n",
    "    data=tract_level_by_identification.sort_values(by=COMPARATOR_COLUMN, ascending=False)\n",
    "    .stack()\n",
    "    .reset_index()\n",
    "    .rename(\n",
    "        columns={\"level_0\": \"Variable\", \"level_1\": \"Definition\", 0: \"Avg in tracts\"}\n",
    "    ),\n",
    "    palette=\"Blues\",\n",
    ")\n",
    "plt.xlim(0, 1)\n",
    "plt.title(\"Tract level averages by identification strategy\")\n",
    "plt.savefig(os.path.join(OUTPUT_DATA_PATH, \"tract_lvl_avg.jpg\"), bbox_inches='tight')"
   ]
  },
  {
   "cell_type": "code",
   "execution_count": 11,
   "id": "713f2a04-1b2a-472c-b036-454cd5c9a495",
   "metadata": {
    "execution": {
     "iopub.execute_input": "2022-03-15T20:31:51.848739Z",
     "iopub.status.busy": "2022-03-15T20:31:51.848461Z",
     "iopub.status.idle": "2022-03-15T20:31:51.869945Z",
     "shell.execute_reply": "2022-03-15T20:31:51.869169Z"
    },
    "papermill": {
     "duration": 0.039013,
     "end_time": "2022-03-15T20:31:51.871931",
     "exception": false,
     "start_time": "2022-03-15T20:31:51.832918",
     "status": "completed"
    },
    "tags": []
   },
   "outputs": [],
   "source": [
    "#papermill_description=Tract_stats_grouped\n",
    "tract_level_by_grouping = utils.get_tract_level_grouping(\n",
    "    joined_frame,\n",
    "    SCORE_COLUMN,\n",
    "    COMPARATOR_COLUMN,\n",
    "    ADDITIONAL_DEMO_COLUMNS + DEMOGRAPHIC_COLUMNS,\n",
    ")\n",
    "\n",
    "tract_level_by_grouping_formatted = utils.format_multi_index_for_excel(\n",
    "    tract_level_by_grouping\n",
    ")"
   ]
  },
  {
   "cell_type": "code",
   "execution_count": 12,
   "id": "0d166f53-4242-46f1-aedf-51dac517de94",
   "metadata": {
    "execution": {
     "iopub.execute_input": "2022-03-15T20:31:51.904268Z",
     "iopub.status.busy": "2022-03-15T20:31:51.904040Z",
     "iopub.status.idle": "2022-03-15T20:31:51.911979Z",
     "shell.execute_reply": "2022-03-15T20:31:51.911490Z"
    },
    "papermill": {
     "duration": 0.02574,
     "end_time": "2022-03-15T20:31:51.913591",
     "exception": false,
     "start_time": "2022-03-15T20:31:51.887851",
     "status": "completed"
    },
    "tags": []
   },
   "outputs": [
    {
     "data": {
      "text/html": [
       "<div>\n",
       "<style scoped>\n",
       "    .dataframe tbody tr th:only-of-type {\n",
       "        vertical-align: middle;\n",
       "    }\n",
       "\n",
       "    .dataframe tbody tr th {\n",
       "        vertical-align: top;\n",
       "    }\n",
       "\n",
       "    .dataframe thead th {\n",
       "        text-align: right;\n",
       "    }\n",
       "</style>\n",
       "<table border=\"1\" class=\"dataframe\">\n",
       "  <thead>\n",
       "    <tr style=\"text-align: right;\">\n",
       "      <th></th>\n",
       "      <th>Variable</th>\n",
       "      <th>Not CEJST, Comparator</th>\n",
       "      <th>CEJST, Not Comparator</th>\n",
       "      <th>CEJST, Comparator</th>\n",
       "    </tr>\n",
       "  </thead>\n",
       "  <tbody>\n",
       "    <tr>\n",
       "      <th>0</th>\n",
       "      <td>Urban Heuristic Flag</td>\n",
       "      <td>0.928</td>\n",
       "      <td>0.678</td>\n",
       "      <td>0.917</td>\n",
       "    </tr>\n",
       "    <tr>\n",
       "      <th>1</th>\n",
       "      <td>Percent of individuals below 200% Federal Pove...</td>\n",
       "      <td>0.323</td>\n",
       "      <td>0.495</td>\n",
       "      <td>0.547</td>\n",
       "    </tr>\n",
       "    <tr>\n",
       "      <th>2</th>\n",
       "      <td>Percent individuals age 25 or over with less t...</td>\n",
       "      <td>0.127</td>\n",
       "      <td>0.181</td>\n",
       "      <td>0.246</td>\n",
       "    </tr>\n",
       "    <tr>\n",
       "      <th>3</th>\n",
       "      <td>Unemployment (percent)</td>\n",
       "      <td>0.059</td>\n",
       "      <td>0.081</td>\n",
       "      <td>0.096</td>\n",
       "    </tr>\n",
       "    <tr>\n",
       "      <th>4</th>\n",
       "      <td>Percent of households in linguistic isolation</td>\n",
       "      <td>0.059</td>\n",
       "      <td>0.043</td>\n",
       "      <td>0.144</td>\n",
       "    </tr>\n",
       "    <tr>\n",
       "      <th>5</th>\n",
       "      <td>Percent Black or African American alone</td>\n",
       "      <td>0.173</td>\n",
       "      <td>0.173</td>\n",
       "      <td>0.285</td>\n",
       "    </tr>\n",
       "    <tr>\n",
       "      <th>6</th>\n",
       "      <td>Percent American Indian and Alaska Native alone</td>\n",
       "      <td>0.007</td>\n",
       "      <td>0.023</td>\n",
       "      <td>0.013</td>\n",
       "    </tr>\n",
       "    <tr>\n",
       "      <th>7</th>\n",
       "      <td>Percent Asian alone</td>\n",
       "      <td>0.082</td>\n",
       "      <td>0.020</td>\n",
       "      <td>0.049</td>\n",
       "    </tr>\n",
       "    <tr>\n",
       "      <th>8</th>\n",
       "      <td>Percent Native Hawaiian and Other Pacific alone</td>\n",
       "      <td>0.003</td>\n",
       "      <td>0.002</td>\n",
       "      <td>0.002</td>\n",
       "    </tr>\n",
       "    <tr>\n",
       "      <th>9</th>\n",
       "      <td>Percent Two or more races</td>\n",
       "      <td>0.041</td>\n",
       "      <td>0.032</td>\n",
       "      <td>0.035</td>\n",
       "    </tr>\n",
       "    <tr>\n",
       "      <th>10</th>\n",
       "      <td>Percent Non-Hispanic White</td>\n",
       "      <td>0.478</td>\n",
       "      <td>0.605</td>\n",
       "      <td>0.274</td>\n",
       "    </tr>\n",
       "    <tr>\n",
       "      <th>11</th>\n",
       "      <td>Percent Hispanic or Latino</td>\n",
       "      <td>0.234</td>\n",
       "      <td>0.156</td>\n",
       "      <td>0.372</td>\n",
       "    </tr>\n",
       "  </tbody>\n",
       "</table>\n",
       "</div>"
      ],
      "text/plain": [
       "                                             Variable  Not CEJST, Comparator  \\\n",
       "0                                Urban Heuristic Flag                  0.928   \n",
       "1   Percent of individuals below 200% Federal Pove...                  0.323   \n",
       "2   Percent individuals age 25 or over with less t...                  0.127   \n",
       "3                              Unemployment (percent)                  0.059   \n",
       "4       Percent of households in linguistic isolation                  0.059   \n",
       "5             Percent Black or African American alone                  0.173   \n",
       "6     Percent American Indian and Alaska Native alone                  0.007   \n",
       "7                                 Percent Asian alone                  0.082   \n",
       "8     Percent Native Hawaiian and Other Pacific alone                  0.003   \n",
       "9                           Percent Two or more races                  0.041   \n",
       "10                         Percent Non-Hispanic White                  0.478   \n",
       "11                         Percent Hispanic or Latino                  0.234   \n",
       "\n",
       "    CEJST, Not Comparator  CEJST, Comparator  \n",
       "0                   0.678              0.917  \n",
       "1                   0.495              0.547  \n",
       "2                   0.181              0.246  \n",
       "3                   0.081              0.096  \n",
       "4                   0.043              0.144  \n",
       "5                   0.173              0.285  \n",
       "6                   0.023              0.013  \n",
       "7                   0.020              0.049  \n",
       "8                   0.002              0.002  \n",
       "9                   0.032              0.035  \n",
       "10                  0.605              0.274  \n",
       "11                  0.156              0.372  "
      ]
     },
     "execution_count": 12,
     "metadata": {},
     "output_type": "execute_result"
    }
   ],
   "source": [
    "tract_level_by_grouping_formatted"
   ]
  },
  {
   "cell_type": "markdown",
   "id": "372ac341-b03b-404a-9462-5087b88579b7",
   "metadata": {
    "papermill": {
     "duration": 0.015579,
     "end_time": "2022-03-15T20:31:51.946125",
     "exception": false,
     "start_time": "2022-03-15T20:31:51.930546",
     "status": "completed"
    },
    "tags": []
   },
   "source": [
    "## Population-weighted stats"
   ]
  },
  {
   "cell_type": "code",
   "execution_count": 13,
   "id": "d172e3c8-60ab-44f0-8034-dda69f1146da",
   "metadata": {
    "execution": {
     "iopub.execute_input": "2022-03-15T20:31:51.979500Z",
     "iopub.status.busy": "2022-03-15T20:31:51.979281Z",
     "iopub.status.idle": "2022-03-15T20:31:52.115197Z",
     "shell.execute_reply": "2022-03-15T20:31:52.114244Z"
    },
    "papermill": {
     "duration": 0.156469,
     "end_time": "2022-03-15T20:31:52.117975",
     "exception": false,
     "start_time": "2022-03-15T20:31:51.961506",
     "status": "completed"
    },
    "tags": []
   },
   "outputs": [],
   "source": [
    "#papermill_description=Population_stats\n",
    "population_weighted_stats = pd.concat(\n",
    "    [\n",
    "        utils.construct_weighted_statistics(\n",
    "            joined_frame,\n",
    "            COMPARATOR_COLUMN,\n",
    "            DEMOGRAPHIC_COLUMNS + ADDITIONAL_DEMO_COLUMNS,\n",
    "            TOTAL_POPULATION_COLUMN,\n",
    "        ),\n",
    "        utils.construct_weighted_statistics(\n",
    "            joined_frame,\n",
    "            SCORE_COLUMN,\n",
    "            DEMOGRAPHIC_COLUMNS + ADDITIONAL_DEMO_COLUMNS,\n",
    "            TOTAL_POPULATION_COLUMN,\n",
    "        ),\n",
    "    ],\n",
    "    axis=1,\n",
    ")"
   ]
  },
  {
   "cell_type": "markdown",
   "id": "a9fb4dfa-876d-4f25-9552-9831f51ec05c",
   "metadata": {
    "papermill": {
     "duration": 0.015725,
     "end_time": "2022-03-15T20:31:52.152779",
     "exception": false,
     "start_time": "2022-03-15T20:31:52.137054",
     "status": "completed"
    },
    "tags": []
   },
   "source": [
    "## Print to excel"
   ]
  },
  {
   "cell_type": "code",
   "execution_count": 14,
   "id": "67e2c71e-68af-44b4-bab0-33bc54afe7a4",
   "metadata": {
    "execution": {
     "iopub.execute_input": "2022-03-15T20:31:52.186542Z",
     "iopub.status.busy": "2022-03-15T20:31:52.186318Z",
     "iopub.status.idle": "2022-03-15T20:31:52.242827Z",
     "shell.execute_reply": "2022-03-15T20:31:52.242148Z"
    },
    "papermill": {
     "duration": 0.075894,
     "end_time": "2022-03-15T20:31:52.244780",
     "exception": false,
     "start_time": "2022-03-15T20:31:52.168886",
     "status": "completed"
    },
    "tags": []
   },
   "outputs": [],
   "source": [
    "#papermill_description=Writing_excel\n",
    "utils.write_single_comparison_excel(\n",
    "    OUTPUT_EXCEL,\n",
    "    population,\n",
    "    tract_level_by_identification,\n",
    "    population_weighted_stats,\n",
    "    tract_level_by_grouping_formatted,\n",
    ")"
   ]
  }
 ],
 "metadata": {
  "kernelspec": {
   "display_name": "Python 3 (ipykernel)",
   "language": "python",
   "name": "python3"
  },
  "language_info": {
   "codemirror_mode": {
    "name": "ipython",
    "version": 3
   },
   "file_extension": ".py",
   "mimetype": "text/x-python",
   "name": "python",
   "nbconvert_exporter": "python",
   "pygments_lexer": "ipython3",
   "version": "3.9.10"
  },
  "papermill": {
   "default_parameters": {},
   "duration": 7.82819,
   "end_time": "2022-03-15T20:31:52.580127",
   "environment_variables": {},
   "exception": null,
   "input_path": "src/tract_comparison__template.ipynb",
   "output_path": "/Users/emmausds/Desktop/justice40-tool/data/data-pipeline/data_pipeline/comparison_tool/output/dot/dot__tract_comparison__2022-03-15.ipynb",
   "parameters": {
    "ADDITIONAL_DEMO_COLUMNS": [
     "Urban Heuristic Flag",
     "Percent of individuals below 200% Federal Poverty Line",
     "Percent individuals age 25 or over with less than high school degree",
     "Unemployment (percent)",
     "Percent of households in linguistic isolation"
    ],
    "COMPARATOR_COLUMN": "dot_prioritized",
    "COMPARATOR_FILE": "/Users/emmausds/Desktop/justice40-analysis/agency_data/data/dot/clean/dot_data.csv",
    "DEMOGRAPHIC_COLUMNS": [
     "Percent Black or African American alone",
     "Percent American Indian and Alaska Native alone",
     "Percent Asian alone",
     "Percent Native Hawaiian and Other Pacific alone",
     "Percent Two or more races",
     "Percent Non-Hispanic White",
     "Percent Hispanic or Latino"
    ],
    "DEMOGRAPHIC_FILE": "/Users/emmausds/Desktop/justice40-tool/data/data-pipeline/data_pipeline/data/dataset/census_acs_2019/usa.csv",
    "GEOID_COLUMN": "GEOID10_TRACT",
    "OTHER_AGENCY_COLUMNS": [
     "TransportationDisadvantage",
     "HealthDisadvantage",
     "EconomyDisadvantage",
     "EquityDisadvantage",
     "EnvironmentalDisadvantage",
     "OpportunityZone",
     "SumDisadvantage"
    ],
    "OUTPUT_DATA_PATH": "/Users/emmausds/Desktop/justice40-tool/data/data-pipeline/data_pipeline/comparison_tool/output/dot",
    "OUTPUT_NAME": "dot",
    "SCORE_COLUMN": "Definition M (communities)",
    "SCORE_FILE": "/Users/emmausds/Desktop/justice40-tool/data/data-pipeline/data_pipeline/data/score/csv/full/usa.csv",
    "TOTAL_POPULATION_COLUMN": "Total population"
   },
   "start_time": "2022-03-15T20:31:44.751937",
   "version": "2.3.4"
  }
 },
 "nbformat": 4,
 "nbformat_minor": 5
}