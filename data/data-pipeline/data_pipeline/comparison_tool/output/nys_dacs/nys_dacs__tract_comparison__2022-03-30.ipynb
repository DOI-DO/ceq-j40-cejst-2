{
 "cells": [
  {
   "cell_type": "code",
   "execution_count": 1,
   "id": "81788485-12d4-41f4-b5db-aa4874a32501",
   "metadata": {
    "execution": {
     "iopub.execute_input": "2022-03-30T21:30:25.709699Z",
     "iopub.status.busy": "2022-03-30T21:30:25.709443Z",
     "iopub.status.idle": "2022-03-30T21:30:40.092008Z",
     "shell.execute_reply": "2022-03-30T21:30:40.091339Z"
    },
    "papermill": {
     "duration": 14.406542,
     "end_time": "2022-03-30T21:30:40.094177",
     "exception": false,
     "start_time": "2022-03-30T21:30:25.687635",
     "status": "completed"
    },
    "tags": []
   },
   "outputs": [],
   "source": [
    "import pandas as pd\n",
    "import numpy as np\n",
    "import os\n",
    "import datetime\n",
    "import sys\n",
    "import seaborn as sns\n",
    "import matplotlib.pyplot as plt\n",
    "\n",
    "from data_pipeline.score import field_names\n",
    "from data_pipeline.comparison_tool.src import utils   \n",
    "\n",
    "pd.options.display.float_format = \"{:,.3f}\".format\n",
    "%load_ext lab_black"
   ]
  },
  {
   "cell_type": "markdown",
   "id": "2820ead7-981d-40e0-8a07-80f9f1c48b9c",
   "metadata": {
    "papermill": {
     "duration": 0.020439,
     "end_time": "2022-03-30T21:30:40.159784",
     "exception": false,
     "start_time": "2022-03-30T21:30:40.139345",
     "status": "completed"
    },
    "tags": []
   },
   "source": [
    "# Comparator definition comparison\n",
    "\n",
    "This notebook answers a few questions:\n",
    "1. How many tracts are flagged and what's the size of overlap by comparator?\n",
    "2. What are the demographics of each set of tracts by \"category\" of score (CEJST but not comparator, comparator but not CEJST, CEJST and comparator)?\n",
    "3. What are the overall demographics of ALL comparator vs ALL CEJST?\n",
    "\n",
    "It produces a single Excel file of the stats listed, but is interactive even after run-time. This notebook focuses on 1:1 comparison. It can be pointed in the YAML to either a simple output (tract and boolean for highlight) or to the output from an ETL."
   ]
  },
  {
   "cell_type": "code",
   "execution_count": 2,
   "id": "2093584e-312b-44f7-87d7-6099d9fe000f",
   "metadata": {
    "execution": {
     "iopub.execute_input": "2022-03-30T21:30:40.195211Z",
     "iopub.status.busy": "2022-03-30T21:30:40.194981Z",
     "iopub.status.idle": "2022-03-30T21:30:40.203127Z",
     "shell.execute_reply": "2022-03-30T21:30:40.202518Z"
    },
    "papermill": {
     "duration": 0.027784,
     "end_time": "2022-03-30T21:30:40.205058",
     "exception": false,
     "start_time": "2022-03-30T21:30:40.177274",
     "status": "completed"
    },
    "tags": [
     "parameters"
    ]
   },
   "outputs": [],
   "source": [
    "## These are parameters and get overridden by the \"injected parameters\" cell below\n",
    "ADDITIONAL_DEMO_COLUMNS = []\n",
    "COMPARATOR_COLUMN = None\n",
    "COMPARATOR_FILE = None\n",
    "DEMOGRAPHIC_COLUMNS = []\n",
    "DEMOGRAPHIC_FILE = None\n",
    "OUTPUT_DATA_PATH = None\n",
    "SCORE_FILE = None\n",
    "OTHER_COMPARATOR_COLUMNS = None\n",
    "OUTPUT_NAME = None\n",
    "KEEP_MISSING_VALUES_FOR_SEGMENTATION = True"
   ]
  },
  {
   "cell_type": "code",
   "execution_count": 3,
   "id": "2892c55d",
   "metadata": {
    "execution": {
     "iopub.execute_input": "2022-03-30T21:30:40.235718Z",
     "iopub.status.busy": "2022-03-30T21:30:40.235449Z",
     "iopub.status.idle": "2022-03-30T21:30:40.260291Z",
     "shell.execute_reply": "2022-03-30T21:30:40.259727Z"
    },
    "papermill": {
     "duration": 0.042144,
     "end_time": "2022-03-30T21:30:40.262002",
     "exception": false,
     "start_time": "2022-03-30T21:30:40.219858",
     "status": "completed"
    },
    "tags": [
     "injected-parameters"
    ]
   },
   "outputs": [],
   "source": [
    "# Parameters\n",
    "ADDITIONAL_DEMO_COLUMNS = [\n",
    "    \"Urban Heuristic Flag\",\n",
    "    \"Percent of individuals below 200% Federal Poverty Line\",\n",
    "    \"Percent individuals age 25 or over with less than high school degree\",\n",
    "    \"Unemployment (percent)\",\n",
    "    \"Percent of households in linguistic isolation\",\n",
    "]\n",
    "COMPARATOR_COLUMN = \"nys_dac\"\n",
    "COMPARATOR_FILE = \"/Users/emmausds/Desktop/justice40-tool/data/data-pipeline/data_pipeline/comparison_tool/data/nyc_dacs/clean/nys_dac.csv\"\n",
    "DEMOGRAPHIC_COLUMNS = [\n",
    "    \"Percent Black or African American alone\",\n",
    "    \"Percent American Indian and Alaska Native alone\",\n",
    "    \"Percent Asian alone\",\n",
    "    \"Percent Native Hawaiian and Other Pacific alone\",\n",
    "    \"Percent Two or more races\",\n",
    "    \"Percent Non-Hispanic White\",\n",
    "    \"Percent Hispanic or Latino\",\n",
    "]\n",
    "DEMOGRAPHIC_FILE = \"/Users/emmausds/Desktop/justice40-tool/data/data-pipeline/data_pipeline/data/dataset/census_acs_2019/usa.csv\"\n",
    "OUTPUT_DATA_PATH = \"/Users/emmausds/Desktop/justice40-tool/data/data-pipeline/data_pipeline/comparison_tool/output/nys_dacs\"\n",
    "SCORE_FILE = \"/Users/emmausds/Desktop/justice40-tool/data/data-pipeline/data_pipeline/data/score/csv/full/usa.csv\"\n",
    "OTHER_COMPARATOR_COLUMNS = [\n",
    "    \"Tribal_Designation\",\n",
    "    \"Household_Low_Count_Flag\",\n",
    "    \"Population_Count\",\n",
    "    \"Household_Count\",\n",
    "    \"Percentile_Rank_Combined_Statewide\",\n",
    "    \"Percentile_Rank_Combined_NYC\",\n",
    "    \"Percentile_Rank_Combined_ROS\",\n",
    "    \"Combined_Score\",\n",
    "    \"Burden_Score_Percentile\",\n",
    "    \"Vulnerability_Score_Percentile\",\n",
    "    \"Burden_Score\",\n",
    "    \"Vulnerability_Score\",\n",
    "    \"Benzene_Concentration\",\n",
    "    \"Particulate_Matter_25\",\n",
    "    \"Traffic_Truck_Highways\",\n",
    "    \"Traffic_Number_Vehicles\",\n",
    "    \"Wastewater_Discharge\",\n",
    "    \"Housing_Vacancy_Rate\",\n",
    "    \"Industrial_Land_Use\",\n",
    "    \"Landfills\",\n",
    "    \"Oil_Storage\",\n",
    "    \"Municipal_Waste_Combustors\",\n",
    "    \"Power_Generation_Facilities\",\n",
    "    \"RMP_Sites\",\n",
    "    \"Remediation_Sites\",\n",
    "    \"Scrap_Metal_Processing\",\n",
    "    \"Agricultural_Land_Use\",\n",
    "    \"Coastal_Flooding_Storm_Risk\",\n",
    "    \"Days_Above_90_Degrees_2050\",\n",
    "    \"Drive_Time_Healthcare\",\n",
    "    \"Inland_Flooding_Risk\",\n",
    "    \"Low_Vegetative_Cover\",\n",
    "    \"Asian_Percent\",\n",
    "    \"Black_African_American_Percent\",\n",
    "    \"Redlining_Updated\",\n",
    "    \"Latino_Percent\",\n",
    "    \"English_Proficiency\",\n",
    "    \"Native_Indigenous\",\n",
    "    \"LMI_80_AMI\",\n",
    "    \"LMI_Poverty_Federal\",\n",
    "    \"Population_No_College\",\n",
    "    \"Household_Single_Parent\",\n",
    "    \"Unemployment_Rate\",\n",
    "    \"Asthma_ED_Rate\",\n",
    "    \"COPD_ED_Rate\",\n",
    "    \"Households_Disabled\",\n",
    "    \"Low_Birth_Weight\",\n",
    "    \"MI_Hospitalization_Rate\",\n",
    "    \"Health_Insurance_Rate\",\n",
    "    \"Age_Over_65\",\n",
    "    \"Premature_Deaths\",\n",
    "    \"Internet_Access\",\n",
    "    \"Home_Energy_Affordability\",\n",
    "    \"Homes_Built_Before_1960\",\n",
    "    \"Mobile_Homes\",\n",
    "    \"Rent_Percent_Income\",\n",
    "    \"Renter_Percent\",\n",
    "]\n",
    "KEEP_MISSING_VALUES_FOR_SEGMENTATION = True\n",
    "OUTPUT_NAME = \"nys_dacs\"\n"
   ]
  },
  {
   "cell_type": "code",
   "execution_count": 4,
   "id": "bd38aaaa",
   "metadata": {
    "execution": {
     "iopub.execute_input": "2022-03-30T21:30:40.291760Z",
     "iopub.status.busy": "2022-03-30T21:30:40.291354Z",
     "iopub.status.idle": "2022-03-30T21:30:40.297211Z",
     "shell.execute_reply": "2022-03-30T21:30:40.296661Z"
    },
    "papermill": {
     "duration": 0.0229,
     "end_time": "2022-03-30T21:30:40.299421",
     "exception": false,
     "start_time": "2022-03-30T21:30:40.276521",
     "status": "completed"
    },
    "tags": []
   },
   "outputs": [],
   "source": [
    "## These are constants for all runs\n",
    "GEOID_COLUMN = field_names.GEOID_TRACT_FIELD\n",
    "SCORE_COLUMN = field_names.SCORE_M_COMMUNITIES\n",
    "TOTAL_POPULATION_COLUMN = field_names.TOTAL_POP_FIELD"
   ]
  },
  {
   "cell_type": "markdown",
   "id": "8a3940be",
   "metadata": {
    "papermill": {
     "duration": 0.015122,
     "end_time": "2022-03-30T21:30:40.329480",
     "exception": false,
     "start_time": "2022-03-30T21:30:40.314358",
     "status": "completed"
    },
    "tags": []
   },
   "source": [
    "__Date and time of last run__"
   ]
  },
  {
   "cell_type": "code",
   "execution_count": 5,
   "id": "5f19a1e3-fe05-425d-9160-4d4e193fadf7",
   "metadata": {
    "execution": {
     "iopub.execute_input": "2022-03-30T21:30:40.360044Z",
     "iopub.status.busy": "2022-03-30T21:30:40.359836Z",
     "iopub.status.idle": "2022-03-30T21:30:40.365929Z",
     "shell.execute_reply": "2022-03-30T21:30:40.365410Z"
    },
    "papermill": {
     "duration": 0.023407,
     "end_time": "2022-03-30T21:30:40.367558",
     "exception": false,
     "start_time": "2022-03-30T21:30:40.344151",
     "status": "completed"
    },
    "tags": []
   },
   "outputs": [
    {
     "data": {
      "text/plain": [
       "datetime.datetime(2022, 3, 30, 17, 30, 40, 360792)"
      ]
     },
     "execution_count": 5,
     "metadata": {},
     "output_type": "execute_result"
    }
   ],
   "source": [
    "datetime.datetime.now()"
   ]
  },
  {
   "cell_type": "markdown",
   "id": "269b0f06-edee-4fce-8755-a8e7fe92e340",
   "metadata": {
    "papermill": {
     "duration": 0.015749,
     "end_time": "2022-03-30T21:30:40.398389",
     "exception": false,
     "start_time": "2022-03-30T21:30:40.382640",
     "status": "completed"
    },
    "tags": []
   },
   "source": [
    "__Congfigure output (autocreated)__"
   ]
  },
  {
   "cell_type": "code",
   "execution_count": 6,
   "id": "acace944-18fa-4b05-a581-8147e8e09299",
   "metadata": {
    "execution": {
     "iopub.execute_input": "2022-03-30T21:30:40.430807Z",
     "iopub.status.busy": "2022-03-30T21:30:40.430370Z",
     "iopub.status.idle": "2022-03-30T21:30:40.436652Z",
     "shell.execute_reply": "2022-03-30T21:30:40.436147Z"
    },
    "papermill": {
     "duration": 0.025653,
     "end_time": "2022-03-30T21:30:40.438437",
     "exception": false,
     "start_time": "2022-03-30T21:30:40.412784",
     "status": "completed"
    },
    "tags": []
   },
   "outputs": [],
   "source": [
    "OUTPUT_EXCEL = os.path.join(\n",
    "    OUTPUT_DATA_PATH,\n",
    "    f\"{OUTPUT_NAME}__{datetime.datetime.now().strftime('%Y-%m-%d')}.xlsx\",\n",
    ")"
   ]
  },
  {
   "cell_type": "markdown",
   "id": "806b8a7a",
   "metadata": {
    "papermill": {
     "duration": 0.017285,
     "end_time": "2022-03-30T21:30:40.472116",
     "exception": false,
     "start_time": "2022-03-30T21:30:40.454831",
     "status": "completed"
    },
    "tags": []
   },
   "source": [
    "__Validate new data__"
   ]
  },
  {
   "cell_type": "code",
   "execution_count": 7,
   "id": "0d089469",
   "metadata": {
    "execution": {
     "iopub.execute_input": "2022-03-30T21:30:40.504701Z",
     "iopub.status.busy": "2022-03-30T21:30:40.504480Z",
     "iopub.status.idle": "2022-03-30T21:30:40.513751Z",
     "shell.execute_reply": "2022-03-30T21:30:40.513128Z"
    },
    "papermill": {
     "duration": 0.028483,
     "end_time": "2022-03-30T21:30:40.515764",
     "exception": false,
     "start_time": "2022-03-30T21:30:40.487281",
     "status": "completed"
    },
    "tags": []
   },
   "outputs": [],
   "source": [
    "utils.validate_new_data(\n",
    "    file_path=COMPARATOR_FILE, score_col=COMPARATOR_COLUMN\n",
    ")"
   ]
  },
  {
   "cell_type": "markdown",
   "id": "f5517217-f107-4fee-b4ca-be61f6b2b7c3",
   "metadata": {
    "papermill": {
     "duration": 0.016448,
     "end_time": "2022-03-30T21:30:40.547570",
     "exception": false,
     "start_time": "2022-03-30T21:30:40.531122",
     "status": "completed"
    },
    "tags": []
   },
   "source": [
    "__Read in data__"
   ]
  },
  {
   "cell_type": "code",
   "execution_count": 8,
   "id": "cdefecf2-100b-4ad2-b0bd-101c0bad5a92",
   "metadata": {
    "execution": {
     "iopub.execute_input": "2022-03-30T21:30:40.579974Z",
     "iopub.status.busy": "2022-03-30T21:30:40.579733Z",
     "iopub.status.idle": "2022-03-30T21:30:43.308419Z",
     "shell.execute_reply": "2022-03-30T21:30:43.307652Z"
    },
    "papermill": {
     "duration": 2.747217,
     "end_time": "2022-03-30T21:30:43.310470",
     "exception": false,
     "start_time": "2022-03-30T21:30:40.563253",
     "status": "completed"
    },
    "tags": []
   },
   "outputs": [],
   "source": [
    "comparator_cols = [COMPARATOR_COLUMN] + OTHER_COMPARATOR_COLUMNS if OTHER_COMPARATOR_COLUMNS else [COMPARATOR_COLUMN]\n",
    "\n",
    "#papermill_description=Loading_data\n",
    "joined_df = pd.concat(\n",
    "    [\n",
    "        utils.read_file(\n",
    "            file_path=SCORE_FILE,\n",
    "            columns=[TOTAL_POPULATION_COLUMN, SCORE_COLUMN] + ADDITIONAL_DEMO_COLUMNS,\n",
    "            geoid=GEOID_COLUMN,\n",
    "        ),\n",
    "        utils.read_file(\n",
    "            file_path=COMPARATOR_FILE,\n",
    "            columns=comparator_cols,\n",
    "            geoid=GEOID_COLUMN\n",
    "        ),\n",
    "        utils.read_file(\n",
    "            file_path=DEMOGRAPHIC_FILE,\n",
    "            columns=DEMOGRAPHIC_COLUMNS,\n",
    "            geoid=GEOID_COLUMN,\n",
    "        ),\n",
    "    ],\n",
    "    axis=1,\n",
    ").reset_index()"
   ]
  },
  {
   "cell_type": "markdown",
   "id": "da71a62c-9c2c-46bd-815f-37cdb9ca18a1",
   "metadata": {
    "papermill": {
     "duration": 0.014977,
     "end_time": "2022-03-30T21:30:43.340334",
     "exception": false,
     "start_time": "2022-03-30T21:30:43.325357",
     "status": "completed"
    },
    "tags": []
   },
   "source": [
    "## High-level summary"
   ]
  },
  {
   "cell_type": "markdown",
   "id": "bfaf9912-1ffe-49e7-a38a-2f815b07826d",
   "metadata": {
    "papermill": {
     "duration": 0.015617,
     "end_time": "2022-03-30T21:30:43.373478",
     "exception": false,
     "start_time": "2022-03-30T21:30:43.357861",
     "status": "completed"
    },
    "tags": []
   },
   "source": [
    "What *shares* of tracts and population highlighted by the comparator are covered by CEJST?"
   ]
  },
  {
   "cell_type": "code",
   "execution_count": 9,
   "id": "93d2990c-edc0-404b-aeea-b62e3ca7b308",
   "metadata": {
    "execution": {
     "iopub.execute_input": "2022-03-30T21:30:43.406567Z",
     "iopub.status.busy": "2022-03-30T21:30:43.406348Z",
     "iopub.status.idle": "2022-03-30T21:30:43.488670Z",
     "shell.execute_reply": "2022-03-30T21:30:43.488083Z"
    },
    "papermill": {
     "duration": 0.102307,
     "end_time": "2022-03-30T21:30:43.490770",
     "exception": false,
     "start_time": "2022-03-30T21:30:43.388463",
     "status": "completed"
    },
    "tags": []
   },
   "outputs": [
    {
     "data": {
      "text/html": [
       "<div>\n",
       "<style scoped>\n",
       "    .dataframe tbody tr th:only-of-type {\n",
       "        vertical-align: middle;\n",
       "    }\n",
       "\n",
       "    .dataframe tbody tr th {\n",
       "        vertical-align: top;\n",
       "    }\n",
       "\n",
       "    .dataframe thead th {\n",
       "        text-align: right;\n",
       "    }\n",
       "</style>\n",
       "<table border=\"1\" class=\"dataframe\">\n",
       "  <thead>\n",
       "    <tr style=\"text-align: right;\">\n",
       "      <th></th>\n",
       "      <th></th>\n",
       "      <th>Population</th>\n",
       "      <th>Count of tracts</th>\n",
       "      <th>Share of tracts</th>\n",
       "      <th>Share of population</th>\n",
       "    </tr>\n",
       "    <tr>\n",
       "      <th>nys_dac</th>\n",
       "      <th>Definition M (communities)</th>\n",
       "      <th></th>\n",
       "      <th></th>\n",
       "      <th></th>\n",
       "      <th></th>\n",
       "    </tr>\n",
       "  </thead>\n",
       "  <tbody>\n",
       "    <tr>\n",
       "      <th rowspan=\"2\" valign=\"top\">False</th>\n",
       "      <th>False</th>\n",
       "      <td>10,770,979.000</td>\n",
       "      <td>2678</td>\n",
       "      <td>0.036</td>\n",
       "      <td>0.033</td>\n",
       "    </tr>\n",
       "    <tr>\n",
       "      <th>True</th>\n",
       "      <td>1,864,100.000</td>\n",
       "      <td>519</td>\n",
       "      <td>0.007</td>\n",
       "      <td>0.006</td>\n",
       "    </tr>\n",
       "    <tr>\n",
       "      <th rowspan=\"2\" valign=\"top\">True</th>\n",
       "      <th>False</th>\n",
       "      <td>2,579,235.000</td>\n",
       "      <td>642</td>\n",
       "      <td>0.009</td>\n",
       "      <td>0.008</td>\n",
       "    </tr>\n",
       "    <tr>\n",
       "      <th>True</th>\n",
       "      <td>4,404,139.000</td>\n",
       "      <td>1079</td>\n",
       "      <td>0.015</td>\n",
       "      <td>0.013</td>\n",
       "    </tr>\n",
       "    <tr>\n",
       "      <th rowspan=\"2\" valign=\"top\">missing</th>\n",
       "      <th>False</th>\n",
       "      <td>219,440,748.000</td>\n",
       "      <td>47363</td>\n",
       "      <td>0.639</td>\n",
       "      <td>0.673</td>\n",
       "    </tr>\n",
       "    <tr>\n",
       "      <th>True</th>\n",
       "      <td>87,230,770.000</td>\n",
       "      <td>21879</td>\n",
       "      <td>0.295</td>\n",
       "      <td>0.267</td>\n",
       "    </tr>\n",
       "  </tbody>\n",
       "</table>\n",
       "</div>"
      ],
      "text/plain": [
       "                                        Population  Count of tracts  \\\n",
       "nys_dac Definition M (communities)                                    \n",
       "False   False                       10,770,979.000             2678   \n",
       "        True                         1,864,100.000              519   \n",
       "True    False                        2,579,235.000              642   \n",
       "        True                         4,404,139.000             1079   \n",
       "missing False                      219,440,748.000            47363   \n",
       "        True                        87,230,770.000            21879   \n",
       "\n",
       "                                    Share of tracts  Share of population  \n",
       "nys_dac Definition M (communities)                                        \n",
       "False   False                                 0.036                0.033  \n",
       "        True                                  0.007                0.006  \n",
       "True    False                                 0.009                0.008  \n",
       "        True                                  0.015                0.013  \n",
       "missing False                                 0.639                0.673  \n",
       "        True                                  0.295                0.267  "
      ]
     },
     "execution_count": 9,
     "metadata": {},
     "output_type": "execute_result"
    }
   ],
   "source": [
    "#papermill_description=Summary_stats\n",
    "population_df = utils.produce_summary_stats(\n",
    "    joined_df=joined_df,\n",
    "    comparator_column=COMPARATOR_COLUMN,\n",
    "    score_column=SCORE_COLUMN,\n",
    "    population_column=TOTAL_POPULATION_COLUMN,\n",
    "    geoid_column=GEOID_COLUMN\n",
    ")\n",
    "population_df"
   ]
  },
  {
   "cell_type": "markdown",
   "id": "0c945e85-874d-4f1f-921e-ff2f0de42767",
   "metadata": {
    "papermill": {
     "duration": 0.015063,
     "end_time": "2022-03-30T21:30:43.522339",
     "exception": false,
     "start_time": "2022-03-30T21:30:43.507276",
     "status": "completed"
    },
    "tags": []
   },
   "source": [
    "## Tract-level stats\n",
    "\n",
    "First, this walks through overall stats for disadvantaged communities under the comparator definition and under the CEJST's definition. Next, this walks through stats by group (e.g., CEJST and not comparator). This is at the tract level, so the average across tracts, where tracts are not population-weighted. "
   ]
  },
  {
   "cell_type": "code",
   "execution_count": 10,
   "id": "618d2bac-8800-4fd7-a75d-f4abaae30923",
   "metadata": {
    "execution": {
     "iopub.execute_input": "2022-03-30T21:30:43.556077Z",
     "iopub.status.busy": "2022-03-30T21:30:43.555761Z",
     "iopub.status.idle": "2022-03-30T21:30:43.613703Z",
     "shell.execute_reply": "2022-03-30T21:30:43.612966Z"
    },
    "papermill": {
     "duration": 0.077615,
     "end_time": "2022-03-30T21:30:43.615504",
     "exception": false,
     "start_time": "2022-03-30T21:30:43.537889",
     "status": "completed"
    },
    "tags": []
   },
   "outputs": [
    {
     "data": {
      "text/html": [
       "<div>\n",
       "<style scoped>\n",
       "    .dataframe tbody tr th:only-of-type {\n",
       "        vertical-align: middle;\n",
       "    }\n",
       "\n",
       "    .dataframe tbody tr th {\n",
       "        vertical-align: top;\n",
       "    }\n",
       "\n",
       "    .dataframe thead th {\n",
       "        text-align: right;\n",
       "    }\n",
       "</style>\n",
       "<table border=\"1\" class=\"dataframe\">\n",
       "  <thead>\n",
       "    <tr style=\"text-align: right;\">\n",
       "      <th></th>\n",
       "      <th>nys_dac</th>\n",
       "      <th>Definition M (communities)</th>\n",
       "    </tr>\n",
       "  </thead>\n",
       "  <tbody>\n",
       "    <tr>\n",
       "      <th>Urban Heuristic Flag</th>\n",
       "      <td>0.954</td>\n",
       "      <td>0.839</td>\n",
       "    </tr>\n",
       "    <tr>\n",
       "      <th>Percent of individuals below 200% Federal Poverty Line</th>\n",
       "      <td>0.442</td>\n",
       "      <td>0.530</td>\n",
       "    </tr>\n",
       "    <tr>\n",
       "      <th>Percent individuals age 25 or over with less than high school degree</th>\n",
       "      <td>0.208</td>\n",
       "      <td>0.225</td>\n",
       "    </tr>\n",
       "    <tr>\n",
       "      <th>Unemployment (percent)</th>\n",
       "      <td>0.079</td>\n",
       "      <td>0.091</td>\n",
       "    </tr>\n",
       "    <tr>\n",
       "      <th>Percent of households in linguistic isolation</th>\n",
       "      <td>0.124</td>\n",
       "      <td>0.112</td>\n",
       "    </tr>\n",
       "    <tr>\n",
       "      <th>Percent Black or African American alone</th>\n",
       "      <td>0.265</td>\n",
       "      <td>0.250</td>\n",
       "    </tr>\n",
       "    <tr>\n",
       "      <th>Percent American Indian and Alaska Native alone</th>\n",
       "      <td>0.009</td>\n",
       "      <td>0.016</td>\n",
       "    </tr>\n",
       "    <tr>\n",
       "      <th>Percent Asian alone</th>\n",
       "      <td>0.075</td>\n",
       "      <td>0.040</td>\n",
       "    </tr>\n",
       "    <tr>\n",
       "      <th>Percent Native Hawaiian and Other Pacific alone</th>\n",
       "      <td>0.001</td>\n",
       "      <td>0.002</td>\n",
       "    </tr>\n",
       "    <tr>\n",
       "      <th>Percent Two or more races</th>\n",
       "      <td>0.042</td>\n",
       "      <td>0.034</td>\n",
       "    </tr>\n",
       "    <tr>\n",
       "      <th>Percent Non-Hispanic White</th>\n",
       "      <td>0.339</td>\n",
       "      <td>0.379</td>\n",
       "    </tr>\n",
       "    <tr>\n",
       "      <th>Percent Hispanic or Latino</th>\n",
       "      <td>0.313</td>\n",
       "      <td>0.304</td>\n",
       "    </tr>\n",
       "  </tbody>\n",
       "</table>\n",
       "</div>"
      ],
      "text/plain": [
       "                                                    nys_dac  \\\n",
       "Urban Heuristic Flag                                  0.954   \n",
       "Percent of individuals below 200% Federal Pover...    0.442   \n",
       "Percent individuals age 25 or over with less th...    0.208   \n",
       "Unemployment (percent)                                0.079   \n",
       "Percent of households in linguistic isolation         0.124   \n",
       "Percent Black or African American alone               0.265   \n",
       "Percent American Indian and Alaska Native alone       0.009   \n",
       "Percent Asian alone                                   0.075   \n",
       "Percent Native Hawaiian and Other Pacific alone       0.001   \n",
       "Percent Two or more races                             0.042   \n",
       "Percent Non-Hispanic White                            0.339   \n",
       "Percent Hispanic or Latino                            0.313   \n",
       "\n",
       "                                                    Definition M (communities)  \n",
       "Urban Heuristic Flag                                                     0.839  \n",
       "Percent of individuals below 200% Federal Pover...                       0.530  \n",
       "Percent individuals age 25 or over with less th...                       0.225  \n",
       "Unemployment (percent)                                                   0.091  \n",
       "Percent of households in linguistic isolation                            0.112  \n",
       "Percent Black or African American alone                                  0.250  \n",
       "Percent American Indian and Alaska Native alone                          0.016  \n",
       "Percent Asian alone                                                      0.040  \n",
       "Percent Native Hawaiian and Other Pacific alone                          0.002  \n",
       "Percent Two or more races                                                0.034  \n",
       "Percent Non-Hispanic White                                               0.379  \n",
       "Percent Hispanic or Latino                                               0.304  "
      ]
     },
     "execution_count": 10,
     "metadata": {},
     "output_type": "execute_result"
    }
   ],
   "source": [
    "#papermill_description=Tract_stats\n",
    "tract_level_by_identification_df = pd.concat(\n",
    "    [\n",
    "        utils.get_demo_series(\n",
    "            grouping_column=COMPARATOR_COLUMN,\n",
    "            joined_df=joined_df,\n",
    "            demo_columns=ADDITIONAL_DEMO_COLUMNS + DEMOGRAPHIC_COLUMNS\n",
    "        ),\n",
    "        utils.get_demo_series(\n",
    "            grouping_column=SCORE_COLUMN,\n",
    "            joined_df=joined_df,\n",
    "            demo_columns=ADDITIONAL_DEMO_COLUMNS + DEMOGRAPHIC_COLUMNS\n",
    "        ),\n",
    "    ],\n",
    "    axis=1,\n",
    ")\n",
    "\n",
    "tract_level_by_identification_df"
   ]
  },
  {
   "cell_type": "code",
   "execution_count": 11,
   "id": "0f37bfa5-5e9e-46d1-97af-8d0e7d53c80b",
   "metadata": {
    "execution": {
     "iopub.execute_input": "2022-03-30T21:30:43.649201Z",
     "iopub.status.busy": "2022-03-30T21:30:43.648993Z",
     "iopub.status.idle": "2022-03-30T21:30:44.209997Z",
     "shell.execute_reply": "2022-03-30T21:30:44.209473Z"
    },
    "papermill": {
     "duration": 0.58128,
     "end_time": "2022-03-30T21:30:44.211882",
     "exception": false,
     "start_time": "2022-03-30T21:30:43.630602",
     "status": "completed"
    },
    "tags": []
   },
   "outputs": [
    {
     "data": {
      "image/png": "[encoded data removed]",
      "text/plain": [
       "<Figure size 792x792 with 1 Axes>"
      ]
     },
     "metadata": {
      "needs_background": "light"
     },
     "output_type": "display_data"
    }
   ],
   "source": [
    "plt.figure(figsize=(11, 11))\n",
    "sns.barplot(\n",
    "    y=\"Variable\",\n",
    "    x=\"Avg in tracts\",\n",
    "    hue=\"Definition\",\n",
    "    data=tract_level_by_identification_df.sort_values(by=COMPARATOR_COLUMN, ascending=False)\n",
    "    .stack()\n",
    "    .reset_index()\n",
    "    .rename(\n",
    "        columns={\"level_0\": \"Variable\", \"level_1\": \"Definition\", 0: \"Avg in tracts\"}\n",
    "    ),\n",
    "    palette=\"Blues\",\n",
    ")\n",
    "plt.xlim(0, 1)\n",
    "plt.title(\"Tract level averages by identification strategy\")\n",
    "plt.savefig(os.path.join(OUTPUT_DATA_PATH, \"tract_lvl_avg.jpg\"), bbox_inches='tight')"
   ]
  },
  {
   "cell_type": "code",
   "execution_count": 12,
   "id": "713f2a04-1b2a-472c-b036-454cd5c9a495",
   "metadata": {
    "execution": {
     "iopub.execute_input": "2022-03-30T21:30:44.249292Z",
     "iopub.status.busy": "2022-03-30T21:30:44.249066Z",
     "iopub.status.idle": "2022-03-30T21:30:44.337335Z",
     "shell.execute_reply": "2022-03-30T21:30:44.336516Z"
    },
    "papermill": {
     "duration": 0.11006,
     "end_time": "2022-03-30T21:30:44.339511",
     "exception": false,
     "start_time": "2022-03-30T21:30:44.229451",
     "status": "completed"
    },
    "tags": []
   },
   "outputs": [],
   "source": [
    "#papermill_description=Tract_stats_grouped\n",
    "tract_level_by_grouping_df = utils.get_tract_level_grouping(\n",
    "    joined_df=joined_df,\n",
    "    score_column=SCORE_COLUMN,\n",
    "    comparator_column=COMPARATOR_COLUMN,\n",
    "    demo_columns=ADDITIONAL_DEMO_COLUMNS + DEMOGRAPHIC_COLUMNS,\n",
    "    keep_missing_values=KEEP_MISSING_VALUES_FOR_SEGMENTATION\n",
    ")\n",
    "\n",
    "tract_level_by_grouping_formatted_df = utils.format_multi_index_for_excel(\n",
    "    df=tract_level_by_grouping_df\n",
    ")"
   ]
  },
  {
   "cell_type": "code",
   "execution_count": 13,
   "id": "0d166f53-4242-46f1-aedf-51dac517de94",
   "metadata": {
    "execution": {
     "iopub.execute_input": "2022-03-30T21:30:44.380077Z",
     "iopub.status.busy": "2022-03-30T21:30:44.379851Z",
     "iopub.status.idle": "2022-03-30T21:30:44.388789Z",
     "shell.execute_reply": "2022-03-30T21:30:44.388170Z"
    },
    "papermill": {
     "duration": 0.030199,
     "end_time": "2022-03-30T21:30:44.390603",
     "exception": false,
     "start_time": "2022-03-30T21:30:44.360404",
     "status": "completed"
    },
    "tags": []
   },
   "outputs": [
    {
     "data": {
      "text/html": [
       "<div>\n",
       "<style scoped>\n",
       "    .dataframe tbody tr th:only-of-type {\n",
       "        vertical-align: middle;\n",
       "    }\n",
       "\n",
       "    .dataframe tbody tr th {\n",
       "        vertical-align: top;\n",
       "    }\n",
       "\n",
       "    .dataframe thead th {\n",
       "        text-align: right;\n",
       "    }\n",
       "</style>\n",
       "<table border=\"1\" class=\"dataframe\">\n",
       "  <thead>\n",
       "    <tr style=\"text-align: right;\">\n",
       "      <th></th>\n",
       "      <th>Variable</th>\n",
       "      <th>Not CEJST, Not Comparator</th>\n",
       "      <th>Not CEJST, Comparator</th>\n",
       "      <th>Not CEJST, No Comparator classification</th>\n",
       "      <th>CEJST, Not Comparator</th>\n",
       "      <th>CEJST, Comparator</th>\n",
       "      <th>CEJST, No Comparator classification</th>\n",
       "    </tr>\n",
       "  </thead>\n",
       "  <tbody>\n",
       "    <tr>\n",
       "      <th>0</th>\n",
       "      <td>Urban Heuristic Flag</td>\n",
       "      <td>0.816</td>\n",
       "      <td>0.901</td>\n",
       "      <td>0.788</td>\n",
       "      <td>0.956</td>\n",
       "      <td>0.985</td>\n",
       "      <td>0.828</td>\n",
       "    </tr>\n",
       "    <tr>\n",
       "      <th>1</th>\n",
       "      <td>Percent of individuals below 200% Federal Pove...</td>\n",
       "      <td>0.194</td>\n",
       "      <td>0.285</td>\n",
       "      <td>0.240</td>\n",
       "      <td>0.415</td>\n",
       "      <td>0.534</td>\n",
       "      <td>0.533</td>\n",
       "    </tr>\n",
       "    <tr>\n",
       "      <th>2</th>\n",
       "      <td>Percent individuals age 25 or over with less t...</td>\n",
       "      <td>0.076</td>\n",
       "      <td>0.131</td>\n",
       "      <td>0.082</td>\n",
       "      <td>0.206</td>\n",
       "      <td>0.254</td>\n",
       "      <td>0.225</td>\n",
       "    </tr>\n",
       "    <tr>\n",
       "      <th>3</th>\n",
       "      <td>Unemployment (percent)</td>\n",
       "      <td>0.043</td>\n",
       "      <td>0.055</td>\n",
       "      <td>0.045</td>\n",
       "      <td>0.062</td>\n",
       "      <td>0.094</td>\n",
       "      <td>0.092</td>\n",
       "    </tr>\n",
       "    <tr>\n",
       "      <th>4</th>\n",
       "      <td>Percent of households in linguistic isolation</td>\n",
       "      <td>0.032</td>\n",
       "      <td>0.052</td>\n",
       "      <td>0.026</td>\n",
       "      <td>0.201</td>\n",
       "      <td>0.167</td>\n",
       "      <td>0.107</td>\n",
       "    </tr>\n",
       "    <tr>\n",
       "      <th>5</th>\n",
       "      <td>Percent Black or African American alone</td>\n",
       "      <td>0.107</td>\n",
       "      <td>0.199</td>\n",
       "      <td>0.083</td>\n",
       "      <td>0.145</td>\n",
       "      <td>0.305</td>\n",
       "      <td>0.249</td>\n",
       "    </tr>\n",
       "    <tr>\n",
       "      <th>6</th>\n",
       "      <td>Percent American Indian and Alaska Native alone</td>\n",
       "      <td>0.002</td>\n",
       "      <td>0.006</td>\n",
       "      <td>0.006</td>\n",
       "      <td>0.003</td>\n",
       "      <td>0.011</td>\n",
       "      <td>0.017</td>\n",
       "    </tr>\n",
       "    <tr>\n",
       "      <th>7</th>\n",
       "      <td>Percent Asian alone</td>\n",
       "      <td>0.064</td>\n",
       "      <td>0.065</td>\n",
       "      <td>0.053</td>\n",
       "      <td>0.226</td>\n",
       "      <td>0.080</td>\n",
       "      <td>0.034</td>\n",
       "    </tr>\n",
       "    <tr>\n",
       "      <th>8</th>\n",
       "      <td>Percent Native Hawaiian and Other Pacific alone</td>\n",
       "      <td>0.000</td>\n",
       "      <td>0.001</td>\n",
       "      <td>0.002</td>\n",
       "      <td>0.000</td>\n",
       "      <td>0.001</td>\n",
       "      <td>0.002</td>\n",
       "    </tr>\n",
       "    <tr>\n",
       "      <th>9</th>\n",
       "      <td>Percent Two or more races</td>\n",
       "      <td>0.024</td>\n",
       "      <td>0.039</td>\n",
       "      <td>0.032</td>\n",
       "      <td>0.030</td>\n",
       "      <td>0.044</td>\n",
       "      <td>0.034</td>\n",
       "    </tr>\n",
       "    <tr>\n",
       "      <th>10</th>\n",
       "      <td>Percent Non-Hispanic White</td>\n",
       "      <td>0.718</td>\n",
       "      <td>0.515</td>\n",
       "      <td>0.715</td>\n",
       "      <td>0.428</td>\n",
       "      <td>0.234</td>\n",
       "      <td>0.385</td>\n",
       "    </tr>\n",
       "    <tr>\n",
       "      <th>11</th>\n",
       "      <td>Percent Hispanic or Latino</td>\n",
       "      <td>0.091</td>\n",
       "      <td>0.200</td>\n",
       "      <td>0.117</td>\n",
       "      <td>0.178</td>\n",
       "      <td>0.380</td>\n",
       "      <td>0.303</td>\n",
       "    </tr>\n",
       "  </tbody>\n",
       "</table>\n",
       "</div>"
      ],
      "text/plain": [
       "                                             Variable  \\\n",
       "0                                Urban Heuristic Flag   \n",
       "1   Percent of individuals below 200% Federal Pove...   \n",
       "2   Percent individuals age 25 or over with less t...   \n",
       "3                              Unemployment (percent)   \n",
       "4       Percent of households in linguistic isolation   \n",
       "5             Percent Black or African American alone   \n",
       "6     Percent American Indian and Alaska Native alone   \n",
       "7                                 Percent Asian alone   \n",
       "8     Percent Native Hawaiian and Other Pacific alone   \n",
       "9                           Percent Two or more races   \n",
       "10                         Percent Non-Hispanic White   \n",
       "11                         Percent Hispanic or Latino   \n",
       "\n",
       "    Not CEJST, Not Comparator  Not CEJST, Comparator  \\\n",
       "0                       0.816                  0.901   \n",
       "1                       0.194                  0.285   \n",
       "2                       0.076                  0.131   \n",
       "3                       0.043                  0.055   \n",
       "4                       0.032                  0.052   \n",
       "5                       0.107                  0.199   \n",
       "6                       0.002                  0.006   \n",
       "7                       0.064                  0.065   \n",
       "8                       0.000                  0.001   \n",
       "9                       0.024                  0.039   \n",
       "10                      0.718                  0.515   \n",
       "11                      0.091                  0.200   \n",
       "\n",
       "    Not CEJST, No Comparator classification  CEJST, Not Comparator  \\\n",
       "0                                     0.788                  0.956   \n",
       "1                                     0.240                  0.415   \n",
       "2                                     0.082                  0.206   \n",
       "3                                     0.045                  0.062   \n",
       "4                                     0.026                  0.201   \n",
       "5                                     0.083                  0.145   \n",
       "6                                     0.006                  0.003   \n",
       "7                                     0.053                  0.226   \n",
       "8                                     0.002                  0.000   \n",
       "9                                     0.032                  0.030   \n",
       "10                                    0.715                  0.428   \n",
       "11                                    0.117                  0.178   \n",
       "\n",
       "    CEJST, Comparator  CEJST, No Comparator classification  \n",
       "0               0.985                                0.828  \n",
       "1               0.534                                0.533  \n",
       "2               0.254                                0.225  \n",
       "3               0.094                                0.092  \n",
       "4               0.167                                0.107  \n",
       "5               0.305                                0.249  \n",
       "6               0.011                                0.017  \n",
       "7               0.080                                0.034  \n",
       "8               0.001                                0.002  \n",
       "9               0.044                                0.034  \n",
       "10              0.234                                0.385  \n",
       "11              0.380                                0.303  "
      ]
     },
     "execution_count": 13,
     "metadata": {},
     "output_type": "execute_result"
    }
   ],
   "source": [
    "tract_level_by_grouping_formatted_df"
   ]
  },
  {
   "cell_type": "markdown",
   "id": "372ac341-b03b-404a-9462-5087b88579b7",
   "metadata": {
    "papermill": {
     "duration": 0.017954,
     "end_time": "2022-03-30T21:30:44.427667",
     "exception": false,
     "start_time": "2022-03-30T21:30:44.409713",
     "status": "completed"
    },
    "tags": []
   },
   "source": [
    "## Population-weighted stats"
   ]
  },
  {
   "cell_type": "code",
   "execution_count": 14,
   "id": "d172e3c8-60ab-44f0-8034-dda69f1146da",
   "metadata": {
    "execution": {
     "iopub.execute_input": "2022-03-30T21:30:44.468297Z",
     "iopub.status.busy": "2022-03-30T21:30:44.468063Z",
     "iopub.status.idle": "2022-03-30T21:30:44.981015Z",
     "shell.execute_reply": "2022-03-30T21:30:44.980077Z"
    },
    "papermill": {
     "duration": 0.536708,
     "end_time": "2022-03-30T21:30:44.983270",
     "exception": false,
     "start_time": "2022-03-30T21:30:44.446562",
     "status": "completed"
    },
    "tags": []
   },
   "outputs": [],
   "source": [
    "#papermill_description=Population_stats\n",
    "population_weighted_stats_df = pd.concat(\n",
    "    [\n",
    "        utils.construct_weighted_statistics(\n",
    "            input_df=joined_df,\n",
    "            weighting_column=COMPARATOR_COLUMN,\n",
    "            demographic_columns=DEMOGRAPHIC_COLUMNS + ADDITIONAL_DEMO_COLUMNS,\n",
    "            population_column=TOTAL_POPULATION_COLUMN,\n",
    "        ),\n",
    "        utils.construct_weighted_statistics(\n",
    "            input_df=joined_df,\n",
    "            weighting_column=SCORE_COLUMN,\n",
    "            demographic_columns=DEMOGRAPHIC_COLUMNS + ADDITIONAL_DEMO_COLUMNS,\n",
    "            population_column=TOTAL_POPULATION_COLUMN,\n",
    "        ),\n",
    "    ],\n",
    "    axis=1,\n",
    ")"
   ]
  },
  {
   "cell_type": "code",
   "execution_count": 15,
   "id": "33c96e68",
   "metadata": {
    "execution": {
     "iopub.execute_input": "2022-03-30T21:30:45.026095Z",
     "iopub.status.busy": "2022-03-30T21:30:45.025872Z",
     "iopub.status.idle": "2022-03-30T21:30:45.033892Z",
     "shell.execute_reply": "2022-03-30T21:30:45.033272Z"
    },
    "papermill": {
     "duration": 0.030115,
     "end_time": "2022-03-30T21:30:45.035620",
     "exception": false,
     "start_time": "2022-03-30T21:30:45.005505",
     "status": "completed"
    },
    "tags": []
   },
   "outputs": [
    {
     "data": {
      "text/html": [
       "<div>\n",
       "<style scoped>\n",
       "    .dataframe tbody tr th:only-of-type {\n",
       "        vertical-align: middle;\n",
       "    }\n",
       "\n",
       "    .dataframe tbody tr th {\n",
       "        vertical-align: top;\n",
       "    }\n",
       "\n",
       "    .dataframe thead th {\n",
       "        text-align: right;\n",
       "    }\n",
       "</style>\n",
       "<table border=\"1\" class=\"dataframe\">\n",
       "  <thead>\n",
       "    <tr style=\"text-align: right;\">\n",
       "      <th></th>\n",
       "      <th>not nys_dac</th>\n",
       "      <th>nys_dac</th>\n",
       "      <th>not Definition M (communities)</th>\n",
       "      <th>Definition M (communities)</th>\n",
       "    </tr>\n",
       "  </thead>\n",
       "  <tbody>\n",
       "    <tr>\n",
       "      <th>Percent Black or African American alone</th>\n",
       "      <td>0.097</td>\n",
       "      <td>0.264</td>\n",
       "      <td>0.089</td>\n",
       "      <td>0.223</td>\n",
       "    </tr>\n",
       "    <tr>\n",
       "      <th>Percent American Indian and Alaska Native alone</th>\n",
       "      <td>0.002</td>\n",
       "      <td>0.007</td>\n",
       "      <td>0.006</td>\n",
       "      <td>0.015</td>\n",
       "    </tr>\n",
       "    <tr>\n",
       "      <th>Percent Asian alone</th>\n",
       "      <td>0.090</td>\n",
       "      <td>0.075</td>\n",
       "      <td>0.059</td>\n",
       "      <td>0.044</td>\n",
       "    </tr>\n",
       "    <tr>\n",
       "      <th>Percent Native Hawaiian and Other Pacific alone</th>\n",
       "      <td>0.000</td>\n",
       "      <td>0.001</td>\n",
       "      <td>0.002</td>\n",
       "      <td>0.002</td>\n",
       "    </tr>\n",
       "    <tr>\n",
       "      <th>Percent Two or more races</th>\n",
       "      <td>0.025</td>\n",
       "      <td>0.043</td>\n",
       "      <td>0.033</td>\n",
       "      <td>0.034</td>\n",
       "    </tr>\n",
       "    <tr>\n",
       "      <th>Percent Non-Hispanic White</th>\n",
       "      <td>0.686</td>\n",
       "      <td>0.320</td>\n",
       "      <td>0.696</td>\n",
       "      <td>0.362</td>\n",
       "    </tr>\n",
       "    <tr>\n",
       "      <th>Percent Hispanic or Latino</th>\n",
       "      <td>0.108</td>\n",
       "      <td>0.339</td>\n",
       "      <td>0.126</td>\n",
       "      <td>0.345</td>\n",
       "    </tr>\n",
       "    <tr>\n",
       "      <th>Urban Heuristic Flag</th>\n",
       "      <td>0.847</td>\n",
       "      <td>0.955</td>\n",
       "      <td>0.819</td>\n",
       "      <td>0.823</td>\n",
       "    </tr>\n",
       "    <tr>\n",
       "      <th>Percent of individuals below 200% Federal Poverty Line</th>\n",
       "      <td>0.222</td>\n",
       "      <td>0.437</td>\n",
       "      <td>0.233</td>\n",
       "      <td>0.520</td>\n",
       "    </tr>\n",
       "    <tr>\n",
       "      <th>Percent individuals age 25 or over with less than high school degree</th>\n",
       "      <td>0.093</td>\n",
       "      <td>0.213</td>\n",
       "      <td>0.082</td>\n",
       "      <td>0.232</td>\n",
       "    </tr>\n",
       "    <tr>\n",
       "      <th>Unemployment (percent)</th>\n",
       "      <td>0.045</td>\n",
       "      <td>0.078</td>\n",
       "      <td>0.044</td>\n",
       "      <td>0.086</td>\n",
       "    </tr>\n",
       "    <tr>\n",
       "      <th>Percent of households in linguistic isolation</th>\n",
       "      <td>0.059</td>\n",
       "      <td>0.136</td>\n",
       "      <td>0.028</td>\n",
       "      <td>0.124</td>\n",
       "    </tr>\n",
       "  </tbody>\n",
       "</table>\n",
       "</div>"
      ],
      "text/plain": [
       "                                                    not nys_dac  nys_dac  \\\n",
       "Percent Black or African American alone                   0.097    0.264   \n",
       "Percent American Indian and Alaska Native alone           0.002    0.007   \n",
       "Percent Asian alone                                       0.090    0.075   \n",
       "Percent Native Hawaiian and Other Pacific alone           0.000    0.001   \n",
       "Percent Two or more races                                 0.025    0.043   \n",
       "Percent Non-Hispanic White                                0.686    0.320   \n",
       "Percent Hispanic or Latino                                0.108    0.339   \n",
       "Urban Heuristic Flag                                      0.847    0.955   \n",
       "Percent of individuals below 200% Federal Pover...        0.222    0.437   \n",
       "Percent individuals age 25 or over with less th...        0.093    0.213   \n",
       "Unemployment (percent)                                    0.045    0.078   \n",
       "Percent of households in linguistic isolation             0.059    0.136   \n",
       "\n",
       "                                                    not Definition M (communities)  \\\n",
       "Percent Black or African American alone                                      0.089   \n",
       "Percent American Indian and Alaska Native alone                              0.006   \n",
       "Percent Asian alone                                                          0.059   \n",
       "Percent Native Hawaiian and Other Pacific alone                              0.002   \n",
       "Percent Two or more races                                                    0.033   \n",
       "Percent Non-Hispanic White                                                   0.696   \n",
       "Percent Hispanic or Latino                                                   0.126   \n",
       "Urban Heuristic Flag                                                         0.819   \n",
       "Percent of individuals below 200% Federal Pover...                           0.233   \n",
       "Percent individuals age 25 or over with less th...                           0.082   \n",
       "Unemployment (percent)                                                       0.044   \n",
       "Percent of households in linguistic isolation                                0.028   \n",
       "\n",
       "                                                    Definition M (communities)  \n",
       "Percent Black or African American alone                                  0.223  \n",
       "Percent American Indian and Alaska Native alone                          0.015  \n",
       "Percent Asian alone                                                      0.044  \n",
       "Percent Native Hawaiian and Other Pacific alone                          0.002  \n",
       "Percent Two or more races                                                0.034  \n",
       "Percent Non-Hispanic White                                               0.362  \n",
       "Percent Hispanic or Latino                                               0.345  \n",
       "Urban Heuristic Flag                                                     0.823  \n",
       "Percent of individuals below 200% Federal Pover...                       0.520  \n",
       "Percent individuals age 25 or over with less th...                       0.232  \n",
       "Unemployment (percent)                                                   0.086  \n",
       "Percent of households in linguistic isolation                            0.124  "
      ]
     },
     "execution_count": 15,
     "metadata": {},
     "output_type": "execute_result"
    }
   ],
   "source": [
    "population_weighted_stats_df"
   ]
  },
  {
   "cell_type": "markdown",
   "id": "751d2d21",
   "metadata": {
    "papermill": {
     "duration": 0.019449,
     "end_time": "2022-03-30T21:30:45.075450",
     "exception": false,
     "start_time": "2022-03-30T21:30:45.056001",
     "status": "completed"
    },
    "tags": []
   },
   "source": [
    "## Final information about overlap"
   ]
  },
  {
   "cell_type": "code",
   "execution_count": 16,
   "id": "9eef9447",
   "metadata": {
    "execution": {
     "iopub.execute_input": "2022-03-30T21:30:45.115359Z",
     "iopub.status.busy": "2022-03-30T21:30:45.115116Z",
     "iopub.status.idle": "2022-03-30T21:30:45.153376Z",
     "shell.execute_reply": "2022-03-30T21:30:45.152566Z"
    },
    "papermill": {
     "duration": 0.060775,
     "end_time": "2022-03-30T21:30:45.155630",
     "exception": false,
     "start_time": "2022-03-30T21:30:45.094855",
     "status": "completed"
    },
    "tags": []
   },
   "outputs": [],
   "source": [
    "comparator_and_cejst_proportion_series, states = utils.get_final_summary_info(\n",
    "    population=population_df,\n",
    "    comparator_file=COMPARATOR_FILE,\n",
    "    geoid_col=GEOID_COLUMN\n",
    ")"
   ]
  },
  {
   "cell_type": "code",
   "execution_count": 17,
   "id": "2c45e7b6",
   "metadata": {
    "execution": {
     "iopub.execute_input": "2022-03-30T21:30:45.196385Z",
     "iopub.status.busy": "2022-03-30T21:30:45.195975Z",
     "iopub.status.idle": "2022-03-30T21:30:45.201637Z",
     "shell.execute_reply": "2022-03-30T21:30:45.201145Z"
    },
    "papermill": {
     "duration": 0.027542,
     "end_time": "2022-03-30T21:30:45.203246",
     "exception": false,
     "start_time": "2022-03-30T21:30:45.175704",
     "status": "completed"
    },
    "tags": []
   },
   "outputs": [
    {
     "data": {
      "text/plain": [
       "'States included in comparator: NY'"
      ]
     },
     "execution_count": 17,
     "metadata": {},
     "output_type": "execute_result"
    }
   ],
   "source": [
    "states_text = \"States included in comparator: \" + states\n",
    "states_text"
   ]
  },
  {
   "cell_type": "markdown",
   "id": "a9fb4dfa-876d-4f25-9552-9831f51ec05c",
   "metadata": {
    "papermill": {
     "duration": 0.020041,
     "end_time": "2022-03-30T21:30:45.243550",
     "exception": false,
     "start_time": "2022-03-30T21:30:45.223509",
     "status": "completed"
    },
    "tags": []
   },
   "source": [
    "## Print to excel"
   ]
  },
  {
   "cell_type": "code",
   "execution_count": 18,
   "id": "67e2c71e-68af-44b4-bab0-33bc54afe7a4",
   "metadata": {
    "execution": {
     "iopub.execute_input": "2022-03-30T21:30:45.284158Z",
     "iopub.status.busy": "2022-03-30T21:30:45.283951Z",
     "iopub.status.idle": "2022-03-30T21:30:45.312070Z",
     "shell.execute_reply": "2022-03-30T21:30:45.311345Z"
    },
    "papermill": {
     "duration": 0.050568,
     "end_time": "2022-03-30T21:30:45.314126",
     "exception": false,
     "start_time": "2022-03-30T21:30:45.263558",
     "status": "completed"
    },
    "tags": []
   },
   "outputs": [],
   "source": [
    "#papermill_description=Writing_excel\n",
    "utils.write_single_comparison_excel(\n",
    "    output_excel=OUTPUT_EXCEL,\n",
    "    population_df=population_df,\n",
    "    tract_level_by_identification_df=tract_level_by_identification_df,\n",
    "    population_weighted_stats_df=population_weighted_stats_df,\n",
    "    tract_level_by_grouping_formatted_df=tract_level_by_grouping_formatted_df,\n",
    "    comparator_and_cejst_proportion_series=comparator_and_cejst_proportion_series,\n",
    "    states_text=states_text\n",
    ")"
   ]
  }
 ],
 "metadata": {
  "kernelspec": {
   "display_name": "Python 3 (ipykernel)",
   "language": "python",
   "name": "python3"
  },
  "language_info": {
   "codemirror_mode": {
    "name": "ipython",
    "version": 3
   },
   "file_extension": ".py",
   "mimetype": "text/x-python",
   "name": "python",
   "nbconvert_exporter": "python",
   "pygments_lexer": "ipython3",
   "version": "3.9.10"
  },
  "papermill": {
   "default_parameters": {},
   "duration": 22.206698,
   "end_time": "2022-03-30T21:30:45.754714",
   "environment_variables": {},
   "exception": null,
   "input_path": "src/tract_comparison__template.ipynb",
   "output_path": "/Users/emmausds/Desktop/justice40-tool/data/data-pipeline/data_pipeline/comparison_tool/output/nys_dacs/nys_dacs__tract_comparison__2022-03-30.ipynb",
   "parameters": {
    "ADDITIONAL_DEMO_COLUMNS": [
     "Urban Heuristic Flag",
     "Percent of individuals below 200% Federal Poverty Line",
     "Percent individuals age 25 or over with less than high school degree",
     "Unemployment (percent)",
     "Percent of households in linguistic isolation"
    ],
    "COMPARATOR_COLUMN": "nys_dac",
    "COMPARATOR_FILE": "/Users/emmausds/Desktop/justice40-tool/data/data-pipeline/data_pipeline/comparison_tool/data/nyc_dacs/clean/nys_dac.csv",
    "DEMOGRAPHIC_COLUMNS": [
     "Percent Black or African American alone",
     "Percent American Indian and Alaska Native alone",
     "Percent Asian alone",
     "Percent Native Hawaiian and Other Pacific alone",
     "Percent Two or more races",
     "Percent Non-Hispanic White",
     "Percent Hispanic or Latino"
    ],
    "DEMOGRAPHIC_FILE": "/Users/emmausds/Desktop/justice40-tool/data/data-pipeline/data_pipeline/data/dataset/census_acs_2019/usa.csv",
    "KEEP_MISSING_VALUES_FOR_SEGMENTATION": true,
    "OTHER_COMPARATOR_COLUMNS": [
     "Tribal_Designation",
     "Household_Low_Count_Flag",
     "Population_Count",
     "Household_Count",
     "Percentile_Rank_Combined_Statewide",
     "Percentile_Rank_Combined_NYC",
     "Percentile_Rank_Combined_ROS",
     "Combined_Score",
     "Burden_Score_Percentile",
     "Vulnerability_Score_Percentile",
     "Burden_Score",
     "Vulnerability_Score",
     "Benzene_Concentration",
     "Particulate_Matter_25",
     "Traffic_Truck_Highways",
     "Traffic_Number_Vehicles",
     "Wastewater_Discharge",
     "Housing_Vacancy_Rate",
     "Industrial_Land_Use",
     "Landfills",
     "Oil_Storage",
     "Municipal_Waste_Combustors",
     "Power_Generation_Facilities",
     "RMP_Sites",
     "Remediation_Sites",
     "Scrap_Metal_Processing",
     "Agricultural_Land_Use",
     "Coastal_Flooding_Storm_Risk",
     "Days_Above_90_Degrees_2050",
     "Drive_Time_Healthcare",
     "Inland_Flooding_Risk",
     "Low_Vegetative_Cover",
     "Asian_Percent",
     "Black_African_American_Percent",
     "Redlining_Updated",
     "Latino_Percent",
     "English_Proficiency",
     "Native_Indigenous",
     "LMI_80_AMI",
     "LMI_Poverty_Federal",
     "Population_No_College",
     "Household_Single_Parent",
     "Unemployment_Rate",
     "Asthma_ED_Rate",
     "COPD_ED_Rate",
     "Households_Disabled",
     "Low_Birth_Weight",
     "MI_Hospitalization_Rate",
     "Health_Insurance_Rate",
     "Age_Over_65",
     "Premature_Deaths",
     "Internet_Access",
     "Home_Energy_Affordability",
     "Homes_Built_Before_1960",
     "Mobile_Homes",
     "Rent_Percent_Income",
     "Renter_Percent"
    ],
    "OUTPUT_DATA_PATH": "/Users/emmausds/Desktop/justice40-tool/data/data-pipeline/data_pipeline/comparison_tool/output/nys_dacs",
    "OUTPUT_NAME": "nys_dacs",
    "SCORE_FILE": "/Users/emmausds/Desktop/justice40-tool/data/data-pipeline/data_pipeline/data/score/csv/full/usa.csv"
   },
   "start_time": "2022-03-30T21:30:23.548016",
   "version": "2.3.4"
  }
 },
 "nbformat": 4,
 "nbformat_minor": 5
}