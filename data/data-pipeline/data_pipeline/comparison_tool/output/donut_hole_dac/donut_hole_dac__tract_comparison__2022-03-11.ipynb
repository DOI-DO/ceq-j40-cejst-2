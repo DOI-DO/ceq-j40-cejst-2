{
 "cells": [
  {
   "cell_type": "code",
   "execution_count": 1,
   "id": "81788485-12d4-41f4-b5db-aa4874a32501",
   "metadata": {
    "papermill": {
     "duration": 1.736948,
     "end_time": "2022-03-11T23:01:01.429685",
     "exception": false,
     "start_time": "2022-03-11T23:00:59.692737",
     "status": "completed"
    },
    "tags": []
   },
   "outputs": [],
   "source": [
    "import pandas as pd\n",
    "import numpy as np\n",
    "import os\n",
    "import datetime\n",
    "import sys\n",
    "import seaborn as sns\n",
    "import matplotlib.pyplot as plt\n",
    "\n",
    "# not great, temp fix? ask jorge\n",
    "sys.path.append(\"../../../../\")\n",
    "sys.path.append(\"../../../\")\n",
    "\n",
    "from data_pipeline.score import field_names\n",
    "from data_pipeline.comparison_tool.src import utils\n",
    "\n",
    "pd.options.display.float_format = \"{:,.3f}\".format\n",
    "%load_ext lab_black"
   ]
  },
  {
   "cell_type": "markdown",
   "id": "2820ead7-981d-40e0-8a07-80f9f1c48b9c",
   "metadata": {
    "papermill": {
     "duration": 0.010742,
     "end_time": "2022-03-11T23:01:01.451478",
     "exception": false,
     "start_time": "2022-03-11T23:01:01.440736",
     "status": "completed"
    },
    "tags": []
   },
   "source": [
    "# Comparator definition comparison\n",
    "\n",
    "This notebook answers a few questions:\n",
    "1. How many tracts are flagged and what's the size of overlap by comparator?\n",
    "2. What are the demographics of each set of tracts by \"category\" of score (CEJST but not comparator, comparator but not CEJST, CEJST and comparator)?\n",
    "3. What are the overall demographics of ALL comparator vs ALL CEJST?\n",
    "\n",
    "It produces a single Excel file of the stats listed, but is interactive even after run-time. This notebook focuses on 1:1 comparison. It can be pointed in the YAML to either a simple output (tract and boolean for highlight) or to the output from an ETL."
   ]
  },
  {
   "cell_type": "code",
   "execution_count": 2,
   "id": "2093584e-312b-44f7-87d7-6099d9fe000f",
   "metadata": {
    "papermill": {
     "duration": 0.023459,
     "end_time": "2022-03-11T23:01:01.487590",
     "exception": false,
     "start_time": "2022-03-11T23:01:01.464131",
     "status": "completed"
    },
    "tags": [
     "parameters"
    ]
   },
   "outputs": [],
   "source": [
    "## These are parameters and get overridden by the \"injected parameters\" cell below\n",
    "ADDITIONAL_DEMO_COLUMNS = []\n",
    "COMPARATOR_COLUMN = None\n",
    "COMPARATOR_FILE = None\n",
    "DEMOGRAPHIC_COLUMNS = []\n",
    "DEMOGRAPHIC_FILE = None\n",
    "OUTPUT_DATA_PATH = None\n",
    "SCORE_FILE = None\n",
    "OTHER_COMPARATOR_COLUMNS = None\n",
    "OUTPUT_NAME = None"
   ]
  },
  {
   "cell_type": "code",
   "execution_count": 20,
   "id": "9d12ce06",
   "metadata": {
    "papermill": {
     "duration": 0.027458,
     "end_time": "2022-03-11T23:01:01.527177",
     "exception": false,
     "start_time": "2022-03-11T23:01:01.499719",
     "status": "completed"
    },
    "tags": [
     "injected-parameters"
    ]
   },
   "outputs": [],
   "source": [
    "# Parameters\n",
    "ADDITIONAL_DEMO_COLUMNS = [\n",
    "    \"Urban Heuristic Flag\",\n",
    "    \"Percent of individuals below 200% Federal Poverty Line\",\n",
    "    \"Percent individuals age 25 or over with less than high school degree\",\n",
    "    \"Unemployment (percent)\",\n",
    "    \"Percent of households in linguistic isolation\",\n",
    "]\n",
    "COMPARATOR_COLUMN = \"donut_hole_dac_additional_constraints\"\n",
    "COMPARATOR_FILE = \"/Users/emmausds/Desktop/justice40-tool/data/data-pipeline/data_pipeline/comparison_tool/data/donut_hole_dac/donut_hole_data.csv\"\n",
    "DEMOGRAPHIC_COLUMNS = [\n",
    "    \"Percent Black or African American alone\",\n",
    "    \"Percent American Indian and Alaska Native alone\",\n",
    "    \"Percent Asian alone\",\n",
    "    \"Percent Native Hawaiian and Other Pacific alone\",\n",
    "    \"Percent Two or more races\",\n",
    "    \"Percent Non-Hispanic White\",\n",
    "    \"Percent Hispanic or Latino\",\n",
    "]\n",
    "DEMOGRAPHIC_FILE = \"/Users/emmausds/Desktop/justice40-tool/data/data-pipeline/data_pipeline/data/dataset/census_acs_2019/usa.csv\"\n",
    "OUTPUT_DATA_PATH = \"/Users/emmausds/Desktop/justice40-tool/data/data-pipeline/data_pipeline/comparison_tool/output/donut_hole_dac\"\n",
    "SCORE_FILE = \"/Users/emmausds/Desktop/justice40-tool/data/data-pipeline/data_pipeline/data/score/csv/full/usa.csv\"\n",
    "OTHER_COMPARATOR_COLUMNS = [\n",
    "    \"donut_hole_dac\",\n",
    "    \"P200_PFS\",\n",
    "    \"HSEF\",\n",
    "    \"mean_neighbor_score_updated\",\n",
    "]\n",
    "OUTPUT_NAME = \"donut_hole_dac\""
   ]
  },
  {
   "cell_type": "code",
   "execution_count": 21,
   "id": "bd38aaaa",
   "metadata": {
    "papermill": {
     "duration": 0.019292,
     "end_time": "2022-03-11T23:01:01.558266",
     "exception": false,
     "start_time": "2022-03-11T23:01:01.538974",
     "status": "completed"
    },
    "tags": []
   },
   "outputs": [],
   "source": [
    "## These are constants for all runs\n",
    "GEOID_COLUMN = field_names.GEOID_TRACT_FIELD\n",
    "SCORE_COLUMN = field_names.SCORE_M_COMMUNITIES\n",
    "TOTAL_POPULATION_COLUMN = field_names.TOTAL_POP_FIELD"
   ]
  },
  {
   "cell_type": "markdown",
   "id": "8a3940be",
   "metadata": {
    "papermill": {
     "duration": 0.01256,
     "end_time": "2022-03-11T23:01:01.583205",
     "exception": false,
     "start_time": "2022-03-11T23:01:01.570645",
     "status": "completed"
    },
    "tags": []
   },
   "source": [
    "__Date and time of last run__"
   ]
  },
  {
   "cell_type": "code",
   "execution_count": 22,
   "id": "5f19a1e3-fe05-425d-9160-4d4e193fadf7",
   "metadata": {
    "papermill": {
     "duration": 0.023495,
     "end_time": "2022-03-11T23:01:01.619274",
     "exception": false,
     "start_time": "2022-03-11T23:01:01.595779",
     "status": "completed"
    },
    "tags": []
   },
   "outputs": [
    {
     "data": {
      "text/plain": [
       "datetime.datetime(2022, 3, 14, 21, 51, 36, 815499)"
      ]
     },
     "execution_count": 22,
     "metadata": {},
     "output_type": "execute_result"
    }
   ],
   "source": [
    "datetime.datetime.now()"
   ]
  },
  {
   "cell_type": "markdown",
   "id": "269b0f06-edee-4fce-8755-a8e7fe92e340",
   "metadata": {
    "papermill": {
     "duration": 0.012433,
     "end_time": "2022-03-11T23:01:01.644823",
     "exception": false,
     "start_time": "2022-03-11T23:01:01.632390",
     "status": "completed"
    },
    "tags": []
   },
   "source": [
    "__Congfigure output (autocreated)__"
   ]
  },
  {
   "cell_type": "code",
   "execution_count": 23,
   "id": "acace944-18fa-4b05-a581-8147e8e09299",
   "metadata": {
    "papermill": {
     "duration": 0.07105,
     "end_time": "2022-03-11T23:01:01.728328",
     "exception": false,
     "start_time": "2022-03-11T23:01:01.657278",
     "status": "completed"
    },
    "tags": []
   },
   "outputs": [],
   "source": [
    "OUTPUT_EXCEL = os.path.join(\n",
    "    OUTPUT_DATA_PATH,\n",
    "    f\"{OUTPUT_NAME}__{datetime.datetime.now().strftime('%Y-%m-%d')}.xlsx\",\n",
    ")"
   ]
  },
  {
   "cell_type": "markdown",
   "id": "f5517217-f107-4fee-b4ca-be61f6b2b7c3",
   "metadata": {
    "papermill": {
     "duration": 0.01698,
     "end_time": "2022-03-11T23:01:01.762807",
     "exception": false,
     "start_time": "2022-03-11T23:01:01.745827",
     "status": "completed"
    },
    "tags": []
   },
   "source": [
    "__Read in data__"
   ]
  },
  {
   "cell_type": "code",
   "execution_count": 24,
   "id": "cdefecf2-100b-4ad2-b0bd-101c0bad5a92",
   "metadata": {
    "papermill": {
     "duration": 2.499763,
     "end_time": "2022-03-11T23:01:04.279544",
     "exception": false,
     "start_time": "2022-03-11T23:01:01.779781",
     "status": "completed"
    },
    "tags": []
   },
   "outputs": [],
   "source": [
    "comparator_cols = (\n",
    "    [COMPARATOR_COLUMN] + OTHER_COMPARATOR_COLUMNS\n",
    "    if OTHER_COMPARATOR_COLUMNS\n",
    "    else [COMPARATOR_COLUMN]\n",
    ")\n",
    "\n",
    "# papermill_description=Loading_data\n",
    "joined_frame = pd.concat(\n",
    "    [\n",
    "        utils.read_file(\n",
    "            SCORE_FILE,\n",
    "            columns=[TOTAL_POPULATION_COLUMN, SCORE_COLUMN] + ADDITIONAL_DEMO_COLUMNS,\n",
    "            geoid=GEOID_COLUMN,\n",
    "        ),\n",
    "        utils.read_file(COMPARATOR_FILE, columns=comparator_cols, geoid=GEOID_COLUMN),\n",
    "        utils.read_file(\n",
    "            DEMOGRAPHIC_FILE,\n",
    "            DEMOGRAPHIC_COLUMNS,\n",
    "            geoid=GEOID_COLUMN,\n",
    "        ),\n",
    "    ],\n",
    "    axis=1,\n",
    ").reset_index()\n",
    "\n",
    "# Comparator may provide simple list of tracts; this will fill all census tracts with \"False\"\n",
    "joined_frame = joined_frame.fillna({COMPARATOR_COLUMN: False, SCORE_COLUMN: False})"
   ]
  },
  {
   "cell_type": "markdown",
   "id": "da71a62c-9c2c-46bd-815f-37cdb9ca18a1",
   "metadata": {
    "papermill": {
     "duration": 0.012648,
     "end_time": "2022-03-11T23:01:04.306607",
     "exception": false,
     "start_time": "2022-03-11T23:01:04.293959",
     "status": "completed"
    },
    "tags": []
   },
   "source": [
    "## High-level summary"
   ]
  },
  {
   "cell_type": "markdown",
   "id": "bfaf9912-1ffe-49e7-a38a-2f815b07826d",
   "metadata": {
    "papermill": {
     "duration": 0.013439,
     "end_time": "2022-03-11T23:01:04.333901",
     "exception": false,
     "start_time": "2022-03-11T23:01:04.320462",
     "status": "completed"
    },
    "tags": []
   },
   "source": [
    "What *shares* of tracts and population highlighted by the comparator are covered by CEJST?"
   ]
  },
  {
   "cell_type": "code",
   "execution_count": 25,
   "id": "93d2990c-edc0-404b-aeea-b62e3ca7b308",
   "metadata": {
    "papermill": {
     "duration": 0.041144,
     "end_time": "2022-03-11T23:01:04.387165",
     "exception": false,
     "start_time": "2022-03-11T23:01:04.346021",
     "status": "completed"
    },
    "tags": []
   },
   "outputs": [
    {
     "data": {
      "text/html": [
       "<div>\n",
       "<style scoped>\n",
       "    .dataframe tbody tr th:only-of-type {\n",
       "        vertical-align: middle;\n",
       "    }\n",
       "\n",
       "    .dataframe tbody tr th {\n",
       "        vertical-align: top;\n",
       "    }\n",
       "\n",
       "    .dataframe thead th {\n",
       "        text-align: right;\n",
       "    }\n",
       "</style>\n",
       "<table border=\"1\" class=\"dataframe\">\n",
       "  <thead>\n",
       "    <tr style=\"text-align: right;\">\n",
       "      <th></th>\n",
       "      <th></th>\n",
       "      <th>Population</th>\n",
       "      <th>Count of tracts</th>\n",
       "      <th>Share of tracts</th>\n",
       "      <th>Share of population</th>\n",
       "    </tr>\n",
       "    <tr>\n",
       "      <th>donut_hole_dac_additional_constraints</th>\n",
       "      <th>Definition M (communities)</th>\n",
       "      <th></th>\n",
       "      <th></th>\n",
       "      <th></th>\n",
       "      <th></th>\n",
       "    </tr>\n",
       "  </thead>\n",
       "  <tbody>\n",
       "    <tr>\n",
       "      <th rowspan=\"2\" valign=\"top\">False</th>\n",
       "      <th>False</th>\n",
       "      <td>231,012,760.000</td>\n",
       "      <td>50196</td>\n",
       "      <td>0.677</td>\n",
       "      <td>0.708</td>\n",
       "    </tr>\n",
       "    <tr>\n",
       "      <th>True</th>\n",
       "      <td>93,499,009.000</td>\n",
       "      <td>23477</td>\n",
       "      <td>0.317</td>\n",
       "      <td>0.287</td>\n",
       "    </tr>\n",
       "    <tr>\n",
       "      <th>True</th>\n",
       "      <th>False</th>\n",
       "      <td>1,778,202.000</td>\n",
       "      <td>487</td>\n",
       "      <td>0.007</td>\n",
       "      <td>0.005</td>\n",
       "    </tr>\n",
       "  </tbody>\n",
       "</table>\n",
       "</div>"
      ],
      "text/plain": [
       "                                                                      Population  \\\n",
       "donut_hole_dac_additional_constraints Definition M (communities)                   \n",
       "False                                 False                      231,012,760.000   \n",
       "                                      True                        93,499,009.000   \n",
       "True                                  False                        1,778,202.000   \n",
       "\n",
       "                                                                  Count of tracts  \\\n",
       "donut_hole_dac_additional_constraints Definition M (communities)                    \n",
       "False                                 False                                 50196   \n",
       "                                      True                                  23477   \n",
       "True                                  False                                   487   \n",
       "\n",
       "                                                                  Share of tracts  \\\n",
       "donut_hole_dac_additional_constraints Definition M (communities)                    \n",
       "False                                 False                                 0.677   \n",
       "                                      True                                  0.317   \n",
       "True                                  False                                 0.007   \n",
       "\n",
       "                                                                  Share of population  \n",
       "donut_hole_dac_additional_constraints Definition M (communities)                       \n",
       "False                                 False                                     0.708  \n",
       "                                      True                                      0.287  \n",
       "True                                  False                                     0.005  "
      ]
     },
     "execution_count": 25,
     "metadata": {},
     "output_type": "execute_result"
    }
   ],
   "source": [
    "# papermill_description=Summary_stats\n",
    "population = utils.produce_summary_stats(\n",
    "    joined_frame, COMPARATOR_COLUMN, SCORE_COLUMN, TOTAL_POPULATION_COLUMN, GEOID_COLUMN\n",
    ")\n",
    "population"
   ]
  },
  {
   "cell_type": "markdown",
   "id": "0c945e85-874d-4f1f-921e-ff2f0de42767",
   "metadata": {
    "papermill": {
     "duration": 0.012644,
     "end_time": "2022-03-11T23:01:04.412614",
     "exception": false,
     "start_time": "2022-03-11T23:01:04.399970",
     "status": "completed"
    },
    "tags": []
   },
   "source": [
    "## Tract-level stats\n",
    "\n",
    "First, this walks through overall stats for disadvantaged communities under the comparator definition and under the CEJST's definition. Next, this walks through stats by group (e.g., CEJST and not comparator). This is at the tract level, so the average across tracts, where tracts are not population-weighted. "
   ]
  },
  {
   "cell_type": "code",
   "execution_count": 26,
   "id": "618d2bac-8800-4fd7-a75d-f4abaae30923",
   "metadata": {
    "papermill": {
     "duration": 0.042885,
     "end_time": "2022-03-11T23:01:04.469040",
     "exception": false,
     "start_time": "2022-03-11T23:01:04.426155",
     "status": "completed"
    },
    "tags": []
   },
   "outputs": [
    {
     "data": {
      "text/html": [
       "<div>\n",
       "<style scoped>\n",
       "    .dataframe tbody tr th:only-of-type {\n",
       "        vertical-align: middle;\n",
       "    }\n",
       "\n",
       "    .dataframe tbody tr th {\n",
       "        vertical-align: top;\n",
       "    }\n",
       "\n",
       "    .dataframe thead th {\n",
       "        text-align: right;\n",
       "    }\n",
       "</style>\n",
       "<table border=\"1\" class=\"dataframe\">\n",
       "  <thead>\n",
       "    <tr style=\"text-align: right;\">\n",
       "      <th></th>\n",
       "      <th>donut_hole_dac_additional_constraints</th>\n",
       "      <th>Definition M (communities)</th>\n",
       "    </tr>\n",
       "  </thead>\n",
       "  <tbody>\n",
       "    <tr>\n",
       "      <th>Urban Heuristic Flag</th>\n",
       "      <td>0.710</td>\n",
       "      <td>0.839</td>\n",
       "    </tr>\n",
       "    <tr>\n",
       "      <th>Percent of individuals below 200% Federal Poverty Line</th>\n",
       "      <td>0.395</td>\n",
       "      <td>0.530</td>\n",
       "    </tr>\n",
       "    <tr>\n",
       "      <th>Percent individuals age 25 or over with less than high school degree</th>\n",
       "      <td>0.158</td>\n",
       "      <td>0.225</td>\n",
       "    </tr>\n",
       "    <tr>\n",
       "      <th>Unemployment (percent)</th>\n",
       "      <td>0.070</td>\n",
       "      <td>0.091</td>\n",
       "    </tr>\n",
       "    <tr>\n",
       "      <th>Percent of households in linguistic isolation</th>\n",
       "      <td>0.052</td>\n",
       "      <td>0.112</td>\n",
       "    </tr>\n",
       "    <tr>\n",
       "      <th>Percent Black or African American alone</th>\n",
       "      <td>0.243</td>\n",
       "      <td>0.250</td>\n",
       "    </tr>\n",
       "    <tr>\n",
       "      <th>Percent American Indian and Alaska Native alone</th>\n",
       "      <td>0.019</td>\n",
       "      <td>0.016</td>\n",
       "    </tr>\n",
       "    <tr>\n",
       "      <th>Percent Asian alone</th>\n",
       "      <td>0.026</td>\n",
       "      <td>0.040</td>\n",
       "    </tr>\n",
       "    <tr>\n",
       "      <th>Percent Native Hawaiian and Other Pacific alone</th>\n",
       "      <td>0.002</td>\n",
       "      <td>0.002</td>\n",
       "    </tr>\n",
       "    <tr>\n",
       "      <th>Percent Two or more races</th>\n",
       "      <td>0.030</td>\n",
       "      <td>0.034</td>\n",
       "    </tr>\n",
       "    <tr>\n",
       "      <th>Percent Non-Hispanic White</th>\n",
       "      <td>0.458</td>\n",
       "      <td>0.379</td>\n",
       "    </tr>\n",
       "    <tr>\n",
       "      <th>Percent Hispanic or Latino</th>\n",
       "      <td>0.242</td>\n",
       "      <td>0.304</td>\n",
       "    </tr>\n",
       "  </tbody>\n",
       "</table>\n",
       "</div>"
      ],
      "text/plain": [
       "                                                    donut_hole_dac_additional_constraints  \\\n",
       "Urban Heuristic Flag                                                                0.710   \n",
       "Percent of individuals below 200% Federal Pover...                                  0.395   \n",
       "Percent individuals age 25 or over with less th...                                  0.158   \n",
       "Unemployment (percent)                                                              0.070   \n",
       "Percent of households in linguistic isolation                                       0.052   \n",
       "Percent Black or African American alone                                             0.243   \n",
       "Percent American Indian and Alaska Native alone                                     0.019   \n",
       "Percent Asian alone                                                                 0.026   \n",
       "Percent Native Hawaiian and Other Pacific alone                                     0.002   \n",
       "Percent Two or more races                                                           0.030   \n",
       "Percent Non-Hispanic White                                                          0.458   \n",
       "Percent Hispanic or Latino                                                          0.242   \n",
       "\n",
       "                                                    Definition M (communities)  \n",
       "Urban Heuristic Flag                                                     0.839  \n",
       "Percent of individuals below 200% Federal Pover...                       0.530  \n",
       "Percent individuals age 25 or over with less th...                       0.225  \n",
       "Unemployment (percent)                                                   0.091  \n",
       "Percent of households in linguistic isolation                            0.112  \n",
       "Percent Black or African American alone                                  0.250  \n",
       "Percent American Indian and Alaska Native alone                          0.016  \n",
       "Percent Asian alone                                                      0.040  \n",
       "Percent Native Hawaiian and Other Pacific alone                          0.002  \n",
       "Percent Two or more races                                                0.034  \n",
       "Percent Non-Hispanic White                                               0.379  \n",
       "Percent Hispanic or Latino                                               0.304  "
      ]
     },
     "execution_count": 26,
     "metadata": {},
     "output_type": "execute_result"
    }
   ],
   "source": [
    "# papermill_description=Tract_stats\n",
    "tract_level_by_identification = pd.concat(\n",
    "    [\n",
    "        utils.get_demo_series(\n",
    "            COMPARATOR_COLUMN,\n",
    "            joined_frame,\n",
    "            ADDITIONAL_DEMO_COLUMNS + DEMOGRAPHIC_COLUMNS,\n",
    "        ),\n",
    "        utils.get_demo_series(\n",
    "            SCORE_COLUMN, joined_frame, ADDITIONAL_DEMO_COLUMNS + DEMOGRAPHIC_COLUMNS\n",
    "        ),\n",
    "    ],\n",
    "    axis=1,\n",
    ")\n",
    "\n",
    "tract_level_by_identification"
   ]
  },
  {
   "cell_type": "code",
   "execution_count": 27,
   "id": "0f37bfa5-5e9e-46d1-97af-8d0e7d53c80b",
   "metadata": {
    "papermill": {
     "duration": 0.560817,
     "end_time": "2022-03-11T23:01:05.044513",
     "exception": false,
     "start_time": "2022-03-11T23:01:04.483696",
     "status": "completed"
    },
    "tags": []
   },
   "outputs": [
    {
     "data": {
      "image/png": "[encoded data removed]",
      "text/plain": [
       "<Figure size 792x792 with 1 Axes>"
      ]
     },
     "metadata": {
      "needs_background": "light"
     },
     "output_type": "display_data"
    }
   ],
   "source": [
    "plt.figure(figsize=(11, 11))\n",
    "sns.barplot(\n",
    "    y=\"Variable\",\n",
    "    x=\"Avg in tracts\",\n",
    "    hue=\"Definition\",\n",
    "    data=tract_level_by_identification.sort_values(\n",
    "        by=COMPARATOR_COLUMN, ascending=False\n",
    "    )\n",
    "    .stack()\n",
    "    .reset_index()\n",
    "    .rename(\n",
    "        columns={\"level_0\": \"Variable\", \"level_1\": \"Definition\", 0: \"Avg in tracts\"}\n",
    "    ),\n",
    "    palette=\"Blues\",\n",
    ")\n",
    "plt.xlim(0, 1)\n",
    "plt.title(\"Tract level averages by identification strategy\")\n",
    "plt.savefig(os.path.join(OUTPUT_DATA_PATH, \"tract_lvl_avg.jpg\"), bbox_inches=\"tight\")"
   ]
  },
  {
   "cell_type": "code",
   "execution_count": 28,
   "id": "713f2a04-1b2a-472c-b036-454cd5c9a495",
   "metadata": {
    "papermill": {
     "duration": 0.042201,
     "end_time": "2022-03-11T23:01:05.102217",
     "exception": false,
     "start_time": "2022-03-11T23:01:05.060016",
     "status": "completed"
    },
    "tags": []
   },
   "outputs": [],
   "source": [
    "# papermill_description=Tract_stats_grouped\n",
    "tract_level_by_grouping = utils.get_tract_level_grouping(\n",
    "    joined_frame,\n",
    "    SCORE_COLUMN,\n",
    "    COMPARATOR_COLUMN,\n",
    "    ADDITIONAL_DEMO_COLUMNS + DEMOGRAPHIC_COLUMNS,\n",
    ")\n",
    "\n",
    "tract_level_by_grouping_formatted = utils.format_multi_index_for_excel(\n",
    "    tract_level_by_grouping\n",
    ")"
   ]
  },
  {
   "cell_type": "code",
   "execution_count": 29,
   "id": "0d166f53-4242-46f1-aedf-51dac517de94",
   "metadata": {
    "papermill": {
     "duration": 0.026631,
     "end_time": "2022-03-11T23:01:05.145415",
     "exception": false,
     "start_time": "2022-03-11T23:01:05.118784",
     "status": "completed"
    },
    "tags": []
   },
   "outputs": [
    {
     "data": {
      "text/html": [
       "<div>\n",
       "<style scoped>\n",
       "    .dataframe tbody tr th:only-of-type {\n",
       "        vertical-align: middle;\n",
       "    }\n",
       "\n",
       "    .dataframe tbody tr th {\n",
       "        vertical-align: top;\n",
       "    }\n",
       "\n",
       "    .dataframe thead th {\n",
       "        text-align: right;\n",
       "    }\n",
       "</style>\n",
       "<table border=\"1\" class=\"dataframe\">\n",
       "  <thead>\n",
       "    <tr style=\"text-align: right;\">\n",
       "      <th></th>\n",
       "      <th>Variable</th>\n",
       "      <th>Not CEJST, Comparator</th>\n",
       "      <th>CEJST, Not Comparator</th>\n",
       "    </tr>\n",
       "  </thead>\n",
       "  <tbody>\n",
       "    <tr>\n",
       "      <th>0</th>\n",
       "      <td>Urban Heuristic Flag</td>\n",
       "      <td>0.710</td>\n",
       "      <td>0.839</td>\n",
       "    </tr>\n",
       "    <tr>\n",
       "      <th>1</th>\n",
       "      <td>Percent of individuals below 200% Federal Pove...</td>\n",
       "      <td>0.395</td>\n",
       "      <td>0.530</td>\n",
       "    </tr>\n",
       "    <tr>\n",
       "      <th>2</th>\n",
       "      <td>Percent individuals age 25 or over with less t...</td>\n",
       "      <td>0.158</td>\n",
       "      <td>0.225</td>\n",
       "    </tr>\n",
       "    <tr>\n",
       "      <th>3</th>\n",
       "      <td>Unemployment (percent)</td>\n",
       "      <td>0.070</td>\n",
       "      <td>0.091</td>\n",
       "    </tr>\n",
       "    <tr>\n",
       "      <th>4</th>\n",
       "      <td>Percent of households in linguistic isolation</td>\n",
       "      <td>0.052</td>\n",
       "      <td>0.112</td>\n",
       "    </tr>\n",
       "    <tr>\n",
       "      <th>5</th>\n",
       "      <td>Percent Black or African American alone</td>\n",
       "      <td>0.243</td>\n",
       "      <td>0.250</td>\n",
       "    </tr>\n",
       "    <tr>\n",
       "      <th>6</th>\n",
       "      <td>Percent American Indian and Alaska Native alone</td>\n",
       "      <td>0.019</td>\n",
       "      <td>0.016</td>\n",
       "    </tr>\n",
       "    <tr>\n",
       "      <th>7</th>\n",
       "      <td>Percent Asian alone</td>\n",
       "      <td>0.026</td>\n",
       "      <td>0.040</td>\n",
       "    </tr>\n",
       "    <tr>\n",
       "      <th>8</th>\n",
       "      <td>Percent Native Hawaiian and Other Pacific alone</td>\n",
       "      <td>0.002</td>\n",
       "      <td>0.002</td>\n",
       "    </tr>\n",
       "    <tr>\n",
       "      <th>9</th>\n",
       "      <td>Percent Two or more races</td>\n",
       "      <td>0.030</td>\n",
       "      <td>0.034</td>\n",
       "    </tr>\n",
       "    <tr>\n",
       "      <th>10</th>\n",
       "      <td>Percent Non-Hispanic White</td>\n",
       "      <td>0.458</td>\n",
       "      <td>0.379</td>\n",
       "    </tr>\n",
       "    <tr>\n",
       "      <th>11</th>\n",
       "      <td>Percent Hispanic or Latino</td>\n",
       "      <td>0.242</td>\n",
       "      <td>0.304</td>\n",
       "    </tr>\n",
       "  </tbody>\n",
       "</table>\n",
       "</div>"
      ],
      "text/plain": [
       "                                             Variable  Not CEJST, Comparator  \\\n",
       "0                                Urban Heuristic Flag                  0.710   \n",
       "1   Percent of individuals below 200% Federal Pove...                  0.395   \n",
       "2   Percent individuals age 25 or over with less t...                  0.158   \n",
       "3                              Unemployment (percent)                  0.070   \n",
       "4       Percent of households in linguistic isolation                  0.052   \n",
       "5             Percent Black or African American alone                  0.243   \n",
       "6     Percent American Indian and Alaska Native alone                  0.019   \n",
       "7                                 Percent Asian alone                  0.026   \n",
       "8     Percent Native Hawaiian and Other Pacific alone                  0.002   \n",
       "9                           Percent Two or more races                  0.030   \n",
       "10                         Percent Non-Hispanic White                  0.458   \n",
       "11                         Percent Hispanic or Latino                  0.242   \n",
       "\n",
       "    CEJST, Not Comparator  \n",
       "0                   0.839  \n",
       "1                   0.530  \n",
       "2                   0.225  \n",
       "3                   0.091  \n",
       "4                   0.112  \n",
       "5                   0.250  \n",
       "6                   0.016  \n",
       "7                   0.040  \n",
       "8                   0.002  \n",
       "9                   0.034  \n",
       "10                  0.379  \n",
       "11                  0.304  "
      ]
     },
     "execution_count": 29,
     "metadata": {},
     "output_type": "execute_result"
    }
   ],
   "source": [
    "tract_level_by_grouping_formatted"
   ]
  },
  {
   "cell_type": "markdown",
   "id": "372ac341-b03b-404a-9462-5087b88579b7",
   "metadata": {
    "papermill": {
     "duration": 0.017861,
     "end_time": "2022-03-11T23:01:05.181110",
     "exception": false,
     "start_time": "2022-03-11T23:01:05.163249",
     "status": "completed"
    },
    "tags": []
   },
   "source": [
    "## Population-weighted stats"
   ]
  },
  {
   "cell_type": "code",
   "execution_count": 30,
   "id": "d172e3c8-60ab-44f0-8034-dda69f1146da",
   "metadata": {
    "papermill": {
     "duration": 0.184075,
     "end_time": "2022-03-11T23:01:05.382166",
     "exception": false,
     "start_time": "2022-03-11T23:01:05.198091",
     "status": "completed"
    },
    "tags": []
   },
   "outputs": [],
   "source": [
    "# papermill_description=Population_stats\n",
    "population_weighted_stats = pd.concat(\n",
    "    [\n",
    "        utils.construct_weighted_statistics(\n",
    "            joined_frame,\n",
    "            COMPARATOR_COLUMN,\n",
    "            DEMOGRAPHIC_COLUMNS + ADDITIONAL_DEMO_COLUMNS,\n",
    "            TOTAL_POPULATION_COLUMN,\n",
    "        ),\n",
    "        utils.construct_weighted_statistics(\n",
    "            joined_frame,\n",
    "            SCORE_COLUMN,\n",
    "            DEMOGRAPHIC_COLUMNS + ADDITIONAL_DEMO_COLUMNS,\n",
    "            TOTAL_POPULATION_COLUMN,\n",
    "        ),\n",
    "    ],\n",
    "    axis=1,\n",
    ")"
   ]
  },
  {
   "cell_type": "code",
   "execution_count": 31,
   "id": "1b3d227d-d8d5-459f-b0bc-d00050a58ff0",
   "metadata": {},
   "outputs": [
    {
     "data": {
      "text/html": [
       "<div>\n",
       "<style scoped>\n",
       "    .dataframe tbody tr th:only-of-type {\n",
       "        vertical-align: middle;\n",
       "    }\n",
       "\n",
       "    .dataframe tbody tr th {\n",
       "        vertical-align: top;\n",
       "    }\n",
       "\n",
       "    .dataframe thead th {\n",
       "        text-align: right;\n",
       "    }\n",
       "</style>\n",
       "<table border=\"1\" class=\"dataframe\">\n",
       "  <thead>\n",
       "    <tr style=\"text-align: right;\">\n",
       "      <th></th>\n",
       "      <th>not donut_hole_dac_additional_constraints</th>\n",
       "      <th>donut_hole_dac_additional_constraints</th>\n",
       "      <th>not Definition M (communities)</th>\n",
       "      <th>Definition M (communities)</th>\n",
       "    </tr>\n",
       "  </thead>\n",
       "  <tbody>\n",
       "    <tr>\n",
       "      <th>Percent Black or African American alone</th>\n",
       "      <td>0.127</td>\n",
       "      <td>0.226</td>\n",
       "      <td>0.089</td>\n",
       "      <td>0.223</td>\n",
       "    </tr>\n",
       "    <tr>\n",
       "      <th>Percent American Indian and Alaska Native alone</th>\n",
       "      <td>0.008</td>\n",
       "      <td>0.017</td>\n",
       "      <td>0.006</td>\n",
       "      <td>0.015</td>\n",
       "    </tr>\n",
       "    <tr>\n",
       "      <th>Percent Asian alone</th>\n",
       "      <td>0.055</td>\n",
       "      <td>0.028</td>\n",
       "      <td>0.059</td>\n",
       "      <td>0.044</td>\n",
       "    </tr>\n",
       "    <tr>\n",
       "      <th>Percent Native Hawaiian and Other Pacific alone</th>\n",
       "      <td>0.002</td>\n",
       "      <td>0.001</td>\n",
       "      <td>0.002</td>\n",
       "      <td>0.002</td>\n",
       "    </tr>\n",
       "    <tr>\n",
       "      <th>Percent Two or more races</th>\n",
       "      <td>0.033</td>\n",
       "      <td>0.029</td>\n",
       "      <td>0.033</td>\n",
       "      <td>0.034</td>\n",
       "    </tr>\n",
       "    <tr>\n",
       "      <th>Percent Non-Hispanic White</th>\n",
       "      <td>0.602</td>\n",
       "      <td>0.432</td>\n",
       "      <td>0.696</td>\n",
       "      <td>0.362</td>\n",
       "    </tr>\n",
       "    <tr>\n",
       "      <th>Percent Hispanic or Latino</th>\n",
       "      <td>0.188</td>\n",
       "      <td>0.286</td>\n",
       "      <td>0.126</td>\n",
       "      <td>0.345</td>\n",
       "    </tr>\n",
       "    <tr>\n",
       "      <th>Urban Heuristic Flag</th>\n",
       "      <td>0.821</td>\n",
       "      <td>0.699</td>\n",
       "      <td>0.819</td>\n",
       "      <td>0.823</td>\n",
       "    </tr>\n",
       "    <tr>\n",
       "      <th>Percent of individuals below 200% Federal Poverty Line</th>\n",
       "      <td>0.315</td>\n",
       "      <td>0.387</td>\n",
       "      <td>0.233</td>\n",
       "      <td>0.520</td>\n",
       "    </tr>\n",
       "    <tr>\n",
       "      <th>Percent individuals age 25 or over with less than high school degree</th>\n",
       "      <td>0.125</td>\n",
       "      <td>0.167</td>\n",
       "      <td>0.082</td>\n",
       "      <td>0.232</td>\n",
       "    </tr>\n",
       "    <tr>\n",
       "      <th>Unemployment (percent)</th>\n",
       "      <td>0.056</td>\n",
       "      <td>0.066</td>\n",
       "      <td>0.044</td>\n",
       "      <td>0.086</td>\n",
       "    </tr>\n",
       "    <tr>\n",
       "      <th>Percent of households in linguistic isolation</th>\n",
       "      <td>0.055</td>\n",
       "      <td>0.063</td>\n",
       "      <td>0.028</td>\n",
       "      <td>0.124</td>\n",
       "    </tr>\n",
       "  </tbody>\n",
       "</table>\n",
       "</div>"
      ],
      "text/plain": [
       "                                                    not donut_hole_dac_additional_constraints  \\\n",
       "Percent Black or African American alone                                                 0.127   \n",
       "Percent American Indian and Alaska Native alone                                         0.008   \n",
       "Percent Asian alone                                                                     0.055   \n",
       "Percent Native Hawaiian and Other Pacific alone                                         0.002   \n",
       "Percent Two or more races                                                               0.033   \n",
       "Percent Non-Hispanic White                                                              0.602   \n",
       "Percent Hispanic or Latino                                                              0.188   \n",
       "Urban Heuristic Flag                                                                    0.821   \n",
       "Percent of individuals below 200% Federal Pover...                                      0.315   \n",
       "Percent individuals age 25 or over with less th...                                      0.125   \n",
       "Unemployment (percent)                                                                  0.056   \n",
       "Percent of households in linguistic isolation                                           0.055   \n",
       "\n",
       "                                                    donut_hole_dac_additional_constraints  \\\n",
       "Percent Black or African American alone                                             0.226   \n",
       "Percent American Indian and Alaska Native alone                                     0.017   \n",
       "Percent Asian alone                                                                 0.028   \n",
       "Percent Native Hawaiian and Other Pacific alone                                     0.001   \n",
       "Percent Two or more races                                                           0.029   \n",
       "Percent Non-Hispanic White                                                          0.432   \n",
       "Percent Hispanic or Latino                                                          0.286   \n",
       "Urban Heuristic Flag                                                                0.699   \n",
       "Percent of individuals below 200% Federal Pover...                                  0.387   \n",
       "Percent individuals age 25 or over with less th...                                  0.167   \n",
       "Unemployment (percent)                                                              0.066   \n",
       "Percent of households in linguistic isolation                                       0.063   \n",
       "\n",
       "                                                    not Definition M (communities)  \\\n",
       "Percent Black or African American alone                                      0.089   \n",
       "Percent American Indian and Alaska Native alone                              0.006   \n",
       "Percent Asian alone                                                          0.059   \n",
       "Percent Native Hawaiian and Other Pacific alone                              0.002   \n",
       "Percent Two or more races                                                    0.033   \n",
       "Percent Non-Hispanic White                                                   0.696   \n",
       "Percent Hispanic or Latino                                                   0.126   \n",
       "Urban Heuristic Flag                                                         0.819   \n",
       "Percent of individuals below 200% Federal Pover...                           0.233   \n",
       "Percent individuals age 25 or over with less th...                           0.082   \n",
       "Unemployment (percent)                                                       0.044   \n",
       "Percent of households in linguistic isolation                                0.028   \n",
       "\n",
       "                                                    Definition M (communities)  \n",
       "Percent Black or African American alone                                  0.223  \n",
       "Percent American Indian and Alaska Native alone                          0.015  \n",
       "Percent Asian alone                                                      0.044  \n",
       "Percent Native Hawaiian and Other Pacific alone                          0.002  \n",
       "Percent Two or more races                                                0.034  \n",
       "Percent Non-Hispanic White                                               0.362  \n",
       "Percent Hispanic or Latino                                               0.345  \n",
       "Urban Heuristic Flag                                                     0.823  \n",
       "Percent of individuals below 200% Federal Pover...                       0.520  \n",
       "Percent individuals age 25 or over with less th...                       0.232  \n",
       "Unemployment (percent)                                                   0.086  \n",
       "Percent of households in linguistic isolation                            0.124  "
      ]
     },
     "execution_count": 31,
     "metadata": {},
     "output_type": "execute_result"
    }
   ],
   "source": [
    "population_weighted_stats"
   ]
  },
  {
   "cell_type": "markdown",
   "id": "a9fb4dfa-876d-4f25-9552-9831f51ec05c",
   "metadata": {
    "papermill": {
     "duration": 0.017566,
     "end_time": "2022-03-11T23:01:05.420831",
     "exception": false,
     "start_time": "2022-03-11T23:01:05.403265",
     "status": "completed"
    },
    "tags": []
   },
   "source": [
    "## Print to excel"
   ]
  },
  {
   "cell_type": "code",
   "execution_count": 32,
   "id": "67e2c71e-68af-44b4-bab0-33bc54afe7a4",
   "metadata": {
    "papermill": {
     "duration": 0.070245,
     "end_time": "2022-03-11T23:01:05.507129",
     "exception": false,
     "start_time": "2022-03-11T23:01:05.436884",
     "status": "completed"
    },
    "tags": []
   },
   "outputs": [],
   "source": [
    "# papermill_description=Writing_excel\n",
    "utils.write_single_comparison_excel(\n",
    "    OUTPUT_EXCEL,\n",
    "    population,\n",
    "    tract_level_by_identification,\n",
    "    population_weighted_stats,\n",
    "    tract_level_by_grouping_formatted,\n",
    ")"
   ]
  },
  {
   "cell_type": "markdown",
   "id": "84408f15-a1c7-4383-97f1-0fb46ad09ec1",
   "metadata": {},
   "source": [
    "## Additional analysis"
   ]
  },
  {
   "cell_type": "code",
   "execution_count": 33,
   "id": "51892686-e74e-4872-848c-3a155e80dd34",
   "metadata": {},
   "outputs": [
    {
     "data": {
      "text/plain": [
       "False    431\n",
       "True      56\n",
       "Name: Percent of individuals below 200% Federal Poverty Line, dtype: int64"
      ]
     },
     "execution_count": 33,
     "metadata": {},
     "output_type": "execute_result"
    }
   ],
   "source": [
    "joined_frame[joined_frame[\"donut_hole_dac_additional_constraints\"]][\n",
    "    \"Percent of individuals below 200% Federal Poverty Line\"\n",
    "].isna().value_counts()"
   ]
  },
  {
   "cell_type": "code",
   "execution_count": 34,
   "id": "773e9e59-66e2-496a-9495-8f994a5ff52f",
   "metadata": {},
   "outputs": [
    {
     "data": {
      "text/plain": [
       "False    310\n",
       "True     177\n",
       "Name: P200_PFS, dtype: int64"
      ]
     },
     "execution_count": 34,
     "metadata": {},
     "output_type": "execute_result"
    }
   ],
   "source": [
    "(\n",
    "    joined_frame[joined_frame[\"donut_hole_dac_additional_constraints\"]][\n",
    "        \"P200_PFS\"\n",
    "    ].fillna(1)\n",
    "    >= 0.65\n",
    ").value_counts()"
   ]
  },
  {
   "cell_type": "markdown",
   "id": "e4a3f987-afca-442b-b197-df0831778cdf",
   "metadata": {},
   "source": [
    "# Comparing three options"
   ]
  },
  {
   "cell_type": "code",
   "execution_count": 61,
   "id": "382f12e4-663f-432b-b2db-3fe0cce5d63a",
   "metadata": {},
   "outputs": [],
   "source": [
    "joined_frame[\"cutoff_75_pct\"] = (\n",
    "    joined_frame[\"mean_neighbor_score_updated\"] >= 0.75\n",
    ") & (joined_frame[\"P200_PFS\"].fillna(1) >= 0.6)\n",
    "\n",
    "joined_frame[\"cutoff_85_pct\"] = (\n",
    "    joined_frame[\"mean_neighbor_score_updated\"] >= 0.85\n",
    ") & (joined_frame[\"P200_PFS\"].fillna(1) >= 0.5)"
   ]
  },
  {
   "cell_type": "code",
   "execution_count": 62,
   "id": "f88c6e6c-a08e-4872-a151-46c6fc463658",
   "metadata": {},
   "outputs": [],
   "source": [
    "comparison = pd.DataFrame()"
   ]
  },
  {
   "cell_type": "code",
   "execution_count": 63,
   "id": "7b7fb988-4494-495f-af3c-d7ecbc03912a",
   "metadata": {},
   "outputs": [],
   "source": [
    "comparison[\"75_cutoff\"] = (\n",
    "    joined_frame.groupby(\"cutoff_75_pct\")[DEMOGRAPHIC_COLUMNS + ADDITIONAL_DEMO_COLUMNS]\n",
    "    .mean()\n",
    "    .loc[True]\n",
    "    .T\n",
    ")\n",
    "\n",
    "comparison[\"85_cutoff\"] = (\n",
    "    joined_frame.groupby(\"cutoff_85_pct\")[DEMOGRAPHIC_COLUMNS + ADDITIONAL_DEMO_COLUMNS]\n",
    "    .mean()\n",
    "    .loc[True]\n",
    "    .T\n",
    ")\n",
    "\n",
    "comparison[\"dac_additional_cutoff\"] = (\n",
    "    joined_frame.groupby(\"donut_hole_dac_additional_constraints\")[\n",
    "        DEMOGRAPHIC_COLUMNS + ADDITIONAL_DEMO_COLUMNS\n",
    "    ]\n",
    "    .mean()\n",
    "    .loc[True]\n",
    "    .T\n",
    ")"
   ]
  },
  {
   "cell_type": "code",
   "execution_count": 64,
   "id": "4c39c068-401f-4711-a202-7450c0d1210e",
   "metadata": {},
   "outputs": [
    {
     "data": {
      "text/plain": [
       "cutoff_75_pct                            656\n",
       "cutoff_85_pct                            444\n",
       "donut_hole_dac_additional_constraints    487\n",
       "dtype: int64"
      ]
     },
     "execution_count": 64,
     "metadata": {},
     "output_type": "execute_result"
    }
   ],
   "source": [
    "joined_frame[\n",
    "    [\"cutoff_75_pct\", \"cutoff_85_pct\", \"donut_hole_dac_additional_constraints\"]\n",
    "].sum()"
   ]
  },
  {
   "cell_type": "code",
   "execution_count": 68,
   "id": "53407826-5c08-4080-99cd-6083d8d7b063",
   "metadata": {},
   "outputs": [
    {
     "data": {
      "text/html": [
       "<div>\n",
       "<style scoped>\n",
       "    .dataframe tbody tr th:only-of-type {\n",
       "        vertical-align: middle;\n",
       "    }\n",
       "\n",
       "    .dataframe tbody tr th {\n",
       "        vertical-align: top;\n",
       "    }\n",
       "\n",
       "    .dataframe thead th {\n",
       "        text-align: right;\n",
       "    }\n",
       "</style>\n",
       "<table border=\"1\" class=\"dataframe\">\n",
       "  <thead>\n",
       "    <tr style=\"text-align: right;\">\n",
       "      <th></th>\n",
       "      <th>75_cutoff</th>\n",
       "      <th>85_cutoff</th>\n",
       "      <th>dac_additional_cutoff</th>\n",
       "    </tr>\n",
       "  </thead>\n",
       "  <tbody>\n",
       "    <tr>\n",
       "      <th>Urban Heuristic Flag</th>\n",
       "      <td>0.732</td>\n",
       "      <td>0.706</td>\n",
       "      <td>0.710</td>\n",
       "    </tr>\n",
       "    <tr>\n",
       "      <th>Percent of individuals below 200% Federal Poverty Line</th>\n",
       "      <td>0.454</td>\n",
       "      <td>0.415</td>\n",
       "      <td>0.395</td>\n",
       "    </tr>\n",
       "    <tr>\n",
       "      <th>Percent individuals age 25 or over with less than high school degree</th>\n",
       "      <td>0.176</td>\n",
       "      <td>0.171</td>\n",
       "      <td>0.158</td>\n",
       "    </tr>\n",
       "    <tr>\n",
       "      <th>Unemployment (percent)</th>\n",
       "      <td>0.073</td>\n",
       "      <td>0.072</td>\n",
       "      <td>0.070</td>\n",
       "    </tr>\n",
       "    <tr>\n",
       "      <th>Percent of households in linguistic isolation</th>\n",
       "      <td>0.050</td>\n",
       "      <td>0.051</td>\n",
       "      <td>0.052</td>\n",
       "    </tr>\n",
       "  </tbody>\n",
       "</table>\n",
       "</div>"
      ],
      "text/plain": [
       "                                                    75_cutoff  85_cutoff  \\\n",
       "Urban Heuristic Flag                                    0.732      0.706   \n",
       "Percent of individuals below 200% Federal Pover...      0.454      0.415   \n",
       "Percent individuals age 25 or over with less th...      0.176      0.171   \n",
       "Unemployment (percent)                                  0.073      0.072   \n",
       "Percent of households in linguistic isolation           0.050      0.051   \n",
       "\n",
       "                                                    dac_additional_cutoff  \n",
       "Urban Heuristic Flag                                                0.710  \n",
       "Percent of individuals below 200% Federal Pover...                  0.395  \n",
       "Percent individuals age 25 or over with less th...                  0.158  \n",
       "Unemployment (percent)                                              0.070  \n",
       "Percent of households in linguistic isolation                       0.052  "
      ]
     },
     "execution_count": 68,
     "metadata": {},
     "output_type": "execute_result"
    }
   ],
   "source": [
    "comparison.loc[ADDITIONAL_DEMO_COLUMNS]"
   ]
  },
  {
   "cell_type": "code",
   "execution_count": 69,
   "id": "cb6222bc-9610-4432-b9e4-0653a89eef26",
   "metadata": {},
   "outputs": [
    {
     "data": {
      "text/html": [
       "<div>\n",
       "<style scoped>\n",
       "    .dataframe tbody tr th:only-of-type {\n",
       "        vertical-align: middle;\n",
       "    }\n",
       "\n",
       "    .dataframe tbody tr th {\n",
       "        vertical-align: top;\n",
       "    }\n",
       "\n",
       "    .dataframe thead th {\n",
       "        text-align: right;\n",
       "    }\n",
       "</style>\n",
       "<table border=\"1\" class=\"dataframe\">\n",
       "  <thead>\n",
       "    <tr style=\"text-align: right;\">\n",
       "      <th></th>\n",
       "      <th>cutoff_85_pct</th>\n",
       "      <th>cutoff_75_pct</th>\n",
       "      <th>donut_hole_dac_additional_constraints</th>\n",
       "      <th>Definition M (communities)</th>\n",
       "    </tr>\n",
       "  </thead>\n",
       "  <tbody>\n",
       "    <tr>\n",
       "      <th>Urban Heuristic Flag</th>\n",
       "      <td>0.699</td>\n",
       "      <td>0.714</td>\n",
       "      <td>0.699</td>\n",
       "      <td>0.823</td>\n",
       "    </tr>\n",
       "    <tr>\n",
       "      <th>Percent of individuals below 200% Federal Poverty Line</th>\n",
       "      <td>0.399</td>\n",
       "      <td>0.436</td>\n",
       "      <td>0.387</td>\n",
       "      <td>0.520</td>\n",
       "    </tr>\n",
       "    <tr>\n",
       "      <th>Percent individuals age 25 or over with less than high school degree</th>\n",
       "      <td>0.178</td>\n",
       "      <td>0.182</td>\n",
       "      <td>0.167</td>\n",
       "      <td>0.232</td>\n",
       "    </tr>\n",
       "    <tr>\n",
       "      <th>Unemployment (percent)</th>\n",
       "      <td>0.066</td>\n",
       "      <td>0.068</td>\n",
       "      <td>0.066</td>\n",
       "      <td>0.086</td>\n",
       "    </tr>\n",
       "    <tr>\n",
       "      <th>Percent of households in linguistic isolation</th>\n",
       "      <td>0.062</td>\n",
       "      <td>0.058</td>\n",
       "      <td>0.063</td>\n",
       "      <td>0.124</td>\n",
       "    </tr>\n",
       "  </tbody>\n",
       "</table>\n",
       "</div>"
      ],
      "text/plain": [
       "                                                    cutoff_85_pct  \\\n",
       "Urban Heuristic Flag                                        0.699   \n",
       "Percent of individuals below 200% Federal Pover...          0.399   \n",
       "Percent individuals age 25 or over with less th...          0.178   \n",
       "Unemployment (percent)                                      0.066   \n",
       "Percent of households in linguistic isolation               0.062   \n",
       "\n",
       "                                                    cutoff_75_pct  \\\n",
       "Urban Heuristic Flag                                        0.714   \n",
       "Percent of individuals below 200% Federal Pover...          0.436   \n",
       "Percent individuals age 25 or over with less th...          0.182   \n",
       "Unemployment (percent)                                      0.068   \n",
       "Percent of households in linguistic isolation               0.058   \n",
       "\n",
       "                                                    donut_hole_dac_additional_constraints  \\\n",
       "Urban Heuristic Flag                                                                0.699   \n",
       "Percent of individuals below 200% Federal Pover...                                  0.387   \n",
       "Percent individuals age 25 or over with less th...                                  0.167   \n",
       "Unemployment (percent)                                                              0.066   \n",
       "Percent of households in linguistic isolation                                       0.063   \n",
       "\n",
       "                                                    Definition M (communities)  \n",
       "Urban Heuristic Flag                                                     0.823  \n",
       "Percent of individuals below 200% Federal Pover...                       0.520  \n",
       "Percent individuals age 25 or over with less th...                       0.232  \n",
       "Unemployment (percent)                                                   0.086  \n",
       "Percent of households in linguistic isolation                            0.124  "
      ]
     },
     "execution_count": 69,
     "metadata": {},
     "output_type": "execute_result"
    }
   ],
   "source": [
    "demo_comp = pd.concat(\n",
    "    [\n",
    "        utils.construct_weighted_statistics(\n",
    "            joined_frame,\n",
    "            \"cutoff_85_pct\",\n",
    "            DEMOGRAPHIC_COLUMNS + ADDITIONAL_DEMO_COLUMNS,\n",
    "            TOTAL_POPULATION_COLUMN,\n",
    "        ),\n",
    "        utils.construct_weighted_statistics(\n",
    "            joined_frame,\n",
    "            \"cutoff_75_pct\",\n",
    "            DEMOGRAPHIC_COLUMNS + ADDITIONAL_DEMO_COLUMNS,\n",
    "            TOTAL_POPULATION_COLUMN,\n",
    "        ),\n",
    "        population_weighted_stats,\n",
    "    ],\n",
    "    axis=1,\n",
    ")[\n",
    "    [\n",
    "        \"cutoff_85_pct\",\n",
    "        \"cutoff_75_pct\",\n",
    "        \"donut_hole_dac_additional_constraints\",\n",
    "        \"Definition M (communities)\",\n",
    "    ]\n",
    "]\n",
    "\n",
    "demo_comp.loc[ADDITIONAL_DEMO_COLUMNS]"
   ]
  },
  {
   "cell_type": "code",
   "execution_count": 67,
   "id": "8c004d8f-ecca-4205-85da-2adbde082d6c",
   "metadata": {},
   "outputs": [
    {
     "data": {
      "text/plain": [
       "<AxesSubplot:xlabel='pop avg', ylabel='Demo'>"
      ]
     },
     "execution_count": 67,
     "metadata": {},
     "output_type": "execute_result"
    },
    {
     "data": {
      "image/png": "[encoded data removed]",
      "text/plain": [
       "<Figure size 792x504 with 1 Axes>"
      ]
     },
     "metadata": {
      "needs_background": "light"
     },
     "output_type": "display_data"
    }
   ],
   "source": [
    "plt.figure(figsize=(11, 7))\n",
    "sns.barplot(\n",
    "    x=\"pop avg\",\n",
    "    y=\"Demo\",\n",
    "    hue=\"thresh\",\n",
    "    data=demo_comp.stack()\n",
    "    .reset_index()\n",
    "    .rename(columns={\"level_0\": \"Demo\", \"level_1\": \"thresh\", 0: \"pop avg\"}),\n",
    "    palette=\"Blues\",\n",
    ")"
   ]
  },
  {
   "cell_type": "markdown",
   "id": "63ae102a-fb48-4aa1-b324-131f185df079",
   "metadata": {},
   "source": [
    "I think this is all roughly comparable. I would argue for the narrowest definition that passes scrutiny - low income (below 50th percentile) and 85% of neighbors. I am also open to looking at income OR high school attainment rate. I think from the perspective of administering benefits, this will get veeeery tricky. "
   ]
  }
 ],
 "metadata": {
  "kernelspec": {
   "display_name": "Python 3 (ipykernel)",
   "language": "python",
   "name": "python3"
  },
  "language_info": {
   "codemirror_mode": {
    "name": "ipython",
    "version": 3
   },
   "file_extension": ".py",
   "mimetype": "text/x-python",
   "name": "python",
   "nbconvert_exporter": "python",
   "pygments_lexer": "ipython3",
   "version": "3.9.10"
  },
  "papermill": {
   "default_parameters": {},
   "duration": 7.996322,
   "end_time": "2022-03-11T23:01:05.942343",
   "environment_variables": {},
   "exception": null,
   "input_path": "src/tract_comparison__template.ipynb",
   "output_path": "/Users/emmausds/Desktop/justice40-tool/data/data-pipeline/data_pipeline/comparison_tool/output/donut_hole_dac/donut_hole_dac__tract_comparison__2022-03-11.ipynb",
   "parameters": {
    "ADDITIONAL_DEMO_COLUMNS": [
     "Urban Heuristic Flag",
     "Percent of individuals below 200% Federal Poverty Line",
     "Percent individuals age 25 or over with less than high school degree",
     "Unemployment (percent)",
     "Percent of households in linguistic isolation"
    ],
    "COMPARATOR_COLUMN": "donut_hole_dac_additional_constraints",
    "COMPARATOR_FILE": "/Users/emmausds/Desktop/justice40-tool/data/data-pipeline/data_pipeline/comparison_tool/data/donut_hole_dac/donut_hole_data.csv",
    "DEMOGRAPHIC_COLUMNS": [
     "Percent Black or African American alone",
     "Percent American Indian and Alaska Native alone",
     "Percent Asian alone",
     "Percent Native Hawaiian and Other Pacific alone",
     "Percent Two or more races",
     "Percent Non-Hispanic White",
     "Percent Hispanic or Latino"
    ],
    "DEMOGRAPHIC_FILE": "/Users/emmausds/Desktop/justice40-tool/data/data-pipeline/data_pipeline/data/dataset/census_acs_2019/usa.csv",
    "OTHER_COMPARATOR_COLUMNS": [
     "donut_hole_dac",
     "P200_PFS",
     "HSEF"
    ],
    "OUTPUT_DATA_PATH": "/Users/emmausds/Desktop/justice40-tool/data/data-pipeline/data_pipeline/comparison_tool/output/donut_hole_dac",
    "OUTPUT_NAME": "donut_hole_dac",
    "SCORE_FILE": "/Users/emmausds/Desktop/justice40-tool/data/data-pipeline/data_pipeline/data/score/csv/full/usa.csv"
   },
   "start_time": "2022-03-11T23:00:57.946021",
   "version": "2.3.4"
  }
 },
 "nbformat": 4,
 "nbformat_minor": 5
}
