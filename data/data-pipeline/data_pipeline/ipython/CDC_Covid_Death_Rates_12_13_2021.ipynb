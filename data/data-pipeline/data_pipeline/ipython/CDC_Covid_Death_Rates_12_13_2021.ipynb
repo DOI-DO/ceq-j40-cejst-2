{
 "cells": [
  {
   "cell_type": "code",
   "execution_count": 2,
   "id": "17f525d5",
   "metadata": {},
   "outputs": [],
   "source": [
    "import requests\n",
    "import json\n",
    "import pandas as pd\n",
    "import numpy as np\n",
    "from sodapy import Socrata"
   ]
  },
  {
   "cell_type": "code",
   "execution_count": 3,
   "id": "47eab8ca",
   "metadata": {},
   "outputs": [
    {
     "name": "stderr",
     "output_type": "stream",
     "text": [
      "WARNING:root:Requests made without an app_token will be subject to strict throttling limits.\n"
     ]
    }
   ],
   "source": [
    "import pandas as pd\n",
    "\n",
    "# Unauthenticated client only works with public data sets. Note 'None'\n",
    "# in place of application token, and no username or password:\n",
    "client = Socrata(\"data.cdc.gov\", None)\n",
    "\n",
    "# Example authenticated client (needed for non-public datasets):\n",
    "# client = Socrata(data.cdc.gov,\n",
    "#                  MyAppToken,\n",
    "#                  userame=\"user@example.com\",\n",
    "#                  password=\"AFakePassword\")\n",
    "\n",
    "# First 2000 results, returned as JSON from API / converted to Python list of\n",
    "# dictionaries by sodapy.\n",
    "results = client.get(\"kn79-hsxy\", limit=2000)\n",
    "\n",
    "# Convert to pandas DataFrame\n",
    "results_df = pd.DataFrame.from_records(results)"
   ]
  },
  {
   "cell_type": "code",
   "execution_count": 5,
   "id": "5872b77a",
   "metadata": {},
   "outputs": [
    {
     "data": {
      "text/plain": [
       "{'data_as_of': '2021-12-08T00:00:00.000',\n",
       " 'start_week': '2020-01-01T00:00:00.000',\n",
       " 'end_week': '2021-12-04T00:00:00.000',\n",
       " 'state_name': 'AK',\n",
       " 'county_name': 'Aleutians East Borough',\n",
       " 'county_fips_code': '2013',\n",
       " 'urban_rural_code': 'Noncore',\n",
       " 'total_death': '15',\n",
       " 'footnote': 'One or more data cells have counts between 1-9 and have been suppressed in accordance with NCHS confidentiality standards.'}"
      ]
     },
     "execution_count": 5,
     "metadata": {},
     "output_type": "execute_result"
    }
   ],
   "source": [
    "results[0]"
   ]
  },
  {
   "cell_type": "code",
   "execution_count": 10,
   "id": "1ee41455",
   "metadata": {},
   "outputs": [
    {
     "data": {
      "text/html": [
       "<div>\n",
       "<style scoped>\n",
       "    .dataframe tbody tr th:only-of-type {\n",
       "        vertical-align: middle;\n",
       "    }\n",
       "\n",
       "    .dataframe tbody tr th {\n",
       "        vertical-align: top;\n",
       "    }\n",
       "\n",
       "    .dataframe thead th {\n",
       "        text-align: right;\n",
       "    }\n",
       "</style>\n",
       "<table border=\"1\" class=\"dataframe\">\n",
       "  <thead>\n",
       "    <tr style=\"text-align: right;\">\n",
       "      <th></th>\n",
       "      <th>data_as_of</th>\n",
       "      <th>start_week</th>\n",
       "      <th>end_week</th>\n",
       "      <th>county_name</th>\n",
       "      <th>county_fips_code</th>\n",
       "      <th>total_death</th>\n",
       "      <th>covid_death</th>\n",
       "    </tr>\n",
       "  </thead>\n",
       "  <tbody>\n",
       "    <tr>\n",
       "      <th>0</th>\n",
       "      <td>2021-12-08T00:00:00.000</td>\n",
       "      <td>2020-01-01T00:00:00.000</td>\n",
       "      <td>2021-12-04T00:00:00.000</td>\n",
       "      <td>Aleutians East Borough</td>\n",
       "      <td>2013</td>\n",
       "      <td>15</td>\n",
       "      <td>NaN</td>\n",
       "    </tr>\n",
       "    <tr>\n",
       "      <th>1</th>\n",
       "      <td>2021-12-08T00:00:00.000</td>\n",
       "      <td>2020-01-01T00:00:00.000</td>\n",
       "      <td>2021-12-04T00:00:00.000</td>\n",
       "      <td>Anchorage Municipality</td>\n",
       "      <td>2020</td>\n",
       "      <td>4685</td>\n",
       "      <td>510</td>\n",
       "    </tr>\n",
       "    <tr>\n",
       "      <th>2</th>\n",
       "      <td>2021-12-08T00:00:00.000</td>\n",
       "      <td>2020-01-01T00:00:00.000</td>\n",
       "      <td>2021-12-04T00:00:00.000</td>\n",
       "      <td>Bethel Census Area</td>\n",
       "      <td>2050</td>\n",
       "      <td>227</td>\n",
       "      <td>26</td>\n",
       "    </tr>\n",
       "    <tr>\n",
       "      <th>3</th>\n",
       "      <td>2021-12-08T00:00:00.000</td>\n",
       "      <td>2020-01-01T00:00:00.000</td>\n",
       "      <td>2021-12-04T00:00:00.000</td>\n",
       "      <td>Denali Borough</td>\n",
       "      <td>2068</td>\n",
       "      <td>12</td>\n",
       "      <td>NaN</td>\n",
       "    </tr>\n",
       "    <tr>\n",
       "      <th>4</th>\n",
       "      <td>2021-12-08T00:00:00.000</td>\n",
       "      <td>2020-01-01T00:00:00.000</td>\n",
       "      <td>2021-12-04T00:00:00.000</td>\n",
       "      <td>Dillingham Census Area</td>\n",
       "      <td>2070</td>\n",
       "      <td>56</td>\n",
       "      <td>NaN</td>\n",
       "    </tr>\n",
       "  </tbody>\n",
       "</table>\n",
       "</div>"
      ],
      "text/plain": [
       "                data_as_of               start_week                 end_week  \\\n",
       "0  2021-12-08T00:00:00.000  2020-01-01T00:00:00.000  2021-12-04T00:00:00.000   \n",
       "1  2021-12-08T00:00:00.000  2020-01-01T00:00:00.000  2021-12-04T00:00:00.000   \n",
       "2  2021-12-08T00:00:00.000  2020-01-01T00:00:00.000  2021-12-04T00:00:00.000   \n",
       "3  2021-12-08T00:00:00.000  2020-01-01T00:00:00.000  2021-12-04T00:00:00.000   \n",
       "4  2021-12-08T00:00:00.000  2020-01-01T00:00:00.000  2021-12-04T00:00:00.000   \n",
       "\n",
       "              county_name county_fips_code total_death covid_death  \n",
       "0  Aleutians East Borough             2013          15         NaN  \n",
       "1  Anchorage Municipality             2020        4685         510  \n",
       "2      Bethel Census Area             2050         227          26  \n",
       "3          Denali Borough             2068          12         NaN  \n",
       "4  Dillingham Census Area             2070          56         NaN  "
      ]
     },
     "execution_count": 10,
     "metadata": {},
     "output_type": "execute_result"
    }
   ],
   "source": [
    "results_df.head()[['data_as_of', 'start_week', \n",
    "                   'end_week', 'county_name',\n",
    "                   'county_fips_code', 'total_death', 'covid_death']]"
   ]
  },
  {
   "cell_type": "code",
   "execution_count": null,
   "id": "3b0ed244",
   "metadata": {},
   "outputs": [],
   "source": []
  }
 ],
 "metadata": {
  "kernelspec": {
   "display_name": "Python 3 (ipykernel)",
   "language": "python",
   "name": "python3"
  },
  "language_info": {
   "codemirror_mode": {
    "name": "ipython",
    "version": 3
   },
   "file_extension": ".py",
   "mimetype": "text/x-python",
   "name": "python",
   "nbconvert_exporter": "python",
   "pygments_lexer": "ipython3",
   "version": "3.9.6"
  }
 },
 "nbformat": 4,
 "nbformat_minor": 5
}
