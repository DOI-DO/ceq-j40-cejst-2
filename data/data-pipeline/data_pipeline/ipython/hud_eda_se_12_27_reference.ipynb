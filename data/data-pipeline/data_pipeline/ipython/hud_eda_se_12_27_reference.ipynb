{
 "cells": [
  {
   "cell_type": "markdown",
   "metadata": {},
   "source": [
    "### Indicator reviewed: \n",
    "\n",
    "Socioeconomic Factors Indicator reviewed\n",
    "*  [Extreme Housing Burden](#housingburden)"
   ]
  },
  {
   "cell_type": "markdown",
   "metadata": {},
   "source": [
    "#### Packages"
   ]
  },
  {
   "cell_type": "code",
   "execution_count": 1,
   "metadata": {},
   "outputs": [],
   "source": [
    "import math\n",
    "import numpy as np\n",
    "import os\n",
    "import pandas as pd\n",
    "\n",
    "import seaborn as sns\n",
    "import matplotlib.pyplot as plt\n",
    "import pandas as pd\n",
    "%matplotlib inline"
   ]
  },
  {
   "cell_type": "markdown",
   "metadata": {},
   "source": [
    "### Extreme Housing Burden <a id='housingburden'></a>\n",
    "\n",
    "The Extreme Housing Burden indicator represents the proportion of low-income households that have to spend more than half their income on rent. These households experience higher levels of stress, report lower health, and may delay medical treatment because of its high cost.\n",
    "\n",
    "The Extreme Housing Burden indicator measures the percent of households in a census tract that are:\n",
    "\n",
    "1. Making less than 80% of the Area Median Family Income as determined by the Department of Housing and Urban Development (HUD), and\n",
    "2. Paying greater than 50% of their income to housing costs. \n",
    "\n",
    "This data is sourced from the 2014-2018 Comprehensive Housing Affordability Strategy dataset from the Department of Housing and Urban Development (HUD) using the census tract geographic summary level, and contains cost burdens for households by percent HUD-adjusted median family income (HAMFI) category. This data can be found [here](https://www.huduser.gov/portal/datasets/cp.html). \n",
    "\n",
    "Because CHAS data is based on American Communities Survey (ACS) estimates, which come from a sample of the population, they may be unreliable if based on a small sample or population size.\n",
    "\n",
    "The standard error and relative standard error were used to evaluate the reliability of each estimate using CalEnviroScreen’s methodology. \n",
    "\n",
    "Census tract estimates that met either of the following criteria were considered reliable and included in the analysis [(CalEnviroScreen, 2017, page 129)](https://oehha.ca.gov/media/downloads/calenviroscreen/report/ces3report.pdf ):\n",
    "\n",
    "- Relative standard error less than 50 (meaning the standard error was less than half of the estimate), OR \n",
    "- Standard error less than the mean standard error of all census tract estimates \n",
    "\n",
    "Formulas for calculating the standard error of sums, proportions, and ratio come from the [American Communities Survey Office](https://www2.census.gov/programs-surveys/acs/tech_docs/accuracy/MultiyearACSAccuracyofData2013.pdf).\n",
    "\n",
    "Note that this code creates a score and rank by state, for every state."
   ]
  },
  {
   "cell_type": "markdown",
   "metadata": {},
   "source": [
    "The relevant variables in table 8 of the CHAS dataset are the following (CHAS data dictionary available [here](https://www.huduser.gov/portal/datasets/cp/CHAS-data-dictionary-14-18.xlsx)):\n",
    "\n",
    "|   Name  |                          Label                      |\n",
    "|---------|-----------------------------------------------------|\n",
    "|T1_est1  |                                   Total Occupied housing units                                      | \n",
    "|T8_est10 |            Owner occupied less than or equal to 30% of HAMFI cost burden greater than 50%           |\n",
    "|T8_est23 |Owner occupied greater than 30% but less than or equal to 50% of HAMFI\tcost burden greater than 50%|\n",
    "|T8_est36 |Owner occupied\tgreater than 50% but less than or equal to 80% of HAMFI\tcost burden greater than 50%|\n",
    "|T8_est76 |           Renter occupied less than or equal to 30% of HAMFI cost burden greater than 50%           |\n",
    "|T8_est89 |Renter occupied\tgreater than 30% but less than or equal to 50% of HAMFI\tcost burden greater than 50%|\n",
    "|T8_est102|Renter occupied\tgreater than 50% but less than or equal to 80% of HAMFI\tcost burden greater than 50%|\n",
    " "
   ]
  },
  {
   "cell_type": "markdown",
   "metadata": {},
   "source": [
    "### Below I also propose an alternate means for ranking census tracts\n",
    "### These steps are outlined and commented below"
   ]
  },
  {
   "cell_type": "code",
   "execution_count": 4,
   "metadata": {},
   "outputs": [
    {
     "name": "stderr",
     "output_type": "stream",
     "text": [
      "/Users/sarahluw/.pyenv/versions/3.6.2/envs/my-virtual-env-3.6.2/lib/python3.6/site-packages/pandas/core/series.py:726: RuntimeWarning: invalid value encountered in sqrt\n",
      "  result = getattr(ufunc, method)(*inputs, **kwargs)\n",
      "/Users/sarahluw/.pyenv/versions/3.6.2/envs/my-virtual-env-3.6.2/lib/python3.6/site-packages/pandas/core/indexing.py:670: SettingWithCopyWarning: \n",
      "A value is trying to be set on a copy of a slice from a DataFrame\n",
      "\n",
      "See the caveats in the documentation: https://pandas.pydata.org/pandas-docs/stable/user_guide/indexing.html#returning-a-view-versus-a-copy\n",
      "  iloc._setitem_with_indexer(indexer, value)\n"
     ]
    }
   ],
   "source": [
    "# Read in the data from https://www.huduser.gov/portal/datasets/cp.html\n",
    "housing = pd.read_csv(\"Table8.csv\", \n",
    "                      encoding = \"ISO-8859-1\",  \n",
    "                      dtype = {'Tract_ID': object, 'st': object, 'geoid': object})\n",
    "\n",
    "# Remove data for states that aren't included in the census (e.g. American Samoa, Guam, etc.):\n",
    "housing.drop(housing.loc[housing['st'] == '72'].index, inplace = True)\n",
    "\n",
    "# Combine owner and renter occupied low-income households that make less than 80% of HAMFI into one variable\n",
    "housing['summed'] = (housing['T8_est10'] + \n",
    "                     housing['T8_est23'] + \n",
    "                     housing['T8_est36'] + \n",
    "                     housing['T8_est76'] + \n",
    "                     housing['T8_est89'] + \n",
    "                     housing['T8_est102'])\n",
    "\n",
    "# Create a variable for the standard error of the summed variables\n",
    "housing['summed_se'] = np.sqrt((housing['T8_moe10'] / 1.645)**2 + \n",
    "                                (housing['T8_moe23'] / 1.645)**2 + \n",
    "                                (housing['T8_moe36'] / 1.645)**2 + \n",
    "                                (housing['T8_moe76'] / 1.645)**2 + \n",
    "                                (housing['T8_moe89'] / 1.645)**2 + \n",
    "                                (housing['T8_moe102'] / 1.645)**2)\n",
    "\n",
    "# Remove the first 7 digits in the FIPS Census Tract ID \n",
    "housing['geoid'] = housing['geoid'].str[-11:]\n",
    "\n",
    "# Find the estimate of the proportion of the population that is heavily rent burdened\n",
    "housing['hbrd_score'] = housing['summed'] / housing['T8_est1']\n",
    "\n",
    "# Change rates where the population is 0 to nan\n",
    "housing['hbrd_score'].replace(np.inf, np.nan, inplace = True)\n",
    "\n",
    "# Create function for calculating the standard error, using the proportions standard error formula\n",
    "#  if the value under the radical is negative, use the ratio standard error formula\n",
    "def se_prop(x, y, se_x, moe_y): \n",
    "    se_y = moe_y / 1.645\n",
    "    test = se_x**2 - (((x**2)/(y**2))*((se_y)**2))\n",
    "    se = np.where(test < 0,\n",
    "                   (1/y) * np.sqrt(se_x**2 + (((x**2)/(y**2))*(se_y**2))), \n",
    "                   (1/y) * np.sqrt(se_x**2 - (((x**2)/(y**2))*(se_y**2))))\n",
    "    return se\n",
    "\n",
    "housing['se'] = se_prop(housing['summed'], housing['T8_est1'], housing['summed_se'], housing['T8_moe1'])\n",
    "\n",
    "# Calculate the relative standard error\n",
    "housing['rse'] = housing['se'] / housing['hbrd_score']*100\n",
    "\n",
    "# Change infinite rse's where the housing burden is 0 to np.nan\n",
    "housing['rse'].replace(np.inf, np.nan, inplace = True)\n",
    "\n",
    "# Calculate the mean standard error for each state\n",
    "housing['mean_state_se'] = np.zeros(len(housing))\n",
    "\n",
    "for state in housing['st'].unique():\n",
    "    mean_se = np.mean(housing[housing['st'] == state]['se'])\n",
    "    housing['mean_state_se'].loc[housing['st'] == state] = mean_se\n",
    "    \n",
    "# Find census tract estimates that meet both of the following criteria and are thus considered unreliable estimates: \n",
    "# RSE less than 50 AND\n",
    "# SE less than the mean state SE or housing burdened low income households\n",
    "# Convert these scores to nan\n",
    "housing.loc[(housing['rse'] >= 50) & (housing['rse'] >= housing['mean_state_se']), 'hbrd_score'] = np.nan\n",
    "\n",
    "# Rename columns\n",
    "housing = housing.rename(columns = {'geoid' :'FIPS_tract_id',\n",
    "                                    'st' : 'state'\n",
    "                                   })\n",
    "\n",
    "# Calculate percentile rank for census tracts with a score above 0, set percentile to 0 if score is 0, for each state\n",
    "housing['hbrd_rank'] = housing[\n",
    "            housing['hbrd_score'] != 0][['hbrd_score',\n",
    "                'state']].groupby('state').rank( \n",
    "                na_option = 'keep', \n",
    "                pct = True) * 100\n",
    "\n",
    "housing.loc[housing['hbrd_score'] == 0, 'hbrd_rank'] = 0\n",
    "\n",
    "# Create final housing burden df\n",
    "housingburden = housing.copy()"
   ]
  },
  {
   "cell_type": "code",
   "execution_count": 5,
   "metadata": {},
   "outputs": [
    {
     "data": {
      "text/html": [
       "<div>\n",
       "<style scoped>\n",
       "    .dataframe tbody tr th:only-of-type {\n",
       "        vertical-align: middle;\n",
       "    }\n",
       "\n",
       "    .dataframe tbody tr th {\n",
       "        vertical-align: top;\n",
       "    }\n",
       "\n",
       "    .dataframe thead th {\n",
       "        text-align: right;\n",
       "    }\n",
       "</style>\n",
       "<table border=\"1\" class=\"dataframe\">\n",
       "  <thead>\n",
       "    <tr style=\"text-align: right;\">\n",
       "      <th></th>\n",
       "      <th>source</th>\n",
       "      <th>sumlevel</th>\n",
       "      <th>FIPS_tract_id</th>\n",
       "      <th>name</th>\n",
       "      <th>state</th>\n",
       "      <th>cnty</th>\n",
       "      <th>tract</th>\n",
       "      <th>T8_est1</th>\n",
       "      <th>T8_est2</th>\n",
       "      <th>T8_est3</th>\n",
       "      <th>...</th>\n",
       "      <th>T8_moe131</th>\n",
       "      <th>T8_moe132</th>\n",
       "      <th>T8_moe133</th>\n",
       "      <th>summed</th>\n",
       "      <th>summed_se</th>\n",
       "      <th>hbrd_score</th>\n",
       "      <th>se</th>\n",
       "      <th>rse</th>\n",
       "      <th>mean_state_se</th>\n",
       "      <th>hbrd_rank</th>\n",
       "    </tr>\n",
       "  </thead>\n",
       "  <tbody>\n",
       "    <tr>\n",
       "      <th>0</th>\n",
       "      <td>2014thru2018</td>\n",
       "      <td>140</td>\n",
       "      <td>01001020100</td>\n",
       "      <td>Census Tract 201, Autauga County, Alabama</td>\n",
       "      <td>01</td>\n",
       "      <td>1</td>\n",
       "      <td>20100</td>\n",
       "      <td>765</td>\n",
       "      <td>570</td>\n",
       "      <td>50</td>\n",
       "      <td>...</td>\n",
       "      <td>12</td>\n",
       "      <td>12</td>\n",
       "      <td>12</td>\n",
       "      <td>80</td>\n",
       "      <td>31.721807</td>\n",
       "      <td>0.104575</td>\n",
       "      <td>0.041032</td>\n",
       "      <td>39.237314</td>\n",
       "      <td>0.036604</td>\n",
       "      <td>46.298077</td>\n",
       "    </tr>\n",
       "    <tr>\n",
       "      <th>1</th>\n",
       "      <td>2014thru2018</td>\n",
       "      <td>140</td>\n",
       "      <td>01001020200</td>\n",
       "      <td>Census Tract 202, Autauga County, Alabama</td>\n",
       "      <td>01</td>\n",
       "      <td>1</td>\n",
       "      <td>20200</td>\n",
       "      <td>720</td>\n",
       "      <td>465</td>\n",
       "      <td>65</td>\n",
       "      <td>...</td>\n",
       "      <td>12</td>\n",
       "      <td>12</td>\n",
       "      <td>12</td>\n",
       "      <td>138</td>\n",
       "      <td>45.531874</td>\n",
       "      <td>0.191667</td>\n",
       "      <td>0.061614</td>\n",
       "      <td>32.146659</td>\n",
       "      <td>0.036604</td>\n",
       "      <td>83.269231</td>\n",
       "    </tr>\n",
       "    <tr>\n",
       "      <th>2</th>\n",
       "      <td>2014thru2018</td>\n",
       "      <td>140</td>\n",
       "      <td>01001020300</td>\n",
       "      <td>Census Tract 203, Autauga County, Alabama</td>\n",
       "      <td>01</td>\n",
       "      <td>1</td>\n",
       "      <td>20300</td>\n",
       "      <td>1295</td>\n",
       "      <td>840</td>\n",
       "      <td>60</td>\n",
       "      <td>...</td>\n",
       "      <td>12</td>\n",
       "      <td>12</td>\n",
       "      <td>12</td>\n",
       "      <td>170</td>\n",
       "      <td>53.722921</td>\n",
       "      <td>0.131274</td>\n",
       "      <td>0.040927</td>\n",
       "      <td>31.176999</td>\n",
       "      <td>0.036604</td>\n",
       "      <td>63.653846</td>\n",
       "    </tr>\n",
       "    <tr>\n",
       "      <th>3</th>\n",
       "      <td>2014thru2018</td>\n",
       "      <td>140</td>\n",
       "      <td>01001020400</td>\n",
       "      <td>Census Tract 204, Autauga County, Alabama</td>\n",
       "      <td>01</td>\n",
       "      <td>1</td>\n",
       "      <td>20400</td>\n",
       "      <td>1640</td>\n",
       "      <td>1260</td>\n",
       "      <td>15</td>\n",
       "      <td>...</td>\n",
       "      <td>12</td>\n",
       "      <td>12</td>\n",
       "      <td>12</td>\n",
       "      <td>145</td>\n",
       "      <td>46.288510</td>\n",
       "      <td>0.088415</td>\n",
       "      <td>0.027822</td>\n",
       "      <td>31.467397</td>\n",
       "      <td>0.036604</td>\n",
       "      <td>34.615385</td>\n",
       "    </tr>\n",
       "    <tr>\n",
       "      <th>4</th>\n",
       "      <td>2014thru2018</td>\n",
       "      <td>140</td>\n",
       "      <td>01001020500</td>\n",
       "      <td>Census Tract 205, Autauga County, Alabama</td>\n",
       "      <td>01</td>\n",
       "      <td>1</td>\n",
       "      <td>20500</td>\n",
       "      <td>4175</td>\n",
       "      <td>2320</td>\n",
       "      <td>175</td>\n",
       "      <td>...</td>\n",
       "      <td>17</td>\n",
       "      <td>17</td>\n",
       "      <td>17</td>\n",
       "      <td>595</td>\n",
       "      <td>147.221693</td>\n",
       "      <td>0.142515</td>\n",
       "      <td>0.034760</td>\n",
       "      <td>24.390193</td>\n",
       "      <td>0.036604</td>\n",
       "      <td>68.221154</td>\n",
       "    </tr>\n",
       "  </tbody>\n",
       "</table>\n",
       "<p>5 rows × 280 columns</p>\n",
       "</div>"
      ],
      "text/plain": [
       "         source  sumlevel FIPS_tract_id  \\\n",
       "0  2014thru2018       140   01001020100   \n",
       "1  2014thru2018       140   01001020200   \n",
       "2  2014thru2018       140   01001020300   \n",
       "3  2014thru2018       140   01001020400   \n",
       "4  2014thru2018       140   01001020500   \n",
       "\n",
       "                                        name state  cnty  tract  T8_est1  \\\n",
       "0  Census Tract 201, Autauga County, Alabama    01     1  20100      765   \n",
       "1  Census Tract 202, Autauga County, Alabama    01     1  20200      720   \n",
       "2  Census Tract 203, Autauga County, Alabama    01     1  20300     1295   \n",
       "3  Census Tract 204, Autauga County, Alabama    01     1  20400     1640   \n",
       "4  Census Tract 205, Autauga County, Alabama    01     1  20500     4175   \n",
       "\n",
       "   T8_est2  T8_est3  ...  T8_moe131  T8_moe132  T8_moe133  summed   summed_se  \\\n",
       "0      570       50  ...         12         12         12      80   31.721807   \n",
       "1      465       65  ...         12         12         12     138   45.531874   \n",
       "2      840       60  ...         12         12         12     170   53.722921   \n",
       "3     1260       15  ...         12         12         12     145   46.288510   \n",
       "4     2320      175  ...         17         17         17     595  147.221693   \n",
       "\n",
       "   hbrd_score        se        rse  mean_state_se  hbrd_rank  \n",
       "0    0.104575  0.041032  39.237314       0.036604  46.298077  \n",
       "1    0.191667  0.061614  32.146659       0.036604  83.269231  \n",
       "2    0.131274  0.040927  31.176999       0.036604  63.653846  \n",
       "3    0.088415  0.027822  31.467397       0.036604  34.615385  \n",
       "4    0.142515  0.034760  24.390193       0.036604  68.221154  \n",
       "\n",
       "[5 rows x 280 columns]"
      ]
     },
     "execution_count": 5,
     "metadata": {},
     "output_type": "execute_result"
    }
   ],
   "source": [
    "housingburden.head()"
   ]
  },
  {
   "cell_type": "code",
   "execution_count": 6,
   "metadata": {},
   "outputs": [
    {
     "data": {
      "text/plain": [
       "(73056, 280)"
      ]
     },
     "execution_count": 6,
     "metadata": {},
     "output_type": "execute_result"
    }
   ],
   "source": [
    "housingburden.shape"
   ]
  },
  {
   "cell_type": "markdown",
   "metadata": {},
   "source": [
    "### As desired we see a uniform distribution for the percentile rank for burdened households"
   ]
  },
  {
   "cell_type": "markdown",
   "metadata": {},
   "source": [
    "### Now we compute for a baseline comparison "
   ]
  },
  {
   "cell_type": "code",
   "execution_count": 7,
   "metadata": {},
   "outputs": [],
   "source": [
    "# Owner occupied numerator fields\n",
    "OWNER_OCCUPIED_NUMERATOR_FIELDS = [\n",
    "    # Column Name\n",
    "    #   Line_Type\n",
    "    #   Tenure\n",
    "    #   Household income\n",
    "    #   Cost burden\n",
    "    #   Facilities\n",
    "    \"T8_est7\",\n",
    "    #   Subtotal\n",
    "    #   Owner occupied\n",
    "    #   less than or equal to 30% of HAMFI\n",
    "    #   greater than 30% but less than or equal to 50%\n",
    "    #   All\n",
    "    \"T8_est10\",\n",
    "    #   Subtotal\n",
    "    #   Owner occupied\n",
    "    #   less than or equal to 30% of HAMFI\n",
    "    #   greater than 50%\n",
    "    #   All\n",
    "    \"T8_est20\",\n",
    "    \n",
    "    #   Subtotal\n",
    "    #   Owner occupied\n",
    "    #   greater than 30% but less than or equal to 50% of HAMFI\n",
    "    #   greater than 30% but less than or equal to 50%\n",
    "    #   All\n",
    "    \"T8_est23\",\n",
    "    #   Subtotal\n",
    "    #   Owner occupied\n",
    "    #   greater than 30% but less than or equal to 50% of HAMFI\n",
    "    #   greater than 50%\n",
    "    #   All\n",
    "    \"T8_est33\",\n",
    "    #   Subtotal\n",
    "    #   Owner occupied\n",
    "    #   greater than 50% but less than or equal to 80% of HAMFI\n",
    "    #   greater than 30% but less than or equal to 50%\n",
    "    #   All\n",
    "    \"T8_est36\",\n",
    "    #   Subtotal\n",
    "    #   Owner occupied\n",
    "    #   greater than 50% but less than or equal to 80% of HAMFI\n",
    "    #   greater than 50%\n",
    "    #   All\n",
    "]\n",
    "\n",
    "# These rows have the values where HAMFI was not computed, b/c of no or negative income.\n",
    "OWNER_OCCUPIED_NOT_COMPUTED_FIELDS = [\n",
    "    # Column Name\n",
    "    #   Line_Type\n",
    "    #   Tenure\n",
    "    #   Household income\n",
    "    #   Cost burden\n",
    "    #   Facilities\n",
    "    \"T8_est13\",\n",
    "    #   Subtotal\n",
    "    #   Owner occupied\n",
    "    #   less than or equal to 30% of HAMFI\n",
    "    #   not computed (no/negative income)\n",
    "    #   All\n",
    "    \"T8_est26\",\n",
    "    #   Subtotal\n",
    "    #   Owner occupied\n",
    "    #   greater than 30% but less than or equal to 50% of HAMFI\n",
    "    #   not computed (no/negative income)\n",
    "    #   All\n",
    "    \"T8_est39\",\n",
    "    #   Subtotal\n",
    "    #   Owner occupied\n",
    "    #   greater than 50% but less than or equal to 80% of HAMFI\n",
    "    #   not computed (no/negative income)\n",
    "    #   All\n",
    "    \"T8_est52\",\n",
    "    #   Subtotal\n",
    "    #   Owner occupied\n",
    "    #   greater than 80% but less than or equal to 100% of HAMFI\n",
    "    #   not computed (no/negative income)\n",
    "    #   All\n",
    "    \"T8_est65\",\n",
    "    #   Subtotal\n",
    "    #   Owner occupied\n",
    "    #   greater than 100% of HAMFI\n",
    "    #   not computed (no/negative income)\n",
    "    #   All\n",
    "]\n",
    "\n",
    "OWNER_OCCUPIED_POPULATION_FIELD = \"T8_est2\"\n",
    "#   Subtotal\n",
    "#   Owner occupied\n",
    "#   All\n",
    "#   All\n",
    "#   All\n",
    "\n",
    "OWNER_OCCUPIED_POPULATION_HAMFI_FIELD = \"T8_est3\"\n",
    "#   Subtotal\n",
    "#   Owner occupied \n",
    "#   All\n",
    "#   All\n",
    "#   All\n",
    "\n",
    "# Renter occupied numerator fields\n",
    "RENTER_OCCUPIED_NUMERATOR_FIELDS = [\n",
    "    # Column Name\n",
    "    #   Line_Type\n",
    "    #   Tenure\n",
    "    #   Household income\n",
    "    #   Cost burden\n",
    "    #   Facilities\n",
    "    \"T8_est73\",\n",
    "    #   Subtotal\n",
    "    #   Renter occupied\n",
    "    #   less than or equal to 30% of HAMFI\n",
    "    #   greater than 30% but less than or equal to 50%\n",
    "    #   All\n",
    "    \"T8_est76\",\n",
    "    #   Subtotal\n",
    "    #   Renter occupied\n",
    "    #   less than or equal to 30% of HAMFI\n",
    "    #   greater than 50%\n",
    "    #   All\n",
    "    \"T8_est86\",\n",
    "    #   Subtotal\n",
    "    #   Renter occupied\n",
    "    #   greater than 30% but less than or equal to 50% of HAMFI\n",
    "    #   greater than 30% but less than or equal to 50%\n",
    "    #   All\n",
    "    \"T8_est89\",\n",
    "    #   Subtotal\n",
    "    #   Renter occupied\n",
    "    #   greater than 30% but less than or equal to 50% of HAMFI\n",
    "    #   greater than 50%\n",
    "    #   All\n",
    "    \"T8_est99\",\n",
    "    #   Subtotal\n",
    "    #   Renter occupied\tgreater than 50% but less than or equal to 80% of HAMFI\n",
    "    #   greater than 30% but less than or equal to 50%\n",
    "    #   All\n",
    "    \"T8_est102\",\n",
    "    #   Subtotal\n",
    "    #   Renter occupied\n",
    "    #   greater than 50% but less than or equal to 80% of HAMFI\n",
    "    #   greater than 50%\n",
    "    #   All\n",
    "]\n",
    "\n",
    "# These rows have the values where HAMFI was not computed, b/c of no or negative income.\n",
    "RENTER_OCCUPIED_NOT_COMPUTED_FIELDS = [\n",
    "    # Column Name\n",
    "    #   Line_Type\n",
    "    #   Tenure\n",
    "    #   Household income\n",
    "    #   Cost burden\n",
    "    #   Facilities\n",
    "    \"T8_est79\",\n",
    "    #   Subtotal\n",
    "    #   Renter occupied\tless than or equal to 30% of HAMFI\n",
    "    #   not computed (no/negative income)\n",
    "    #   All\n",
    "    \"T8_est92\",\n",
    "    #   Subtotal\n",
    "    #   Renter occupied\tgreater than 30% but less than or equal to 50% of HAMFI\n",
    "    #   not computed (no/negative income)\n",
    "    #   All\n",
    "    \"T8_est105\",\n",
    "    #   Subtotal\n",
    "    #   Renter occupied\n",
    "    #   greater than 50% but less than or equal to 80% of HAMFI\n",
    "    #   not computed (no/negative income)\n",
    "    #   All\n",
    "    \"T8_est118\",\n",
    "    #   Subtotal\n",
    "    #   Renter occupied\tgreater than 80% but less than or equal to 100% of HAMFI\n",
    "    #   not computed (no/negative income)\n",
    "    #   All\n",
    "    \"T8_est131\",\n",
    "    #   Subtotal\n",
    "    #   Renter occupied\n",
    "    #   greater than 100% of HAMFI\n",
    "    #   not computed (no/negative income)\n",
    "    #   All\n",
    "]\n",
    "\n",
    "# T8_est68\tSubtotalRenter occupied\tAll\tAll\tAll\n",
    "RENTER_OCCUPIED_POPULATION_FIELD = \"T8_est68\""
   ]
  },
  {
   "cell_type": "code",
   "execution_count": 8,
   "metadata": {},
   "outputs": [],
   "source": [
    "housingburden[\"current_summed_methodology\"] = housingburden[\n",
    "    OWNER_OCCUPIED_NUMERATOR_FIELDS\n",
    "].sum(axis=1) + housingburden[RENTER_OCCUPIED_NUMERATOR_FIELDS].sum(axis=1)"
   ]
  },
  {
   "cell_type": "code",
   "execution_count": 9,
   "metadata": {},
   "outputs": [],
   "source": [
    "housingburden[\"current_methodology_denominator\"] = (\n",
    "         housingburden[OWNER_OCCUPIED_POPULATION_FIELD]\n",
    "            + housingburden[RENTER_OCCUPIED_POPULATION_FIELD]\n",
    "            - housingburden[OWNER_OCCUPIED_NOT_COMPUTED_FIELDS].sum(axis=1)\n",
    "            - housingburden[RENTER_OCCUPIED_NOT_COMPUTED_FIELDS].sum(axis=1)\n",
    ")"
   ]
  },
  {
   "cell_type": "code",
   "execution_count": 10,
   "metadata": {},
   "outputs": [],
   "source": [
    "housingburden[\"current_methodology_denominator_sans_not_computed\"] = (\n",
    "         housingburden[OWNER_OCCUPIED_POPULATION_FIELD]\n",
    "            + housingburden[RENTER_OCCUPIED_POPULATION_FIELD]\n",
    ")"
   ]
  },
  {
   "cell_type": "code",
   "execution_count": 11,
   "metadata": {},
   "outputs": [],
   "source": [
    "housingburden[\"current_methodology_percent\"] = np.round(\n",
    "    (housingburden[\"current_summed_methodology\"] / housingburden[\"current_methodology_denominator\"] ), 2) * 100"
   ]
  },
  {
   "cell_type": "markdown",
   "metadata": {},
   "source": [
    "### Now we construct the distribution of differences in the number of owned and rented burdened households\n"
   ]
  },
  {
   "cell_type": "markdown",
   "metadata": {},
   "source": [
    "### Percentiles Comparison"
   ]
  },
  {
   "cell_type": "code",
   "execution_count": 12,
   "metadata": {},
   "outputs": [],
   "source": [
    "final_df = housingburden[['FIPS_tract_id', 'state','hbrd_rank','hbrd_score', 'summed', \n",
    "       'current_summed_methodology', 'T8_est1', \n",
    "        \"current_methodology_denominator_sans_not_computed\",\n",
    "       'current_methodology_denominator',  'current_methodology_percent']]"
   ]
  },
  {
   "cell_type": "markdown",
   "metadata": {},
   "source": [
    "##### First notice here that **T8_est1** and **current_methodology_denominator** should represent same or similar aggregates. In general, we cen see that the current computation performed results in a differential that undercounts the total occupied and rental households."
   ]
  },
  {
   "cell_type": "code",
   "execution_count": 13,
   "metadata": {},
   "outputs": [
    {
     "name": "stderr",
     "output_type": "stream",
     "text": [
      "/Users/sarahluw/.pyenv/versions/3.6.2/envs/my-virtual-env-3.6.2/lib/python3.6/site-packages/ipykernel_launcher.py:2: SettingWithCopyWarning: \n",
      "A value is trying to be set on a copy of a slice from a DataFrame.\n",
      "Try using .loc[row_indexer,col_indexer] = value instead\n",
      "\n",
      "See the caveats in the documentation: https://pandas.pydata.org/pandas-docs/stable/user_guide/indexing.html#returning-a-view-versus-a-copy\n",
      "  \n"
     ]
    }
   ],
   "source": [
    "final_df[\"differences_aggregate_denominator\"] = (\n",
    "    final_df[\"current_methodology_denominator\"] - final_df[\"T8_est1\"] \n",
    ")"
   ]
  },
  {
   "cell_type": "code",
   "execution_count": 14,
   "metadata": {},
   "outputs": [
    {
     "name": "stderr",
     "output_type": "stream",
     "text": [
      "/Users/sarahluw/.pyenv/versions/3.6.2/envs/my-virtual-env-3.6.2/lib/python3.6/site-packages/ipykernel_launcher.py:2: SettingWithCopyWarning: \n",
      "A value is trying to be set on a copy of a slice from a DataFrame.\n",
      "Try using .loc[row_indexer,col_indexer] = value instead\n",
      "\n",
      "See the caveats in the documentation: https://pandas.pydata.org/pandas-docs/stable/user_guide/indexing.html#returning-a-view-versus-a-copy\n",
      "  \n"
     ]
    }
   ],
   "source": [
    "final_df[\"differences_aggregate_denominator_sans_not_computed\"] = (\n",
    "    final_df[\"current_methodology_denominator\"] - final_df[\"T8_est1\"] \n",
    ")"
   ]
  },
  {
   "cell_type": "code",
   "execution_count": 15,
   "metadata": {},
   "outputs": [
    {
     "data": {
      "text/plain": [
       "<AxesSubplot:title={'center':'Distribution of differences between aggregate totals that normalizes tabulation of poverty households'}, xlabel='Aggregate differences in total owner and renter occupied low-income households < 80%', ylabel='Relative Frequency in Support'>"
      ]
     },
     "execution_count": 15,
     "metadata": {},
     "output_type": "execute_result"
    },
    {
     "data": {
      "image/png": "[encoded data removed]",
      "text/plain": [
       "<Figure size 864x576 with 1 Axes>"
      ]
     },
     "metadata": {
      "needs_background": "light"
     },
     "output_type": "display_data"
    }
   ],
   "source": [
    "plt.figure(figsize=(12, 8))\n",
    "plt.title('Distribution of differences between aggregate totals that normalizes tabulation of poverty households')\n",
    "# Set x-axis label\n",
    "plt.xlabel('Aggregate differences in total owner and renter occupied low-income households < 80%')\n",
    "# Set y-axis label\n",
    "plt.ylabel('Relative Frequency in Support')\n",
    "\n",
    "sns.histplot(final_df[\"differences_aggregate_denominator\"])"
   ]
  },
  {
   "cell_type": "code",
   "execution_count": 16,
   "metadata": {},
   "outputs": [
    {
     "data": {
      "text/plain": [
       "<AxesSubplot:title={'center':'Distribution of differences between aggregate totals that normalizes tabulation of poverty households (with removal of not computed fields) '}, xlabel='Aggregate differences in total owner and renter occupied low-income households', ylabel='Relative Frequency in Support'>"
      ]
     },
     "execution_count": 16,
     "metadata": {},
     "output_type": "execute_result"
    },
    {
     "data": {
      "image/png": "[encoded data removed]",
      "text/plain": [
       "<Figure size 864x576 with 1 Axes>"
      ]
     },
     "metadata": {
      "needs_background": "light"
     },
     "output_type": "display_data"
    }
   ],
   "source": [
    "plt.figure(figsize=(12, 8))\n",
    "plt.title('Distribution of differences between aggregate totals that normalizes tabulation of poverty households (with removal of not computed fields) ')\n",
    "# Set x-axis label\n",
    "plt.xlabel('Aggregate differences in total owner and renter occupied low-income households')\n",
    "# Set y-axis label\n",
    "plt.ylabel('Relative Frequency in Support')\n",
    "\n",
    "sns.histplot(final_df[\"differences_aggregate_denominator_sans_not_computed\"])"
   ]
  }
 ],
 "metadata": {
  "kernelspec": {
   "display_name": "Python 3",
   "language": "python",
   "name": "python3"
  },
  "language_info": {
   "codemirror_mode": {
    "name": "ipython",
    "version": 3
   },
   "file_extension": ".py",
   "mimetype": "text/x-python",
   "name": "python",
   "nbconvert_exporter": "python",
   "pygments_lexer": "ipython3",
   "version": "3.6.2"
  }
 },
 "nbformat": 4,
 "nbformat_minor": 4
}
