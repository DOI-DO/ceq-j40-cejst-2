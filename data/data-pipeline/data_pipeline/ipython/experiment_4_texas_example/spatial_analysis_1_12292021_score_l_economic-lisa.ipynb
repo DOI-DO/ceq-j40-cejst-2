{
 "cells": [
  {
   "cell_type": "markdown",
   "metadata": {},
   "source": [
    "### Spatial weights and ESDA (Exploratory Spatial Data Analysis) - TX, ACS 2019\n",
    "\n",
    "ESDA offers direct parallels to many of the aspatial descriptive statistics that are already part of most quantitative research projects: The geographic mean and spatial standard deviation, for example, tell us where the center of our study area is how compact our population is within that area. \n",
    "\n",
    "I use ESDA to generalize about our observations and to identify outliers and discontinuities that may disrupt our Score L model or suggest hypotheses about relationships we may wish to explore further as it pertains to health disparities and educational disparities.\n",
    "\n",
    "This is very pertinent to Score L as we make strict assumptions about distributions - for any thresholding approach it assumes that the data represents no measurement bias and no systematic error. Everything is homogeneous and is treated equally.\n",
    "\n",
    "ESDA can also be important in confirmatory statistical analysis as spatial autocorrelation can bias outcomes in many spatial and aspatial statistical models. \n",
    "\n",
    "Testing for spatial autocorrelation and locating clusters of correlated residuals will be important in explaining why certain scores are associated together.\n",
    "\n",
    "\n",
    "For example, in section 6, I use LISA's to identify geographical clusters of values or find geographcial outliers. They are a very useful tool that can quickly return areas in which values are concentrated and provide suggestive evidence about the processes that might be at work - namely median income. I will be extending this to educational attainment and job opportunities in a given radius - indicating economic mobility."
   ]
  },
  {
   "cell_type": "code",
   "execution_count": 1,
   "metadata": {},
   "outputs": [
    {
     "name": "stderr",
     "output_type": "stream",
     "text": [
      "/Users/sarahluw/.pyenv/versions/3.6.2/envs/my-virtual-env-3.6.2/lib/python3.6/site-packages/geopandas/_compat.py:110: UserWarning: The Shapely GEOS version (3.9.1-CAPI-1.14.2) is incompatible with the GEOS version PyGEOS was compiled with (3.10.1-CAPI-1.16.0). Conversions between both will be slow.\n",
      "  shapely_geos_version, geos_capi_version_string\n"
     ]
    },
    {
     "name": "stdout",
     "output_type": "stream",
     "text": [
      "0.9.0 2.3.0\n"
     ]
    }
   ],
   "source": [
    "import geopandas as gpd\n",
    "import matplotlib.pyplot as plt\n",
    "import numpy as np\n",
    "import pandas as pd\n",
    "import pysal as ps\n",
    "import seaborn as sns\n",
    "from scipy.stats import stats\n",
    "\n",
    "np.random.seed(0)\n",
    "print(gpd.__version__, ps.__version__)"
   ]
  },
  {
   "cell_type": "markdown",
   "metadata": {},
   "source": [
    "## Load the tracts data set"
   ]
  },
  {
   "cell_type": "code",
   "execution_count": 2,
   "metadata": {},
   "outputs": [
    {
     "data": {
      "text/plain": [
       "(5265, 38)"
      ]
     },
     "execution_count": 2,
     "metadata": {},
     "output_type": "execute_result"
    }
   ],
   "source": [
    "# load geojson, display shape\n",
    "tracts = gpd.read_file('census/census_tracts_data.geojson')\n",
    "tracts = tracts.set_index('index')\n",
    "tracts.shape"
   ]
  },
  {
   "cell_type": "code",
   "execution_count": 3,
   "metadata": {},
   "outputs": [
    {
     "data": {
      "text/plain": [
       "Index(['STATEFP', 'COUNTYFP', 'TRACTCE', 'NAME', 'NAMELSAD', 'MTFCC',\n",
       "       'FUNCSTAT', 'ALAND', 'AWATER', 'INTPTLAT', 'INTPTLON', 'total_pop',\n",
       "       'median_age', 'pct_hispanic', 'pct_white', 'pct_black', 'pct_asian',\n",
       "       'pct_male', 'pct_single_family_home', 'med_home_value',\n",
       "       'med_rooms_per_home', 'pct_built_before_1940', 'pct_renting',\n",
       "       'rental_vacancy_rate', 'avg_renter_household_size', 'med_gross_rent',\n",
       "       'med_household_income', 'mean_commute_time', 'pct_commute_drive_alone',\n",
       "       'pct_below_poverty', 'pct_college_grad_student',\n",
       "       'pct_same_residence_year_ago', 'pct_bachelors_degree',\n",
       "       'pct_english_only', 'pct_foreign_born', 'state', 'county', 'geometry'],\n",
       "      dtype='object')"
      ]
     },
     "execution_count": 3,
     "metadata": {},
     "output_type": "execute_result"
    }
   ],
   "source": [
    "# what variables are present?\n",
    "tracts.columns"
   ]
  },
  {
   "cell_type": "code",
   "execution_count": 4,
   "metadata": {},
   "outputs": [
    {
     "data": {
      "text/html": [
       "<div>\n",
       "<style scoped>\n",
       "    .dataframe tbody tr th:only-of-type {\n",
       "        vertical-align: middle;\n",
       "    }\n",
       "\n",
       "    .dataframe tbody tr th {\n",
       "        vertical-align: top;\n",
       "    }\n",
       "\n",
       "    .dataframe thead th {\n",
       "        text-align: right;\n",
       "    }\n",
       "</style>\n",
       "<table border=\"1\" class=\"dataframe\">\n",
       "  <thead>\n",
       "    <tr style=\"text-align: right;\">\n",
       "      <th></th>\n",
       "      <th>STATEFP</th>\n",
       "      <th>COUNTYFP</th>\n",
       "      <th>TRACTCE</th>\n",
       "      <th>NAME</th>\n",
       "      <th>NAMELSAD</th>\n",
       "      <th>MTFCC</th>\n",
       "      <th>FUNCSTAT</th>\n",
       "      <th>ALAND</th>\n",
       "      <th>AWATER</th>\n",
       "      <th>INTPTLAT</th>\n",
       "      <th>...</th>\n",
       "      <th>pct_commute_drive_alone</th>\n",
       "      <th>pct_below_poverty</th>\n",
       "      <th>pct_college_grad_student</th>\n",
       "      <th>pct_same_residence_year_ago</th>\n",
       "      <th>pct_bachelors_degree</th>\n",
       "      <th>pct_english_only</th>\n",
       "      <th>pct_foreign_born</th>\n",
       "      <th>state</th>\n",
       "      <th>county</th>\n",
       "      <th>geometry</th>\n",
       "    </tr>\n",
       "    <tr>\n",
       "      <th>index</th>\n",
       "      <th></th>\n",
       "      <th></th>\n",
       "      <th></th>\n",
       "      <th></th>\n",
       "      <th></th>\n",
       "      <th></th>\n",
       "      <th></th>\n",
       "      <th></th>\n",
       "      <th></th>\n",
       "      <th></th>\n",
       "      <th></th>\n",
       "      <th></th>\n",
       "      <th></th>\n",
       "      <th></th>\n",
       "      <th></th>\n",
       "      <th></th>\n",
       "      <th></th>\n",
       "      <th></th>\n",
       "      <th></th>\n",
       "      <th></th>\n",
       "      <th></th>\n",
       "    </tr>\n",
       "  </thead>\n",
       "  <tbody>\n",
       "    <tr>\n",
       "      <th>48001950100</th>\n",
       "      <td>48</td>\n",
       "      <td>001</td>\n",
       "      <td>950100</td>\n",
       "      <td>9501</td>\n",
       "      <td>Census Tract 9501</td>\n",
       "      <td>G5020</td>\n",
       "      <td>S</td>\n",
       "      <td>483306619</td>\n",
       "      <td>7864313</td>\n",
       "      <td>+31.9714680</td>\n",
       "      <td>...</td>\n",
       "      <td>84.0</td>\n",
       "      <td>16.3</td>\n",
       "      <td>30.6</td>\n",
       "      <td>4775.0</td>\n",
       "      <td>91.2</td>\n",
       "      <td>4495.0</td>\n",
       "      <td>0.4</td>\n",
       "      <td>48</td>\n",
       "      <td>001</td>\n",
       "      <td>MULTIPOLYGON (((-95.69702 31.97597, -95.69699 ...</td>\n",
       "    </tr>\n",
       "    <tr>\n",
       "      <th>48001950401</th>\n",
       "      <td>48</td>\n",
       "      <td>001</td>\n",
       "      <td>950401</td>\n",
       "      <td>9504.01</td>\n",
       "      <td>Census Tract 9504.01</td>\n",
       "      <td>G5020</td>\n",
       "      <td>S</td>\n",
       "      <td>16549991</td>\n",
       "      <td>296734</td>\n",
       "      <td>+31.7346372</td>\n",
       "      <td>...</td>\n",
       "      <td>100.0</td>\n",
       "      <td>0.0</td>\n",
       "      <td>34.2</td>\n",
       "      <td>4838.0</td>\n",
       "      <td>75.2</td>\n",
       "      <td>4800.0</td>\n",
       "      <td>1.6</td>\n",
       "      <td>48</td>\n",
       "      <td>001</td>\n",
       "      <td>MULTIPOLYGON (((-95.84791 31.75753, -95.84806 ...</td>\n",
       "    </tr>\n",
       "    <tr>\n",
       "      <th>48001950402</th>\n",
       "      <td>48</td>\n",
       "      <td>001</td>\n",
       "      <td>950402</td>\n",
       "      <td>9504.02</td>\n",
       "      <td>Census Tract 9504.02</td>\n",
       "      <td>G5020</td>\n",
       "      <td>S</td>\n",
       "      <td>72472039</td>\n",
       "      <td>2627857</td>\n",
       "      <td>+31.8000515</td>\n",
       "      <td>...</td>\n",
       "      <td>100.0</td>\n",
       "      <td>21.5</td>\n",
       "      <td>33.8</td>\n",
       "      <td>7506.0</td>\n",
       "      <td>69.7</td>\n",
       "      <td>7501.0</td>\n",
       "      <td>1.0</td>\n",
       "      <td>48</td>\n",
       "      <td>001</td>\n",
       "      <td>MULTIPOLYGON (((-95.98357 31.78925, -95.98354 ...</td>\n",
       "    </tr>\n",
       "    <tr>\n",
       "      <th>48001950500</th>\n",
       "      <td>48</td>\n",
       "      <td>001</td>\n",
       "      <td>950500</td>\n",
       "      <td>9505</td>\n",
       "      <td>Census Tract 9505</td>\n",
       "      <td>G5020</td>\n",
       "      <td>S</td>\n",
       "      <td>23132052</td>\n",
       "      <td>99223</td>\n",
       "      <td>+31.7878850</td>\n",
       "      <td>...</td>\n",
       "      <td>85.1</td>\n",
       "      <td>19.4</td>\n",
       "      <td>28.2</td>\n",
       "      <td>4423.0</td>\n",
       "      <td>84.0</td>\n",
       "      <td>4178.0</td>\n",
       "      <td>0.7</td>\n",
       "      <td>48</td>\n",
       "      <td>001</td>\n",
       "      <td>MULTIPOLYGON (((-95.68769 31.81041, -95.68741 ...</td>\n",
       "    </tr>\n",
       "    <tr>\n",
       "      <th>48001950600</th>\n",
       "      <td>48</td>\n",
       "      <td>001</td>\n",
       "      <td>950600</td>\n",
       "      <td>9506</td>\n",
       "      <td>Census Tract 9506</td>\n",
       "      <td>G5020</td>\n",
       "      <td>S</td>\n",
       "      <td>20653883</td>\n",
       "      <td>329641</td>\n",
       "      <td>+31.7502049</td>\n",
       "      <td>...</td>\n",
       "      <td>79.9</td>\n",
       "      <td>17.4</td>\n",
       "      <td>39.3</td>\n",
       "      <td>5109.0</td>\n",
       "      <td>71.2</td>\n",
       "      <td>4890.0</td>\n",
       "      <td>0.0</td>\n",
       "      <td>48</td>\n",
       "      <td>001</td>\n",
       "      <td>MULTIPOLYGON (((-95.70774 31.72559, -95.70765 ...</td>\n",
       "    </tr>\n",
       "  </tbody>\n",
       "</table>\n",
       "<p>5 rows × 38 columns</p>\n",
       "</div>"
      ],
      "text/plain": [
       "            STATEFP COUNTYFP TRACTCE     NAME              NAMELSAD  MTFCC  \\\n",
       "index                                                                        \n",
       "48001950100      48      001  950100     9501     Census Tract 9501  G5020   \n",
       "48001950401      48      001  950401  9504.01  Census Tract 9504.01  G5020   \n",
       "48001950402      48      001  950402  9504.02  Census Tract 9504.02  G5020   \n",
       "48001950500      48      001  950500     9505     Census Tract 9505  G5020   \n",
       "48001950600      48      001  950600     9506     Census Tract 9506  G5020   \n",
       "\n",
       "            FUNCSTAT      ALAND   AWATER     INTPTLAT  ...  \\\n",
       "index                                                  ...   \n",
       "48001950100        S  483306619  7864313  +31.9714680  ...   \n",
       "48001950401        S   16549991   296734  +31.7346372  ...   \n",
       "48001950402        S   72472039  2627857  +31.8000515  ...   \n",
       "48001950500        S   23132052    99223  +31.7878850  ...   \n",
       "48001950600        S   20653883   329641  +31.7502049  ...   \n",
       "\n",
       "            pct_commute_drive_alone  pct_below_poverty  \\\n",
       "index                                                    \n",
       "48001950100                    84.0               16.3   \n",
       "48001950401                   100.0                0.0   \n",
       "48001950402                   100.0               21.5   \n",
       "48001950500                    85.1               19.4   \n",
       "48001950600                    79.9               17.4   \n",
       "\n",
       "             pct_college_grad_student  pct_same_residence_year_ago  \\\n",
       "index                                                                \n",
       "48001950100                      30.6                       4775.0   \n",
       "48001950401                      34.2                       4838.0   \n",
       "48001950402                      33.8                       7506.0   \n",
       "48001950500                      28.2                       4423.0   \n",
       "48001950600                      39.3                       5109.0   \n",
       "\n",
       "             pct_bachelors_degree  pct_english_only  pct_foreign_born  state  \\\n",
       "index                                                                          \n",
       "48001950100                  91.2            4495.0               0.4     48   \n",
       "48001950401                  75.2            4800.0               1.6     48   \n",
       "48001950402                  69.7            7501.0               1.0     48   \n",
       "48001950500                  84.0            4178.0               0.7     48   \n",
       "48001950600                  71.2            4890.0               0.0     48   \n",
       "\n",
       "             county                                           geometry  \n",
       "index                                                                   \n",
       "48001950100     001  MULTIPOLYGON (((-95.69702 31.97597, -95.69699 ...  \n",
       "48001950401     001  MULTIPOLYGON (((-95.84791 31.75753, -95.84806 ...  \n",
       "48001950402     001  MULTIPOLYGON (((-95.98357 31.78925, -95.98354 ...  \n",
       "48001950500     001  MULTIPOLYGON (((-95.68769 31.81041, -95.68741 ...  \n",
       "48001950600     001  MULTIPOLYGON (((-95.70774 31.72559, -95.70765 ...  \n",
       "\n",
       "[5 rows x 38 columns]"
      ]
     },
     "execution_count": 4,
     "metadata": {},
     "output_type": "execute_result"
    }
   ],
   "source": [
    "# inspect the first 5 rows\n",
    "tracts.head()"
   ]
  },
  {
   "cell_type": "code",
   "execution_count": 5,
   "metadata": {},
   "outputs": [],
   "source": [
    "score_l_df = pd.read_csv(\"merged_df_score_l_2794.csv\", dtype={\n",
    "    \"FIPS_tract_id\": str\n",
    "})\n",
    "\n",
    "score_l_df.set_index(\"FIPS_tract_id\", inplace=True)"
   ]
  },
  {
   "cell_type": "code",
   "execution_count": 6,
   "metadata": {},
   "outputs": [],
   "source": [
    "census_acs_2019 = pd.read_csv(\"../../../data_pipeline/data/dataset/census_acs_2019/usa.csv\")"
   ]
  },
  {
   "cell_type": "code",
   "execution_count": 8,
   "metadata": {},
   "outputs": [],
   "source": [
    "# calculate pop density in persons per sq km\n",
    "tracts['pop_density'] = tracts['total_pop'] / (tracts['ALAND'] / 1e6)\n",
    "tracts = tracts.replace([np.inf, -np.inf], np.nan)\n",
    "tracts = tracts.dropna(subset=['pop_density'])\n",
    "\n",
    "# project spatial geometries from lat-long to a meter-based projection\n",
    "utm_tx = '+proj=utm +zone=18 +ellps=WGS84 +datum=WGS84 +units=m +no_defs'\n",
    "tracts = tracts.to_crs(utm_tx)"
   ]
  },
  {
   "cell_type": "code",
   "execution_count": 9,
   "metadata": {},
   "outputs": [],
   "source": [
    "df_merged = score_l_df.merge(tracts, how='inner', left_index=True, right_index=True)"
   ]
  },
  {
   "cell_type": "code",
   "execution_count": 10,
   "metadata": {},
   "outputs": [
    {
     "data": {
      "text/plain": [
       "(104, 75)"
      ]
     },
     "execution_count": 10,
     "metadata": {},
     "output_type": "execute_result"
    }
   ],
   "source": [
    "df_merged.shape"
   ]
  },
  {
   "cell_type": "code",
   "execution_count": 11,
   "metadata": {},
   "outputs": [],
   "source": [
    "tracts = tracts[tracts.index.isin(df_merged.index.values)]"
   ]
  },
  {
   "cell_type": "markdown",
   "metadata": {},
   "source": [
    "## 1. Exploratory analysis\n",
    "\n",
    "Let's see what we've got with a couple key variables of interest."
   ]
  },
  {
   "cell_type": "code",
   "execution_count": 12,
   "metadata": {},
   "outputs": [
    {
     "data": {
      "text/plain": [
       "count      104.000000\n",
       "mean      2607.677071\n",
       "std       2474.100685\n",
       "min         36.175061\n",
       "25%        997.242613\n",
       "50%       2072.942692\n",
       "75%       3287.516789\n",
       "max      15581.109178\n",
       "Name: pop_density, dtype: float64"
      ]
     },
     "execution_count": 12,
     "metadata": {},
     "output_type": "execute_result"
    }
   ],
   "source": [
    "# descriptive stats\n",
    "tracts['pop_density'].describe()"
   ]
  },
  {
   "cell_type": "code",
   "execution_count": 13,
   "metadata": {},
   "outputs": [
    {
     "data": {
      "text/plain": [
       "count      103.000000\n",
       "mean     34038.737864\n",
       "std       8177.985053\n",
       "min      11912.000000\n",
       "25%      28953.000000\n",
       "50%      35990.000000\n",
       "75%      39517.000000\n",
       "max      53516.000000\n",
       "Name: med_household_income, dtype: float64"
      ]
     },
     "execution_count": 13,
     "metadata": {},
     "output_type": "execute_result"
    }
   ],
   "source": [
    "# descriptive stats\n",
    "tracts['med_household_income'].describe()"
   ]
  },
  {
   "cell_type": "code",
   "execution_count": 14,
   "metadata": {},
   "outputs": [],
   "source": [
    "# create a function to choropleth map a df column\n",
    "def map_variable(df, col, scheme='quantiles', k=10, cmap='plasma', figsize=(10,10)):\n",
    "    values = df.dropna(subset=[col])\n",
    "    ax = values.plot(column=col, scheme=scheme, k=k, cmap=cmap, figsize=figsize, legend = True)\n",
    "    ax.axis('off')\n",
    "    plt.show()"
   ]
  },
  {
   "cell_type": "code",
   "execution_count": 47,
   "metadata": {},
   "outputs": [
    {
     "data": {
      "text/plain": [
       "array([False, False, False, False,  True,  True, False, False, False,\n",
       "       False,  True, False, False, False, False, False, False, False,\n",
       "       False, False, False, False, False, False, False, False, False,\n",
       "       False, False, False, False, False, False, False, False, False,\n",
       "       False, False, False, False, False, False, False, False, False,\n",
       "        True,  True,  True, False, False, False, False, False, False,\n",
       "       False, False,  True, False, False, False, False, False, False,\n",
       "       False, False, False, False, False, False, False, False, False,\n",
       "       False, False, False, False, False, False, False, False, False,\n",
       "       False, False, False,  True, False, False, False, False, False,\n",
       "       False, False, False, False, False, False, False, False, False,\n",
       "       False, False, False, False, False])"
      ]
     },
     "execution_count": 47,
     "metadata": {},
     "output_type": "execute_result"
    }
   ],
   "source": [
    "tracts.index.isin(tracts[tracts['med_household_income'] < 20000].index)"
   ]
  },
  {
   "cell_type": "code",
   "execution_count": 15,
   "metadata": {},
   "outputs": [
    {
     "data": {
      "image/png": "[encoded data removed]",
      "text/plain": [
       "<Figure size 720x720 with 1 Axes>"
      ]
     },
     "metadata": {
      "needs_background": "light"
     },
     "output_type": "display_data"
    }
   ],
   "source": [
    "# map a variable\n",
    "map_variable(c, 'pop_density')"
   ]
  },
  {
   "cell_type": "code",
   "execution_count": 16,
   "metadata": {},
   "outputs": [
    {
     "data": {
      "image/png": "[encoded data removed]",
      "text/plain": [
       "<Figure size 720x720 with 1 Axes>"
      ]
     },
     "metadata": {
      "needs_background": "light"
     },
     "output_type": "display_data"
    }
   ],
   "source": [
    "# map another variable\n",
    "map_variable(tracts, 'med_household_income')"
   ]
  },
  {
   "cell_type": "markdown",
   "metadata": {},
   "source": [
    "It looks like these two variables might be negatively correlated?"
   ]
  },
  {
   "cell_type": "code",
   "execution_count": 17,
   "metadata": {},
   "outputs": [
    {
     "name": "stdout",
     "output_type": "stream",
     "text": [
      "r=0.1018, p=0.3061\n"
     ]
    }
   ],
   "source": [
    "# calculate the correlation coefficient and its p-value\n",
    "x = tracts.dropna(subset=['pop_density', 'med_household_income'])['pop_density']\n",
    "y = tracts.dropna(subset=['pop_density', 'med_household_income'])['med_household_income']\n",
    "r, p = stats.pearsonr(x=x, y=y)\n",
    "print('r={:.4f}, p={:.4f}'.format(r, p))"
   ]
  },
  {
   "cell_type": "code",
   "execution_count": 18,
   "metadata": {},
   "outputs": [
    {
     "data": {
      "image/png": "[encoded data removed]",
      "text/plain": [
       "<Figure size 432x288 with 1 Axes>"
      ]
     },
     "metadata": {
      "needs_background": "light"
     },
     "output_type": "display_data"
    }
   ],
   "source": [
    "# scatter plot them with matplotlib\n",
    "fig, ax = plt.subplots()\n",
    "ax.scatter(x=x, y=y, s=1)\n",
    "ax.set_xlim(left=0)\n",
    "ax.set_ylim(bottom=0)\n",
    "plt.show()"
   ]
  },
  {
   "cell_type": "code",
   "execution_count": 19,
   "metadata": {},
   "outputs": [
    {
     "name": "stdout",
     "output_type": "stream",
     "text": [
      "m=0.3366, b=33152.6311, r^2=0.0104, p=0.3061\n"
     ]
    }
   ],
   "source": [
    "# estimate a simple linear regression model with scipy\n",
    "m, b, r, p, se = stats.linregress(x=x, y=y)\n",
    "print('m={:.4f}, b={:.4f}, r^2={:.4f}, p={:.4f}'.format(m, b, r ** 2, p))"
   ]
  },
  {
   "cell_type": "code",
   "execution_count": 20,
   "metadata": {},
   "outputs": [
    {
     "name": "stdout",
     "output_type": "stream",
     "text": [
      "m=0.0172, b=10.2724, r^2=0.0035, p=0.5508\n"
     ]
    }
   ],
   "source": [
    "# estimate a log-log simple linear regression model with scipy\n",
    "m, b, r, p, se = stats.linregress(x=np.log(x), y=np.log(y))\n",
    "print('m={:.4f}, b={:.4f}, r^2={:.4f}, p={:.4f}'.format(m, b, r ** 2, p))"
   ]
  },
  {
   "cell_type": "code",
   "execution_count": 21,
   "metadata": {},
   "outputs": [
    {
     "name": "stderr",
     "output_type": "stream",
     "text": [
      "/Users/sarahluw/.pyenv/versions/3.6.2/envs/my-virtual-env-3.6.2/lib/python3.6/site-packages/seaborn/_decorators.py:43: FutureWarning: Pass the following variables as keyword args: x, y. From version 0.12, the only valid positional argument will be `data`, and passing other arguments without an explicit keyword will result in an error or misinterpretation.\n",
      "  FutureWarning\n"
     ]
    },
    {
     "data": {
      "image/png": "[encoded data removed]",
      "text/plain": [
       "<Figure size 432x432 with 1 Axes>"
      ]
     },
     "metadata": {
      "needs_background": "light"
     },
     "output_type": "display_data"
    }
   ],
   "source": [
    "# plot the log-log regression line with 95% CI using seaborn\n",
    "fig, ax = plt.subplots(figsize=(6, 6))\n",
    "ax = sns.regplot(np.log(x), np.log(y), marker='.', scatter_kws={'s':2}, ax=ax)\n",
    "ax.set_xlim((3, 11))\n",
    "ax.set_ylim((9.5, 12.5))\n",
    "plt.show()"
   ]
  },
  {
   "cell_type": "markdown",
   "metadata": {},
   "source": [
    "## 2. Spatial weights matrix\n",
    "\n",
    "Spatial weights define the spatial connections among our units of analysis (tracts in this case).\n",
    "\n",
    "### 2.1. Contiguity-based weights: rook contiguity\n",
    "\n",
    "Using rook contiguity, two spatial units must share an edge of their boundaries to be considered neighbors. This isn't terribly common in practice (since queen is usually more useful, but it's worth understanding)."
   ]
  },
  {
   "cell_type": "code",
   "execution_count": 48,
   "metadata": {},
   "outputs": [],
   "source": [
    "# get the tract labels (GEOIDs) and pick one to work with later\n",
    "# tracts_subset = tracts[tracts.index.isin(df_merged.index.values)]\n",
    "labels = tracts.index.tolist()\n",
    "label = labels[5]"
   ]
  },
  {
   "cell_type": "code",
   "execution_count": 49,
   "metadata": {},
   "outputs": [
    {
     "name": "stdout",
     "output_type": "stream",
     "text": [
      "CPU times: user 93.6 ms, sys: 6.18 ms, total: 99.8 ms\n",
      "Wall time: 98.3 ms\n"
     ]
    },
    {
     "name": "stderr",
     "output_type": "stream",
     "text": [
      "/Users/sarahluw/.pyenv/versions/3.6.2/envs/my-virtual-env-3.6.2/lib/python3.6/site-packages/libpysal/weights/_contW_lists.py:31: ShapelyDeprecationWarning: Iteration over multi-part geometries is deprecated and will be removed in Shapely 2.0. Use the `geoms` property to access the constituent parts of a multi-part geometry.\n",
      "  return list(it.chain(*(_get_boundary_points(part.boundary) for part in shape)))\n",
      "/Users/sarahluw/.pyenv/versions/3.6.2/envs/my-virtual-env-3.6.2/lib/python3.6/site-packages/libpysal/weights/weights.py:172: UserWarning: The weights matrix is not fully connected: \n",
      " There are 91 disconnected components.\n",
      " There are 81 islands with ids: 48027023202, 48027023500, 48029110800, 48029130600, 48029150800, 48029160501, 48029170101, 48029180702, 48029191304, 48037010500, 48061013401, 48061013802, 48113003700, 48113006002, 48113007201, 48113007821, 48113007823, 48113007827, 48113008900, 48113009000, 48113009202, 48113009610, 48113010703, 48113010903, 48113011104, 48113011300, 48113012210, 48113014103, 48113014308, 48113014407, 48113018141, 48113019034, 48121021739, 48141000301, 48141001001, 48141001115, 48145000400, 48167724200, 48167725900, 48185180400, 48201233103, 48201240100, 48201310800, 48201311800, 48201312200, 48201312800, 48201313800, 48201341201, 48201420500, 48201421201, 48201432002, 48201432901, 48201453403, 48201453601, 48201454400, 48201521200, 48201534001, 48201550301, 48201550401, 48209010302, 48225950400, 48303000202, 48303001702, 48309002700, 48339693800, 48347950900, 48355003305, 48423000201, 48439102301, 48439105204, 48439106001, 48439106600, 48439121704, 48439121903, 48439121906, 48453001811, 48453001863, 48453002315, 48453002419, 48479000105, 48479001717.\n",
      "  warnings.warn(message)\n"
     ]
    }
   ],
   "source": [
    "%%time\n",
    "\n",
    "from libpysal.weights.contiguity import Queen, Rook\n",
    "from libpysal.weights import KNN, min_threshold_distance\n",
    "from libpysal.weights import DistanceBand, lag_spatial\n",
    "# calculate rook spatial weights\n",
    "w_rook = Rook.from_dataframe(tracts, ids=labels, id_order=labels)"
   ]
  },
  {
   "cell_type": "markdown",
   "metadata": {},
   "source": [
    "### 2.2. Contiguity-based weights: queen contiguity\n",
    "\n",
    "Using queen contiguity, two spatial units need only share a vertex (a single point) of their boundaries to be considered neighbors."
   ]
  },
  {
   "cell_type": "code",
   "execution_count": 50,
   "metadata": {},
   "outputs": [
    {
     "name": "stdout",
     "output_type": "stream",
     "text": [
      "CPU times: user 76.1 ms, sys: 4.81 ms, total: 80.9 ms\n",
      "Wall time: 79.4 ms\n"
     ]
    },
    {
     "name": "stderr",
     "output_type": "stream",
     "text": [
      "/Users/sarahluw/.pyenv/versions/3.6.2/envs/my-virtual-env-3.6.2/lib/python3.6/site-packages/libpysal/weights/weights.py:172: UserWarning: The weights matrix is not fully connected: \n",
      " There are 87 disconnected components.\n",
      " There are 75 islands with ids: 48027023202, 48027023500, 48029110800, 48029130600, 48029150800, 48029160501, 48029170101, 48029180702, 48029191304, 48037010500, 48061013401, 48061013802, 48113003700, 48113006002, 48113007201, 48113007823, 48113007827, 48113008900, 48113009000, 48113009202, 48113009610, 48113010703, 48113010903, 48113011104, 48113011300, 48113012210, 48113014103, 48113014308, 48113014407, 48113018141, 48113019034, 48121021739, 48141000301, 48141001001, 48141001115, 48145000400, 48167724200, 48167725900, 48185180400, 48201233103, 48201240100, 48201310800, 48201311800, 48201312200, 48201312800, 48201313800, 48201341201, 48201420500, 48201421201, 48201432002, 48201432901, 48201454400, 48201534001, 48209010302, 48225950400, 48303000202, 48303001702, 48309002700, 48339693800, 48347950900, 48355003305, 48423000201, 48439102301, 48439105204, 48439106001, 48439106600, 48439121704, 48439121903, 48439121906, 48453001811, 48453001863, 48453002315, 48453002419, 48479000105, 48479001717.\n",
      "  warnings.warn(message)\n"
     ]
    }
   ],
   "source": [
    "%%time\n",
    "# calculate queen spatial weights\n",
    "w_queen = Queen.from_dataframe(tracts, ids=labels, id_order=labels)"
   ]
  },
  {
   "cell_type": "code",
   "execution_count": 51,
   "metadata": {},
   "outputs": [
    {
     "data": {
      "text/plain": [
       "[]"
      ]
     },
     "execution_count": 51,
     "metadata": {},
     "output_type": "execute_result"
    }
   ],
   "source": [
    "# find the neighbors of some tract\n",
    "w_queen.neighbors[label]"
   ]
  },
  {
   "cell_type": "code",
   "execution_count": 52,
   "metadata": {},
   "outputs": [
    {
     "data": {
      "text/plain": [
       "[]"
      ]
     },
     "execution_count": 52,
     "metadata": {},
     "output_type": "execute_result"
    }
   ],
   "source": [
    "# this is a raw contiguity matrix, so weights are binary 1s and 0s meaning neighbor/not\n",
    "w_queen.weights[label]"
   ]
  },
  {
   "cell_type": "code",
   "execution_count": 53,
   "metadata": {},
   "outputs": [
    {
     "data": {
      "text/plain": [
       "0"
      ]
     },
     "execution_count": 53,
     "metadata": {},
     "output_type": "execute_result"
    }
   ],
   "source": [
    "# how many neighbors does this tract have?\n",
    "w_queen.cardinalities[label]"
   ]
  },
  {
   "cell_type": "code",
   "execution_count": 54,
   "metadata": {},
   "outputs": [
    {
     "data": {
      "text/plain": [
       "count    104.000000\n",
       "mean       0.326923\n",
       "std        0.565038\n",
       "min        0.000000\n",
       "25%        0.000000\n",
       "50%        0.000000\n",
       "75%        1.000000\n",
       "max        2.000000\n",
       "dtype: float64"
      ]
     },
     "execution_count": 54,
     "metadata": {},
     "output_type": "execute_result"
    }
   ],
   "source": [
    "# convert cardinalities to series and describe data -- looks right-skewed\n",
    "cardinalites_queen = pd.Series(w_queen.cardinalities)\n",
    "cardinalites_queen.describe()"
   ]
  },
  {
   "cell_type": "code",
   "execution_count": 55,
   "metadata": {},
   "outputs": [
    {
     "data": {
      "image/png": "[encoded data removed]",
      "text/plain": [
       "<Figure size 432x288 with 1 Axes>"
      ]
     },
     "metadata": {
      "needs_background": "light"
     },
     "output_type": "display_data"
    }
   ],
   "source": [
    "# look at the distribution of number of neighbors\n",
    "ax = cardinalites_queen.hist(bins=20)"
   ]
  },
  {
   "cell_type": "code",
   "execution_count": 56,
   "metadata": {},
   "outputs": [
    {
     "data": {
      "text/plain": [
       "104"
      ]
     },
     "execution_count": 56,
     "metadata": {},
     "output_type": "execute_result"
    }
   ],
   "source": [
    "# number of observations\n",
    "w_queen.n"
   ]
  },
  {
   "cell_type": "code",
   "execution_count": 57,
   "metadata": {},
   "outputs": [
    {
     "data": {
      "text/plain": [
       "0.3269230769230769"
      ]
     },
     "execution_count": 57,
     "metadata": {},
     "output_type": "execute_result"
    }
   ],
   "source": [
    "# average number of neighbors\n",
    "w_queen.mean_neighbors"
   ]
  },
  {
   "cell_type": "code",
   "execution_count": 58,
   "metadata": {},
   "outputs": [
    {
     "data": {
      "text/plain": [
       "0"
      ]
     },
     "execution_count": 58,
     "metadata": {},
     "output_type": "execute_result"
    }
   ],
   "source": [
    "# min number of neighbors\n",
    "w_queen.min_neighbors"
   ]
  },
  {
   "cell_type": "code",
   "execution_count": 59,
   "metadata": {},
   "outputs": [
    {
     "data": {
      "text/plain": [
       "2"
      ]
     },
     "execution_count": 59,
     "metadata": {},
     "output_type": "execute_result"
    }
   ],
   "source": [
    "# max number of neighbors\n",
    "w_queen.max_neighbors"
   ]
  },
  {
   "cell_type": "code",
   "execution_count": 60,
   "metadata": {},
   "outputs": [
    {
     "data": {
      "text/plain": [
       "75"
      ]
     },
     "execution_count": 60,
     "metadata": {},
     "output_type": "execute_result"
    }
   ],
   "source": [
    "# islands are observations with no neighbors, disconnected \n",
    "# in space (can cause modeling problems)\n",
    "len(w_queen.islands)"
   ]
  },
  {
   "cell_type": "markdown",
   "metadata": {},
   "source": [
    "##### Plot a census tract of interest, along with its neighbors:"
   ]
  },
  {
   "cell_type": "code",
   "execution_count": 62,
   "metadata": {},
   "outputs": [],
   "source": [
    "# fig, ax = plt.subplots(figsize=(6, 6))\n",
    "# tracts.plot(ax=ax, facecolor='#999999', edgecolor='w', linewidth=0.5)\n",
    "\n",
    "# # plot some tract of interest in red\n",
    "# tract = tracts.loc[[label]]\n",
    "# tract.plot(ax=ax, facecolor='r', edgecolor='w', linewidth=1)\n",
    "\n",
    "# # plot the neighbors in blue\n",
    "# neighbors = tracts.loc[w_queen[label]]\n",
    "# neighbors.plot(ax=ax, facecolor='b', edgecolor='w', linewidth=1)\n",
    "\n",
    "# # zoom to area of interest\n",
    "# xmin, ymin, xmax, ymax = neighbors.unary_union.bounds\n",
    "# ax.axis('equal')\n",
    "# ax.set_xlim(xmin, xmax)\n",
    "# ax.set_ylim(ymin, ymax)\n",
    "\n",
    "# ax.set_title('Neighbors of tract {}'.format(label))\n",
    "# plt.show()"
   ]
  },
  {
   "cell_type": "markdown",
   "metadata": {},
   "source": [
    "### 3.3. Distance-based weights: *k*-nn\n",
    "\n",
    "Find the *k*-nearest neighbors of each tract"
   ]
  },
  {
   "cell_type": "code",
   "execution_count": 63,
   "metadata": {},
   "outputs": [
    {
     "name": "stdout",
     "output_type": "stream",
     "text": [
      "CPU times: user 17.6 ms, sys: 2.24 ms, total: 19.8 ms\n",
      "Wall time: 19 ms\n"
     ]
    },
    {
     "name": "stderr",
     "output_type": "stream",
     "text": [
      "/Users/sarahluw/.pyenv/versions/3.6.2/envs/my-virtual-env-3.6.2/lib/python3.6/site-packages/libpysal/weights/util.py:1073: ShapelyDeprecationWarning: The array interface is deprecated and will no longer work in Shapely 2.0. Convert the '.coords' to a numpy array instead.\n",
      "  data = np.vstack([np.array(shape.centroid) for shape in first_choice])\n",
      "/Users/sarahluw/.pyenv/versions/3.6.2/envs/my-virtual-env-3.6.2/lib/python3.6/site-packages/libpysal/weights/weights.py:172: UserWarning: The weights matrix is not fully connected: \n",
      " There are 2 disconnected components.\n",
      "  warnings.warn(message)\n"
     ]
    }
   ],
   "source": [
    "%%time\n",
    "# k-nearest neighbors finds the closest k tract centroids to each tract centroid\n",
    "w_knn = KNN.from_dataframe(tracts, k=6)"
   ]
  },
  {
   "cell_type": "code",
   "execution_count": 64,
   "metadata": {},
   "outputs": [
    {
     "data": {
      "text/plain": [
       "['48029170101',\n",
       " '48029110800',\n",
       " '48029150800',\n",
       " '48029130600',\n",
       " '48029180702',\n",
       " '48029191304']"
      ]
     },
     "execution_count": 64,
     "metadata": {},
     "output_type": "execute_result"
    }
   ],
   "source": [
    "# they all have exactly k neighbors\n",
    "w_knn.neighbors[label]"
   ]
  },
  {
   "cell_type": "markdown",
   "metadata": {},
   "source": [
    "### 3.4. Distance-based weights: distance band\n",
    "\n",
    "Here tracts are considered neighbors of some tract if they are within a given threshold distance of it. Distance band weights can be specified to take on continuous values rather than binary (1s and 0s), with these values being the inverse distance between each pair of \"neighboring\" units. The default (linear) distance-decay exponent is thus -1. If we set it to -2, we get gravity model weights."
   ]
  },
  {
   "cell_type": "code",
   "execution_count": 65,
   "metadata": {},
   "outputs": [
    {
     "data": {
      "text/plain": [
       "210475.92289934136"
      ]
     },
     "execution_count": 65,
     "metadata": {},
     "output_type": "execute_result"
    }
   ],
   "source": [
    "# first determine the minimum nearest neighbor distance so each unit is assured of at least one neighbor\n",
    "x = tracts.centroid.x\n",
    "y = tracts.centroid.y\n",
    "coords = np.array([x, y]).T\n",
    "threshold = min_threshold_distance(coords)\n",
    "threshold"
   ]
  },
  {
   "cell_type": "code",
   "execution_count": 66,
   "metadata": {},
   "outputs": [
    {
     "name": "stdout",
     "output_type": "stream",
     "text": [
      "CPU times: user 26.4 ms, sys: 2.9 ms, total: 29.3 ms\n",
      "Wall time: 27.9 ms\n"
     ]
    },
    {
     "name": "stderr",
     "output_type": "stream",
     "text": [
      "/Users/sarahluw/.pyenv/versions/3.6.2/envs/my-virtual-env-3.6.2/lib/python3.6/site-packages/libpysal/weights/util.py:1073: ShapelyDeprecationWarning: The array interface is deprecated and will no longer work in Shapely 2.0. Convert the '.coords' to a numpy array instead.\n",
      "  data = np.vstack([np.array(shape.centroid) for shape in first_choice])\n",
      "/Users/sarahluw/.pyenv/versions/3.6.2/envs/my-virtual-env-3.6.2/lib/python3.6/site-packages/scipy/sparse/data.py:117: RuntimeWarning: divide by zero encountered in reciprocal\n",
      "  return self._with_data(data ** n)\n",
      "/Users/sarahluw/.pyenv/versions/3.6.2/envs/my-virtual-env-3.6.2/lib/python3.6/site-packages/libpysal/weights/weights.py:172: UserWarning: The weights matrix is not fully connected: \n",
      " There are 5 disconnected components.\n",
      "  warnings.warn(message)\n"
     ]
    }
   ],
   "source": [
    "%%time\n",
    "# default alpha=-1 and gravity weights alpha=-2\n",
    "w_dist = DistanceBand.from_dataframe(tracts, threshold=threshold, binary=False, alpha=-1)"
   ]
  },
  {
   "cell_type": "code",
   "execution_count": 67,
   "metadata": {},
   "outputs": [
    {
     "data": {
      "text/plain": [
       "15"
      ]
     },
     "execution_count": 67,
     "metadata": {},
     "output_type": "execute_result"
    }
   ],
   "source": [
    "# how many distance-band neighbors does our tract have?\n",
    "len(w_dist.neighbors[label])"
   ]
  },
  {
   "cell_type": "markdown",
   "metadata": {},
   "source": [
    "##### Map the neighbors, colored by weight from nearest to furthest:"
   ]
  },
  {
   "cell_type": "code",
   "execution_count": 68,
   "metadata": {},
   "outputs": [
    {
     "data": {
      "image/png": "[encoded data removed]",
      "text/plain": [
       "<Figure size 432x432 with 1 Axes>"
      ]
     },
     "metadata": {
      "needs_background": "light"
     },
     "output_type": "display_data"
    }
   ],
   "source": [
    "fig, ax = plt.subplots(figsize=(6, 6))\n",
    "tracts.plot(ax=ax, facecolor='k', edgecolor='gray', linewidth=1)\n",
    "\n",
    "# get the tract of interest and its neighbors/weights\n",
    "tract = tracts.loc[[label]]\n",
    "weights = pd.Series(w_dist[label])\n",
    "neighbors = tracts.loc[weights.index, ['geometry']]\n",
    "\n",
    "# plot the tract's neighbors in blues by weight\n",
    "neighbors['weights_scaled'] = weights\n",
    "neighbors.plot(ax=ax, column='weights_scaled', cmap='Blues_r', edgecolor='gray', linewidth=1, scheme='Fisher_Jenks')\n",
    "\n",
    "# plot the tract of interest in white\n",
    "tract.plot(ax=ax, facecolor='w', edgecolor='r', linewidth=2)\n",
    "\n",
    "# zoom to area of interest\n",
    "xmin, ymin, xmax, ymax = neighbors.unary_union.bounds\n",
    "ax.set_xlim(xmin, xmax)\n",
    "ax.set_ylim(ymin, ymax)\n",
    "ax.axis('off')\n",
    "\n",
    "ax.set_title('Neighbors of tract {}'.format(label))\n",
    "plt.show()"
   ]
  },
  {
   "cell_type": "markdown",
   "metadata": {},
   "source": [
    "### 3.5. Standardizing weights\n",
    "\n",
    "A spatial weights matrix with raw values (e.g., binary 1s and 0s for neighbor/not) is not always the best for analysis. Some sort of standardization is useful."
   ]
  },
  {
   "cell_type": "code",
   "execution_count": 69,
   "metadata": {},
   "outputs": [
    {
     "data": {
      "text/plain": [
       "{}"
      ]
     },
     "execution_count": 69,
     "metadata": {},
     "output_type": "execute_result"
    }
   ],
   "source": [
    "# inspect the neighbors and weights of our tract\n",
    "w_queen[label]"
   ]
  },
  {
   "cell_type": "code",
   "execution_count": 70,
   "metadata": {},
   "outputs": [
    {
     "data": {
      "text/plain": [
       "'O'"
      ]
     },
     "execution_count": 70,
     "metadata": {},
     "output_type": "execute_result"
    }
   ],
   "source": [
    "# check the current transformation of the weights matrix (O = original)\n",
    "w_queen.get_transform()"
   ]
  },
  {
   "cell_type": "markdown",
   "metadata": {},
   "source": [
    "Typically, we want to apply a row-based transformation, so every row of the matrix sums up to 1."
   ]
  },
  {
   "cell_type": "code",
   "execution_count": 71,
   "metadata": {},
   "outputs": [
    {
     "name": "stdout",
     "output_type": "stream",
     "text": [
      "('WARNING: ', '48027023202', ' is an island (no neighbors)')\n",
      "('WARNING: ', '48027023500', ' is an island (no neighbors)')\n",
      "('WARNING: ', '48029110800', ' is an island (no neighbors)')\n",
      "('WARNING: ', '48029130600', ' is an island (no neighbors)')\n",
      "('WARNING: ', '48029150800', ' is an island (no neighbors)')\n",
      "('WARNING: ', '48029160501', ' is an island (no neighbors)')\n",
      "('WARNING: ', '48029170101', ' is an island (no neighbors)')\n",
      "('WARNING: ', '48029180702', ' is an island (no neighbors)')\n",
      "('WARNING: ', '48029191304', ' is an island (no neighbors)')\n",
      "('WARNING: ', '48037010500', ' is an island (no neighbors)')\n",
      "('WARNING: ', '48061013401', ' is an island (no neighbors)')\n",
      "('WARNING: ', '48061013802', ' is an island (no neighbors)')\n",
      "('WARNING: ', '48113003700', ' is an island (no neighbors)')\n",
      "('WARNING: ', '48113006002', ' is an island (no neighbors)')\n",
      "('WARNING: ', '48113007201', ' is an island (no neighbors)')\n",
      "('WARNING: ', '48113007823', ' is an island (no neighbors)')\n",
      "('WARNING: ', '48113007827', ' is an island (no neighbors)')\n",
      "('WARNING: ', '48113008900', ' is an island (no neighbors)')\n",
      "('WARNING: ', '48113009000', ' is an island (no neighbors)')\n",
      "('WARNING: ', '48113009202', ' is an island (no neighbors)')\n",
      "('WARNING: ', '48113009610', ' is an island (no neighbors)')\n",
      "('WARNING: ', '48113010703', ' is an island (no neighbors)')\n",
      "('WARNING: ', '48113010903', ' is an island (no neighbors)')\n",
      "('WARNING: ', '48113011104', ' is an island (no neighbors)')\n",
      "('WARNING: ', '48113011300', ' is an island (no neighbors)')\n",
      "('WARNING: ', '48113012210', ' is an island (no neighbors)')\n",
      "('WARNING: ', '48113014103', ' is an island (no neighbors)')\n",
      "('WARNING: ', '48113014308', ' is an island (no neighbors)')\n",
      "('WARNING: ', '48113014407', ' is an island (no neighbors)')\n",
      "('WARNING: ', '48113018141', ' is an island (no neighbors)')\n",
      "('WARNING: ', '48113019034', ' is an island (no neighbors)')\n",
      "('WARNING: ', '48121021739', ' is an island (no neighbors)')\n",
      "('WARNING: ', '48141000301', ' is an island (no neighbors)')\n",
      "('WARNING: ', '48141001001', ' is an island (no neighbors)')\n",
      "('WARNING: ', '48141001115', ' is an island (no neighbors)')\n",
      "('WARNING: ', '48145000400', ' is an island (no neighbors)')\n",
      "('WARNING: ', '48167724200', ' is an island (no neighbors)')\n",
      "('WARNING: ', '48167725900', ' is an island (no neighbors)')\n",
      "('WARNING: ', '48185180400', ' is an island (no neighbors)')\n",
      "('WARNING: ', '48201233103', ' is an island (no neighbors)')\n",
      "('WARNING: ', '48201240100', ' is an island (no neighbors)')\n",
      "('WARNING: ', '48201310800', ' is an island (no neighbors)')\n",
      "('WARNING: ', '48201311800', ' is an island (no neighbors)')\n",
      "('WARNING: ', '48201312200', ' is an island (no neighbors)')\n",
      "('WARNING: ', '48201312800', ' is an island (no neighbors)')\n",
      "('WARNING: ', '48201313800', ' is an island (no neighbors)')\n",
      "('WARNING: ', '48201341201', ' is an island (no neighbors)')\n",
      "('WARNING: ', '48201420500', ' is an island (no neighbors)')\n",
      "('WARNING: ', '48201421201', ' is an island (no neighbors)')\n",
      "('WARNING: ', '48201432002', ' is an island (no neighbors)')\n",
      "('WARNING: ', '48201432901', ' is an island (no neighbors)')\n",
      "('WARNING: ', '48201454400', ' is an island (no neighbors)')\n",
      "('WARNING: ', '48201534001', ' is an island (no neighbors)')\n",
      "('WARNING: ', '48209010302', ' is an island (no neighbors)')\n",
      "('WARNING: ', '48225950400', ' is an island (no neighbors)')\n",
      "('WARNING: ', '48303000202', ' is an island (no neighbors)')\n",
      "('WARNING: ', '48303001702', ' is an island (no neighbors)')\n",
      "('WARNING: ', '48309002700', ' is an island (no neighbors)')\n",
      "('WARNING: ', '48339693800', ' is an island (no neighbors)')\n",
      "('WARNING: ', '48347950900', ' is an island (no neighbors)')\n",
      "('WARNING: ', '48355003305', ' is an island (no neighbors)')\n",
      "('WARNING: ', '48423000201', ' is an island (no neighbors)')\n",
      "('WARNING: ', '48439102301', ' is an island (no neighbors)')\n",
      "('WARNING: ', '48439105204', ' is an island (no neighbors)')\n",
      "('WARNING: ', '48439106001', ' is an island (no neighbors)')\n",
      "('WARNING: ', '48439106600', ' is an island (no neighbors)')\n",
      "('WARNING: ', '48439121704', ' is an island (no neighbors)')\n",
      "('WARNING: ', '48439121903', ' is an island (no neighbors)')\n",
      "('WARNING: ', '48439121906', ' is an island (no neighbors)')\n",
      "('WARNING: ', '48453001811', ' is an island (no neighbors)')\n",
      "('WARNING: ', '48453001863', ' is an island (no neighbors)')\n",
      "('WARNING: ', '48453002315', ' is an island (no neighbors)')\n",
      "('WARNING: ', '48453002419', ' is an island (no neighbors)')\n",
      "('WARNING: ', '48479000105', ' is an island (no neighbors)')\n",
      "('WARNING: ', '48479001717', ' is an island (no neighbors)')\n"
     ]
    },
    {
     "data": {
      "text/plain": [
       "{}"
      ]
     },
     "execution_count": 71,
     "metadata": {},
     "output_type": "execute_result"
    }
   ],
   "source": [
    "# transform the queen weights\n",
    "w_queen.set_transform('R')\n",
    "w_queen[label]"
   ]
  },
  {
   "cell_type": "code",
   "execution_count": 72,
   "metadata": {},
   "outputs": [
    {
     "data": {
      "text/plain": [
       "{'48029110800': 0.18978185729300112,\n",
       " '48029130600': 0.12319529619318503,\n",
       " '48029150800': 0.1370487572692595,\n",
       " '48029170101': 0.28791347498098213,\n",
       " '48029180702': 0.10515753230504479,\n",
       " '48029191304': 0.07700863495815723,\n",
       " '48209010302': 0.01353957165348076,\n",
       " '48453001804': 0.008184678306329738,\n",
       " '48453001806': 0.008087552480183932,\n",
       " '48453001811': 0.008186327368227162,\n",
       " '48453001819': 0.008052183129697358,\n",
       " '48453001822': 0.007973296124783142,\n",
       " '48453001863': 0.007616550406552777,\n",
       " '48453002315': 0.00891808387476705,\n",
       " '48453002419': 0.0093362036563483}"
      ]
     },
     "execution_count": 72,
     "metadata": {},
     "output_type": "execute_result"
    }
   ],
   "source": [
    "# transform the linear-decay distance-based weights\n",
    "w_dist.set_transform('R')\n",
    "w_dist[label]"
   ]
  },
  {
   "cell_type": "markdown",
   "metadata": {},
   "source": [
    "PySAL supports the following transformations:\n",
    "\n",
    "  - O: original, returning the object to the initial state\n",
    "  - B: binary, with every neighbor having assigned a weight of 1\n",
    "  - R: row-based, with all the neighbors of a given observation adding up to 1\n",
    "  - V: variance stabilizing, with the sum of all the weights being constrained to the number of observations\n",
    "\n",
    "**It can take a long time to calculate a weights matrix for a large data set.**\n",
    "\n",
    "Once you've created yours, you might want to save it to disk to re-use in subsequent analyses."
   ]
  },
  {
   "cell_type": "code",
   "execution_count": 73,
   "metadata": {},
   "outputs": [],
   "source": [
    "# save your matrix to disk\n",
    "import libpysal\n",
    "f = libpysal.io.open('tracts_queen.gal', 'w')\n",
    "f.write(w_queen)\n",
    "f.close()"
   ]
  },
  {
   "cell_type": "code",
   "execution_count": 74,
   "metadata": {},
   "outputs": [
    {
     "name": "stderr",
     "output_type": "stream",
     "text": [
      "/Users/sarahluw/.pyenv/versions/3.6.2/envs/my-virtual-env-3.6.2/lib/python3.6/site-packages/libpysal/weights/weights.py:172: UserWarning: The weights matrix is not fully connected: \n",
      " There are 87 disconnected components.\n",
      " There are 75 islands with ids: 48027023202, 48027023500, 48029110800, 48029130600, 48029150800, 48029160501, 48029170101, 48029180702, 48029191304, 48037010500, 48061013401, 48061013802, 48113003700, 48113006002, 48113007201, 48113007823, 48113007827, 48113008900, 48113009000, 48113009202, 48113009610, 48113010703, 48113010903, 48113011104, 48113011300, 48113012210, 48113014103, 48113014308, 48113014407, 48113018141, 48113019034, 48121021739, 48141000301, 48141001001, 48141001115, 48145000400, 48167724200, 48167725900, 48185180400, 48201233103, 48201240100, 48201310800, 48201311800, 48201312200, 48201312800, 48201313800, 48201341201, 48201420500, 48201421201, 48201432002, 48201432901, 48201454400, 48201534001, 48209010302, 48225950400, 48303000202, 48303001702, 48309002700, 48339693800, 48347950900, 48355003305, 48423000201, 48439102301, 48439105204, 48439106001, 48439106600, 48439121704, 48439121903, 48439121906, 48453001811, 48453001863, 48453002315, 48453002419, 48479000105, 48479001717.\n",
      "  warnings.warn(message)\n"
     ]
    },
    {
     "data": {
      "text/plain": [
       "{}"
      ]
     },
     "execution_count": 74,
     "metadata": {},
     "output_type": "execute_result"
    }
   ],
   "source": [
    "# read a matrix from disk (notice its transformation)\n",
    "w_queen = libpysal.io.open('tracts_queen.gal', 'r').read()\n",
    "w_queen[label]"
   ]
  },
  {
   "cell_type": "markdown",
   "metadata": {},
   "source": [
    "## 4. Spatial lag\n",
    "\n",
    "Spatial lag tells us about values near some spatial unit. Calculate spatial lag of the `med_household_income` variable. If the spatial weights matrix is row-standardized, then the spatial lag is the average value of an observation's neighbors."
   ]
  },
  {
   "cell_type": "code",
   "execution_count": 75,
   "metadata": {},
   "outputs": [],
   "source": [
    "# pick a variable to investigate\n",
    "col = 'med_household_income'"
   ]
  },
  {
   "cell_type": "code",
   "execution_count": 76,
   "metadata": {},
   "outputs": [],
   "source": [
    "# first drop null rows\n",
    "tracts_not_null = tracts[[col, 'geometry']].dropna()\n",
    "y = tracts_not_null[col]"
   ]
  },
  {
   "cell_type": "code",
   "execution_count": 77,
   "metadata": {},
   "outputs": [
    {
     "name": "stdout",
     "output_type": "stream",
     "text": [
      "('WARNING: ', 0, ' is an island (no neighbors)')\n",
      "('WARNING: ', 1, ' is an island (no neighbors)')\n",
      "('WARNING: ', 2, ' is an island (no neighbors)')\n",
      "('WARNING: ', 3, ' is an island (no neighbors)')\n",
      "('WARNING: ', 4, ' is an island (no neighbors)')\n",
      "('WARNING: ', 5, ' is an island (no neighbors)')\n",
      "('WARNING: ', 6, ' is an island (no neighbors)')\n",
      "('WARNING: ', 7, ' is an island (no neighbors)')\n",
      "('WARNING: ', 8, ' is an island (no neighbors)')\n",
      "('WARNING: ', 9, ' is an island (no neighbors)')\n",
      "('WARNING: ', 10, ' is an island (no neighbors)')\n",
      "('WARNING: ', 11, ' is an island (no neighbors)')\n",
      "('WARNING: ', 12, ' is an island (no neighbors)')\n",
      "('WARNING: ', 13, ' is an island (no neighbors)')\n",
      "('WARNING: ', 14, ' is an island (no neighbors)')\n",
      "('WARNING: ', 18, ' is an island (no neighbors)')\n",
      "('WARNING: ', 19, ' is an island (no neighbors)')\n",
      "('WARNING: ', 20, ' is an island (no neighbors)')\n",
      "('WARNING: ', 21, ' is an island (no neighbors)')\n",
      "('WARNING: ', 22, ' is an island (no neighbors)')\n",
      "('WARNING: ', 24, ' is an island (no neighbors)')\n",
      "('WARNING: ', 25, ' is an island (no neighbors)')\n",
      "('WARNING: ', 26, ' is an island (no neighbors)')\n",
      "('WARNING: ', 27, ' is an island (no neighbors)')\n",
      "('WARNING: ', 28, ' is an island (no neighbors)')\n",
      "('WARNING: ', 30, ' is an island (no neighbors)')\n",
      "('WARNING: ', 34, ' is an island (no neighbors)')\n",
      "('WARNING: ', 35, ' is an island (no neighbors)')\n",
      "('WARNING: ', 36, ' is an island (no neighbors)')\n",
      "('WARNING: ', 37, ' is an island (no neighbors)')\n",
      "('WARNING: ', 40, ' is an island (no neighbors)')\n",
      "('WARNING: ', 41, ' is an island (no neighbors)')\n",
      "('WARNING: ', 42, ' is an island (no neighbors)')\n",
      "('WARNING: ', 43, ' is an island (no neighbors)')\n",
      "('WARNING: ', 44, ' is an island (no neighbors)')\n",
      "('WARNING: ', 47, ' is an island (no neighbors)')\n",
      "('WARNING: ', 48, ' is an island (no neighbors)')\n",
      "('WARNING: ', 49, ' is an island (no neighbors)')\n",
      "('WARNING: ', 50, ' is an island (no neighbors)')\n",
      "('WARNING: ', 51, ' is an island (no neighbors)')\n",
      "('WARNING: ', 52, ' is an island (no neighbors)')\n",
      "('WARNING: ', 53, ' is an island (no neighbors)')\n",
      "('WARNING: ', 54, ' is an island (no neighbors)')\n",
      "('WARNING: ', 55, ' is an island (no neighbors)')\n",
      "('WARNING: ', 56, ' is an island (no neighbors)')\n",
      "('WARNING: ', 57, ' is an island (no neighbors)')\n",
      "('WARNING: ', 58, ' is an island (no neighbors)')\n",
      "('WARNING: ', 59, ' is an island (no neighbors)')\n",
      "('WARNING: ', 60, ' is an island (no neighbors)')\n",
      "('WARNING: ', 61, ' is an island (no neighbors)')\n",
      "('WARNING: ', 66, ' is an island (no neighbors)')\n",
      "('WARNING: ', 70, ' is an island (no neighbors)')\n",
      "('WARNING: ', 73, ' is an island (no neighbors)')\n",
      "('WARNING: ', 74, ' is an island (no neighbors)')\n",
      "('WARNING: ', 75, ' is an island (no neighbors)')\n",
      "('WARNING: ', 76, ' is an island (no neighbors)')\n",
      "('WARNING: ', 77, ' is an island (no neighbors)')\n",
      "('WARNING: ', 78, ' is an island (no neighbors)')\n",
      "('WARNING: ', 79, ' is an island (no neighbors)')\n",
      "('WARNING: ', 80, ' is an island (no neighbors)')\n",
      "('WARNING: ', 81, ' is an island (no neighbors)')\n",
      "('WARNING: ', 82, ' is an island (no neighbors)')\n",
      "('WARNING: ', 84, ' is an island (no neighbors)')\n",
      "('WARNING: ', 85, ' is an island (no neighbors)')\n",
      "('WARNING: ', 87, ' is an island (no neighbors)')\n",
      "('WARNING: ', 88, ' is an island (no neighbors)')\n",
      "('WARNING: ', 89, ' is an island (no neighbors)')\n",
      "('WARNING: ', 90, ' is an island (no neighbors)')\n",
      "('WARNING: ', 93, ' is an island (no neighbors)')\n",
      "('WARNING: ', 96, ' is an island (no neighbors)')\n",
      "('WARNING: ', 97, ' is an island (no neighbors)')\n",
      "('WARNING: ', 98, ' is an island (no neighbors)')\n",
      "('WARNING: ', 99, ' is an island (no neighbors)')\n",
      "('WARNING: ', 100, ' is an island (no neighbors)')\n"
     ]
    },
    {
     "name": "stderr",
     "output_type": "stream",
     "text": [
      "/Users/sarahluw/.pyenv/versions/3.6.2/envs/my-virtual-env-3.6.2/lib/python3.6/site-packages/libpysal/weights/_contW_lists.py:31: ShapelyDeprecationWarning: Iteration over multi-part geometries is deprecated and will be removed in Shapely 2.0. Use the `geoms` property to access the constituent parts of a multi-part geometry.\n",
      "  return list(it.chain(*(_get_boundary_points(part.boundary) for part in shape)))\n",
      "/Users/sarahluw/.pyenv/versions/3.6.2/envs/my-virtual-env-3.6.2/lib/python3.6/site-packages/libpysal/weights/weights.py:172: UserWarning: The weights matrix is not fully connected: \n",
      " There are 86 disconnected components.\n",
      " There are 74 islands with ids: 0, 1, 2, 3, 4, 5, 6, 7, 8, 9, 10, 11, 12, 13, 14, 18, 19, 20, 21, 22, 24, 25, 26, 27, 28, 30, 34, 35, 36, 37, 40, 41, 42, 43, 44, 47, 48, 49, 50, 51, 52, 53, 54, 55, 56, 57, 58, 59, 60, 61, 66, 70, 73, 74, 75, 76, 77, 78, 79, 80, 81, 82, 84, 85, 87, 88, 89, 90, 93, 96, 97, 98, 99, 100.\n",
      "  warnings.warn(message)\n"
     ]
    }
   ],
   "source": [
    "# recompute spatial weights for these observations then row-standardize\n",
    "w_queen = Queen.from_dataframe(tracts_not_null)\n",
    "w_queen.set_transform('R')"
   ]
  },
  {
   "cell_type": "code",
   "execution_count": 78,
   "metadata": {},
   "outputs": [],
   "source": [
    "# compute spatial lag\n",
    "y_lag = lag_spatial(w_queen, y)"
   ]
  },
  {
   "cell_type": "code",
   "execution_count": 79,
   "metadata": {},
   "outputs": [
    {
     "data": {
      "text/html": [
       "<div>\n",
       "<style scoped>\n",
       "    .dataframe tbody tr th:only-of-type {\n",
       "        vertical-align: middle;\n",
       "    }\n",
       "\n",
       "    .dataframe tbody tr th {\n",
       "        vertical-align: top;\n",
       "    }\n",
       "\n",
       "    .dataframe thead th {\n",
       "        text-align: right;\n",
       "    }\n",
       "</style>\n",
       "<table border=\"1\" class=\"dataframe\">\n",
       "  <thead>\n",
       "    <tr style=\"text-align: right;\">\n",
       "      <th></th>\n",
       "      <th>med_household_income</th>\n",
       "      <th>med_household_income_lag</th>\n",
       "    </tr>\n",
       "    <tr>\n",
       "      <th>index</th>\n",
       "      <th></th>\n",
       "      <th></th>\n",
       "    </tr>\n",
       "  </thead>\n",
       "  <tbody>\n",
       "    <tr>\n",
       "      <th>48113010903</th>\n",
       "      <td>30313</td>\n",
       "      <td>0</td>\n",
       "    </tr>\n",
       "    <tr>\n",
       "      <th>48201432002</th>\n",
       "      <td>33478</td>\n",
       "      <td>0</td>\n",
       "    </tr>\n",
       "    <tr>\n",
       "      <th>48029110800</th>\n",
       "      <td>28378</td>\n",
       "      <td>0</td>\n",
       "    </tr>\n",
       "    <tr>\n",
       "      <th>48201240100</th>\n",
       "      <td>30945</td>\n",
       "      <td>0</td>\n",
       "    </tr>\n",
       "    <tr>\n",
       "      <th>48201550301</th>\n",
       "      <td>30236</td>\n",
       "      <td>50941</td>\n",
       "    </tr>\n",
       "    <tr>\n",
       "      <th>48303001702</th>\n",
       "      <td>36569</td>\n",
       "      <td>0</td>\n",
       "    </tr>\n",
       "    <tr>\n",
       "      <th>48113007819</th>\n",
       "      <td>32478</td>\n",
       "      <td>30445</td>\n",
       "    </tr>\n",
       "    <tr>\n",
       "      <th>48201454400</th>\n",
       "      <td>44526</td>\n",
       "      <td>0</td>\n",
       "    </tr>\n",
       "    <tr>\n",
       "      <th>48201313800</th>\n",
       "      <td>28885</td>\n",
       "      <td>0</td>\n",
       "    </tr>\n",
       "    <tr>\n",
       "      <th>48167724200</th>\n",
       "      <td>38906</td>\n",
       "      <td>0</td>\n",
       "    </tr>\n",
       "  </tbody>\n",
       "</table>\n",
       "</div>"
      ],
      "text/plain": [
       "             med_household_income  med_household_income_lag\n",
       "index                                                      \n",
       "48113010903                 30313                         0\n",
       "48201432002                 33478                         0\n",
       "48029110800                 28378                         0\n",
       "48201240100                 30945                         0\n",
       "48201550301                 30236                     50941\n",
       "48303001702                 36569                         0\n",
       "48113007819                 32478                     30445\n",
       "48201454400                 44526                         0\n",
       "48201313800                 28885                         0\n",
       "48167724200                 38906                         0"
      ]
     },
     "execution_count": 79,
     "metadata": {},
     "output_type": "execute_result"
    }
   ],
   "source": [
    "col_lag = '{}_lag'.format(col)\n",
    "data_lag = pd.DataFrame(data={col:y, col_lag:y_lag}).astype(int)\n",
    "data_lag.sample(10)"
   ]
  },
  {
   "cell_type": "markdown",
   "metadata": {},
   "source": [
    "## 6. Spatial autocorrelation\n",
    "\n",
    "Statistical models typically assume that the observations are independent of each other. This assumption is violated when a variable's value at one location is correlated with its value at nearby locations. This is called spatial autocorrelation, and is common in the real world due to proximity-based spillover effects. Substantive spatial autocorrelation can be explained by social or economic theory that describes a spatial relationship. Nuisance spatial autocorrelation stems from data problems.\n",
    "\n",
    "*Positive spatial autocorrelation*: nearby values tend to be more similar (e.g. income, home values, temperature, rainfall)\n",
    "\n",
    "*Negative spatial autocorrelation*: nearby values tend to be more dissimilar (e.g. fire stations, grocery stores)"
   ]
  },
  {
   "cell_type": "markdown",
   "metadata": {},
   "source": [
    "### 6.1. Moran's I\n",
    "\n",
    "Moran's I measures *global* spatial autocorrelation: do values tend to be near other (dis)similar values. Values > 1 indicate positive spatial autocorrelation, and values < 1 indicate negative spatial autocorrelation."
   ]
  },
  {
   "cell_type": "code",
   "execution_count": 80,
   "metadata": {},
   "outputs": [],
   "source": [
    "# calculate the statistic\n",
    "from esda.moran import Moran\n",
    "mi = Moran(data_lag[col], w_queen)"
   ]
  },
  {
   "cell_type": "code",
   "execution_count": 81,
   "metadata": {},
   "outputs": [
    {
     "data": {
      "text/plain": [
       "0.3657174069181714"
      ]
     },
     "execution_count": 81,
     "metadata": {},
     "output_type": "execute_result"
    }
   ],
   "source": [
    "# show the I value\n",
    "mi.I"
   ]
  },
  {
   "cell_type": "code",
   "execution_count": 82,
   "metadata": {},
   "outputs": [
    {
     "data": {
      "text/plain": [
       "0.047"
      ]
     },
     "execution_count": 82,
     "metadata": {},
     "output_type": "execute_result"
    }
   ],
   "source": [
    "# statistical inference: show the p value\n",
    "mi.p_sim"
   ]
  },
  {
   "cell_type": "markdown",
   "metadata": {},
   "source": [
    "If we generated a large number of maps with the same values but randomly allocated over space, and calculated Moran's I for each of these maps, only 0.05% of them would display a larger absolute value than the one we computed from the real-world data set. Thus there is a 0.05% chance of getting the observed value of Moran's I if the spatial distribution of our variable is random. We can conclude that the variable's distribution is statistically-significantly postively spatially autocorrelated. We'll talk more about inference in the other notebook"
   ]
  },
  {
   "cell_type": "markdown",
   "metadata": {},
   "source": [
    "### 6.2. Moran plots\n",
    "\n",
    "A Moran plot scatter plots the spatially-lagged values (y-axis) vs the original variable's values (x-axis). Moran's I equals the slope of the line in a Moran plot, which makes this all a bit easier to conceptualize."
   ]
  },
  {
   "cell_type": "code",
   "execution_count": 83,
   "metadata": {},
   "outputs": [
    {
     "data": {
      "image/png": "[encoded data removed]",
      "text/plain": [
       "<Figure size 432x432 with 1 Axes>"
      ]
     },
     "metadata": {
      "needs_background": "light"
     },
     "output_type": "display_data"
    }
   ],
   "source": [
    "fig, ax = plt.subplots(figsize=(6, 6))\n",
    "sns.regplot(x=col, y=col_lag, data=data_lag, scatter_kws={'s':1})\n",
    "plt.show()"
   ]
  },
  {
   "cell_type": "code",
   "execution_count": 84,
   "metadata": {},
   "outputs": [],
   "source": [
    "# standardize the vector (i.e., calculate z-scores)\n",
    "y_std = (y - y.mean()) / y.std()"
   ]
  },
  {
   "cell_type": "code",
   "execution_count": 85,
   "metadata": {},
   "outputs": [],
   "source": [
    "# compute the spatial lag of the standardized vector and save it as a series with same index\n",
    "y_std_lag = pd.Series(lag_spatial(w_queen, y_std), index=y_std.index, name=col_lag)"
   ]
  },
  {
   "cell_type": "code",
   "execution_count": 86,
   "metadata": {},
   "outputs": [
    {
     "data": {
      "image/png": "[encoded data removed]",
      "text/plain": [
       "<Figure size 432x432 with 1 Axes>"
      ]
     },
     "metadata": {
      "needs_background": "light"
     },
     "output_type": "display_data"
    }
   ],
   "source": [
    "# standardized moran's plot, ignoring outliers beyond 3 std devs\n",
    "fig, ax = plt.subplots(figsize=(6, 6))\n",
    "ax.set_xlim(-3, 3)\n",
    "ax.set_ylim(-3, 3)\n",
    "plt.axvline(0, c='k', alpha=0.5)\n",
    "plt.axhline(0, c='k', alpha=0.5)\n",
    "sns.regplot(ax=ax, x=y_std, y=y_std_lag, scatter_kws={'s':1})\n",
    "plt.show()"
   ]
  },
  {
   "cell_type": "markdown",
   "metadata": {},
   "source": [
    "Notice the 95% confidence interval shading and the positive slope. Given the value of Moran's I that we calculated earlier (and its p-value), we can conclude that the slope of the line is statistically-significantly different from zero. This plot makes it visually apparent."
   ]
  },
  {
   "cell_type": "code",
   "execution_count": 87,
   "metadata": {},
   "outputs": [
    {
     "name": "stdout",
     "output_type": "stream",
     "text": [
      "m=0.1030, b=0.0006, r^2=0.0343, p=0.0611\n"
     ]
    }
   ],
   "source": [
    "# estimate a simple linear regression model (of the line above)\n",
    "m, b, r, p, se = stats.linregress(x=y_std, y=y_std_lag)\n",
    "print('m={:.4f}, b={:.4f}, r^2={:.4f}, p={:.4f}'.format(m, b, r ** 2, p))"
   ]
  },
  {
   "cell_type": "code",
   "execution_count": 88,
   "metadata": {},
   "outputs": [
    {
     "data": {
      "text/plain": [
       "0.3657174069181714"
      ]
     },
     "execution_count": 88,
     "metadata": {},
     "output_type": "execute_result"
    }
   ],
   "source": [
    "# the slope is the same as moran's I, calculated earlier\n",
    "mi.I"
   ]
  },
  {
   "cell_type": "markdown",
   "metadata": {},
   "source": [
    "### 6.3. LISAs\n",
    "\n",
    "Local Indicators of Spatial Autocorrelation: are there specific areas with high concentrations of (dis)similar values?\n",
    "\n",
    "Moran's I tells us about spatial clustering across the data set as a whole. However, it does not tell us where these clusters occur. For that, we need a local measure. Essentially, we will classify the data set's observations into four groups based on the four quadrants of the Moran plot:\n",
    "\n",
    "  1. **HH**: high value near other high values (*hot spots*)\n",
    "  1. **LL**: low value near other low values (*cold spots*)\n",
    "  1. **HL**: high value near low values (*spatial outliers*)\n",
    "  1. **LH**: low value near high values (*spatial outliers*)"
   ]
  },
  {
   "cell_type": "code",
   "execution_count": 89,
   "metadata": {},
   "outputs": [
    {
     "data": {
      "image/png": "[encoded data removed]",
      "text/plain": [
       "<Figure size 432x432 with 1 Axes>"
      ]
     },
     "metadata": {
      "needs_background": "light"
     },
     "output_type": "display_data"
    }
   ],
   "source": [
    "# standardized moran's plot again, from subsection above\n",
    "fig, ax = plt.subplots(figsize=(6, 6))\n",
    "ax.set_xlim(-3, 3)\n",
    "ax.set_ylim(-3, 3)\n",
    "ax.axvline(0, c='k', ls=':', alpha=0.5)\n",
    "ax.axhline(0, c='k', ls=':', alpha=0.5)\n",
    "ax.text(1.25, 1.25, 'HH', fontsize=20)\n",
    "ax.text(1.25, -1.75, 'HL', fontsize=20)\n",
    "ax.text(-1.75, 1.25, 'LH', fontsize=20)\n",
    "ax.text(-1.75, -1.75, 'LL', fontsize=20)\n",
    "ax.set_title('Moran Plot')\n",
    "sns.regplot(ax=ax, x=y_std, y=y_std_lag, scatter_kws={'s':1})\n",
    "plt.show()"
   ]
  }
 ],
 "metadata": {
  "kernelspec": {
   "display_name": "Python 3",
   "language": "python",
   "name": "python3"
  },
  "language_info": {
   "codemirror_mode": {
    "name": "ipython",
    "version": 3
   },
   "file_extension": ".py",
   "mimetype": "text/x-python",
   "name": "python",
   "nbconvert_exporter": "python",
   "pygments_lexer": "ipython3",
   "version": "3.6.2"
  }
 },
 "nbformat": 4,
 "nbformat_minor": 2
}
