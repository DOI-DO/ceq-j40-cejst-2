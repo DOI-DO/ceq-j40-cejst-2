{
 "cells": [
  {
   "cell_type": "markdown",
   "metadata": {},
   "source": [
    "### Spatial weights and ESDA (Exploratory Spatial Data Analysis) - TX, ACS 2019\n",
    "\n",
    "ESDA offers direct parallels to many of the aspatial descriptive statistics that are already part of most quantitative research projects: The geographic mean and spatial standard deviation, for example, tell us where the center of our study area is how compact our population is within that area. \n",
    "\n",
    "I use ESDA to generalize about our observations and to identify outliers and discontinuities that may disrupt our Score L model or suggest hypotheses about relationships we may wish to explore further as it pertains to health disparities and educational disparities.\n",
    "\n",
    "This is very pertinent to Score L as we make strict assumptions about distributions - for any thresholding approach it assumes that the data represents no measurement bias and no systematic error. Everything is homogeneous and is treated equally.\n",
    "\n",
    "ESDA can also be important in confirmatory statistical analysis as spatial autocorrelation can bias outcomes in many spatial and aspatial statistical models. \n",
    "\n",
    "Testing for spatial autocorrelation and locating clusters of correlated residuals will be important in explaining why certain scores are associated together.\n",
    "\n",
    "\n",
    "For example, in section 6, I use LISA's to identify geographical clusters of values or find geographcial outliers. They are a very useful tool that can quickly return areas in which values are concentrated and provide suggestive evidence about the processes that might be at work - namely median income. I will be extending this to educational attainment and job opportunities in a given radius - indicating economic mobility."
   ]
  },
  {
   "cell_type": "code",
   "execution_count": 6,
   "metadata": {},
   "outputs": [
    {
     "name": "stdout",
     "output_type": "stream",
     "text": [
      "0.9.0 2.3.0\n"
     ]
    }
   ],
   "source": [
    "import geopandas as gpd\n",
    "import matplotlib.pyplot as plt\n",
    "import numpy as np\n",
    "import pandas as pd\n",
    "import pysal as ps\n",
    "import seaborn as sns\n",
    "from scipy.stats import stats\n",
    "\n",
    "np.random.seed(0)\n",
    "print(gpd.__version__, ps.__version__)"
   ]
  },
  {
   "cell_type": "markdown",
   "metadata": {},
   "source": [
    "## Load the tracts data set"
   ]
  },
  {
   "cell_type": "code",
   "execution_count": 7,
   "metadata": {},
   "outputs": [
    {
     "data": {
      "text/plain": [
       "(5265, 38)"
      ]
     },
     "execution_count": 7,
     "metadata": {},
     "output_type": "execute_result"
    }
   ],
   "source": [
    "# load geojson, display shape\n",
    "tracts = gpd.read_file('census/census_tracts_data.geojson')\n",
    "tracts = tracts.set_index('index')\n",
    "tracts.shape"
   ]
  },
  {
   "cell_type": "code",
   "execution_count": 8,
   "metadata": {},
   "outputs": [
    {
     "data": {
      "text/plain": [
       "Index(['STATEFP', 'COUNTYFP', 'TRACTCE', 'NAME', 'NAMELSAD', 'MTFCC',\n",
       "       'FUNCSTAT', 'ALAND', 'AWATER', 'INTPTLAT', 'INTPTLON', 'total_pop',\n",
       "       'median_age', 'pct_hispanic', 'pct_white', 'pct_black', 'pct_asian',\n",
       "       'pct_male', 'pct_single_family_home', 'med_home_value',\n",
       "       'med_rooms_per_home', 'pct_built_before_1940', 'pct_renting',\n",
       "       'rental_vacancy_rate', 'avg_renter_household_size', 'med_gross_rent',\n",
       "       'med_household_income', 'mean_commute_time', 'pct_commute_drive_alone',\n",
       "       'pct_below_poverty', 'pct_college_grad_student',\n",
       "       'pct_same_residence_year_ago', 'pct_bachelors_degree',\n",
       "       'pct_english_only', 'pct_foreign_born', 'state', 'county', 'geometry'],\n",
       "      dtype='object')"
      ]
     },
     "execution_count": 8,
     "metadata": {},
     "output_type": "execute_result"
    }
   ],
   "source": [
    "# what variables are present?\n",
    "tracts.columns"
   ]
  },
  {
   "cell_type": "code",
   "execution_count": 9,
   "metadata": {},
   "outputs": [
    {
     "data": {
      "text/html": [
       "<div>\n",
       "<style scoped>\n",
       "    .dataframe tbody tr th:only-of-type {\n",
       "        vertical-align: middle;\n",
       "    }\n",
       "\n",
       "    .dataframe tbody tr th {\n",
       "        vertical-align: top;\n",
       "    }\n",
       "\n",
       "    .dataframe thead th {\n",
       "        text-align: right;\n",
       "    }\n",
       "</style>\n",
       "<table border=\"1\" class=\"dataframe\">\n",
       "  <thead>\n",
       "    <tr style=\"text-align: right;\">\n",
       "      <th></th>\n",
       "      <th>STATEFP</th>\n",
       "      <th>COUNTYFP</th>\n",
       "      <th>TRACTCE</th>\n",
       "      <th>NAME</th>\n",
       "      <th>NAMELSAD</th>\n",
       "      <th>MTFCC</th>\n",
       "      <th>FUNCSTAT</th>\n",
       "      <th>ALAND</th>\n",
       "      <th>AWATER</th>\n",
       "      <th>INTPTLAT</th>\n",
       "      <th>...</th>\n",
       "      <th>pct_commute_drive_alone</th>\n",
       "      <th>pct_below_poverty</th>\n",
       "      <th>pct_college_grad_student</th>\n",
       "      <th>pct_same_residence_year_ago</th>\n",
       "      <th>pct_bachelors_degree</th>\n",
       "      <th>pct_english_only</th>\n",
       "      <th>pct_foreign_born</th>\n",
       "      <th>state</th>\n",
       "      <th>county</th>\n",
       "      <th>geometry</th>\n",
       "    </tr>\n",
       "    <tr>\n",
       "      <th>index</th>\n",
       "      <th></th>\n",
       "      <th></th>\n",
       "      <th></th>\n",
       "      <th></th>\n",
       "      <th></th>\n",
       "      <th></th>\n",
       "      <th></th>\n",
       "      <th></th>\n",
       "      <th></th>\n",
       "      <th></th>\n",
       "      <th></th>\n",
       "      <th></th>\n",
       "      <th></th>\n",
       "      <th></th>\n",
       "      <th></th>\n",
       "      <th></th>\n",
       "      <th></th>\n",
       "      <th></th>\n",
       "      <th></th>\n",
       "      <th></th>\n",
       "      <th></th>\n",
       "    </tr>\n",
       "  </thead>\n",
       "  <tbody>\n",
       "    <tr>\n",
       "      <th>48001950100</th>\n",
       "      <td>48</td>\n",
       "      <td>001</td>\n",
       "      <td>950100</td>\n",
       "      <td>9501</td>\n",
       "      <td>Census Tract 9501</td>\n",
       "      <td>G5020</td>\n",
       "      <td>S</td>\n",
       "      <td>483306619</td>\n",
       "      <td>7864313</td>\n",
       "      <td>+31.9714680</td>\n",
       "      <td>...</td>\n",
       "      <td>84.0</td>\n",
       "      <td>16.3</td>\n",
       "      <td>30.6</td>\n",
       "      <td>4775.0</td>\n",
       "      <td>91.2</td>\n",
       "      <td>4495.0</td>\n",
       "      <td>0.4</td>\n",
       "      <td>48</td>\n",
       "      <td>001</td>\n",
       "      <td>MULTIPOLYGON (((-95.69702 31.97597, -95.69699 ...</td>\n",
       "    </tr>\n",
       "    <tr>\n",
       "      <th>48001950401</th>\n",
       "      <td>48</td>\n",
       "      <td>001</td>\n",
       "      <td>950401</td>\n",
       "      <td>9504.01</td>\n",
       "      <td>Census Tract 9504.01</td>\n",
       "      <td>G5020</td>\n",
       "      <td>S</td>\n",
       "      <td>16549991</td>\n",
       "      <td>296734</td>\n",
       "      <td>+31.7346372</td>\n",
       "      <td>...</td>\n",
       "      <td>100.0</td>\n",
       "      <td>0.0</td>\n",
       "      <td>34.2</td>\n",
       "      <td>4838.0</td>\n",
       "      <td>75.2</td>\n",
       "      <td>4800.0</td>\n",
       "      <td>1.6</td>\n",
       "      <td>48</td>\n",
       "      <td>001</td>\n",
       "      <td>MULTIPOLYGON (((-95.84791 31.75753, -95.84806 ...</td>\n",
       "    </tr>\n",
       "    <tr>\n",
       "      <th>48001950402</th>\n",
       "      <td>48</td>\n",
       "      <td>001</td>\n",
       "      <td>950402</td>\n",
       "      <td>9504.02</td>\n",
       "      <td>Census Tract 9504.02</td>\n",
       "      <td>G5020</td>\n",
       "      <td>S</td>\n",
       "      <td>72472039</td>\n",
       "      <td>2627857</td>\n",
       "      <td>+31.8000515</td>\n",
       "      <td>...</td>\n",
       "      <td>100.0</td>\n",
       "      <td>21.5</td>\n",
       "      <td>33.8</td>\n",
       "      <td>7506.0</td>\n",
       "      <td>69.7</td>\n",
       "      <td>7501.0</td>\n",
       "      <td>1.0</td>\n",
       "      <td>48</td>\n",
       "      <td>001</td>\n",
       "      <td>MULTIPOLYGON (((-95.98357 31.78925, -95.98354 ...</td>\n",
       "    </tr>\n",
       "    <tr>\n",
       "      <th>48001950500</th>\n",
       "      <td>48</td>\n",
       "      <td>001</td>\n",
       "      <td>950500</td>\n",
       "      <td>9505</td>\n",
       "      <td>Census Tract 9505</td>\n",
       "      <td>G5020</td>\n",
       "      <td>S</td>\n",
       "      <td>23132052</td>\n",
       "      <td>99223</td>\n",
       "      <td>+31.7878850</td>\n",
       "      <td>...</td>\n",
       "      <td>85.1</td>\n",
       "      <td>19.4</td>\n",
       "      <td>28.2</td>\n",
       "      <td>4423.0</td>\n",
       "      <td>84.0</td>\n",
       "      <td>4178.0</td>\n",
       "      <td>0.7</td>\n",
       "      <td>48</td>\n",
       "      <td>001</td>\n",
       "      <td>MULTIPOLYGON (((-95.68769 31.81041, -95.68741 ...</td>\n",
       "    </tr>\n",
       "    <tr>\n",
       "      <th>48001950600</th>\n",
       "      <td>48</td>\n",
       "      <td>001</td>\n",
       "      <td>950600</td>\n",
       "      <td>9506</td>\n",
       "      <td>Census Tract 9506</td>\n",
       "      <td>G5020</td>\n",
       "      <td>S</td>\n",
       "      <td>20653883</td>\n",
       "      <td>329641</td>\n",
       "      <td>+31.7502049</td>\n",
       "      <td>...</td>\n",
       "      <td>79.9</td>\n",
       "      <td>17.4</td>\n",
       "      <td>39.3</td>\n",
       "      <td>5109.0</td>\n",
       "      <td>71.2</td>\n",
       "      <td>4890.0</td>\n",
       "      <td>0.0</td>\n",
       "      <td>48</td>\n",
       "      <td>001</td>\n",
       "      <td>MULTIPOLYGON (((-95.70774 31.72559, -95.70765 ...</td>\n",
       "    </tr>\n",
       "  </tbody>\n",
       "</table>\n",
       "<p>5 rows × 38 columns</p>\n",
       "</div>"
      ],
      "text/plain": [
       "            STATEFP COUNTYFP TRACTCE     NAME              NAMELSAD  MTFCC  \\\n",
       "index                                                                        \n",
       "48001950100      48      001  950100     9501     Census Tract 9501  G5020   \n",
       "48001950401      48      001  950401  9504.01  Census Tract 9504.01  G5020   \n",
       "48001950402      48      001  950402  9504.02  Census Tract 9504.02  G5020   \n",
       "48001950500      48      001  950500     9505     Census Tract 9505  G5020   \n",
       "48001950600      48      001  950600     9506     Census Tract 9506  G5020   \n",
       "\n",
       "            FUNCSTAT      ALAND   AWATER     INTPTLAT  ...  \\\n",
       "index                                                  ...   \n",
       "48001950100        S  483306619  7864313  +31.9714680  ...   \n",
       "48001950401        S   16549991   296734  +31.7346372  ...   \n",
       "48001950402        S   72472039  2627857  +31.8000515  ...   \n",
       "48001950500        S   23132052    99223  +31.7878850  ...   \n",
       "48001950600        S   20653883   329641  +31.7502049  ...   \n",
       "\n",
       "            pct_commute_drive_alone  pct_below_poverty  \\\n",
       "index                                                    \n",
       "48001950100                    84.0               16.3   \n",
       "48001950401                   100.0                0.0   \n",
       "48001950402                   100.0               21.5   \n",
       "48001950500                    85.1               19.4   \n",
       "48001950600                    79.9               17.4   \n",
       "\n",
       "             pct_college_grad_student  pct_same_residence_year_ago  \\\n",
       "index                                                                \n",
       "48001950100                      30.6                       4775.0   \n",
       "48001950401                      34.2                       4838.0   \n",
       "48001950402                      33.8                       7506.0   \n",
       "48001950500                      28.2                       4423.0   \n",
       "48001950600                      39.3                       5109.0   \n",
       "\n",
       "             pct_bachelors_degree  pct_english_only  pct_foreign_born  state  \\\n",
       "index                                                                          \n",
       "48001950100                  91.2            4495.0               0.4     48   \n",
       "48001950401                  75.2            4800.0               1.6     48   \n",
       "48001950402                  69.7            7501.0               1.0     48   \n",
       "48001950500                  84.0            4178.0               0.7     48   \n",
       "48001950600                  71.2            4890.0               0.0     48   \n",
       "\n",
       "             county                                           geometry  \n",
       "index                                                                   \n",
       "48001950100     001  MULTIPOLYGON (((-95.69702 31.97597, -95.69699 ...  \n",
       "48001950401     001  MULTIPOLYGON (((-95.84791 31.75753, -95.84806 ...  \n",
       "48001950402     001  MULTIPOLYGON (((-95.98357 31.78925, -95.98354 ...  \n",
       "48001950500     001  MULTIPOLYGON (((-95.68769 31.81041, -95.68741 ...  \n",
       "48001950600     001  MULTIPOLYGON (((-95.70774 31.72559, -95.70765 ...  \n",
       "\n",
       "[5 rows x 38 columns]"
      ]
     },
     "execution_count": 9,
     "metadata": {},
     "output_type": "execute_result"
    }
   ],
   "source": [
    "# inspect the first 5 rows\n",
    "tracts.head()"
   ]
  },
  {
   "cell_type": "code",
   "execution_count": 11,
   "metadata": {},
   "outputs": [],
   "source": [
    "calenviron = pd.read_csv(\"merged_df_score_ejcreen_2272.csv\", dtype={\n",
    "    \"FIPS_tract_id\": str\n",
    "})\n",
    "\n",
    "calenviron.set_index(\"FIPS_tract_id\", inplace=True)"
   ]
  },
  {
   "cell_type": "code",
   "execution_count": 12,
   "metadata": {},
   "outputs": [],
   "source": [
    "census_acs_2019 = pd.read_csv(\"../../../data_pipeline/data/dataset/census_acs_2019/usa.csv\")"
   ]
  },
  {
   "cell_type": "code",
   "execution_count": 13,
   "metadata": {},
   "outputs": [],
   "source": [
    "# calculate pop density in persons per sq km\n",
    "tracts['pop_density'] = tracts['total_pop'] / (tracts['ALAND'] / 1e6)\n",
    "tracts = tracts.replace([np.inf, -np.inf], np.nan)\n",
    "tracts = tracts.dropna(subset=['pop_density'])\n",
    "\n",
    "# project spatial geometries from lat-long to a meter-based projection\n",
    "utm_tx = '+proj=utm +zone=18 +ellps=WGS84 +datum=WGS84 +units=m +no_defs'\n",
    "tracts = tracts.to_crs(utm_tx)"
   ]
  },
  {
   "cell_type": "code",
   "execution_count": 15,
   "metadata": {},
   "outputs": [],
   "source": [
    "df_merged = calenviron.merge(tracts, how='inner', left_index=True, right_index=True)"
   ]
  },
  {
   "cell_type": "code",
   "execution_count": 16,
   "metadata": {},
   "outputs": [
    {
     "data": {
      "text/plain": [
       "(206, 75)"
      ]
     },
     "execution_count": 16,
     "metadata": {},
     "output_type": "execute_result"
    }
   ],
   "source": [
    "df_merged.shape"
   ]
  },
  {
   "cell_type": "code",
   "execution_count": 17,
   "metadata": {},
   "outputs": [],
   "source": [
    "tracts = tracts[tracts.index.isin(df_merged.index.values)]"
   ]
  },
  {
   "cell_type": "markdown",
   "metadata": {},
   "source": [
    "## 1. Exploratory analysis\n",
    "\n",
    "Let's see what we've got with a couple key variables of interest."
   ]
  },
  {
   "cell_type": "code",
   "execution_count": 18,
   "metadata": {},
   "outputs": [
    {
     "data": {
      "text/plain": [
       "count     206.000000\n",
       "mean     1813.040557\n",
       "std      1260.605954\n",
       "min        25.235368\n",
       "25%      1054.963496\n",
       "50%      1634.745190\n",
       "75%      2347.165295\n",
       "max      8705.497048\n",
       "Name: pop_density, dtype: float64"
      ]
     },
     "execution_count": 18,
     "metadata": {},
     "output_type": "execute_result"
    }
   ],
   "source": [
    "# descriptive stats\n",
    "tracts['pop_density'].describe()"
   ]
  },
  {
   "cell_type": "code",
   "execution_count": 19,
   "metadata": {},
   "outputs": [
    {
     "data": {
      "text/plain": [
       "count      206.000000\n",
       "mean     41346.922330\n",
       "std      12894.864314\n",
       "min      15365.000000\n",
       "25%      32067.750000\n",
       "50%      40246.000000\n",
       "75%      48517.250000\n",
       "max      90215.000000\n",
       "Name: med_household_income, dtype: float64"
      ]
     },
     "execution_count": 19,
     "metadata": {},
     "output_type": "execute_result"
    }
   ],
   "source": [
    "# descriptive stats\n",
    "tracts['med_household_income'].describe()"
   ]
  },
  {
   "cell_type": "code",
   "execution_count": 20,
   "metadata": {},
   "outputs": [],
   "source": [
    "# create a function to choropleth map a df column\n",
    "def map_variable(df, col, scheme='quantiles', k=10, cmap='plasma', figsize=(10,10)):\n",
    "    values = df.dropna(subset=[col])\n",
    "    ax = values.plot(column=col, scheme=scheme, k=k, cmap=cmap, figsize=figsize, legend = True)\n",
    "    ax.axis('off')\n",
    "    plt.show()"
   ]
  },
  {
   "cell_type": "code",
   "execution_count": 21,
   "metadata": {},
   "outputs": [
    {
     "data": {
      "text/plain": [
       "array([False, False, False, False, False, False, False, False, False,\n",
       "       False, False, False, False, False, False, False, False, False,\n",
       "       False, False, False, False, False, False, False, False, False,\n",
       "       False, False, False, False, False, False, False, False, False,\n",
       "       False, False, False, False, False, False, False, False, False,\n",
       "       False, False, False, False, False, False, False, False, False,\n",
       "       False, False, False, False, False, False, False, False, False,\n",
       "       False, False, False, False, False, False,  True, False, False,\n",
       "       False, False, False, False, False, False, False, False, False,\n",
       "       False, False, False, False, False, False, False, False, False,\n",
       "       False, False, False, False, False, False, False, False, False,\n",
       "       False, False, False, False, False, False, False, False, False,\n",
       "       False, False, False, False, False, False, False, False, False,\n",
       "       False, False, False, False, False, False, False, False, False,\n",
       "       False, False, False, False, False, False, False, False, False,\n",
       "       False, False, False, False, False, False, False, False, False,\n",
       "       False, False, False, False, False, False, False, False, False,\n",
       "       False, False, False, False, False, False, False, False, False,\n",
       "       False, False, False, False, False, False, False, False, False,\n",
       "        True, False, False, False, False, False, False, False, False,\n",
       "       False, False, False, False, False, False, False, False, False,\n",
       "       False, False, False, False, False, False, False, False, False,\n",
       "       False, False, False, False, False, False,  True, False])"
      ]
     },
     "execution_count": 21,
     "metadata": {},
     "output_type": "execute_result"
    }
   ],
   "source": [
    "tracts.index.isin(tracts[tracts['med_household_income'] < 20000].index)"
   ]
  },
  {
   "cell_type": "code",
   "execution_count": 24,
   "metadata": {},
   "outputs": [
    {
     "data": {
      "image/png": "[encoded data removed]",
      "text/plain": [
       "<Figure size 720x720 with 1 Axes>"
      ]
     },
     "metadata": {
      "needs_background": "light"
     },
     "output_type": "display_data"
    }
   ],
   "source": [
    "# map a variable\n",
    "map_variable(tracts, 'pop_density')"
   ]
  },
  {
   "cell_type": "code",
   "execution_count": 23,
   "metadata": {},
   "outputs": [
    {
     "data": {
      "image/png": "[encoded data removed]",
      "text/plain": [
       "<Figure size 720x720 with 1 Axes>"
      ]
     },
     "metadata": {
      "needs_background": "light"
     },
     "output_type": "display_data"
    }
   ],
   "source": [
    "# map another variable\n",
    "map_variable(tracts, 'med_household_income')"
   ]
  },
  {
   "cell_type": "markdown",
   "metadata": {},
   "source": [
    "It looks like these two variables might be negatively correlated?"
   ]
  },
  {
   "cell_type": "code",
   "execution_count": 25,
   "metadata": {},
   "outputs": [
    {
     "name": "stdout",
     "output_type": "stream",
     "text": [
      "r=0.0284, p=0.6851\n"
     ]
    }
   ],
   "source": [
    "# calculate the correlation coefficient and its p-value\n",
    "x = tracts.dropna(subset=['pop_density', 'med_household_income'])['pop_density']\n",
    "y = tracts.dropna(subset=['pop_density', 'med_household_income'])['med_household_income']\n",
    "r, p = stats.pearsonr(x=x, y=y)\n",
    "print('r={:.4f}, p={:.4f}'.format(r, p))"
   ]
  },
  {
   "cell_type": "code",
   "execution_count": 26,
   "metadata": {},
   "outputs": [
    {
     "data": {
      "image/png": "[encoded data removed]",
      "text/plain": [
       "<Figure size 432x288 with 1 Axes>"
      ]
     },
     "metadata": {
      "needs_background": "light"
     },
     "output_type": "display_data"
    }
   ],
   "source": [
    "# scatter plot them with matplotlib\n",
    "fig, ax = plt.subplots()\n",
    "ax.scatter(x=x, y=y, s=1)\n",
    "ax.set_xlim(left=0)\n",
    "ax.set_ylim(bottom=0)\n",
    "plt.show()"
   ]
  },
  {
   "cell_type": "code",
   "execution_count": 27,
   "metadata": {},
   "outputs": [
    {
     "name": "stdout",
     "output_type": "stream",
     "text": [
      "m=0.2908, b=40819.7676, r^2=0.0008, p=0.6851\n"
     ]
    }
   ],
   "source": [
    "# estimate a simple linear regression model with scipy\n",
    "m, b, r, p, se = stats.linregress(x=x, y=y)\n",
    "print('m={:.4f}, b={:.4f}, r^2={:.4f}, p={:.4f}'.format(m, b, r ** 2, p))"
   ]
  },
  {
   "cell_type": "code",
   "execution_count": 28,
   "metadata": {},
   "outputs": [
    {
     "name": "stdout",
     "output_type": "stream",
     "text": [
      "m=0.0103, b=10.5078, r^2=0.0009, p=0.6622\n"
     ]
    }
   ],
   "source": [
    "# estimate a log-log simple linear regression model with scipy\n",
    "m, b, r, p, se = stats.linregress(x=np.log(x), y=np.log(y))\n",
    "print('m={:.4f}, b={:.4f}, r^2={:.4f}, p={:.4f}'.format(m, b, r ** 2, p))"
   ]
  },
  {
   "cell_type": "code",
   "execution_count": 29,
   "metadata": {},
   "outputs": [
    {
     "name": "stderr",
     "output_type": "stream",
     "text": [
      "/Users/sarahluw/.pyenv/versions/3.6.2/envs/my-virtual-env-3.6.2/lib/python3.6/site-packages/seaborn/_decorators.py:43: FutureWarning: Pass the following variables as keyword args: x, y. From version 0.12, the only valid positional argument will be `data`, and passing other arguments without an explicit keyword will result in an error or misinterpretation.\n",
      "  FutureWarning\n"
     ]
    },
    {
     "data": {
      "image/png": "[encoded data removed]",
      "text/plain": [
       "<Figure size 432x432 with 1 Axes>"
      ]
     },
     "metadata": {
      "needs_background": "light"
     },
     "output_type": "display_data"
    }
   ],
   "source": [
    "# plot the log-log regression line with 95% CI using seaborn\n",
    "fig, ax = plt.subplots(figsize=(6, 6))\n",
    "ax = sns.regplot(np.log(x), np.log(y), marker='.', scatter_kws={'s':2}, ax=ax)\n",
    "ax.set_xlim((3, 11))\n",
    "ax.set_ylim((9.5, 12.5))\n",
    "plt.show()"
   ]
  },
  {
   "cell_type": "markdown",
   "metadata": {},
   "source": [
    "## 2. Spatial weights matrix\n",
    "\n",
    "Spatial weights define the spatial connections among our units of analysis (tracts in this case).\n",
    "\n",
    "### 2.1. Contiguity-based weights: rook contiguity\n",
    "\n",
    "Using rook contiguity, two spatial units must share an edge of their boundaries to be considered neighbors. This isn't terribly common in practice (since queen is usually more useful, but it's worth understanding)."
   ]
  },
  {
   "cell_type": "code",
   "execution_count": 34,
   "metadata": {},
   "outputs": [],
   "source": [
    "# get the tract labels (GEOIDs) and pick one to work with later\n",
    "# tracts_subset = tracts[tracts.index.isin(df_merged.index.values)]\n",
    "labels = tracts.index.tolist()\n",
    "label = labels[5]"
   ]
  },
  {
   "cell_type": "code",
   "execution_count": 35,
   "metadata": {},
   "outputs": [
    {
     "name": "stdout",
     "output_type": "stream",
     "text": [
      "CPU times: user 187 ms, sys: 9.43 ms, total: 196 ms\n",
      "Wall time: 197 ms\n"
     ]
    },
    {
     "name": "stderr",
     "output_type": "stream",
     "text": [
      "/Users/sarahluw/.pyenv/versions/3.6.2/envs/my-virtual-env-3.6.2/lib/python3.6/site-packages/libpysal/weights/_contW_lists.py:31: ShapelyDeprecationWarning: Iteration over multi-part geometries is deprecated and will be removed in Shapely 2.0. Use the `geoms` property to access the constituent parts of a multi-part geometry.\n",
      "  return list(it.chain(*(_get_boundary_points(part.boundary) for part in shape)))\n",
      "/Users/sarahluw/.pyenv/versions/3.6.2/envs/my-virtual-env-3.6.2/lib/python3.6/site-packages/libpysal/weights/weights.py:172: UserWarning: The weights matrix is not fully connected: \n",
      " There are 157 disconnected components.\n",
      " There are 124 islands with ids: 48025950500, 48029140300, 48029152000, 48029152201, 48029160901, 48029170401, 48029180602, 48029181819, 48029181823, 48037010700, 48039661200, 48041000201, 48061012508, 48061013104, 48061013206, 48085031709, 48085032003, 48113001502, 48113003902, 48113006100, 48113006200, 48113007914, 48113008703, 48113009201, 48113012206, 48113013717, 48113013725, 48113015404, 48113015900, 48113016202, 48113016610, 48113016803, 48113016902, 48113017704, 48113019040, 48113019206, 48121020504, 48121020601, 48121021637, 48135003100, 48139061600, 48141002900, 48141003502, 48143950500, 48167721900, 48167722200, 48167723000, 48167724700, 48181001300, 48183000900, 48201220400, 48201223001, 48201230600, 48201231300, 48201231500, 48201251200, 48201312300, 48201312900, 48201313300, 48201320602, 48201323701, 48201331602, 48201332500, 48201341301, 48201350500, 48201422301, 48201450400, 48201452100, 48201453401, 48201453502, 48201520500, 48201522000, 48201532001, 48201532100, 48201541800, 48201550302, 48201550402, 48201551500, 48201552700, 48209010100, 48209010702, 48215020101, 48215020723, 48215020804, 48215021403, 48215023514, 48215024203, 48245002400, 48273020300, 48277000800, 48303001708, 48303002001, 48303002500, 48319950100, 48321730201, 48329010106, 48339690300, 48355001100, 48355001300, 48355002704, 48363000900, 48375014700, 48423002003, 48439100201, 48439101301, 48439102401, 48439106507, 48439110302, 48439111523, 48439123400, 48441010900, 48453000402, 48453001818, 48453001915, 48453002201, 48453002307, 48453002314, 48453002402, 48469000501, 48471790500, 48479000107, 48479001300, 48479001900, 48485011000.\n",
      "  warnings.warn(message)\n"
     ]
    }
   ],
   "source": [
    "%%time\n",
    "\n",
    "from libpysal.weights.contiguity import Queen, Rook\n",
    "from libpysal.weights import KNN, min_threshold_distance\n",
    "from libpysal.weights import DistanceBand, lag_spatial\n",
    "# calculate rook spatial weights\n",
    "w_rook = Rook.from_dataframe(tracts, ids=labels, id_order=labels)"
   ]
  },
  {
   "cell_type": "markdown",
   "metadata": {},
   "source": [
    "### 2.2. Contiguity-based weights: queen contiguity\n",
    "\n",
    "Using queen contiguity, two spatial units need only share a vertex (a single point) of their boundaries to be considered neighbors."
   ]
  },
  {
   "cell_type": "code",
   "execution_count": 36,
   "metadata": {},
   "outputs": [
    {
     "name": "stdout",
     "output_type": "stream",
     "text": [
      "CPU times: user 267 ms, sys: 7.2 ms, total: 275 ms\n",
      "Wall time: 274 ms\n"
     ]
    },
    {
     "name": "stderr",
     "output_type": "stream",
     "text": [
      "/Users/sarahluw/.pyenv/versions/3.6.2/envs/my-virtual-env-3.6.2/lib/python3.6/site-packages/libpysal/weights/weights.py:172: UserWarning: The weights matrix is not fully connected: \n",
      " There are 153 disconnected components.\n",
      " There are 117 islands with ids: 48025950500, 48029140300, 48029152000, 48029152201, 48029160901, 48029170401, 48029180602, 48029181819, 48029181823, 48037010700, 48039661200, 48041000201, 48061012508, 48061013104, 48061013206, 48085031709, 48085032003, 48113001502, 48113003902, 48113006100, 48113006200, 48113007914, 48113008703, 48113009201, 48113012206, 48113013717, 48113013725, 48113015404, 48113015900, 48113016202, 48113016610, 48113016803, 48113016902, 48113017704, 48113019040, 48113019206, 48121020504, 48121020601, 48121021637, 48135003100, 48139061600, 48141002900, 48141003502, 48143950500, 48167721900, 48167722200, 48167723000, 48167724700, 48181001300, 48183000900, 48201220400, 48201223001, 48201230600, 48201231300, 48201231500, 48201251200, 48201312300, 48201312900, 48201313300, 48201320602, 48201323701, 48201331602, 48201332500, 48201341301, 48201350500, 48201422301, 48201450400, 48201452100, 48201453401, 48201453502, 48201520500, 48201522000, 48201541800, 48209010100, 48209010702, 48215020101, 48215020723, 48215020804, 48215021403, 48215023514, 48215024203, 48245002400, 48273020300, 48277000800, 48303001708, 48303002500, 48319950100, 48321730201, 48329010106, 48339690300, 48355001100, 48355001300, 48355002704, 48363000900, 48375014700, 48423002003, 48439100201, 48439101301, 48439102401, 48439106507, 48439110302, 48439111523, 48439123400, 48441010900, 48453000402, 48453001818, 48453001915, 48453002201, 48453002307, 48453002314, 48453002402, 48469000501, 48471790500, 48479000107, 48479001300, 48479001900, 48485011000.\n",
      "  warnings.warn(message)\n"
     ]
    }
   ],
   "source": [
    "%%time\n",
    "# calculate queen spatial weights\n",
    "w_queen = Queen.from_dataframe(tracts, ids=labels, id_order=labels)"
   ]
  },
  {
   "cell_type": "code",
   "execution_count": 37,
   "metadata": {},
   "outputs": [
    {
     "data": {
      "text/plain": [
       "[]"
      ]
     },
     "execution_count": 37,
     "metadata": {},
     "output_type": "execute_result"
    }
   ],
   "source": [
    "# find the neighbors of some tract\n",
    "w_queen.neighbors[label]"
   ]
  },
  {
   "cell_type": "code",
   "execution_count": 38,
   "metadata": {},
   "outputs": [
    {
     "data": {
      "text/plain": [
       "[]"
      ]
     },
     "execution_count": 38,
     "metadata": {},
     "output_type": "execute_result"
    }
   ],
   "source": [
    "# this is a raw contiguity matrix, so weights are binary 1s and 0s meaning neighbor/not\n",
    "w_queen.weights[label]"
   ]
  },
  {
   "cell_type": "code",
   "execution_count": 39,
   "metadata": {},
   "outputs": [
    {
     "data": {
      "text/plain": [
       "0"
      ]
     },
     "execution_count": 39,
     "metadata": {},
     "output_type": "execute_result"
    }
   ],
   "source": [
    "# how many neighbors does this tract have?\n",
    "w_queen.cardinalities[label]"
   ]
  },
  {
   "cell_type": "code",
   "execution_count": 40,
   "metadata": {},
   "outputs": [
    {
     "data": {
      "text/plain": [
       "count    206.000000\n",
       "mean       0.553398\n",
       "std        0.701610\n",
       "min        0.000000\n",
       "25%        0.000000\n",
       "50%        0.000000\n",
       "75%        1.000000\n",
       "max        2.000000\n",
       "dtype: float64"
      ]
     },
     "execution_count": 40,
     "metadata": {},
     "output_type": "execute_result"
    }
   ],
   "source": [
    "# convert cardinalities to series and describe data -- looks right-skewed\n",
    "cardinalites_queen = pd.Series(w_queen.cardinalities)\n",
    "cardinalites_queen.describe()"
   ]
  },
  {
   "cell_type": "code",
   "execution_count": 41,
   "metadata": {},
   "outputs": [
    {
     "data": {
      "image/png": "[encoded data removed]",
      "text/plain": [
       "<Figure size 432x288 with 1 Axes>"
      ]
     },
     "metadata": {
      "needs_background": "light"
     },
     "output_type": "display_data"
    }
   ],
   "source": [
    "# look at the distribution of number of neighbors\n",
    "ax = cardinalites_queen.hist(bins=20)"
   ]
  },
  {
   "cell_type": "code",
   "execution_count": 42,
   "metadata": {},
   "outputs": [
    {
     "data": {
      "text/plain": [
       "206"
      ]
     },
     "execution_count": 42,
     "metadata": {},
     "output_type": "execute_result"
    }
   ],
   "source": [
    "# number of observations\n",
    "w_queen.n"
   ]
  },
  {
   "cell_type": "code",
   "execution_count": 43,
   "metadata": {},
   "outputs": [
    {
     "data": {
      "text/plain": [
       "0.5533980582524272"
      ]
     },
     "execution_count": 43,
     "metadata": {},
     "output_type": "execute_result"
    }
   ],
   "source": [
    "# average number of neighbors\n",
    "w_queen.mean_neighbors"
   ]
  },
  {
   "cell_type": "code",
   "execution_count": 44,
   "metadata": {},
   "outputs": [
    {
     "data": {
      "text/plain": [
       "0"
      ]
     },
     "execution_count": 44,
     "metadata": {},
     "output_type": "execute_result"
    }
   ],
   "source": [
    "# min number of neighbors\n",
    "w_queen.min_neighbors"
   ]
  },
  {
   "cell_type": "code",
   "execution_count": 45,
   "metadata": {},
   "outputs": [
    {
     "data": {
      "text/plain": [
       "2"
      ]
     },
     "execution_count": 45,
     "metadata": {},
     "output_type": "execute_result"
    }
   ],
   "source": [
    "# max number of neighbors\n",
    "w_queen.max_neighbors"
   ]
  },
  {
   "cell_type": "code",
   "execution_count": 46,
   "metadata": {},
   "outputs": [
    {
     "data": {
      "text/plain": [
       "117"
      ]
     },
     "execution_count": 46,
     "metadata": {},
     "output_type": "execute_result"
    }
   ],
   "source": [
    "# islands are observations with no neighbors, disconnected \n",
    "# in space (can cause modeling problems)\n",
    "len(w_queen.islands)"
   ]
  },
  {
   "cell_type": "markdown",
   "metadata": {},
   "source": [
    "##### Plot a census tract of interest, along with its neighbors:"
   ]
  },
  {
   "cell_type": "markdown",
   "metadata": {},
   "source": [
    "### 3.3. Distance-based weights: *k*-nn\n",
    "\n",
    "Find the *k*-nearest neighbors of each tract"
   ]
  },
  {
   "cell_type": "code",
   "execution_count": 47,
   "metadata": {},
   "outputs": [
    {
     "name": "stdout",
     "output_type": "stream",
     "text": [
      "CPU times: user 34.4 ms, sys: 2.39 ms, total: 36.8 ms\n",
      "Wall time: 35.6 ms\n"
     ]
    },
    {
     "name": "stderr",
     "output_type": "stream",
     "text": [
      "/Users/sarahluw/.pyenv/versions/3.6.2/envs/my-virtual-env-3.6.2/lib/python3.6/site-packages/libpysal/weights/util.py:1073: ShapelyDeprecationWarning: The array interface is deprecated and will no longer work in Shapely 2.0. Convert the '.coords' to a numpy array instead.\n",
      "  data = np.vstack([np.array(shape.centroid) for shape in first_choice])\n",
      "/Users/sarahluw/.pyenv/versions/3.6.2/envs/my-virtual-env-3.6.2/lib/python3.6/site-packages/libpysal/weights/weights.py:172: UserWarning: The weights matrix is not fully connected: \n",
      " There are 2 disconnected components.\n",
      "  warnings.warn(message)\n"
     ]
    }
   ],
   "source": [
    "%%time\n",
    "# k-nearest neighbors finds the closest k tract centroids to each tract centroid\n",
    "w_knn = KNN.from_dataframe(tracts, k=6)"
   ]
  },
  {
   "cell_type": "code",
   "execution_count": 48,
   "metadata": {},
   "outputs": [
    {
     "data": {
      "text/plain": [
       "['48029160901',\n",
       " '48029152201',\n",
       " '48029140300',\n",
       " '48029171000',\n",
       " '48029171100',\n",
       " '48029170401']"
      ]
     },
     "execution_count": 48,
     "metadata": {},
     "output_type": "execute_result"
    }
   ],
   "source": [
    "# they all have exactly k neighbors\n",
    "w_knn.neighbors[label]"
   ]
  },
  {
   "cell_type": "markdown",
   "metadata": {},
   "source": [
    "### 3.4. Distance-based weights: distance band\n",
    "\n",
    "Here tracts are considered neighbors of some tract if they are within a given threshold distance of it. Distance band weights can be specified to take on continuous values rather than binary (1s and 0s), with these values being the inverse distance between each pair of \"neighboring\" units. The default (linear) distance-decay exponent is thus -1. If we set it to -2, we get gravity model weights."
   ]
  },
  {
   "cell_type": "code",
   "execution_count": 49,
   "metadata": {},
   "outputs": [
    {
     "data": {
      "text/plain": [
       "189497.5691849163"
      ]
     },
     "execution_count": 49,
     "metadata": {},
     "output_type": "execute_result"
    }
   ],
   "source": [
    "# first determine the minimum nearest neighbor distance so each unit is assured of at least one neighbor\n",
    "x = tracts.centroid.x\n",
    "y = tracts.centroid.y\n",
    "coords = np.array([x, y]).T\n",
    "threshold = min_threshold_distance(coords)\n",
    "threshold"
   ]
  },
  {
   "cell_type": "code",
   "execution_count": 50,
   "metadata": {},
   "outputs": [
    {
     "name": "stdout",
     "output_type": "stream",
     "text": [
      "CPU times: user 50.2 ms, sys: 3.37 ms, total: 53.5 ms\n",
      "Wall time: 52.4 ms\n"
     ]
    },
    {
     "name": "stderr",
     "output_type": "stream",
     "text": [
      "/Users/sarahluw/.pyenv/versions/3.6.2/envs/my-virtual-env-3.6.2/lib/python3.6/site-packages/libpysal/weights/util.py:1073: ShapelyDeprecationWarning: The array interface is deprecated and will no longer work in Shapely 2.0. Convert the '.coords' to a numpy array instead.\n",
      "  data = np.vstack([np.array(shape.centroid) for shape in first_choice])\n",
      "/Users/sarahluw/.pyenv/versions/3.6.2/envs/my-virtual-env-3.6.2/lib/python3.6/site-packages/scipy/sparse/data.py:117: RuntimeWarning: divide by zero encountered in reciprocal\n",
      "  return self._with_data(data ** n)\n",
      "/Users/sarahluw/.pyenv/versions/3.6.2/envs/my-virtual-env-3.6.2/lib/python3.6/site-packages/libpysal/weights/weights.py:172: UserWarning: The weights matrix is not fully connected: \n",
      " There are 3 disconnected components.\n",
      "  warnings.warn(message)\n"
     ]
    }
   ],
   "source": [
    "%%time\n",
    "# default alpha=-1 and gravity weights alpha=-2\n",
    "w_dist = DistanceBand.from_dataframe(tracts, threshold=threshold, binary=False, alpha=-1)"
   ]
  },
  {
   "cell_type": "code",
   "execution_count": 51,
   "metadata": {},
   "outputs": [
    {
     "data": {
      "text/plain": [
       "31"
      ]
     },
     "execution_count": 51,
     "metadata": {},
     "output_type": "execute_result"
    }
   ],
   "source": [
    "# how many distance-band neighbors does our tract have?\n",
    "len(w_dist.neighbors[label])"
   ]
  },
  {
   "cell_type": "markdown",
   "metadata": {},
   "source": [
    "##### Map the neighbors, colored by weight from nearest to furthest:"
   ]
  },
  {
   "cell_type": "code",
   "execution_count": 52,
   "metadata": {},
   "outputs": [
    {
     "data": {
      "image/png": "[encoded data removed]",
      "text/plain": [
       "<Figure size 432x432 with 1 Axes>"
      ]
     },
     "metadata": {
      "needs_background": "light"
     },
     "output_type": "display_data"
    }
   ],
   "source": [
    "fig, ax = plt.subplots(figsize=(6, 6))\n",
    "tracts.plot(ax=ax, facecolor='k', edgecolor='gray', linewidth=1)\n",
    "\n",
    "# get the tract of interest and its neighbors/weights\n",
    "tract = tracts.loc[[label]]\n",
    "weights = pd.Series(w_dist[label])\n",
    "neighbors = tracts.loc[weights.index, ['geometry']]\n",
    "\n",
    "# plot the tract's neighbors in blues by weight\n",
    "neighbors['weights_scaled'] = weights\n",
    "neighbors.plot(ax=ax, column='weights_scaled', cmap='Blues_r', edgecolor='gray', linewidth=1, scheme='Fisher_Jenks')\n",
    "\n",
    "# plot the tract of interest in white\n",
    "tract.plot(ax=ax, facecolor='w', edgecolor='r', linewidth=2)\n",
    "\n",
    "# zoom to area of interest\n",
    "xmin, ymin, xmax, ymax = neighbors.unary_union.bounds\n",
    "ax.set_xlim(xmin, xmax)\n",
    "ax.set_ylim(ymin, ymax)\n",
    "ax.axis('off')\n",
    "\n",
    "ax.set_title('Neighbors of tract {}'.format(label))\n",
    "plt.show()"
   ]
  },
  {
   "cell_type": "markdown",
   "metadata": {},
   "source": [
    "### 3.5. Standardizing weights\n",
    "\n",
    "A spatial weights matrix with raw values (e.g., binary 1s and 0s for neighbor/not) is not always the best for analysis. Some sort of standardization is useful."
   ]
  },
  {
   "cell_type": "code",
   "execution_count": 53,
   "metadata": {},
   "outputs": [
    {
     "data": {
      "text/plain": [
       "{}"
      ]
     },
     "execution_count": 53,
     "metadata": {},
     "output_type": "execute_result"
    }
   ],
   "source": [
    "# inspect the neighbors and weights of our tract\n",
    "w_queen[label]"
   ]
  },
  {
   "cell_type": "code",
   "execution_count": 54,
   "metadata": {},
   "outputs": [
    {
     "data": {
      "text/plain": [
       "'O'"
      ]
     },
     "execution_count": 54,
     "metadata": {},
     "output_type": "execute_result"
    }
   ],
   "source": [
    "# check the current transformation of the weights matrix (O = original)\n",
    "w_queen.get_transform()"
   ]
  },
  {
   "cell_type": "markdown",
   "metadata": {},
   "source": [
    "Typically, we want to apply a row-based transformation, so every row of the matrix sums up to 1."
   ]
  },
  {
   "cell_type": "code",
   "execution_count": 55,
   "metadata": {},
   "outputs": [
    {
     "name": "stdout",
     "output_type": "stream",
     "text": [
      "('WARNING: ', '48025950500', ' is an island (no neighbors)')\n",
      "('WARNING: ', '48029140300', ' is an island (no neighbors)')\n",
      "('WARNING: ', '48029152000', ' is an island (no neighbors)')\n",
      "('WARNING: ', '48029152201', ' is an island (no neighbors)')\n",
      "('WARNING: ', '48029160901', ' is an island (no neighbors)')\n",
      "('WARNING: ', '48029170401', ' is an island (no neighbors)')\n",
      "('WARNING: ', '48029180602', ' is an island (no neighbors)')\n",
      "('WARNING: ', '48029181819', ' is an island (no neighbors)')\n",
      "('WARNING: ', '48029181823', ' is an island (no neighbors)')\n",
      "('WARNING: ', '48037010700', ' is an island (no neighbors)')\n",
      "('WARNING: ', '48039661200', ' is an island (no neighbors)')\n",
      "('WARNING: ', '48041000201', ' is an island (no neighbors)')\n",
      "('WARNING: ', '48061012508', ' is an island (no neighbors)')\n",
      "('WARNING: ', '48061013104', ' is an island (no neighbors)')\n",
      "('WARNING: ', '48061013206', ' is an island (no neighbors)')\n",
      "('WARNING: ', '48085031709', ' is an island (no neighbors)')\n",
      "('WARNING: ', '48085032003', ' is an island (no neighbors)')\n",
      "('WARNING: ', '48113001502', ' is an island (no neighbors)')\n",
      "('WARNING: ', '48113003902', ' is an island (no neighbors)')\n",
      "('WARNING: ', '48113006100', ' is an island (no neighbors)')\n",
      "('WARNING: ', '48113006200', ' is an island (no neighbors)')\n",
      "('WARNING: ', '48113007914', ' is an island (no neighbors)')\n",
      "('WARNING: ', '48113008703', ' is an island (no neighbors)')\n",
      "('WARNING: ', '48113009201', ' is an island (no neighbors)')\n",
      "('WARNING: ', '48113012206', ' is an island (no neighbors)')\n",
      "('WARNING: ', '48113013717', ' is an island (no neighbors)')\n",
      "('WARNING: ', '48113013725', ' is an island (no neighbors)')\n",
      "('WARNING: ', '48113015404', ' is an island (no neighbors)')\n",
      "('WARNING: ', '48113015900', ' is an island (no neighbors)')\n",
      "('WARNING: ', '48113016202', ' is an island (no neighbors)')\n",
      "('WARNING: ', '48113016610', ' is an island (no neighbors)')\n",
      "('WARNING: ', '48113016803', ' is an island (no neighbors)')\n",
      "('WARNING: ', '48113016902', ' is an island (no neighbors)')\n",
      "('WARNING: ', '48113017704', ' is an island (no neighbors)')\n",
      "('WARNING: ', '48113019040', ' is an island (no neighbors)')\n",
      "('WARNING: ', '48113019206', ' is an island (no neighbors)')\n",
      "('WARNING: ', '48121020504', ' is an island (no neighbors)')\n",
      "('WARNING: ', '48121020601', ' is an island (no neighbors)')\n",
      "('WARNING: ', '48121021637', ' is an island (no neighbors)')\n",
      "('WARNING: ', '48135003100', ' is an island (no neighbors)')\n",
      "('WARNING: ', '48139061600', ' is an island (no neighbors)')\n",
      "('WARNING: ', '48141002900', ' is an island (no neighbors)')\n",
      "('WARNING: ', '48141003502', ' is an island (no neighbors)')\n",
      "('WARNING: ', '48143950500', ' is an island (no neighbors)')\n",
      "('WARNING: ', '48167721900', ' is an island (no neighbors)')\n",
      "('WARNING: ', '48167722200', ' is an island (no neighbors)')\n",
      "('WARNING: ', '48167723000', ' is an island (no neighbors)')\n",
      "('WARNING: ', '48167724700', ' is an island (no neighbors)')\n",
      "('WARNING: ', '48181001300', ' is an island (no neighbors)')\n",
      "('WARNING: ', '48183000900', ' is an island (no neighbors)')\n",
      "('WARNING: ', '48201220400', ' is an island (no neighbors)')\n",
      "('WARNING: ', '48201223001', ' is an island (no neighbors)')\n",
      "('WARNING: ', '48201230600', ' is an island (no neighbors)')\n",
      "('WARNING: ', '48201231300', ' is an island (no neighbors)')\n",
      "('WARNING: ', '48201231500', ' is an island (no neighbors)')\n",
      "('WARNING: ', '48201251200', ' is an island (no neighbors)')\n",
      "('WARNING: ', '48201312300', ' is an island (no neighbors)')\n",
      "('WARNING: ', '48201312900', ' is an island (no neighbors)')\n",
      "('WARNING: ', '48201313300', ' is an island (no neighbors)')\n",
      "('WARNING: ', '48201320602', ' is an island (no neighbors)')\n",
      "('WARNING: ', '48201323701', ' is an island (no neighbors)')\n",
      "('WARNING: ', '48201331602', ' is an island (no neighbors)')\n",
      "('WARNING: ', '48201332500', ' is an island (no neighbors)')\n",
      "('WARNING: ', '48201341301', ' is an island (no neighbors)')\n",
      "('WARNING: ', '48201350500', ' is an island (no neighbors)')\n",
      "('WARNING: ', '48201422301', ' is an island (no neighbors)')\n",
      "('WARNING: ', '48201450400', ' is an island (no neighbors)')\n",
      "('WARNING: ', '48201452100', ' is an island (no neighbors)')\n",
      "('WARNING: ', '48201453401', ' is an island (no neighbors)')\n",
      "('WARNING: ', '48201453502', ' is an island (no neighbors)')\n",
      "('WARNING: ', '48201520500', ' is an island (no neighbors)')\n",
      "('WARNING: ', '48201522000', ' is an island (no neighbors)')\n",
      "('WARNING: ', '48201541800', ' is an island (no neighbors)')\n",
      "('WARNING: ', '48209010100', ' is an island (no neighbors)')\n",
      "('WARNING: ', '48209010702', ' is an island (no neighbors)')\n",
      "('WARNING: ', '48215020101', ' is an island (no neighbors)')\n",
      "('WARNING: ', '48215020723', ' is an island (no neighbors)')\n",
      "('WARNING: ', '48215020804', ' is an island (no neighbors)')\n",
      "('WARNING: ', '48215021403', ' is an island (no neighbors)')\n",
      "('WARNING: ', '48215023514', ' is an island (no neighbors)')\n",
      "('WARNING: ', '48215024203', ' is an island (no neighbors)')\n",
      "('WARNING: ', '48245002400', ' is an island (no neighbors)')\n",
      "('WARNING: ', '48273020300', ' is an island (no neighbors)')\n",
      "('WARNING: ', '48277000800', ' is an island (no neighbors)')\n",
      "('WARNING: ', '48303001708', ' is an island (no neighbors)')\n",
      "('WARNING: ', '48303002500', ' is an island (no neighbors)')\n",
      "('WARNING: ', '48319950100', ' is an island (no neighbors)')\n",
      "('WARNING: ', '48321730201', ' is an island (no neighbors)')\n",
      "('WARNING: ', '48329010106', ' is an island (no neighbors)')\n",
      "('WARNING: ', '48339690300', ' is an island (no neighbors)')\n",
      "('WARNING: ', '48355001100', ' is an island (no neighbors)')\n",
      "('WARNING: ', '48355001300', ' is an island (no neighbors)')\n",
      "('WARNING: ', '48355002704', ' is an island (no neighbors)')\n",
      "('WARNING: ', '48363000900', ' is an island (no neighbors)')\n",
      "('WARNING: ', '48375014700', ' is an island (no neighbors)')\n",
      "('WARNING: ', '48423002003', ' is an island (no neighbors)')\n",
      "('WARNING: ', '48439100201', ' is an island (no neighbors)')\n",
      "('WARNING: ', '48439101301', ' is an island (no neighbors)')\n",
      "('WARNING: ', '48439102401', ' is an island (no neighbors)')\n",
      "('WARNING: ', '48439106507', ' is an island (no neighbors)')\n",
      "('WARNING: ', '48439110302', ' is an island (no neighbors)')\n",
      "('WARNING: ', '48439111523', ' is an island (no neighbors)')\n",
      "('WARNING: ', '48439123400', ' is an island (no neighbors)')\n",
      "('WARNING: ', '48441010900', ' is an island (no neighbors)')\n",
      "('WARNING: ', '48453000402', ' is an island (no neighbors)')\n",
      "('WARNING: ', '48453001818', ' is an island (no neighbors)')\n",
      "('WARNING: ', '48453001915', ' is an island (no neighbors)')\n",
      "('WARNING: ', '48453002201', ' is an island (no neighbors)')\n",
      "('WARNING: ', '48453002307', ' is an island (no neighbors)')\n",
      "('WARNING: ', '48453002314', ' is an island (no neighbors)')\n",
      "('WARNING: ', '48453002402', ' is an island (no neighbors)')\n",
      "('WARNING: ', '48469000501', ' is an island (no neighbors)')\n",
      "('WARNING: ', '48471790500', ' is an island (no neighbors)')\n",
      "('WARNING: ', '48479000107', ' is an island (no neighbors)')\n",
      "('WARNING: ', '48479001300', ' is an island (no neighbors)')\n",
      "('WARNING: ', '48479001900', ' is an island (no neighbors)')\n",
      "('WARNING: ', '48485011000', ' is an island (no neighbors)')\n"
     ]
    },
    {
     "data": {
      "text/plain": [
       "{}"
      ]
     },
     "execution_count": 55,
     "metadata": {},
     "output_type": "execute_result"
    }
   ],
   "source": [
    "# transform the queen weights\n",
    "w_queen.set_transform('R')\n",
    "w_queen[label]"
   ]
  },
  {
   "cell_type": "code",
   "execution_count": 56,
   "metadata": {},
   "outputs": [
    {
     "data": {
      "text/plain": [
       "{'48025950500': 0.008232753933109464,\n",
       " '48029140300': 0.08263783371911909,\n",
       " '48029152201': 0.08267825082420831,\n",
       " '48029160901': 0.10949849461731447,\n",
       " '48029170401': 0.05902015079093859,\n",
       " '48029171000': 0.06568872299207794,\n",
       " '48029171100': 0.06533160833565992,\n",
       " '48029171902': 0.05030550106153124,\n",
       " '48029180602': 0.04761365262659351,\n",
       " '48029180902': 0.04313386942604558,\n",
       " '48029181705': 0.044247647578708686,\n",
       " '48029181725': 0.046001174539673596,\n",
       " '48029181819': 0.0320305944033456,\n",
       " '48029181823': 0.030216202264941996,\n",
       " '48029190901': 0.041381063926280305,\n",
       " '48029191003': 0.04251954627070352,\n",
       " '48029191202': 0.03716314849666733,\n",
       " '48209010100': 0.011837514970117797,\n",
       " '48209010702': 0.010929474202731253,\n",
       " '48319950100': 0.005859739246132039,\n",
       " '48453000203': 0.00751191909112949,\n",
       " '48453000204': 0.007562361373592427,\n",
       " '48453000402': 0.007590553418257023,\n",
       " '48453000500': 0.007587744087148726,\n",
       " '48453001818': 0.007241373146354116,\n",
       " '48453001915': 0.008225440957594428,\n",
       " '48453002201': 0.007250567605666212,\n",
       " '48453002307': 0.00799504254960194,\n",
       " '48453002314': 0.007897015057350196,\n",
       " '48453002402': 0.00824010166185764,\n",
       " '48469000501': 0.006570936825547536}"
      ]
     },
     "execution_count": 56,
     "metadata": {},
     "output_type": "execute_result"
    }
   ],
   "source": [
    "# transform the linear-decay distance-based weights\n",
    "w_dist.set_transform('R')\n",
    "w_dist[label]"
   ]
  },
  {
   "cell_type": "markdown",
   "metadata": {},
   "source": [
    "PySAL supports the following transformations:\n",
    "\n",
    "  - O: original, returning the object to the initial state\n",
    "  - B: binary, with every neighbor having assigned a weight of 1\n",
    "  - R: row-based, with all the neighbors of a given observation adding up to 1\n",
    "  - V: variance stabilizing, with the sum of all the weights being constrained to the number of observations\n",
    "\n",
    "**It can take a long time to calculate a weights matrix for a large data set.**\n",
    "\n",
    "Once you've created yours, you might want to save it to disk to re-use in subsequent analyses."
   ]
  },
  {
   "cell_type": "code",
   "execution_count": 57,
   "metadata": {},
   "outputs": [],
   "source": [
    "# save your matrix to disk\n",
    "import libpysal\n",
    "f = libpysal.io.open('tracts_queen.gal', 'w')\n",
    "f.write(w_queen)\n",
    "f.close()"
   ]
  },
  {
   "cell_type": "code",
   "execution_count": 58,
   "metadata": {},
   "outputs": [
    {
     "name": "stderr",
     "output_type": "stream",
     "text": [
      "/Users/sarahluw/.pyenv/versions/3.6.2/envs/my-virtual-env-3.6.2/lib/python3.6/site-packages/libpysal/weights/weights.py:172: UserWarning: The weights matrix is not fully connected: \n",
      " There are 153 disconnected components.\n",
      " There are 117 islands with ids: 48025950500, 48029140300, 48029152000, 48029152201, 48029160901, 48029170401, 48029180602, 48029181819, 48029181823, 48037010700, 48039661200, 48041000201, 48061012508, 48061013104, 48061013206, 48085031709, 48085032003, 48113001502, 48113003902, 48113006100, 48113006200, 48113007914, 48113008703, 48113009201, 48113012206, 48113013717, 48113013725, 48113015404, 48113015900, 48113016202, 48113016610, 48113016803, 48113016902, 48113017704, 48113019040, 48113019206, 48121020504, 48121020601, 48121021637, 48135003100, 48139061600, 48141002900, 48141003502, 48143950500, 48167721900, 48167722200, 48167723000, 48167724700, 48181001300, 48183000900, 48201220400, 48201223001, 48201230600, 48201231300, 48201231500, 48201251200, 48201312300, 48201312900, 48201313300, 48201320602, 48201323701, 48201331602, 48201332500, 48201341301, 48201350500, 48201422301, 48201450400, 48201452100, 48201453401, 48201453502, 48201520500, 48201522000, 48201541800, 48209010100, 48209010702, 48215020101, 48215020723, 48215020804, 48215021403, 48215023514, 48215024203, 48245002400, 48273020300, 48277000800, 48303001708, 48303002500, 48319950100, 48321730201, 48329010106, 48339690300, 48355001100, 48355001300, 48355002704, 48363000900, 48375014700, 48423002003, 48439100201, 48439101301, 48439102401, 48439106507, 48439110302, 48439111523, 48439123400, 48441010900, 48453000402, 48453001818, 48453001915, 48453002201, 48453002307, 48453002314, 48453002402, 48469000501, 48471790500, 48479000107, 48479001300, 48479001900, 48485011000.\n",
      "  warnings.warn(message)\n"
     ]
    },
    {
     "data": {
      "text/plain": [
       "{}"
      ]
     },
     "execution_count": 58,
     "metadata": {},
     "output_type": "execute_result"
    }
   ],
   "source": [
    "# read a matrix from disk (notice its transformation)\n",
    "w_queen = libpysal.io.open('tracts_queen.gal', 'r').read()\n",
    "w_queen[label]"
   ]
  },
  {
   "cell_type": "markdown",
   "metadata": {},
   "source": [
    "## 4. Spatial lag\n",
    "\n",
    "Spatial lag tells us about values near some spatial unit. Calculate spatial lag of the `med_household_income` variable. If the spatial weights matrix is row-standardized, then the spatial lag is the average value of an observation's neighbors."
   ]
  },
  {
   "cell_type": "code",
   "execution_count": 59,
   "metadata": {},
   "outputs": [],
   "source": [
    "# pick a variable to investigate\n",
    "col = 'med_household_income'"
   ]
  },
  {
   "cell_type": "code",
   "execution_count": 60,
   "metadata": {},
   "outputs": [],
   "source": [
    "# first drop null rows\n",
    "tracts_not_null = tracts[[col, 'geometry']].dropna()\n",
    "y = tracts_not_null[col]"
   ]
  },
  {
   "cell_type": "code",
   "execution_count": 61,
   "metadata": {},
   "outputs": [
    {
     "name": "stdout",
     "output_type": "stream",
     "text": [
      "('WARNING: ', 0, ' is an island (no neighbors)')\n",
      "('WARNING: ', 4, ' is an island (no neighbors)')\n",
      "('WARNING: ', 5, ' is an island (no neighbors)')\n",
      "('WARNING: ', 6, ' is an island (no neighbors)')\n",
      "('WARNING: ', 7, ' is an island (no neighbors)')\n",
      "('WARNING: ', 8, ' is an island (no neighbors)')\n",
      "('WARNING: ', 12, ' is an island (no neighbors)')\n",
      "('WARNING: ', 16, ' is an island (no neighbors)')\n",
      "('WARNING: ', 17, ' is an island (no neighbors)')\n",
      "('WARNING: ', 21, ' is an island (no neighbors)')\n",
      "('WARNING: ', 22, ' is an island (no neighbors)')\n",
      "('WARNING: ', 23, ' is an island (no neighbors)')\n",
      "('WARNING: ', 28, ' is an island (no neighbors)')\n",
      "('WARNING: ', 29, ' is an island (no neighbors)')\n",
      "('WARNING: ', 30, ' is an island (no neighbors)')\n",
      "('WARNING: ', 34, ' is an island (no neighbors)')\n",
      "('WARNING: ', 35, ' is an island (no neighbors)')\n",
      "('WARNING: ', 36, ' is an island (no neighbors)')\n",
      "('WARNING: ', 37, ' is an island (no neighbors)')\n",
      "('WARNING: ', 38, ' is an island (no neighbors)')\n",
      "('WARNING: ', 39, ' is an island (no neighbors)')\n",
      "('WARNING: ', 43, ' is an island (no neighbors)')\n",
      "('WARNING: ', 44, ' is an island (no neighbors)')\n",
      "('WARNING: ', 45, ' is an island (no neighbors)')\n",
      "('WARNING: ', 46, ' is an island (no neighbors)')\n",
      "('WARNING: ', 47, ' is an island (no neighbors)')\n",
      "('WARNING: ', 48, ' is an island (no neighbors)')\n",
      "('WARNING: ', 51, ' is an island (no neighbors)')\n",
      "('WARNING: ', 52, ' is an island (no neighbors)')\n",
      "('WARNING: ', 53, ' is an island (no neighbors)')\n",
      "('WARNING: ', 56, ' is an island (no neighbors)')\n",
      "('WARNING: ', 57, ' is an island (no neighbors)')\n",
      "('WARNING: ', 58, ' is an island (no neighbors)')\n",
      "('WARNING: ', 59, ' is an island (no neighbors)')\n",
      "('WARNING: ', 62, ' is an island (no neighbors)')\n",
      "('WARNING: ', 63, ' is an island (no neighbors)')\n",
      "('WARNING: ', 64, ' is an island (no neighbors)')\n",
      "('WARNING: ', 65, ' is an island (no neighbors)')\n",
      "('WARNING: ', 66, ' is an island (no neighbors)')\n",
      "('WARNING: ', 67, ' is an island (no neighbors)')\n",
      "('WARNING: ', 68, ' is an island (no neighbors)')\n",
      "('WARNING: ', 69, ' is an island (no neighbors)')\n",
      "('WARNING: ', 70, ' is an island (no neighbors)')\n",
      "('WARNING: ', 71, ' is an island (no neighbors)')\n",
      "('WARNING: ', 72, ' is an island (no neighbors)')\n",
      "('WARNING: ', 73, ' is an island (no neighbors)')\n",
      "('WARNING: ', 74, ' is an island (no neighbors)')\n",
      "('WARNING: ', 77, ' is an island (no neighbors)')\n",
      "('WARNING: ', 79, ' is an island (no neighbors)')\n",
      "('WARNING: ', 80, ' is an island (no neighbors)')\n",
      "('WARNING: ', 85, ' is an island (no neighbors)')\n",
      "('WARNING: ', 88, ' is an island (no neighbors)')\n",
      "('WARNING: ', 89, ' is an island (no neighbors)')\n",
      "('WARNING: ', 90, ' is an island (no neighbors)')\n",
      "('WARNING: ', 91, ' is an island (no neighbors)')\n",
      "('WARNING: ', 94, ' is an island (no neighbors)')\n",
      "('WARNING: ', 95, ' is an island (no neighbors)')\n",
      "('WARNING: ', 96, ' is an island (no neighbors)')\n",
      "('WARNING: ', 97, ' is an island (no neighbors)')\n",
      "('WARNING: ', 99, ' is an island (no neighbors)')\n",
      "('WARNING: ', 100, ' is an island (no neighbors)')\n",
      "('WARNING: ', 102, ' is an island (no neighbors)')\n",
      "('WARNING: ', 103, ' is an island (no neighbors)')\n",
      "('WARNING: ', 104, ' is an island (no neighbors)')\n",
      "('WARNING: ', 105, ' is an island (no neighbors)')\n",
      "('WARNING: ', 106, ' is an island (no neighbors)')\n",
      "('WARNING: ', 110, ' is an island (no neighbors)')\n",
      "('WARNING: ', 111, ' is an island (no neighbors)')\n",
      "('WARNING: ', 114, ' is an island (no neighbors)')\n",
      "('WARNING: ', 115, ' is an island (no neighbors)')\n",
      "('WARNING: ', 118, ' is an island (no neighbors)')\n",
      "('WARNING: ', 120, ' is an island (no neighbors)')\n",
      "('WARNING: ', 129, ' is an island (no neighbors)')\n",
      "('WARNING: ', 134, ' is an island (no neighbors)')\n",
      "('WARNING: ', 135, ' is an island (no neighbors)')\n",
      "('WARNING: ', 136, ' is an island (no neighbors)')\n",
      "('WARNING: ', 137, ' is an island (no neighbors)')\n",
      "('WARNING: ', 138, ' is an island (no neighbors)')\n",
      "('WARNING: ', 141, ' is an island (no neighbors)')\n",
      "('WARNING: ', 142, ' is an island (no neighbors)')\n",
      "('WARNING: ', 147, ' is an island (no neighbors)')\n",
      "('WARNING: ', 152, ' is an island (no neighbors)')\n",
      "('WARNING: ', 153, ' is an island (no neighbors)')\n",
      "('WARNING: ', 154, ' is an island (no neighbors)')\n",
      "('WARNING: ', 160, ' is an island (no neighbors)')\n",
      "('WARNING: ', 163, ' is an island (no neighbors)')\n",
      "('WARNING: ', 167, ' is an island (no neighbors)')\n",
      "('WARNING: ', 168, ' is an island (no neighbors)')\n",
      "('WARNING: ', 169, ' is an island (no neighbors)')\n",
      "('WARNING: ', 170, ' is an island (no neighbors)')\n",
      "('WARNING: ', 171, ' is an island (no neighbors)')\n",
      "('WARNING: ', 172, ' is an island (no neighbors)')\n",
      "('WARNING: ', 173, ' is an island (no neighbors)')\n",
      "('WARNING: ', 174, ' is an island (no neighbors)')\n",
      "('WARNING: ', 175, ' is an island (no neighbors)')\n",
      "('WARNING: ', 176, ' is an island (no neighbors)')\n",
      "('WARNING: ', 177, ' is an island (no neighbors)')\n",
      "('WARNING: ', 178, ' is an island (no neighbors)')\n",
      "('WARNING: ', 179, ' is an island (no neighbors)')\n",
      "('WARNING: ', 181, ' is an island (no neighbors)')\n",
      "('WARNING: ', 182, ' is an island (no neighbors)')\n",
      "('WARNING: ', 186, ' is an island (no neighbors)')\n",
      "('WARNING: ', 188, ' is an island (no neighbors)')\n",
      "('WARNING: ', 189, ' is an island (no neighbors)')\n",
      "('WARNING: ', 192, ' is an island (no neighbors)')\n",
      "('WARNING: ', 194, ' is an island (no neighbors)')\n",
      "('WARNING: ', 195, ' is an island (no neighbors)')\n",
      "('WARNING: ', 196, ' is an island (no neighbors)')\n",
      "('WARNING: ', 197, ' is an island (no neighbors)')\n",
      "('WARNING: ', 198, ' is an island (no neighbors)')\n",
      "('WARNING: ', 199, ' is an island (no neighbors)')\n",
      "('WARNING: ', 200, ' is an island (no neighbors)')\n",
      "('WARNING: ', 201, ' is an island (no neighbors)')\n",
      "('WARNING: ', 202, ' is an island (no neighbors)')\n",
      "('WARNING: ', 203, ' is an island (no neighbors)')\n",
      "('WARNING: ', 204, ' is an island (no neighbors)')\n",
      "('WARNING: ', 205, ' is an island (no neighbors)')\n"
     ]
    },
    {
     "name": "stderr",
     "output_type": "stream",
     "text": [
      "/Users/sarahluw/.pyenv/versions/3.6.2/envs/my-virtual-env-3.6.2/lib/python3.6/site-packages/libpysal/weights/_contW_lists.py:31: ShapelyDeprecationWarning: Iteration over multi-part geometries is deprecated and will be removed in Shapely 2.0. Use the `geoms` property to access the constituent parts of a multi-part geometry.\n",
      "  return list(it.chain(*(_get_boundary_points(part.boundary) for part in shape)))\n",
      "/Users/sarahluw/.pyenv/versions/3.6.2/envs/my-virtual-env-3.6.2/lib/python3.6/site-packages/libpysal/weights/weights.py:172: UserWarning: The weights matrix is not fully connected: \n",
      " There are 153 disconnected components.\n",
      " There are 117 islands with ids: 0, 4, 5, 6, 7, 8, 12, 16, 17, 21, 22, 23, 28, 29, 30, 34, 35, 36, 37, 38, 39, 43, 44, 45, 46, 47, 48, 51, 52, 53, 56, 57, 58, 59, 62, 63, 64, 65, 66, 67, 68, 69, 70, 71, 72, 73, 74, 77, 79, 80, 85, 88, 89, 90, 91, 94, 95, 96, 97, 99, 100, 102, 103, 104, 105, 106, 110, 111, 114, 115, 118, 120, 129, 134, 135, 136, 137, 138, 141, 142, 147, 152, 153, 154, 160, 163, 167, 168, 169, 170, 171, 172, 173, 174, 175, 176, 177, 178, 179, 181, 182, 186, 188, 189, 192, 194, 195, 196, 197, 198, 199, 200, 201, 202, 203, 204, 205.\n",
      "  warnings.warn(message)\n"
     ]
    }
   ],
   "source": [
    "# recompute spatial weights for these observations then row-standardize\n",
    "w_queen = Queen.from_dataframe(tracts_not_null)\n",
    "w_queen.set_transform('R')"
   ]
  },
  {
   "cell_type": "code",
   "execution_count": 62,
   "metadata": {},
   "outputs": [],
   "source": [
    "# compute spatial lag\n",
    "y_lag = lag_spatial(w_queen, y)"
   ]
  },
  {
   "cell_type": "code",
   "execution_count": 63,
   "metadata": {},
   "outputs": [
    {
     "data": {
      "text/html": [
       "<div>\n",
       "<style scoped>\n",
       "    .dataframe tbody tr th:only-of-type {\n",
       "        vertical-align: middle;\n",
       "    }\n",
       "\n",
       "    .dataframe tbody tr th {\n",
       "        vertical-align: top;\n",
       "    }\n",
       "\n",
       "    .dataframe thead th {\n",
       "        text-align: right;\n",
       "    }\n",
       "</style>\n",
       "<table border=\"1\" class=\"dataframe\">\n",
       "  <thead>\n",
       "    <tr style=\"text-align: right;\">\n",
       "      <th></th>\n",
       "      <th>med_household_income</th>\n",
       "      <th>med_household_income_lag</th>\n",
       "    </tr>\n",
       "    <tr>\n",
       "      <th>index</th>\n",
       "      <th></th>\n",
       "      <th></th>\n",
       "    </tr>\n",
       "  </thead>\n",
       "  <tbody>\n",
       "    <tr>\n",
       "      <th>48113015900</th>\n",
       "      <td>29773</td>\n",
       "      <td>0</td>\n",
       "    </tr>\n",
       "    <tr>\n",
       "      <th>48439110302</th>\n",
       "      <td>42670</td>\n",
       "      <td>0</td>\n",
       "    </tr>\n",
       "    <tr>\n",
       "      <th>48029152000</th>\n",
       "      <td>40625</td>\n",
       "      <td>0</td>\n",
       "    </tr>\n",
       "    <tr>\n",
       "      <th>48029190901</th>\n",
       "      <td>39583</td>\n",
       "      <td>49821</td>\n",
       "    </tr>\n",
       "    <tr>\n",
       "      <th>48441010900</th>\n",
       "      <td>38513</td>\n",
       "      <td>0</td>\n",
       "    </tr>\n",
       "    <tr>\n",
       "      <th>48355001100</th>\n",
       "      <td>18717</td>\n",
       "      <td>0</td>\n",
       "    </tr>\n",
       "    <tr>\n",
       "      <th>48167724101</th>\n",
       "      <td>44583</td>\n",
       "      <td>35057</td>\n",
       "    </tr>\n",
       "    <tr>\n",
       "      <th>48277000800</th>\n",
       "      <td>25491</td>\n",
       "      <td>0</td>\n",
       "    </tr>\n",
       "    <tr>\n",
       "      <th>48201341301</th>\n",
       "      <td>50563</td>\n",
       "      <td>0</td>\n",
       "    </tr>\n",
       "    <tr>\n",
       "      <th>48061013903</th>\n",
       "      <td>24472</td>\n",
       "      <td>29986</td>\n",
       "    </tr>\n",
       "  </tbody>\n",
       "</table>\n",
       "</div>"
      ],
      "text/plain": [
       "             med_household_income  med_household_income_lag\n",
       "index                                                      \n",
       "48113015900                 29773                         0\n",
       "48439110302                 42670                         0\n",
       "48029152000                 40625                         0\n",
       "48029190901                 39583                     49821\n",
       "48441010900                 38513                         0\n",
       "48355001100                 18717                         0\n",
       "48167724101                 44583                     35057\n",
       "48277000800                 25491                         0\n",
       "48201341301                 50563                         0\n",
       "48061013903                 24472                     29986"
      ]
     },
     "execution_count": 63,
     "metadata": {},
     "output_type": "execute_result"
    }
   ],
   "source": [
    "col_lag = '{}_lag'.format(col)\n",
    "data_lag = pd.DataFrame(data={col:y, col_lag:y_lag}).astype(int)\n",
    "data_lag.sample(10)"
   ]
  },
  {
   "cell_type": "markdown",
   "metadata": {},
   "source": [
    "## 6. Spatial autocorrelation\n",
    "\n",
    "Statistical models typically assume that the observations are independent of each other. This assumption is violated when a variable's value at one location is correlated with its value at nearby locations. This is called spatial autocorrelation, and is common in the real world due to proximity-based spillover effects. Substantive spatial autocorrelation can be explained by social or economic theory that describes a spatial relationship. Nuisance spatial autocorrelation stems from data problems.\n",
    "\n",
    "*Positive spatial autocorrelation*: nearby values tend to be more similar (e.g. income, home values, temperature, rainfall)\n",
    "\n",
    "*Negative spatial autocorrelation*: nearby values tend to be more dissimilar (e.g. fire stations, grocery stores)"
   ]
  },
  {
   "cell_type": "markdown",
   "metadata": {},
   "source": [
    "### 6.1. Moran's I\n",
    "\n",
    "Moran's I measures *global* spatial autocorrelation: do values tend to be near other (dis)similar values. Values > 1 indicate positive spatial autocorrelation, and values < 1 indicate negative spatial autocorrelation."
   ]
  },
  {
   "cell_type": "code",
   "execution_count": 64,
   "metadata": {},
   "outputs": [],
   "source": [
    "# calculate the statistic\n",
    "from esda.moran import Moran\n",
    "mi = Moran(data_lag[col], w_queen)"
   ]
  },
  {
   "cell_type": "code",
   "execution_count": 65,
   "metadata": {},
   "outputs": [
    {
     "data": {
      "text/plain": [
       "0.633274894004128"
      ]
     },
     "execution_count": 65,
     "metadata": {},
     "output_type": "execute_result"
    }
   ],
   "source": [
    "# show the I value\n",
    "mi.I"
   ]
  },
  {
   "cell_type": "code",
   "execution_count": 66,
   "metadata": {},
   "outputs": [
    {
     "data": {
      "text/plain": [
       "0.001"
      ]
     },
     "execution_count": 66,
     "metadata": {},
     "output_type": "execute_result"
    }
   ],
   "source": [
    "# statistical inference: show the p value\n",
    "mi.p_sim"
   ]
  },
  {
   "cell_type": "markdown",
   "metadata": {},
   "source": [
    "If we generated a large number of maps with the same values but randomly allocated over space, and calculated Moran's I for each of these maps, only 0.05% of them would display a larger absolute value than the one we computed from the real-world data set. Thus there is a 0.05% chance of getting the observed value of Moran's I if the spatial distribution of our variable is random. We can conclude that the variable's distribution is statistically-significantly postively spatially autocorrelated. We'll talk more about inference in the other notebook"
   ]
  },
  {
   "cell_type": "markdown",
   "metadata": {},
   "source": [
    "### 6.2. Moran plots\n",
    "\n",
    "A Moran plot scatter plots the spatially-lagged values (y-axis) vs the original variable's values (x-axis). Moran's I equals the slope of the line in a Moran plot, which makes this all a bit easier to conceptualize."
   ]
  },
  {
   "cell_type": "code",
   "execution_count": 67,
   "metadata": {},
   "outputs": [
    {
     "data": {
      "image/png": "[encoded data removed]",
      "text/plain": [
       "<Figure size 432x432 with 1 Axes>"
      ]
     },
     "metadata": {
      "needs_background": "light"
     },
     "output_type": "display_data"
    }
   ],
   "source": [
    "fig, ax = plt.subplots(figsize=(6, 6))\n",
    "sns.regplot(x=col, y=col_lag, data=data_lag, scatter_kws={'s':1})\n",
    "plt.show()"
   ]
  },
  {
   "cell_type": "code",
   "execution_count": 68,
   "metadata": {},
   "outputs": [],
   "source": [
    "# standardize the vector (i.e., calculate z-scores)\n",
    "y_std = (y - y.mean()) / y.std()"
   ]
  },
  {
   "cell_type": "code",
   "execution_count": 69,
   "metadata": {},
   "outputs": [],
   "source": [
    "# compute the spatial lag of the standardized vector and save it as a series with same index\n",
    "y_std_lag = pd.Series(lag_spatial(w_queen, y_std), index=y_std.index, name=col_lag)"
   ]
  },
  {
   "cell_type": "code",
   "execution_count": 70,
   "metadata": {},
   "outputs": [
    {
     "data": {
      "image/png": "[encoded data removed]",
      "text/plain": [
       "<Figure size 432x432 with 1 Axes>"
      ]
     },
     "metadata": {
      "needs_background": "light"
     },
     "output_type": "display_data"
    }
   ],
   "source": [
    "# standardized moran's plot, ignoring outliers beyond 3 std devs\n",
    "fig, ax = plt.subplots(figsize=(6, 6))\n",
    "ax.set_xlim(-3, 3)\n",
    "ax.set_ylim(-3, 3)\n",
    "plt.axvline(0, c='k', alpha=0.5)\n",
    "plt.axhline(0, c='k', alpha=0.5)\n",
    "sns.regplot(ax=ax, x=y_std, y=y_std_lag, scatter_kws={'s':1})\n",
    "plt.show()"
   ]
  },
  {
   "cell_type": "markdown",
   "metadata": {},
   "source": [
    "Notice the 95% confidence interval shading and the positive slope. Given the value of Moran's I that we calculated earlier (and its p-value), we can conclude that the slope of the line is statistically-significantly different from zero. This plot makes it visually apparent."
   ]
  },
  {
   "cell_type": "code",
   "execution_count": 71,
   "metadata": {},
   "outputs": [
    {
     "name": "stdout",
     "output_type": "stream",
     "text": [
      "m=0.2736, b=-0.0257, r^2=0.1591, p=0.0000\n"
     ]
    }
   ],
   "source": [
    "# estimate a simple linear regression model (of the line above)\n",
    "m, b, r, p, se = stats.linregress(x=y_std, y=y_std_lag)\n",
    "print('m={:.4f}, b={:.4f}, r^2={:.4f}, p={:.4f}'.format(m, b, r ** 2, p))"
   ]
  },
  {
   "cell_type": "code",
   "execution_count": 72,
   "metadata": {},
   "outputs": [
    {
     "data": {
      "text/plain": [
       "0.633274894004128"
      ]
     },
     "execution_count": 72,
     "metadata": {},
     "output_type": "execute_result"
    }
   ],
   "source": [
    "# the slope is the same as moran's I, calculated earlier\n",
    "mi.I"
   ]
  },
  {
   "cell_type": "markdown",
   "metadata": {},
   "source": [
    "### 6.3. LISAs\n",
    "\n",
    "Local Indicators of Spatial Autocorrelation: are there specific areas with high concentrations of (dis)similar values?\n",
    "\n",
    "Moran's I tells us about spatial clustering across the data set as a whole. However, it does not tell us where these clusters occur. For that, we need a local measure. Essentially, we will classify the data set's observations into four groups based on the four quadrants of the Moran plot:\n",
    "\n",
    "  1. **HH**: high value near other high values (*hot spots*)\n",
    "  1. **LL**: low value near other low values (*cold spots*)\n",
    "  1. **HL**: high value near low values (*spatial outliers*)\n",
    "  1. **LH**: low value near high values (*spatial outliers*)"
   ]
  },
  {
   "cell_type": "code",
   "execution_count": 73,
   "metadata": {},
   "outputs": [
    {
     "data": {
      "image/png": "[encoded data removed]",
      "text/plain": [
       "<Figure size 432x432 with 1 Axes>"
      ]
     },
     "metadata": {
      "needs_background": "light"
     },
     "output_type": "display_data"
    }
   ],
   "source": [
    "# standardized moran's plot again, from subsection above\n",
    "fig, ax = plt.subplots(figsize=(6, 6))\n",
    "ax.set_xlim(-3, 3)\n",
    "ax.set_ylim(-3, 3)\n",
    "ax.axvline(0, c='k', ls=':', alpha=0.5)\n",
    "ax.axhline(0, c='k', ls=':', alpha=0.5)\n",
    "ax.text(1.25, 1.25, 'HH', fontsize=20)\n",
    "ax.text(1.25, -1.75, 'HL', fontsize=20)\n",
    "ax.text(-1.75, 1.25, 'LH', fontsize=20)\n",
    "ax.text(-1.75, -1.75, 'LL', fontsize=20)\n",
    "ax.set_title('Moran Plot')\n",
    "sns.regplot(ax=ax, x=y_std, y=y_std_lag, scatter_kws={'s':1})\n",
    "plt.show()"
   ]
  },
  {
   "cell_type": "code",
   "execution_count": null,
   "metadata": {},
   "outputs": [],
   "source": []
  }
 ],
 "metadata": {
  "kernelspec": {
   "display_name": "Python 3",
   "language": "python",
   "name": "python3"
  },
  "language_info": {
   "codemirror_mode": {
    "name": "ipython",
    "version": 3
   },
   "file_extension": ".py",
   "mimetype": "text/x-python",
   "name": "python",
   "nbconvert_exporter": "python",
   "pygments_lexer": "ipython3",
   "version": "3.6.2"
  }
 },
 "nbformat": 4,
 "nbformat_minor": 2
}
