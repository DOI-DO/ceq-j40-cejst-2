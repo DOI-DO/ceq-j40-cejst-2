{
 "cells": [
  {
   "cell_type": "markdown",
   "metadata": {},
   "source": [
    "#### Methodology to address fundamental problem 1 itemized in Issue 1024 - follow-up compare tabulations and relative household burden. This time I extend the 12-11 notebook to look at how the percentile ranks affects the proportion of tracts considered as burdened versus the current methodology."
   ]
  },
  {
   "cell_type": "markdown",
   "metadata": {},
   "source": [
    "### Indicator reviewed: \n",
    "\n",
    "Socioeconomic Factors Indicator reviewed\n",
    "*  [Extreme Housing Burden](#housingburden)"
   ]
  },
  {
   "cell_type": "markdown",
   "metadata": {},
   "source": [
    "#### Packages"
   ]
  },
  {
   "cell_type": "code",
   "execution_count": 1,
   "metadata": {},
   "outputs": [
    {
     "name": "stderr",
     "output_type": "stream",
     "text": [
      "/Users/sarahluw/.pyenv/versions/3.6.2/envs/my-virtual-env-3.6.2/lib/python3.6/site-packages/geopandas/_compat.py:110: UserWarning: The Shapely GEOS version (3.9.1-CAPI-1.14.2) is incompatible with the GEOS version PyGEOS was compiled with (3.10.1-CAPI-1.16.0). Conversions between both will be slow.\n",
      "  shapely_geos_version, geos_capi_version_string\n",
      "/Users/sarahluw/.pyenv/versions/3.6.2/envs/my-virtual-env-3.6.2/lib/python3.6/site-packages/fuzzywuzzy/fuzz.py:11: UserWarning: Using slow pure-python SequenceMatcher. Install python-Levenshtein to remove this warning\n",
      "  warnings.warn('Using slow pure-python SequenceMatcher. Install python-Levenshtein to remove this warning')\n"
     ]
    }
   ],
   "source": [
    "import math\n",
    "import numpy as np\n",
    "import os\n",
    "import pandas as pd\n",
    "\n",
    "import seaborn as sns\n",
    "import matplotlib.pyplot as plt\n",
    "import pandas as pd\n",
    "from cenpy import products\n",
    "%matplotlib inline"
   ]
  },
  {
   "cell_type": "markdown",
   "metadata": {},
   "source": [
    "### ETL process for acquiring relevant tables"
   ]
  },
  {
   "cell_type": "markdown",
   "metadata": {},
   "source": [
    "#### NOTE: If you ran the ETL Process to acquire Table 8 in the other notebook of this draft PR you do not need to run the ETL cell block again"
   ]
  },
  {
   "cell_type": "code",
   "execution_count": 3,
   "metadata": {},
   "outputs": [],
   "source": [
    "# Copy and adapt certain sections of code from data_pipeline.utils \n",
    "\n",
    "def download_hud_dataset():\n",
    "    DOWNLOAD_FILENAME = \"HUD_ZIPPED.csv\"\n",
    "    HOUSING_FTP_URL = \"https://www.huduser.gov/portal/datasets/cp/2014thru2018-140-csv.zip\"    \n",
    "    response = requests.get(HOUSING_FTP_URL, verify=True)\n",
    "    if response.status_code == 200:\n",
    "        file_contents = response.content\n",
    "    else:\n",
    "        sys.exit(\n",
    "            f\"HTTP response {response.status_code} from url {file_url}. Info: {response.content}\"\n",
    "        )\n",
    "\n",
    "    # Write the contents to disk.\n",
    "    file = open(DOWNLOAD_FILENAME, \"wb\")\n",
    "    file.write(file_contents)\n",
    "    file.close()\n",
    "    \n",
    "def extract_zipped_download(zip_file_path, unzipped_path):\n",
    "    with zipfile.ZipFile(zip_file_path, \"r\") as zip_ref:\n",
    "        zip_ref.extractall(unzipped_path)\n",
    "    # cleanup temporary file\n",
    "    os.remove(zip_file_path)\n",
    "    \n",
    "def up_one_directory(path):\n",
    "    try:\n",
    "        # from Python 3.6\n",
    "        parent_dir = Path(path).parents[1]\n",
    "        # for Python 3.4/3.5, use str to convert the path to string\n",
    "        # parent_dir = str(Path(path).parents[1])\n",
    "        shutil.move(path, parent_dir)\n",
    "    except IndexError:\n",
    "        # no upper directory\n",
    "        pass\n",
    "\n",
    "CURRENT_DIRECTORY = os.getcwd()\n",
    "download_hud_dataset()\n",
    "extract_zipped_download(CURRENT_DIRECTORY + \"/HUD_ZIPPED.csv\", CURRENT_DIRECTORY)  \n",
    "up_one_directory(CURRENT_DIRECTORY + \"/140/Table8.csv\")\n",
    "shutil.rmtree(\"./140/\")"
   ]
  },
  {
   "cell_type": "markdown",
   "metadata": {},
   "source": [
    "### Extreme Housing Burden <a id='housingburden'></a>\n",
    "\n",
    "The Extreme Housing Burden indicator represents the proportion of low-income households that have to spend more than half their income on rent. These households experience higher levels of stress, report lower health, and may delay medical treatment because of its high cost.\n",
    "\n",
    "The Extreme Housing Burden indicator measures the percent of households in a census tract that are:\n",
    "\n",
    "1. Making less than 80% of the Area Median Family Income as determined by the Department of Housing and Urban Development (HUD), and\n",
    "2. Paying greater than 50% of their income to housing costs. \n",
    "\n",
    "This data is sourced from the 2014-2018 Comprehensive Housing Affordability Strategy dataset from the Department of Housing and Urban Development (HUD) using the census tract geographic summary level, and contains cost burdens for households by percent HUD-adjusted median family income (HAMFI) category. This data can be found [here](https://www.huduser.gov/portal/datasets/cp.html). \n",
    "\n",
    "Because CHAS data is based on American Communities Survey (ACS) estimates, which come from a sample of the population, they may be unreliable if based on a small sample or population size.\n",
    "\n",
    "The standard error and relative standard error were used to evaluate the reliability of each estimate using CalEnviroScreen’s methodology. \n",
    "\n",
    "Census tract estimates that met either of the following criteria were considered reliable and included in the analysis [(CalEnviroScreen, 2017, page 129)](https://oehha.ca.gov/media/downloads/calenviroscreen/report/ces3report.pdf ):\n",
    "\n",
    "- Relative standard error less than 50 (meaning the standard error was less than half of the estimate), OR \n",
    "- Standard error less than the mean standard error of all census tract estimates \n",
    "\n",
    "Formulas for calculating the standard error of sums, proportions, and ratio come from the [American Communities Survey Office](https://www2.census.gov/programs-surveys/acs/tech_docs/accuracy/MultiyearACSAccuracyofData2013.pdf).\n",
    "\n",
    "Note that this code creates a score and rank by state, for every state."
   ]
  },
  {
   "cell_type": "markdown",
   "metadata": {},
   "source": [
    "The relevant variables in table 8 of the CHAS dataset are the following (CHAS data dictionary available [here](https://www.huduser.gov/portal/datasets/cp/CHAS-data-dictionary-14-18.xlsx)):\n",
    "\n",
    "|   Name  |                          Label                      |\n",
    "|---------|-----------------------------------------------------|\n",
    "|T1_est1  |                                   Total Occupied housing units                                      | \n",
    "|T8_est10 |            Owner occupied less than or equal to 30% of HAMFI cost burden greater than 50%           |\n",
    "|T8_est23 |Owner occupied greater than 30% but less than or equal to 50% of HAMFI\tcost burden greater than 50%|\n",
    "|T8_est36 |Owner occupied\tgreater than 50% but less than or equal to 80% of HAMFI\tcost burden greater than 50%|\n",
    "|T8_est76 |           Renter occupied less than or equal to 30% of HAMFI cost burden greater than 50%           |\n",
    "|T8_est89 |Renter occupied\tgreater than 30% but less than or equal to 50% of HAMFI\tcost burden greater than 50%|\n",
    "|T8_est102|Renter occupied\tgreater than 50% but less than or equal to 80% of HAMFI\tcost burden greater than 50%|\n",
    " "
   ]
  },
  {
   "cell_type": "markdown",
   "metadata": {},
   "source": [
    "### Below I also propose an alternate means for ranking census tracts\n",
    "### These steps are outlined and commented below"
   ]
  },
  {
   "cell_type": "code",
   "execution_count": 2,
   "metadata": {},
   "outputs": [
    {
     "name": "stderr",
     "output_type": "stream",
     "text": [
      "/Users/sarahluw/.pyenv/versions/3.6.2/envs/my-virtual-env-3.6.2/lib/python3.6/site-packages/pandas/core/series.py:726: RuntimeWarning: invalid value encountered in sqrt\n",
      "  result = getattr(ufunc, method)(*inputs, **kwargs)\n",
      "/Users/sarahluw/.pyenv/versions/3.6.2/envs/my-virtual-env-3.6.2/lib/python3.6/site-packages/pandas/core/indexing.py:670: SettingWithCopyWarning: \n",
      "A value is trying to be set on a copy of a slice from a DataFrame\n",
      "\n",
      "See the caveats in the documentation: https://pandas.pydata.org/pandas-docs/stable/user_guide/indexing.html#returning-a-view-versus-a-copy\n",
      "  iloc._setitem_with_indexer(indexer, value)\n"
     ]
    }
   ],
   "source": [
    "# Read in the data from https://www.huduser.gov/portal/datasets/cp.html\n",
    "housing = pd.read_csv(\"Table8.csv\", \n",
    "                      encoding = \"ISO-8859-1\",  \n",
    "                      dtype = {'Tract_ID': object, 'st': object, 'geoid': object})\n",
    "\n",
    "# Remove data for states that aren't included in the census (e.g. American Samoa, Guam, etc.):\n",
    "housing.drop(housing.loc[housing['st'] == '72'].index, inplace = True)\n",
    "\n",
    "# Combine owner and renter occupied low-income households that make less than 80% of HAMFI into one variable\n",
    "housing['summed'] = (housing['T8_est10'] + \n",
    "                     housing['T8_est23'] + \n",
    "                     housing['T8_est36'] + \n",
    "                     housing['T8_est76'] + \n",
    "                     housing['T8_est89'] + \n",
    "                     housing['T8_est102'])\n",
    "\n",
    "# Create a variable for the standard error of the summed variables\n",
    "housing['summed_se'] = np.sqrt((housing['T8_moe10'] / 1.645)**2 + \n",
    "                                (housing['T8_moe23'] / 1.645)**2 + \n",
    "                                (housing['T8_moe36'] / 1.645)**2 + \n",
    "                                (housing['T8_moe76'] / 1.645)**2 + \n",
    "                                (housing['T8_moe89'] / 1.645)**2 + \n",
    "                                (housing['T8_moe102'] / 1.645)**2)\n",
    "\n",
    "# Remove the first 7 digits in the FIPS Census Tract ID \n",
    "housing['geoid'] = housing['geoid'].str[-11:]\n",
    "\n",
    "# Find the estimate of the proportion of the population that is heavily rent burdened\n",
    "housing['hbrd_score'] = housing['summed'] / housing['T8_est1']\n",
    "\n",
    "# Change rates where the population is 0 to nan\n",
    "housing['hbrd_score'].replace(np.inf, np.nan, inplace = True)\n",
    "\n",
    "# Create function for calculating the standard error, using the proportions standard error formula\n",
    "#  if the value under the radical is negative, use the ratio standard error formula\n",
    "def se_prop(x, y, se_x, moe_y): \n",
    "    se_y = moe_y / 1.645\n",
    "    test = se_x**2 - (((x**2)/(y**2))*((se_y)**2))\n",
    "    se = np.where(test < 0,\n",
    "                   (1/y) * np.sqrt(se_x**2 + (((x**2)/(y**2))*(se_y**2))), \n",
    "                   (1/y) * np.sqrt(se_x**2 - (((x**2)/(y**2))*(se_y**2))))\n",
    "    return se\n",
    "\n",
    "housing['se'] = se_prop(housing['summed'], housing['T8_est1'], housing['summed_se'], housing['T8_moe1'])\n",
    "\n",
    "# Calculate the relative standard error\n",
    "housing['rse'] = housing['se'] / housing['hbrd_score']*100\n",
    "\n",
    "# Change infinite rse's where the housing burden is 0 to np.nan\n",
    "housing['rse'].replace(np.inf, np.nan, inplace = True)\n",
    "\n",
    "# Calculate the mean standard error for each state\n",
    "housing['mean_state_se'] = np.zeros(len(housing))\n",
    "\n",
    "for state in housing['st'].unique():\n",
    "    mean_se = np.mean(housing[housing['st'] == state]['se'])\n",
    "    housing['mean_state_se'].loc[housing['st'] == state] = mean_se\n",
    "    \n",
    "# Find census tract estimates that meet both of the following criteria and are thus considered unreliable estimates: \n",
    "# RSE less than 50 AND\n",
    "# SE less than the mean state SE or housing burdened low income households\n",
    "# Convert these scores to nan\n",
    "housing.loc[(housing['rse'] >= 50) & (housing['rse'] >= housing['mean_state_se']), 'hbrd_score'] = np.nan\n",
    "\n",
    "# Rename columns\n",
    "housing = housing.rename(columns = {'geoid' :'FIPS_tract_id',\n",
    "                                    'st' : 'state'\n",
    "                                   })\n",
    "\n",
    "# Calculate percentile rank for census tracts with a score above 0, set percentile to 0 if score is 0, for each state\n",
    "housing['hbrd_rank'] = housing[\n",
    "            housing['hbrd_score'] != 0][['hbrd_score',\n",
    "                'state']].groupby('state').rank( \n",
    "                na_option = 'keep', \n",
    "                pct = True) * 100\n",
    "\n",
    "housing.loc[housing['hbrd_score'] == 0, 'hbrd_rank'] = 0\n",
    "\n",
    "# Create final housing burden df\n",
    "housingburden = housing.copy()"
   ]
  },
  {
   "cell_type": "code",
   "execution_count": 3,
   "metadata": {},
   "outputs": [
    {
     "data": {
      "text/html": [
       "<div>\n",
       "<style scoped>\n",
       "    .dataframe tbody tr th:only-of-type {\n",
       "        vertical-align: middle;\n",
       "    }\n",
       "\n",
       "    .dataframe tbody tr th {\n",
       "        vertical-align: top;\n",
       "    }\n",
       "\n",
       "    .dataframe thead th {\n",
       "        text-align: right;\n",
       "    }\n",
       "</style>\n",
       "<table border=\"1\" class=\"dataframe\">\n",
       "  <thead>\n",
       "    <tr style=\"text-align: right;\">\n",
       "      <th></th>\n",
       "      <th>source</th>\n",
       "      <th>sumlevel</th>\n",
       "      <th>FIPS_tract_id</th>\n",
       "      <th>name</th>\n",
       "      <th>state</th>\n",
       "      <th>cnty</th>\n",
       "      <th>tract</th>\n",
       "      <th>T8_est1</th>\n",
       "      <th>T8_est2</th>\n",
       "      <th>T8_est3</th>\n",
       "      <th>...</th>\n",
       "      <th>T8_moe131</th>\n",
       "      <th>T8_moe132</th>\n",
       "      <th>T8_moe133</th>\n",
       "      <th>summed</th>\n",
       "      <th>summed_se</th>\n",
       "      <th>hbrd_score</th>\n",
       "      <th>se</th>\n",
       "      <th>rse</th>\n",
       "      <th>mean_state_se</th>\n",
       "      <th>hbrd_rank</th>\n",
       "    </tr>\n",
       "  </thead>\n",
       "  <tbody>\n",
       "    <tr>\n",
       "      <th>0</th>\n",
       "      <td>2014thru2018</td>\n",
       "      <td>140</td>\n",
       "      <td>01001020100</td>\n",
       "      <td>Census Tract 201, Autauga County, Alabama</td>\n",
       "      <td>01</td>\n",
       "      <td>1</td>\n",
       "      <td>20100</td>\n",
       "      <td>765</td>\n",
       "      <td>570</td>\n",
       "      <td>50</td>\n",
       "      <td>...</td>\n",
       "      <td>12</td>\n",
       "      <td>12</td>\n",
       "      <td>12</td>\n",
       "      <td>80</td>\n",
       "      <td>31.721807</td>\n",
       "      <td>0.104575</td>\n",
       "      <td>0.041032</td>\n",
       "      <td>39.237314</td>\n",
       "      <td>0.036604</td>\n",
       "      <td>46.298077</td>\n",
       "    </tr>\n",
       "    <tr>\n",
       "      <th>1</th>\n",
       "      <td>2014thru2018</td>\n",
       "      <td>140</td>\n",
       "      <td>01001020200</td>\n",
       "      <td>Census Tract 202, Autauga County, Alabama</td>\n",
       "      <td>01</td>\n",
       "      <td>1</td>\n",
       "      <td>20200</td>\n",
       "      <td>720</td>\n",
       "      <td>465</td>\n",
       "      <td>65</td>\n",
       "      <td>...</td>\n",
       "      <td>12</td>\n",
       "      <td>12</td>\n",
       "      <td>12</td>\n",
       "      <td>138</td>\n",
       "      <td>45.531874</td>\n",
       "      <td>0.191667</td>\n",
       "      <td>0.061614</td>\n",
       "      <td>32.146659</td>\n",
       "      <td>0.036604</td>\n",
       "      <td>83.269231</td>\n",
       "    </tr>\n",
       "    <tr>\n",
       "      <th>2</th>\n",
       "      <td>2014thru2018</td>\n",
       "      <td>140</td>\n",
       "      <td>01001020300</td>\n",
       "      <td>Census Tract 203, Autauga County, Alabama</td>\n",
       "      <td>01</td>\n",
       "      <td>1</td>\n",
       "      <td>20300</td>\n",
       "      <td>1295</td>\n",
       "      <td>840</td>\n",
       "      <td>60</td>\n",
       "      <td>...</td>\n",
       "      <td>12</td>\n",
       "      <td>12</td>\n",
       "      <td>12</td>\n",
       "      <td>170</td>\n",
       "      <td>53.722921</td>\n",
       "      <td>0.131274</td>\n",
       "      <td>0.040927</td>\n",
       "      <td>31.176999</td>\n",
       "      <td>0.036604</td>\n",
       "      <td>63.653846</td>\n",
       "    </tr>\n",
       "    <tr>\n",
       "      <th>3</th>\n",
       "      <td>2014thru2018</td>\n",
       "      <td>140</td>\n",
       "      <td>01001020400</td>\n",
       "      <td>Census Tract 204, Autauga County, Alabama</td>\n",
       "      <td>01</td>\n",
       "      <td>1</td>\n",
       "      <td>20400</td>\n",
       "      <td>1640</td>\n",
       "      <td>1260</td>\n",
       "      <td>15</td>\n",
       "      <td>...</td>\n",
       "      <td>12</td>\n",
       "      <td>12</td>\n",
       "      <td>12</td>\n",
       "      <td>145</td>\n",
       "      <td>46.288510</td>\n",
       "      <td>0.088415</td>\n",
       "      <td>0.027822</td>\n",
       "      <td>31.467397</td>\n",
       "      <td>0.036604</td>\n",
       "      <td>34.615385</td>\n",
       "    </tr>\n",
       "    <tr>\n",
       "      <th>4</th>\n",
       "      <td>2014thru2018</td>\n",
       "      <td>140</td>\n",
       "      <td>01001020500</td>\n",
       "      <td>Census Tract 205, Autauga County, Alabama</td>\n",
       "      <td>01</td>\n",
       "      <td>1</td>\n",
       "      <td>20500</td>\n",
       "      <td>4175</td>\n",
       "      <td>2320</td>\n",
       "      <td>175</td>\n",
       "      <td>...</td>\n",
       "      <td>17</td>\n",
       "      <td>17</td>\n",
       "      <td>17</td>\n",
       "      <td>595</td>\n",
       "      <td>147.221693</td>\n",
       "      <td>0.142515</td>\n",
       "      <td>0.034760</td>\n",
       "      <td>24.390193</td>\n",
       "      <td>0.036604</td>\n",
       "      <td>68.221154</td>\n",
       "    </tr>\n",
       "  </tbody>\n",
       "</table>\n",
       "<p>5 rows × 280 columns</p>\n",
       "</div>"
      ],
      "text/plain": [
       "         source  sumlevel FIPS_tract_id  \\\n",
       "0  2014thru2018       140   01001020100   \n",
       "1  2014thru2018       140   01001020200   \n",
       "2  2014thru2018       140   01001020300   \n",
       "3  2014thru2018       140   01001020400   \n",
       "4  2014thru2018       140   01001020500   \n",
       "\n",
       "                                        name state  cnty  tract  T8_est1  \\\n",
       "0  Census Tract 201, Autauga County, Alabama    01     1  20100      765   \n",
       "1  Census Tract 202, Autauga County, Alabama    01     1  20200      720   \n",
       "2  Census Tract 203, Autauga County, Alabama    01     1  20300     1295   \n",
       "3  Census Tract 204, Autauga County, Alabama    01     1  20400     1640   \n",
       "4  Census Tract 205, Autauga County, Alabama    01     1  20500     4175   \n",
       "\n",
       "   T8_est2  T8_est3  ...  T8_moe131  T8_moe132  T8_moe133  summed   summed_se  \\\n",
       "0      570       50  ...         12         12         12      80   31.721807   \n",
       "1      465       65  ...         12         12         12     138   45.531874   \n",
       "2      840       60  ...         12         12         12     170   53.722921   \n",
       "3     1260       15  ...         12         12         12     145   46.288510   \n",
       "4     2320      175  ...         17         17         17     595  147.221693   \n",
       "\n",
       "   hbrd_score        se        rse  mean_state_se  hbrd_rank  \n",
       "0    0.104575  0.041032  39.237314       0.036604  46.298077  \n",
       "1    0.191667  0.061614  32.146659       0.036604  83.269231  \n",
       "2    0.131274  0.040927  31.176999       0.036604  63.653846  \n",
       "3    0.088415  0.027822  31.467397       0.036604  34.615385  \n",
       "4    0.142515  0.034760  24.390193       0.036604  68.221154  \n",
       "\n",
       "[5 rows x 280 columns]"
      ]
     },
     "execution_count": 3,
     "metadata": {},
     "output_type": "execute_result"
    }
   ],
   "source": [
    "housingburden.head()"
   ]
  },
  {
   "cell_type": "code",
   "execution_count": 4,
   "metadata": {},
   "outputs": [
    {
     "data": {
      "text/plain": [
       "(73056, 280)"
      ]
     },
     "execution_count": 4,
     "metadata": {},
     "output_type": "execute_result"
    }
   ],
   "source": [
    "housingburden.shape"
   ]
  },
  {
   "cell_type": "markdown",
   "metadata": {},
   "source": [
    "### As desired we see a uniform distribution for the percentile rank for burdened households"
   ]
  },
  {
   "cell_type": "markdown",
   "metadata": {},
   "source": [
    "### Now we compute for a baseline comparison "
   ]
  },
  {
   "cell_type": "code",
   "execution_count": 5,
   "metadata": {},
   "outputs": [],
   "source": [
    "# Owner occupied numerator fields\n",
    "OWNER_OCCUPIED_NUMERATOR_FIELDS = [\n",
    "    # Column Name\n",
    "    #   Line_Type\n",
    "    #   Tenure\n",
    "    #   Household income\n",
    "    #   Cost burden\n",
    "    #   Facilities\n",
    "    \"T8_est7\",\n",
    "    #   Subtotal\n",
    "    #   Owner occupied\n",
    "    #   less than or equal to 30% of HAMFI\n",
    "    #   greater than 30% but less than or equal to 50%\n",
    "    #   All\n",
    "    \"T8_est10\",\n",
    "    #   Subtotal\n",
    "    #   Owner occupied\n",
    "    #   less than or equal to 30% of HAMFI\n",
    "    #   greater than 50%\n",
    "    #   All\n",
    "    \"T8_est20\",\n",
    "    \n",
    "    #   Subtotal\n",
    "    #   Owner occupied\n",
    "    #   greater than 30% but less than or equal to 50% of HAMFI\n",
    "    #   greater than 30% but less than or equal to 50%\n",
    "    #   All\n",
    "    \"T8_est23\",\n",
    "    #   Subtotal\n",
    "    #   Owner occupied\n",
    "    #   greater than 30% but less than or equal to 50% of HAMFI\n",
    "    #   greater than 50%\n",
    "    #   All\n",
    "    \"T8_est33\",\n",
    "    #   Subtotal\n",
    "    #   Owner occupied\n",
    "    #   greater than 50% but less than or equal to 80% of HAMFI\n",
    "    #   greater than 30% but less than or equal to 50%\n",
    "    #   All\n",
    "    \"T8_est36\",\n",
    "    #   Subtotal\n",
    "    #   Owner occupied\n",
    "    #   greater than 50% but less than or equal to 80% of HAMFI\n",
    "    #   greater than 50%\n",
    "    #   All\n",
    "]\n",
    "\n",
    "# These rows have the values where HAMFI was not computed, b/c of no or negative income.\n",
    "OWNER_OCCUPIED_NOT_COMPUTED_FIELDS = [\n",
    "    # Column Name\n",
    "    #   Line_Type\n",
    "    #   Tenure\n",
    "    #   Household income\n",
    "    #   Cost burden\n",
    "    #   Facilities\n",
    "    \"T8_est13\",\n",
    "    #   Subtotal\n",
    "    #   Owner occupied\n",
    "    #   less than or equal to 30% of HAMFI\n",
    "    #   not computed (no/negative income)\n",
    "    #   All\n",
    "    \"T8_est26\",\n",
    "    #   Subtotal\n",
    "    #   Owner occupied\n",
    "    #   greater than 30% but less than or equal to 50% of HAMFI\n",
    "    #   not computed (no/negative income)\n",
    "    #   All\n",
    "    \"T8_est39\",\n",
    "    #   Subtotal\n",
    "    #   Owner occupied\n",
    "    #   greater than 50% but less than or equal to 80% of HAMFI\n",
    "    #   not computed (no/negative income)\n",
    "    #   All\n",
    "    \"T8_est52\",\n",
    "    #   Subtotal\n",
    "    #   Owner occupied\n",
    "    #   greater than 80% but less than or equal to 100% of HAMFI\n",
    "    #   not computed (no/negative income)\n",
    "    #   All\n",
    "    \"T8_est65\",\n",
    "    #   Subtotal\n",
    "    #   Owner occupied\n",
    "    #   greater than 100% of HAMFI\n",
    "    #   not computed (no/negative income)\n",
    "    #   All\n",
    "]\n",
    "\n",
    "OWNER_OCCUPIED_POPULATION_FIELD = \"T8_est2\"\n",
    "#   Subtotal\n",
    "#   Owner occupied\n",
    "#   All\n",
    "#   All\n",
    "#   All\n",
    "\n",
    "OWNER_OCCUPIED_POPULATION_HAMFI_FIELD = \"T8_est3\"\n",
    "#   Subtotal\n",
    "#   Owner occupied \n",
    "#   All\n",
    "#   All\n",
    "#   All\n",
    "\n",
    "# Renter occupied numerator fields\n",
    "RENTER_OCCUPIED_NUMERATOR_FIELDS = [\n",
    "    # Column Name\n",
    "    #   Line_Type\n",
    "    #   Tenure\n",
    "    #   Household income\n",
    "    #   Cost burden\n",
    "    #   Facilities\n",
    "    \"T8_est73\",\n",
    "    #   Subtotal\n",
    "    #   Renter occupied\n",
    "    #   less than or equal to 30% of HAMFI\n",
    "    #   greater than 30% but less than or equal to 50%\n",
    "    #   All\n",
    "    \"T8_est76\",\n",
    "    #   Subtotal\n",
    "    #   Renter occupied\n",
    "    #   less than or equal to 30% of HAMFI\n",
    "    #   greater than 50%\n",
    "    #   All\n",
    "    \"T8_est86\",\n",
    "    #   Subtotal\n",
    "    #   Renter occupied\n",
    "    #   greater than 30% but less than or equal to 50% of HAMFI\n",
    "    #   greater than 30% but less than or equal to 50%\n",
    "    #   All\n",
    "    \"T8_est89\",\n",
    "    #   Subtotal\n",
    "    #   Renter occupied\n",
    "    #   greater than 30% but less than or equal to 50% of HAMFI\n",
    "    #   greater than 50%\n",
    "    #   All\n",
    "    \"T8_est99\",\n",
    "    #   Subtotal\n",
    "    #   Renter occupied\tgreater than 50% but less than or equal to 80% of HAMFI\n",
    "    #   greater than 30% but less than or equal to 50%\n",
    "    #   All\n",
    "    \"T8_est102\",\n",
    "    #   Subtotal\n",
    "    #   Renter occupied\n",
    "    #   greater than 50% but less than or equal to 80% of HAMFI\n",
    "    #   greater than 50%\n",
    "    #   All\n",
    "]\n",
    "\n",
    "# These rows have the values where HAMFI was not computed, b/c of no or negative income.\n",
    "RENTER_OCCUPIED_NOT_COMPUTED_FIELDS = [\n",
    "    # Column Name\n",
    "    #   Line_Type\n",
    "    #   Tenure\n",
    "    #   Household income\n",
    "    #   Cost burden\n",
    "    #   Facilities\n",
    "    \"T8_est79\",\n",
    "    #   Subtotal\n",
    "    #   Renter occupied\tless than or equal to 30% of HAMFI\n",
    "    #   not computed (no/negative income)\n",
    "    #   All\n",
    "    \"T8_est92\",\n",
    "    #   Subtotal\n",
    "    #   Renter occupied\tgreater than 30% but less than or equal to 50% of HAMFI\n",
    "    #   not computed (no/negative income)\n",
    "    #   All\n",
    "    \"T8_est105\",\n",
    "    #   Subtotal\n",
    "    #   Renter occupied\n",
    "    #   greater than 50% but less than or equal to 80% of HAMFI\n",
    "    #   not computed (no/negative income)\n",
    "    #   All\n",
    "    \"T8_est118\",\n",
    "    #   Subtotal\n",
    "    #   Renter occupied\tgreater than 80% but less than or equal to 100% of HAMFI\n",
    "    #   not computed (no/negative income)\n",
    "    #   All\n",
    "    \"T8_est131\",\n",
    "    #   Subtotal\n",
    "    #   Renter occupied\n",
    "    #   greater than 100% of HAMFI\n",
    "    #   not computed (no/negative income)\n",
    "    #   All\n",
    "]\n",
    "\n",
    "# T8_est68\tSubtotalRenter occupied\tAll\tAll\tAll\n",
    "RENTER_OCCUPIED_POPULATION_FIELD = \"T8_est68\""
   ]
  },
  {
   "cell_type": "code",
   "execution_count": 6,
   "metadata": {},
   "outputs": [],
   "source": [
    "housingburden[\"current_summed_methodology\"] = housingburden[\n",
    "    OWNER_OCCUPIED_NUMERATOR_FIELDS\n",
    "].sum(axis=1) + housingburden[RENTER_OCCUPIED_NUMERATOR_FIELDS].sum(axis=1)"
   ]
  },
  {
   "cell_type": "code",
   "execution_count": 7,
   "metadata": {},
   "outputs": [],
   "source": [
    "housingburden[\"current_methodology_denominator\"] = (\n",
    "         housingburden[OWNER_OCCUPIED_POPULATION_FIELD]\n",
    "            + housingburden[RENTER_OCCUPIED_POPULATION_FIELD]\n",
    "            - housingburden[OWNER_OCCUPIED_NOT_COMPUTED_FIELDS].sum(axis=1)\n",
    "            - housingburden[RENTER_OCCUPIED_NOT_COMPUTED_FIELDS].sum(axis=1)\n",
    ")"
   ]
  },
  {
   "cell_type": "code",
   "execution_count": 8,
   "metadata": {},
   "outputs": [],
   "source": [
    "housingburden[\"current_methodology_denominator_sans_not_computed\"] = (\n",
    "         housingburden[OWNER_OCCUPIED_POPULATION_FIELD]\n",
    "            + housingburden[RENTER_OCCUPIED_POPULATION_FIELD]\n",
    ")"
   ]
  },
  {
   "cell_type": "code",
   "execution_count": 9,
   "metadata": {},
   "outputs": [],
   "source": [
    "housingburden[\"current_methodology_percent\"] = np.round(\n",
    "    (housingburden[\"current_summed_methodology\"] / housingburden[\"current_methodology_denominator\"] ), 2) * 100"
   ]
  },
  {
   "cell_type": "markdown",
   "metadata": {},
   "source": [
    "### Now we construct the distribution of differences in the number of owned and rented burdened households\n"
   ]
  },
  {
   "cell_type": "markdown",
   "metadata": {},
   "source": [
    "### Percentiles Comparison"
   ]
  },
  {
   "cell_type": "code",
   "execution_count": 10,
   "metadata": {},
   "outputs": [],
   "source": [
    "final_df = housingburden[['FIPS_tract_id', 'state','hbrd_rank','hbrd_score', 'summed', \n",
    "       'current_summed_methodology', 'T8_est1', \n",
    "        \"current_methodology_denominator_sans_not_computed\",\n",
    "       'current_methodology_denominator',  'current_methodology_percent']]"
   ]
  },
  {
   "cell_type": "markdown",
   "metadata": {},
   "source": [
    "##### First notice here that **T8_est1** and **current_methodology_denominator** should represent same or similar aggregates. In general, we cen see that the current computation performed results in a differerntial that undercounts the total occupied and rental households."
   ]
  },
  {
   "cell_type": "code",
   "execution_count": 11,
   "metadata": {},
   "outputs": [
    {
     "name": "stderr",
     "output_type": "stream",
     "text": [
      "/Users/sarahluw/.pyenv/versions/3.6.2/envs/my-virtual-env-3.6.2/lib/python3.6/site-packages/ipykernel_launcher.py:2: SettingWithCopyWarning: \n",
      "A value is trying to be set on a copy of a slice from a DataFrame.\n",
      "Try using .loc[row_indexer,col_indexer] = value instead\n",
      "\n",
      "See the caveats in the documentation: https://pandas.pydata.org/pandas-docs/stable/user_guide/indexing.html#returning-a-view-versus-a-copy\n",
      "  \n"
     ]
    }
   ],
   "source": [
    "final_df[\"differences_aggregate_denominator\"] = (\n",
    "    final_df[\"current_methodology_denominator\"] - final_df[\"T8_est1\"] \n",
    ")"
   ]
  },
  {
   "cell_type": "code",
   "execution_count": 12,
   "metadata": {},
   "outputs": [
    {
     "name": "stderr",
     "output_type": "stream",
     "text": [
      "/Users/sarahluw/.pyenv/versions/3.6.2/envs/my-virtual-env-3.6.2/lib/python3.6/site-packages/ipykernel_launcher.py:2: SettingWithCopyWarning: \n",
      "A value is trying to be set on a copy of a slice from a DataFrame.\n",
      "Try using .loc[row_indexer,col_indexer] = value instead\n",
      "\n",
      "See the caveats in the documentation: https://pandas.pydata.org/pandas-docs/stable/user_guide/indexing.html#returning-a-view-versus-a-copy\n",
      "  \n"
     ]
    }
   ],
   "source": [
    "final_df[\"differences_aggregate_denominator_sans_not_computed\"] = (\n",
    "    final_df[\"current_methodology_denominator\"] - final_df[\"T8_est1\"] \n",
    ")"
   ]
  },
  {
   "cell_type": "code",
   "execution_count": 13,
   "metadata": {},
   "outputs": [
    {
     "data": {
      "text/plain": [
       "<AxesSubplot:title={'center':'Distribution of differences between aggregate totals that normalizes tabulation of poverty households'}, xlabel='Aggregate differences in total owner and renter occupied low-income households < 80%', ylabel='Relative Frequency in Support'>"
      ]
     },
     "execution_count": 13,
     "metadata": {},
     "output_type": "execute_result"
    },
    {
     "data": {
      "image/png": "[encoded data removed]",
      "text/plain": [
       "<Figure size 864x576 with 1 Axes>"
      ]
     },
     "metadata": {
      "needs_background": "light"
     },
     "output_type": "display_data"
    }
   ],
   "source": [
    "plt.figure(figsize=(12, 8))\n",
    "plt.title('Distribution of differences between aggregate totals that normalizes tabulation of poverty households')\n",
    "# Set x-axis label\n",
    "plt.xlabel('Aggregate differences in total owner and renter occupied low-income households < 80%')\n",
    "# Set y-axis label\n",
    "plt.ylabel('Relative Frequency in Support')\n",
    "\n",
    "sns.histplot(final_df[\"differences_aggregate_denominator\"])"
   ]
  },
  {
   "cell_type": "code",
   "execution_count": 14,
   "metadata": {},
   "outputs": [
    {
     "data": {
      "text/plain": [
       "<AxesSubplot:title={'center':'Distribution of differences between aggregate totals that normalizes tabulation of poverty households (with removal of not computed fields) '}, xlabel='Aggregate differences in total owner and renter occupied low-income households', ylabel='Relative Frequency in Support'>"
      ]
     },
     "execution_count": 14,
     "metadata": {},
     "output_type": "execute_result"
    },
    {
     "data": {
      "image/png": "[encoded data removed]",
      "text/plain": [
       "<Figure size 864x576 with 1 Axes>"
      ]
     },
     "metadata": {
      "needs_background": "light"
     },
     "output_type": "display_data"
    }
   ],
   "source": [
    "plt.figure(figsize=(12, 8))\n",
    "plt.title('Distribution of differences between aggregate totals that normalizes tabulation of poverty households (with removal of not computed fields) ')\n",
    "# Set x-axis label\n",
    "plt.xlabel('Aggregate differences in total owner and renter occupied low-income households')\n",
    "# Set y-axis label\n",
    "plt.ylabel('Relative Frequency in Support')\n",
    "\n",
    "sns.histplot(final_df[\"differences_aggregate_denominator_sans_not_computed\"])"
   ]
  },
  {
   "cell_type": "code",
   "execution_count": 15,
   "metadata": {},
   "outputs": [
    {
     "name": "stderr",
     "output_type": "stream",
     "text": [
      "/Users/sarahluw/.pyenv/versions/3.6.2/envs/my-virtual-env-3.6.2/lib/python3.6/site-packages/ipykernel_launcher.py:4: SettingWithCopyWarning: \n",
      "A value is trying to be set on a copy of a slice from a DataFrame.\n",
      "Try using .loc[row_indexer,col_indexer] = value instead\n",
      "\n",
      "See the caveats in the documentation: https://pandas.pydata.org/pandas-docs/stable/user_guide/indexing.html#returning-a-view-versus-a-copy\n",
      "  after removing the cwd from sys.path.\n"
     ]
    }
   ],
   "source": [
    "final_df[\"current_methodology_percentile_rank\"] = final_df[\"current_methodology_percent\"].rank(\n",
    "    pct=True,\n",
    "    # Set ascending to the parameter value.\n",
    "    ascending=True,\n",
    ")"
   ]
  },
  {
   "cell_type": "code",
   "execution_count": 16,
   "metadata": {},
   "outputs": [
    {
     "name": "stderr",
     "output_type": "stream",
     "text": [
      "/Users/sarahluw/.pyenv/versions/3.6.2/envs/my-virtual-env-3.6.2/lib/python3.6/site-packages/ipykernel_launcher.py:1: SettingWithCopyWarning: \n",
      "A value is trying to be set on a copy of a slice from a DataFrame.\n",
      "Try using .loc[row_indexer,col_indexer] = value instead\n",
      "\n",
      "See the caveats in the documentation: https://pandas.pydata.org/pandas-docs/stable/user_guide/indexing.html#returning-a-view-versus-a-copy\n",
      "  \"\"\"Entry point for launching an IPython kernel.\n",
      "/Users/sarahluw/.pyenv/versions/3.6.2/envs/my-virtual-env-3.6.2/lib/python3.6/site-packages/ipykernel_launcher.py:4: SettingWithCopyWarning: \n",
      "A value is trying to be set on a copy of a slice from a DataFrame.\n",
      "Try using .loc[row_indexer,col_indexer] = value instead\n",
      "\n",
      "See the caveats in the documentation: https://pandas.pydata.org/pandas-docs/stable/user_guide/indexing.html#returning-a-view-versus-a-copy\n",
      "  after removing the cwd from sys.path.\n"
     ]
    }
   ],
   "source": [
    "final_df[\"new_threshold_exceeded\"] = (final_df['hbrd_rank'] >= 90)\n",
    "\n",
    "final_df[\"current_threshold_exceeded\"] = (final_df[\n",
    "    'current_methodology_percentile_rank'] >= 0.90)"
   ]
  },
  {
   "cell_type": "markdown",
   "metadata": {},
   "source": [
    "### Only include non-NA tracts for comparison purposes"
   ]
  },
  {
   "cell_type": "code",
   "execution_count": 17,
   "metadata": {},
   "outputs": [],
   "source": [
    "# first save NA tracts that were considered unreliable\n",
    "ineligible_tracts = list(final_df[final_df[\"hbrd_rank\"].isna()][\"FIPS_tract_id\"].values)"
   ]
  },
  {
   "cell_type": "code",
   "execution_count": 18,
   "metadata": {},
   "outputs": [
    {
     "data": {
      "text/plain": [
       "5243"
      ]
     },
     "execution_count": 18,
     "metadata": {},
     "output_type": "execute_result"
    }
   ],
   "source": [
    "len(ineligible_tracts)"
   ]
  },
  {
   "cell_type": "markdown",
   "metadata": {},
   "source": [
    "#### How many tracts are ineligible according to CalEnvironScreen but are considerd in Score L?\n",
    "\n",
    "\n"
   ]
  },
  {
   "cell_type": "code",
   "execution_count": 19,
   "metadata": {},
   "outputs": [],
   "source": [
    "final_current_methodology = final_df[final_df[\"current_methodology_percentile_rank\"] >= 0.90]"
   ]
  },
  {
   "cell_type": "code",
   "execution_count": 20,
   "metadata": {},
   "outputs": [
    {
     "data": {
      "text/plain": [
       "(7323, 15)"
      ]
     },
     "execution_count": 20,
     "metadata": {},
     "output_type": "execute_result"
    }
   ],
   "source": [
    "final_current_methodology.shape"
   ]
  },
  {
   "cell_type": "code",
   "execution_count": 21,
   "metadata": {},
   "outputs": [
    {
     "data": {
      "text/plain": [
       "(53, 15)"
      ]
     },
     "execution_count": 21,
     "metadata": {},
     "output_type": "execute_result"
    }
   ],
   "source": [
    "# 53 tracts\n",
    "final_current_methodology[\n",
    "    final_current_methodology.FIPS_tract_id.isin(ineligible_tracts)].shape"
   ]
  },
  {
   "cell_type": "code",
   "execution_count": 22,
   "metadata": {},
   "outputs": [],
   "source": [
    "non_null_df = final_df.copy()"
   ]
  },
  {
   "cell_type": "code",
   "execution_count": 23,
   "metadata": {},
   "outputs": [],
   "source": [
    "non_null_df.to_csv(\"comparison_df_final.csv\")"
   ]
  },
  {
   "cell_type": "code",
   "execution_count": 24,
   "metadata": {},
   "outputs": [
    {
     "data": {
      "text/plain": [
       "(7323, 15)"
      ]
     },
     "execution_count": 24,
     "metadata": {},
     "output_type": "execute_result"
    }
   ],
   "source": [
    "# number of tracks eligible\n",
    "non_null_df[non_null_df[\"current_methodology_percentile_rank\"] >= 0.90].shape"
   ]
  },
  {
   "cell_type": "code",
   "execution_count": 43,
   "metadata": {},
   "outputs": [
    {
     "data": {
      "text/plain": [
       "<AxesSubplot:title={'center':'Distribution for Housing Burden (Score L) after application of ranked percentiles'}, xlabel='Relative burden (although currently not represented as a percentage)', ylabel='Relative Frequency in Support'>"
      ]
     },
     "execution_count": 43,
     "metadata": {},
     "output_type": "execute_result"
    },
    {
     "data": {
      "image/png": "[encoded data removed]",
      "text/plain": [
       "<Figure size 864x576 with 1 Axes>"
      ]
     },
     "metadata": {
      "needs_background": "light"
     },
     "output_type": "display_data"
    }
   ],
   "source": [
    "plt.figure(figsize=(12, 8))\n",
    "plt.title(\"Distribution for Housing Burden (Score L) after application of ranked percentiles\")\n",
    "# Set x-axis label\n",
    "plt.xlabel('Relative burden (although currently not represented as a percentage)')\n",
    "# Set y-axis label\n",
    "plt.ylabel('Relative Frequency in Support')\n",
    "\n",
    "sns.histplot(non_null_df[\"current_methodology_percentile_rank\"])"
   ]
  },
  {
   "cell_type": "code",
   "execution_count": 26,
   "metadata": {},
   "outputs": [
    {
     "data": {
      "text/plain": [
       "False    65733\n",
       "True      7323\n",
       "Name: current_threshold_exceeded, dtype: int64"
      ]
     },
     "execution_count": 26,
     "metadata": {},
     "output_type": "execute_result"
    }
   ],
   "source": [
    "non_null_df[\"current_threshold_exceeded\"].value_counts()"
   ]
  },
  {
   "cell_type": "code",
   "execution_count": 27,
   "metadata": {},
   "outputs": [
    {
     "data": {
      "text/plain": [
       "False    66255\n",
       "True      6801\n",
       "Name: new_threshold_exceeded, dtype: int64"
      ]
     },
     "execution_count": 27,
     "metadata": {},
     "output_type": "execute_result"
    }
   ],
   "source": [
    "non_null_df[\"new_threshold_exceeded\"].value_counts()"
   ]
  },
  {
   "cell_type": "code",
   "execution_count": 28,
   "metadata": {},
   "outputs": [],
   "source": [
    "# (non_null_df[\"new_threshold_exceeded\"] == True)"
   ]
  },
  {
   "cell_type": "markdown",
   "metadata": {},
   "source": [
    "### Score L Criterion as burden but not CalEnvironscreen"
   ]
  },
  {
   "cell_type": "code",
   "execution_count": 29,
   "metadata": {},
   "outputs": [
    {
     "data": {
      "text/plain": [
       "(2794, 15)"
      ]
     },
     "execution_count": 29,
     "metadata": {},
     "output_type": "execute_result"
    }
   ],
   "source": [
    "# this includes uineligible np.nan values too\n",
    "predicate_1 = (non_null_df['current_threshold_exceeded'] == True) & (non_null_df['new_threshold_exceeded'] != True)\n",
    "\n",
    "non_null_df[predicate_1].shape"
   ]
  },
  {
   "cell_type": "code",
   "execution_count": 30,
   "metadata": {},
   "outputs": [],
   "source": [
    "# Where Score L is considered burdened but not in CalEnviroScreen\n",
    "score_l_considered_burdened = non_null_df[predicate_1]"
   ]
  },
  {
   "cell_type": "code",
   "execution_count": 31,
   "metadata": {},
   "outputs": [],
   "source": [
    "import us\n",
    "\n",
    "mapping = us.states.mapping('fips', 'abbr')"
   ]
  },
  {
   "cell_type": "code",
   "execution_count": 32,
   "metadata": {},
   "outputs": [],
   "source": [
    "# Inserted after the basic stats definition.\n",
    "# Load demographic data\n",
    "import pathlib\n",
    "\n",
    "DATA_DIR = pathlib.Path.cwd().parent / \"data\"\n",
    "COMPARISON_OUTPUTS_DIR = DATA_DIR / \"comparison_outputs\"\n",
    "\n",
    "demographics_path = DATA_DIR / \"dataset\" / \"census_acs_2019\" / \"usa.csv\"\n",
    "\n",
    "demographics_df = pd.read_csv(\n",
    "    demographics_path,\n",
    "    dtype={\"GEOID10_TRACT\": \"string\"},\n",
    ")\n",
    "\n",
    "# Set some field names\n",
    "BLACK_FIELD_NAME = \"Black or African American alone\"\n",
    "AMERICAN_INDIAN_FIELD_NAME = \"American Indian and Alaska Native alone\"\n",
    "ASIAN_FIELD_NAME = \"Asian alone\"\n",
    "HAWAIIAN_FIELD_NAME = \"Native Hawaiian and Other Pacific alone\"\n",
    "TWO_OR_MORE_RACES_FIELD_NAME = \"Two or more races\"\n",
    "NON_HISPANIC_WHITE_FIELD_NAME = \"Non-Hispanic White\"\n",
    "HISPANIC_FIELD_NAME = \"Hispanic or Latino\"\n",
    "PERCENT_PREFIX = \"Percent \"\n",
    "\n",
    "RE_OUTPUT_FIELDS = [\n",
    "    BLACK_FIELD_NAME,\n",
    "    AMERICAN_INDIAN_FIELD_NAME,\n",
    "    ASIAN_FIELD_NAME,\n",
    "    HAWAIIAN_FIELD_NAME,\n",
    "    TWO_OR_MORE_RACES_FIELD_NAME,\n",
    "    NON_HISPANIC_WHITE_FIELD_NAME,\n",
    "    HISPANIC_FIELD_NAME,\n",
    "]\n",
    "\n",
    "RE_PERCENT_OUTPUT_FIELDS = [PERCENT_PREFIX + field for field in RE_OUTPUT_FIELDS]\n",
    "\n",
    "columns_to_keep = (\n",
    "    [\"GEOID10_TRACT\"]\n",
    "    + RE_OUTPUT_FIELDS\n",
    "    + RE_PERCENT_OUTPUT_FIELDS\n",
    "    + ['Percent of individuals < 200% Federal Poverty Line', \n",
    "       'Median value ($) of owner-occupied housing units',\n",
    "       'Percent individuals age 25 or over with less than high school degree',\n",
    "        'Percent enrollment in college or graduate school',\n",
    "        'Linguistic isolation (percent)']\n",
    ")\n",
    "\n",
    "\n",
    "def highlight_medians(s):\n",
    "    # highlight if the current median is greater than the median of medians for that series\n",
    "    is_greater_than_median = s > s.median()\n",
    "    return ['color: pink; background-color:#7272FE'\n",
    "            if cell else '' for cell in is_greater_than_median]\n",
    "# Join the demographics in.\n",
    "merged_df_score_l = score_l_considered_burdened.merge(\n",
    "    demographics_df[columns_to_keep],\n",
    "    left_on=\"FIPS_tract_id\",\n",
    "    right_on=\"GEOID10_TRACT\",\n",
    "    how=\"inner\"\n",
    ")\n",
    "\n",
    "# these are not converted into percent 0 - 100 scale\n",
    "percent_cols = [x for x in merged_df_score_l.columns if \n",
    "                'Percent' in x or '(percent)' in x\n",
    "    ]\n",
    "\n",
    "merged_df_score_l[\n",
    "    percent_cols] = merged_df_score_l[\n",
    "    percent_cols].apply(lambda x: x * 100)\n",
    "\n",
    "for idx, row in merged_df_score_l.iterrows():\n",
    "    current_row = str(merged_df_score_l.loc[idx, 'state'])\n",
    "    state = mapping.get(current_row, None)\n",
    "    merged_df_score_l.loc[idx, 'state_name'] = state\n",
    "\n",
    "grouped_stats_score_l = merged_df_score_l.groupby([\"state_name\"]).agg({\n",
    "       'GEOID10_TRACT': 'nunique',\n",
    "       'Percent of individuals < 200% Federal Poverty Line': [np.median, np.std],\n",
    "       'Median value ($) of owner-occupied housing units': [np.median, np.std],\n",
    "       'Percent individuals age 25 or over with less than high school degree': [np.median, np.std],\n",
    "       'Percent enrollment in college or graduate school': [np.median, np.std],\n",
    "       'Percent Black or African American alone': [np.median, np.std],\n",
    "       'Percent American Indian and Alaska Native alone': [np.median, np.std],\n",
    "       'Percent Non-Hispanic White': [np.median, np.std], \n",
    "      'Linguistic isolation (percent)': [np.median, np.std],\n",
    "       'Percent Hispanic or Latino': [np.median, np.std],\n",
    "      'hbrd_rank': [np.median, np.std],\n",
    "      'current_methodology_percent': [np.median, np.std],\n",
    "      'current_summed_methodology': [np.median, np.std, np.sum]\n",
    "}).reset_index()\n",
    "\n",
    "\n",
    "grouped_stats_score_l.columns = [' '.join(col).strip() for \n",
    "                                 col in grouped_stats_score_l.columns.values]\n",
    "\n",
    "grouped_stats_score_l = grouped_stats_score_l[[x for x in grouped_stats_score_l \n",
    "               if \"median\" in x and \n",
    "               \"Percent\" in x] + [\"GEOID10_TRACT nunique\", \n",
    "                                  'current_summed_methodology sum', \"state_name\"]]\n",
    "\n",
    "grouped_stats_score_l.set_index(\"state_name\", inplace=True)\n",
    "\n",
    "grouped_stats_score_l = grouped_stats_score_l.rename(columns={\n",
    "'Percent of individuals < 200% Federal Poverty Line median'\n",
    "    : 'Percent of individuals < 200% Federal Poverty Line (median across all tracts)', \n",
    "'Percent individuals age 25 or over with less than high school degree median':\n",
    "'Percent individuals age 25 or over with less than high school degree (median across all tracts)',    \n",
    "'Percent enrollment in college or graduate school median'\n",
    "    :'Percent enrollment in college or graduate school (median across all tracts)',\n",
    "'Percent Black or African American alone median':\n",
    "    'Percent Black or African American alone (median across all tracts)',\n",
    "'Percent American Indian and Alaska Native alone median':\n",
    "    'Percent American Indian and Alaska Native alone (median across all tracts)',\n",
    "'Percent Non-Hispanic White median':\n",
    "    'Percent Non-Hispanic White (median across all tracts)',\n",
    "'Percent Hispanic or Latino median':\n",
    "    'Percent Hispanic or Latino (median across all tracts)',\n",
    "'GEOID10_TRACT nunique': \"Total Number of Unique Tracts\",\n",
    "\"current_summed_methodology sum\": \"Total Owned and Rented Burdened Households (Current Aggregation Methodology)\"    \n",
    "})"
   ]
  },
  {
   "cell_type": "code",
   "execution_count": 33,
   "metadata": {},
   "outputs": [
    {
     "data": {
      "text/plain": [
       "(2794, 36)"
      ]
     },
     "execution_count": 33,
     "metadata": {},
     "output_type": "execute_result"
    }
   ],
   "source": [
    "merged_df_score_l.shape"
   ]
  },
  {
   "cell_type": "code",
   "execution_count": 34,
   "metadata": {},
   "outputs": [],
   "source": [
    "merged_df_score_l.to_csv(\"./experiment_4_texas_example/merged_df_score_l_2794.csv\")"
   ]
  },
  {
   "cell_type": "code",
   "execution_count": 35,
   "metadata": {},
   "outputs": [
    {
     "data": {
      "text/plain": [
       "Index(['Percent of individuals < 200% Federal Poverty Line (median across all tracts)',\n",
       "       'Percent individuals age 25 or over with less than high school degree (median across all tracts)',\n",
       "       'Percent enrollment in college or graduate school (median across all tracts)',\n",
       "       'Percent Black or African American alone (median across all tracts)',\n",
       "       'Percent American Indian and Alaska Native alone (median across all tracts)',\n",
       "       'Percent Non-Hispanic White (median across all tracts)',\n",
       "       'Percent Hispanic or Latino (median across all tracts)',\n",
       "       'Total Number of Unique Tracts',\n",
       "       'Total Owned and Rented Burdened Households (Current Aggregation Methodology)'],\n",
       "      dtype='object')"
      ]
     },
     "execution_count": 35,
     "metadata": {},
     "output_type": "execute_result"
    }
   ],
   "source": [
    "grouped_stats_score_l.columns"
   ]
  },
  {
   "cell_type": "code",
   "execution_count": 36,
   "metadata": {},
   "outputs": [],
   "source": [
    "top_10_represented_score_l = list(merged_df_score_l[\"state_name\"].value_counts()[:10].keys())"
   ]
  },
  {
   "cell_type": "code",
   "execution_count": 37,
   "metadata": {},
   "outputs": [
    {
     "data": {
      "text/plain": [
       "81.53185397279886"
      ]
     },
     "execution_count": 37,
     "metadata": {},
     "output_type": "execute_result"
    }
   ],
   "source": [
    "representative_score_l = merged_df_score_l[\n",
    "    merged_df_score_l.state_name.isin(top_10_represented_score_l)]\n",
    "\n",
    "representative_score_l.shape[0] / merged_df_score_l.shape[0] * 100"
   ]
  },
  {
   "cell_type": "code",
   "execution_count": 38,
   "metadata": {},
   "outputs": [
    {
     "data": {
      "image/png": "[encoded data removed]",
      "text/plain": [
       "<Figure size 648x216 with 3 Axes>"
      ]
     },
     "metadata": {
      "needs_background": "light"
     },
     "output_type": "display_data"
    }
   ],
   "source": [
    "g = sns.FacetGrid(representative_score_l[\n",
    "    representative_score_l.state_name.isin(top_10_represented_score_l[:3])], \n",
    "                  col=\"state_name\", \n",
    "                   margin_titles=True)\n",
    "g.map_dataframe(sns.scatterplot, x=\"Median value ($) of owner-occupied housing units\", \n",
    "                y=\"current_summed_methodology\")\n",
    "g.set_axis_labels(\"Median Value of owner occupied units ($)\", \"Number of units\")\n",
    "g.set_titles(col_template=\"{col_name} ytacts\", row_template=\"{row_name}\")\n",
    "# g.set(xlim=(0, 60), ylim=(0, 12), xticks=[10, 30, 50], yticks=[2, 6, 10])\n",
    "g.tight_layout()"
   ]
  },
  {
   "cell_type": "code",
   "execution_count": 39,
   "metadata": {},
   "outputs": [
    {
     "data": {
      "text/plain": [
       "Text(0.5, 0.98, 'Empirical CDF of 81% of the 2794 tracts that are considered burdened using Score L')"
      ]
     },
     "execution_count": 39,
     "metadata": {},
     "output_type": "execute_result"
    },
    {
     "data": {
      "image/png": "[encoded data removed]",
      "text/plain": [
       "<Figure size 426.5x360 with 1 Axes>"
      ]
     },
     "metadata": {
      "needs_background": "light"
     },
     "output_type": "display_data"
    }
   ],
   "source": [
    "ax2 = sns.displot(data=representative_score_l,\n",
    "            x='Percent individuals age 25 or over with less than high school degree', hue=\"state_name\", kind=\"ecdf\")\n",
    "\n",
    "ax2.fig.subplots_adjust(top=0.9)\n",
    "ax2.fig.suptitle(\"Empirical CDF of 81% of the 2794 tracts that are considered burdened using Score L\", fontsize=16)"
   ]
  },
  {
   "cell_type": "code",
   "execution_count": 42,
   "metadata": {},
   "outputs": [
    {
     "data": {
      "text/plain": [
       "CA    847\n",
       "NY    596\n",
       "FL    163\n",
       "NJ    160\n",
       "IL    151\n",
       "TX    104\n",
       "OH     71\n",
       "MI     65\n",
       "MA     61\n",
       "GA     60\n",
       "Name: state_name, dtype: int64"
      ]
     },
     "execution_count": 42,
     "metadata": {},
     "output_type": "execute_result"
    }
   ],
   "source": [
    "representative_score_l.state_name.value_counts()"
   ]
  },
  {
   "cell_type": "code",
   "execution_count": 40,
   "metadata": {},
   "outputs": [
    {
     "data": {
      "text/plain": [
       "Text(0.5, 0.98, 'Empirical CDF of 81% of the 2794 tracts that are considered burdened using Score L')"
      ]
     },
     "execution_count": 40,
     "metadata": {},
     "output_type": "execute_result"
    },
    {
     "data": {
      "image/png": "[encoded data removed]",
      "text/plain": [
       "<Figure size 426.5x360 with 1 Axes>"
      ]
     },
     "metadata": {
      "needs_background": "light"
     },
     "output_type": "display_data"
    }
   ],
   "source": [
    "# split - WA, AZ exceptions\n",
    "\n",
    "ax1 = sns.displot(data=representative_score_l,\n",
    "            x=\"Percent Black or African American alone\", hue=\"state_name\", kind=\"ecdf\")\n",
    "\n",
    "ax1.fig.subplots_adjust(top=0.9)\n",
    "ax1.fig.suptitle(\"Empirical CDF of 81% of the 2794 tracts that are considered burdened using Score L\", fontsize=16)"
   ]
  },
  {
   "cell_type": "code",
   "execution_count": 41,
   "metadata": {},
   "outputs": [
    {
     "data": {
      "text/plain": [
       "Text(0.5, 0.98, 'Empirical CDF of 81% of the 2794 tracts that are considered burdened using Score L')"
      ]
     },
     "execution_count": 41,
     "metadata": {},
     "output_type": "execute_result"
    },
    {
     "data": {
      "image/png": "[encoded data removed]",
      "text/plain": [
       "<Figure size 426.5x360 with 1 Axes>"
      ]
     },
     "metadata": {
      "needs_background": "light"
     },
     "output_type": "display_data"
    }
   ],
   "source": [
    "ax = sns.displot(data=representative_score_l,\n",
    "            x=\"Percent Hispanic or Latino\", hue=\"state_name\", kind=\"ecdf\")\n",
    "\n",
    "ax.fig.subplots_adjust(top=0.9)\n",
    "ax.fig.suptitle(\"Empirical CDF of 81% of the 2794 tracts that are considered burdened using Score L\", fontsize=16)"
   ]
  },
  {
   "cell_type": "markdown",
   "metadata": {},
   "source": [
    "If the samples are samples from the population - a big assumption - in question and the sampling follows rules and things we take the mean:\n",
    "\n",
    "The mean of the median distribution (an order statistic) is the best estimate for the median. It's the best least unbiased estimator. The answer is not the median of that distribution.\n",
    "\n",
    "The answer is also not if the mean is an estimate of the median. Completely unrelated.\n",
    "\n",
    "Even if the original population is skewed, the distribution of a sampling statistic will be normalized - recall the the central limit theorem for more details\n",
    "\n",
    "The standard error of that mean should give you what you want to know to confidently make statements of the true population median across all states"
   ]
  },
  {
   "cell_type": "code",
   "execution_count": 32,
   "metadata": {},
   "outputs": [],
   "source": [
    "list_of_columns = list(grouped_stats_score_l.columns)\n",
    "values_1 = list(grouped_stats_score_l[list_of_columns].mean())"
   ]
  },
  {
   "cell_type": "code",
   "execution_count": 33,
   "metadata": {},
   "outputs": [],
   "source": [
    "values_1.extend([True, False])"
   ]
  },
  {
   "cell_type": "code",
   "execution_count": 34,
   "metadata": {},
   "outputs": [
    {
     "data": {
      "text/plain": [
       "[57.05272445515469,\n",
       " 19.383812769449793,\n",
       " 8.132533443213486,\n",
       " 33.69280603472747,\n",
       " 1.2213947311592683,\n",
       " 31.32188596954498,\n",
       " 19.378347515748676,\n",
       " 62.08888888888889,\n",
       " 40949.2,\n",
       " True,\n",
       " False]"
      ]
     },
     "execution_count": 34,
     "metadata": {},
     "output_type": "execute_result"
    }
   ],
   "source": [
    "values_1"
   ]
  },
  {
   "cell_type": "markdown",
   "metadata": {},
   "source": [
    "# CalenviroScreen Burden"
   ]
  },
  {
   "cell_type": "code",
   "execution_count": 45,
   "metadata": {},
   "outputs": [],
   "source": [
    "predicate_2 = (non_null_df['current_threshold_exceeded'] == False) & (non_null_df['new_threshold_exceeded'] == True)\n",
    "\n",
    "cal_ej_screen_burdened = non_null_df[predicate_2]"
   ]
  },
  {
   "cell_type": "code",
   "execution_count": 46,
   "metadata": {},
   "outputs": [],
   "source": [
    "# Join the demographics in.\n",
    "merged_df_score_ejcreen = cal_ej_screen_burdened.merge(\n",
    "    demographics_df[columns_to_keep],\n",
    "    left_on=\"FIPS_tract_id\",\n",
    "    right_on=\"GEOID10_TRACT\",\n",
    "    how=\"inner\"\n",
    ")\n",
    "\n",
    "# these are not converted into percent 0 - 100 scale\n",
    "percent_cols = [x for x in merged_df_score_ejcreen.columns if \n",
    "                'Percent' in x or '(percent)' in x\n",
    "    ]\n",
    "\n",
    "merged_df_score_ejcreen[\n",
    "    percent_cols] = merged_df_score_ejcreen[\n",
    "    percent_cols].apply(lambda x: x * 100)\n",
    "\n",
    "for idx, row in merged_df_score_ejcreen.iterrows():\n",
    "    current_row = str(merged_df_score_ejcreen.loc[idx, 'state'])\n",
    "    state = mapping.get(current_row, None)\n",
    "    merged_df_score_ejcreen.loc[idx, 'state_name'] = state\n",
    "\n",
    "grouped_stats_score_ej_screen = merged_df_score_ejcreen.groupby([\"state_name\"]).agg({\n",
    "       'GEOID10_TRACT': 'nunique',\n",
    "       'Percent of individuals < 200% Federal Poverty Line': [np.median, np.std],\n",
    "       'Median value ($) of owner-occupied housing units': [np.median, np.std],\n",
    "       'Percent individuals age 25 or over with less than high school degree': [np.median, np.std],\n",
    "       'Percent enrollment in college or graduate school': [np.median, np.std],\n",
    "       'Percent Black or African American alone': [np.median, np.std],\n",
    "       'Percent American Indian and Alaska Native alone': [np.median, np.std],\n",
    "       'Percent Non-Hispanic White': [np.median, np.std], \n",
    "      'Linguistic isolation (percent)': [np.median, np.std],\n",
    "       'Percent Hispanic or Latino': [np.median, np.std],\n",
    "      'hbrd_rank': [np.median, np.std],\n",
    "      'current_methodology_percent': [np.median, np.std],\n",
    "      'current_summed_methodology': [np.median, np.std, np.sum]\n",
    "}).reset_index()\n",
    "\n",
    "\n",
    "grouped_stats_score_ej_screen.columns = [' '.join(col).strip() for \n",
    "                                 col in grouped_stats_score_ej_screen.columns.values]\n",
    "\n",
    "grouped_stats_score_ej_screen = grouped_stats_score_ej_screen[[x for x in grouped_stats_score_ej_screen \n",
    "               if \"median\" in x and \n",
    "               \"Percent\" in x] + [\"GEOID10_TRACT nunique\", \n",
    "                                  'current_summed_methodology sum', \"state_name\"]]\n",
    "\n",
    "grouped_stats_score_ej_screen.set_index(\"state_name\", inplace=True)\n",
    "\n",
    "grouped_stats_score_ej_screen = grouped_stats_score_ej_screen.rename(columns={\n",
    "'Percent of individuals < 200% Federal Poverty Line median'\n",
    "    : 'Percent of individuals < 200% Federal Poverty Line (median across all tracts)', \n",
    "'Percent individuals age 25 or over with less than high school degree median':\n",
    "'Percent individuals age 25 or over with less than high school degree (median across all tracts)',    \n",
    "'Percent enrollment in college or graduate school median'\n",
    "    :'Percent enrollment in college or graduate school (median across all tracts)',\n",
    "'Percent Black or African American alone median':\n",
    "    'Percent Black or African American alone (median across all tracts)',\n",
    "'Percent American Indian and Alaska Native alone median':\n",
    "    'Percent American Indian and Alaska Native alone (median across all tracts)',\n",
    "'Percent Non-Hispanic White median':\n",
    "    'Percent Non-Hispanic White (median across all tracts)',\n",
    "'Percent Hispanic or Latino median':\n",
    "    'Percent Hispanic or Latino (median across all tracts)',\n",
    "'GEOID10_TRACT nunique': \"Total Number of Unique Tracts\",\n",
    "\"current_summed_methodology sum\": \"Total Owned and Rented Burdened Households (Current Aggregation Methodology)\"    \n",
    "})"
   ]
  },
  {
   "cell_type": "code",
   "execution_count": 123,
   "metadata": {},
   "outputs": [],
   "source": [
    "top_10_represented = list(merged_df_score_ejcreen[\"state_name\"].value_counts()[:10].keys())"
   ]
  },
  {
   "cell_type": "code",
   "execution_count": 124,
   "metadata": {},
   "outputs": [
    {
     "data": {
      "text/plain": [
       "(2272, 36)"
      ]
     },
     "execution_count": 124,
     "metadata": {},
     "output_type": "execute_result"
    }
   ],
   "source": [
    "merged_df_score_ejcreen.shape"
   ]
  },
  {
   "cell_type": "code",
   "execution_count": 125,
   "metadata": {},
   "outputs": [],
   "source": [
    "# merged_df_score_ejcreen.to_csv(\"./experiment_4_texas_example/merged_df_score_ejcreen_2272.csv\")"
   ]
  },
  {
   "cell_type": "code",
   "execution_count": 126,
   "metadata": {},
   "outputs": [
    {
     "data": {
      "text/plain": [
       "43.221830985915496"
      ]
     },
     "execution_count": 126,
     "metadata": {},
     "output_type": "execute_result"
    }
   ],
   "source": [
    "representative_calenvironscreen = merged_df_score_ejcreen[\n",
    "    merged_df_score_ejcreen.state_name.isin(top_10_represented)]\n",
    "\n",
    "representative_calenvironscreen.shape[0] / merged_df_score_ejcreen.shape[0] * 100"
   ]
  },
  {
   "cell_type": "code",
   "execution_count": 128,
   "metadata": {},
   "outputs": [
    {
     "data": {
      "text/plain": [
       "TX    206\n",
       "PA    114\n",
       "WA     93\n",
       "NC     90\n",
       "MN     89\n",
       "Name: state_name, dtype: int64"
      ]
     },
     "execution_count": 128,
     "metadata": {},
     "output_type": "execute_result"
    }
   ],
   "source": [
    "merged_df_score_ejcreen[\"state_name\"].value_counts()[:5]"
   ]
  },
  {
   "cell_type": "code",
   "execution_count": 51,
   "metadata": {},
   "outputs": [],
   "source": [
    "cdc_places = pd.read_csv(\"../data/dataset/cdc_places/usa.csv\")\n",
    "\n",
    "cdc_le = pd.read_csv(\"../data/dataset/cdc_life_expectancy/usa.csv\")\n",
    "\n",
    "# all CDC datasets\n",
    "temp_cdc = cdc_places.merge(cdc_le, on = \"GEOID10_TRACT\")"
   ]
  },
  {
   "cell_type": "code",
   "execution_count": 85,
   "metadata": {},
   "outputs": [
    {
     "data": {
      "text/plain": [
       "Index(['FIPS_tract_id', 'state', 'hbrd_rank', 'hbrd_score', 'summed',\n",
       "       'current_summed_methodology', 'T8_est1',\n",
       "       'current_methodology_denominator_sans_not_computed',\n",
       "       'current_methodology_denominator', 'current_methodology_percent',\n",
       "       'differences_aggregate_denominator',\n",
       "       'differences_aggregate_denominator_sans_not_computed',\n",
       "       'current_methodology_percentile_rank', 'new_threshold_exceeded',\n",
       "       'current_threshold_exceeded', 'GEOID10_TRACT',\n",
       "       'Black or African American alone',\n",
       "       'American Indian and Alaska Native alone', 'Asian alone',\n",
       "       'Native Hawaiian and Other Pacific alone', 'Two or more races',\n",
       "       'Non-Hispanic White', 'Hispanic or Latino',\n",
       "       'Percent Black or African American alone',\n",
       "       'Percent American Indian and Alaska Native alone',\n",
       "       'Percent Asian alone',\n",
       "       'Percent Native Hawaiian and Other Pacific alone',\n",
       "       'Percent Two or more races', 'Percent Non-Hispanic White',\n",
       "       'Percent Hispanic or Latino',\n",
       "       'Percent of individuals < 200% Federal Poverty Line',\n",
       "       'Median value ($) of owner-occupied housing units',\n",
       "       'Percent individuals age 25 or over with less than high school degree',\n",
       "       'Percent enrollment in college or graduate school',\n",
       "       'Linguistic isolation (percent)', 'state_name'],\n",
       "      dtype='object')"
      ]
     },
     "execution_count": 85,
     "metadata": {},
     "output_type": "execute_result"
    }
   ],
   "source": [
    "representative_calenvironscreen.columns"
   ]
  },
  {
   "cell_type": "code",
   "execution_count": 129,
   "metadata": {},
   "outputs": [
    {
     "data": {
      "image/png": "[encoded data removed]",
      "text/plain": [
       "<Figure size 648x216 with 3 Axes>"
      ]
     },
     "metadata": {
      "needs_background": "light"
     },
     "output_type": "display_data"
    }
   ],
   "source": [
    "g = sns.FacetGrid(representative_calenvironscreen[\n",
    "    representative_calenvironscreen.state_name.isin(top_10_represented[:3])], \n",
    "                  col=\"state_name\", \n",
    "                   margin_titles=True)\n",
    "g.map_dataframe(sns.scatterplot, x=\"Median value ($) of owner-occupied housing units\", \n",
    "                y=\"current_summed_methodology\")\n",
    "g.set_axis_labels(\"Median Value of owner occupied units ($)\", \"Number of units\")\n",
    "g.set_titles(col_template=\"{col_name} ytacts\", row_template=\"{row_name}\")\n",
    "# g.set(xlim=(0, 60), ylim=(0, 12), xticks=[10, 30, 50], yticks=[2, 6, 10])\n",
    "g.tight_layout()"
   ]
  },
  {
   "cell_type": "code",
   "execution_count": 147,
   "metadata": {},
   "outputs": [
    {
     "data": {
      "text/plain": [
       "Text(0.5, 0.98, 'Empirical CDF of ~43% of the 2272 tracts that are considered burdened using CRHB')"
      ]
     },
     "execution_count": 147,
     "metadata": {},
     "output_type": "execute_result"
    },
    {
     "data": {
      "image/png": "[encoded data removed]",
      "text/plain": [
       "<Figure size 426.5x360 with 1 Axes>"
      ]
     },
     "metadata": {
      "needs_background": "light"
     },
     "output_type": "display_data"
    }
   ],
   "source": [
    "ax2 = sns.displot(data=representative_calenvironscreen,\n",
    "    x='Percent of individuals < 200% Federal Poverty Line', hue=\"state_name\", kind=\"ecdf\")\n",
    "\n",
    "ax2.fig.subplots_adjust(top=0.9)\n",
    "ax2.fig.suptitle(\"Empirical CDF of ~43% of the 2272 tracts that are considered burdened using CRHB\", fontsize=16)    \n",
    "    "
   ]
  },
  {
   "cell_type": "code",
   "execution_count": 138,
   "metadata": {},
   "outputs": [
    {
     "data": {
      "text/plain": [
       "Text(0.5, 0.98, 'Empirical CDF of ~43% of the 2272 tracts that are considered burdened using CRHB')"
      ]
     },
     "execution_count": 138,
     "metadata": {},
     "output_type": "execute_result"
    },
    {
     "data": {
      "image/png": "[encoded data removed]",
      "text/plain": [
       "<Figure size 426.5x360 with 1 Axes>"
      ]
     },
     "metadata": {
      "needs_background": "light"
     },
     "output_type": "display_data"
    }
   ],
   "source": [
    "ax2 = sns.displot(data=representative_calenvironscreen,\n",
    "            x='Percent individuals age 25 or over with less than high school degree', hue=\"state_name\", kind=\"ecdf\")\n",
    "\n",
    "ax2.fig.subplots_adjust(top=0.9)\n",
    "ax2.fig.suptitle(\"Empirical CDF of ~43% of the 2272 tracts that are considered burdened using CRHB\", fontsize=16)"
   ]
  },
  {
   "cell_type": "code",
   "execution_count": 139,
   "metadata": {},
   "outputs": [
    {
     "data": {
      "text/plain": [
       "Text(0.5, 0.98, 'Empirical CDF of ~43% of the 2272 tracts that are considered burdened using CRHB')"
      ]
     },
     "execution_count": 139,
     "metadata": {},
     "output_type": "execute_result"
    },
    {
     "data": {
      "image/png": "[encoded data removed]",
      "text/plain": [
       "<Figure size 426.5x360 with 1 Axes>"
      ]
     },
     "metadata": {
      "needs_background": "light"
     },
     "output_type": "display_data"
    }
   ],
   "source": [
    "# split - WA, AZ exceptions\n",
    "\n",
    "ax1 = sns.displot(data=representative_calenvironscreen,\n",
    "            x=\"Percent Black or African American alone\", hue=\"state_name\", kind=\"ecdf\")\n",
    "\n",
    "ax1.fig.subplots_adjust(top=0.9)\n",
    "ax1.fig.suptitle(\"Empirical CDF of ~43% of the 2272 tracts that are considered burdened using CRHB\", fontsize=16)"
   ]
  },
  {
   "cell_type": "code",
   "execution_count": 140,
   "metadata": {
    "scrolled": true
   },
   "outputs": [
    {
     "data": {
      "text/plain": [
       "Text(0.5, 0.98, 'Empirical CDF of ~43% of the 2272 tracts that are considered burdened using CRHB')"
      ]
     },
     "execution_count": 140,
     "metadata": {},
     "output_type": "execute_result"
    },
    {
     "data": {
      "image/png": "[encoded data removed]",
      "text/plain": [
       "<Figure size 426.5x360 with 1 Axes>"
      ]
     },
     "metadata": {
      "needs_background": "light"
     },
     "output_type": "display_data"
    }
   ],
   "source": [
    "ax = sns.displot(data=representative_calenvironscreen,\n",
    "            x=\"Percent Hispanic or Latino\", hue=\"state_name\", kind=\"ecdf\")\n",
    "\n",
    "ax.fig.subplots_adjust(top=0.9)\n",
    "ax.fig.suptitle(\"Empirical CDF of ~43% of the 2272 tracts that are considered burdened using CRHB\", fontsize=16)"
   ]
  },
  {
   "cell_type": "code",
   "execution_count": 142,
   "metadata": {},
   "outputs": [
    {
     "data": {
      "text/plain": [
       "TX    206\n",
       "PA    114\n",
       "WA     93\n",
       "NC     90\n",
       "MN     89\n",
       "OH     89\n",
       "MI     84\n",
       "VA     75\n",
       "FL     73\n",
       "AZ     69\n",
       "Name: state_name, dtype: int64"
      ]
     },
     "execution_count": 142,
     "metadata": {},
     "output_type": "execute_result"
    }
   ],
   "source": [
    "representative_calenvironscreen.state_name.value_counts()"
   ]
  },
  {
   "cell_type": "code",
   "execution_count": 37,
   "metadata": {},
   "outputs": [
    {
     "data": {
      "text/plain": [
       "(2272, 36)"
      ]
     },
     "execution_count": 37,
     "metadata": {},
     "output_type": "execute_result"
    }
   ],
   "source": [
    "merged_df_score_ejcreen.shape"
   ]
  },
  {
   "cell_type": "code",
   "execution_count": 38,
   "metadata": {},
   "outputs": [
    {
     "data": {
      "text/plain": [
       "2272"
      ]
     },
     "execution_count": 38,
     "metadata": {},
     "output_type": "execute_result"
    }
   ],
   "source": [
    "grouped_stats_score_ej_screen['Total Number of Unique Tracts'].sum()"
   ]
  },
  {
   "cell_type": "code",
   "execution_count": 39,
   "metadata": {},
   "outputs": [],
   "source": [
    "values_2 = list(grouped_stats_score_ej_screen[list_of_columns].mean())"
   ]
  },
  {
   "cell_type": "code",
   "execution_count": 40,
   "metadata": {},
   "outputs": [],
   "source": [
    "values_2.extend([False, True])"
   ]
  },
  {
   "cell_type": "markdown",
   "metadata": {},
   "source": [
    "#### Both Met Criterion"
   ]
  },
  {
   "cell_type": "code",
   "execution_count": 41,
   "metadata": {},
   "outputs": [],
   "source": [
    "predicate_3 = (non_null_df['current_threshold_exceeded'] == True) & (non_null_df['new_threshold_exceeded'] == True)\n",
    "\n",
    "union_df = non_null_df[predicate_3]"
   ]
  },
  {
   "cell_type": "code",
   "execution_count": 42,
   "metadata": {},
   "outputs": [
    {
     "data": {
      "text/plain": [
       "(4529, 15)"
      ]
     },
     "execution_count": 42,
     "metadata": {},
     "output_type": "execute_result"
    }
   ],
   "source": [
    "union_df.shape"
   ]
  },
  {
   "cell_type": "code",
   "execution_count": 241,
   "metadata": {},
   "outputs": [],
   "source": [
    "# Join the demographics in.\n",
    "merged_df_both_met = union_df.merge(\n",
    "    demographics_df[columns_to_keep],\n",
    "    left_on=\"FIPS_tract_id\",\n",
    "    right_on=\"GEOID10_TRACT\",\n",
    "    how=\"inner\"\n",
    ")\n",
    "\n",
    "# these are not converted into percent 0 - 100 scale\n",
    "percent_cols = [x for x in merged_df_both_met.columns if \n",
    "                'Percent' in x or '(percent)' in x\n",
    "    ]\n",
    "\n",
    "merged_df_both_met[\n",
    "    percent_cols] = merged_df_both_met[\n",
    "    percent_cols].apply(lambda x: x * 100)\n",
    "\n",
    "for idx, row in merged_df_both_met.iterrows():\n",
    "    current_row = str(merged_df_both_met.loc[idx, 'state'])\n",
    "    state = mapping.get(current_row, None)\n",
    "    merged_df_both_met.loc[idx, 'state_name'] = state\n",
    "\n",
    "grouped_stats_both_met = merged_df_both_met.groupby([\"state_name\"]).agg({\n",
    "       'GEOID10_TRACT': 'nunique',\n",
    "       'Percent of individuals < 200% Federal Poverty Line': [np.median, np.std],\n",
    "       'Median value ($) of owner-occupied housing units': [np.median, np.std],\n",
    "       'Percent individuals age 25 or over with less than high school degree': [np.median, np.std],\n",
    "       'Percent enrollment in college or graduate school': [np.median, np.std],\n",
    "       'Percent Black or African American alone': [np.median, np.std],\n",
    "       'Percent American Indian and Alaska Native alone': [np.median, np.std],\n",
    "       'Percent Non-Hispanic White': [np.median, np.std], \n",
    "      'Linguistic isolation (percent)': [np.median, np.std],\n",
    "       'Percent Hispanic or Latino': [np.median, np.std],\n",
    "      'hbrd_rank': [np.median, np.std],\n",
    "      'current_methodology_percent': [np.median, np.std],\n",
    "      'current_summed_methodology': [np.median, np.std, np.sum]\n",
    "}).reset_index()\n",
    "\n",
    "\n",
    "grouped_stats_both_met.columns = [' '.join(col).strip() for \n",
    "                                 col in grouped_stats_both_met.columns.values]\n",
    "\n",
    "grouped_stats_both_met = grouped_stats_both_met[[x for x in grouped_stats_both_met \n",
    "               if \"median\" in x and \n",
    "               \"Percent\" in x] + [\"GEOID10_TRACT nunique\", \n",
    "                                  'current_summed_methodology sum', \"state_name\"]]\n",
    "\n",
    "grouped_stats_both_met.set_index(\"state_name\", inplace=True)\n",
    "\n",
    "grouped_stats_both_met = grouped_stats_both_met.rename(columns={\n",
    "'Percent of individuals < 200% Federal Poverty Line median'\n",
    "    : 'Percent of individuals < 200% Federal Poverty Line (median across all tracts)', \n",
    "'Percent individuals age 25 or over with less than high school degree median':\n",
    "'Percent individuals age 25 or over with less than high school degree (median across all tracts)',    \n",
    "'Percent enrollment in college or graduate school median'\n",
    "    :'Percent enrollment in college or graduate school (median across all tracts)',\n",
    "'Percent Black or African American alone median':\n",
    "    'Percent Black or African American alone (median across all tracts)',\n",
    "'Percent American Indian and Alaska Native alone median':\n",
    "    'Percent American Indian and Alaska Native alone (median across all tracts)',\n",
    "'Percent Non-Hispanic White median':\n",
    "    'Percent Non-Hispanic White (median across all tracts)',\n",
    "'Percent Hispanic or Latino median':\n",
    "    'Percent Hispanic or Latino (median across all tracts)',\n",
    "'GEOID10_TRACT nunique': \"Total Number of Unique Tracts\",\n",
    "\"current_summed_methodology sum\": \"Total Owned and Rented Burdened Households (Current Aggregation Methodology)\"    \n",
    "})"
   ]
  },
  {
   "cell_type": "code",
   "execution_count": 242,
   "metadata": {},
   "outputs": [],
   "source": [
    "values_3 = list(grouped_stats_both_met[list_of_columns].mean())"
   ]
  },
  {
   "cell_type": "code",
   "execution_count": 243,
   "metadata": {},
   "outputs": [],
   "source": [
    "values_3.extend([True, True])"
   ]
  },
  {
   "cell_type": "markdown",
   "metadata": {},
   "source": [
    "#### Neither Met Criterion "
   ]
  },
  {
   "cell_type": "code",
   "execution_count": 244,
   "metadata": {},
   "outputs": [],
   "source": [
    "predicate_4 = (non_null_df[\n",
    "    'current_threshold_exceeded'] == False) & (\n",
    "    non_null_df['new_threshold_exceeded'] == False)\n",
    "\n",
    "negation_union_df = non_null_df[predicate_4]"
   ]
  },
  {
   "cell_type": "code",
   "execution_count": 245,
   "metadata": {},
   "outputs": [],
   "source": [
    "# Join the demographics in.\n",
    "merged_df_negation_union = negation_union_df.merge(\n",
    "    demographics_df[columns_to_keep],\n",
    "    left_on=\"FIPS_tract_id\",\n",
    "    right_on=\"GEOID10_TRACT\",\n",
    "    how=\"inner\"\n",
    ")\n",
    "\n",
    "# these are not converted into percent 0 - 100 scale\n",
    "percent_cols = [x for x in merged_df_negation_union.columns if \n",
    "                'Percent' in x or '(percent)' in x\n",
    "    ]\n",
    "\n",
    "merged_df_negation_union[\n",
    "    percent_cols] = merged_df_negation_union[\n",
    "    percent_cols].apply(lambda x: x * 100)\n",
    "\n",
    "for idx, row in merged_df_negation_union.iterrows():\n",
    "    current_row = str(merged_df_negation_union.loc[idx, 'state'])\n",
    "    state = mapping.get(current_row, None)\n",
    "    merged_df_negation_union.loc[idx, 'state_name'] = state\n",
    "\n",
    "grouped_stats_both_not_met = merged_df_negation_union.groupby([\"state_name\"]).agg({\n",
    "       'GEOID10_TRACT': 'nunique',\n",
    "       'Percent of individuals < 200% Federal Poverty Line': [np.median, np.std],\n",
    "       'Median value ($) of owner-occupied housing units': [np.median, np.std],\n",
    "       'Percent individuals age 25 or over with less than high school degree': [np.median, np.std],\n",
    "       'Percent enrollment in college or graduate school': [np.median, np.std],\n",
    "       'Percent Black or African American alone': [np.median, np.std],\n",
    "       'Percent American Indian and Alaska Native alone': [np.median, np.std],\n",
    "       'Percent Non-Hispanic White': [np.median, np.std], \n",
    "      'Linguistic isolation (percent)': [np.median, np.std],\n",
    "       'Percent Hispanic or Latino': [np.median, np.std],\n",
    "      'hbrd_rank': [np.median, np.std],\n",
    "      'current_methodology_percent': [np.median, np.std],\n",
    "      'current_summed_methodology': [np.median, np.std, np.sum]\n",
    "}).reset_index()\n",
    "\n",
    "\n",
    "grouped_stats_both_not_met.columns = [' '.join(col).strip() for \n",
    "                                 col in grouped_stats_both_not_met.columns.values]\n",
    "\n",
    "grouped_stats_both_not_met = grouped_stats_both_not_met[[x for x in grouped_stats_both_not_met \n",
    "               if \"median\" in x and \n",
    "               \"Percent\" in x] + [\"GEOID10_TRACT nunique\", \n",
    "                                  'current_summed_methodology sum', \"state_name\"]]\n",
    "\n",
    "grouped_stats_both_not_met.set_index(\"state_name\", inplace=True)\n",
    "\n",
    "grouped_stats_both_not_met = grouped_stats_both_not_met.rename(columns={\n",
    "'Percent of individuals < 200% Federal Poverty Line median'\n",
    "    : 'Percent of individuals < 200% Federal Poverty Line (median across all tracts)', \n",
    "'Percent individuals age 25 or over with less than high school degree median':\n",
    "'Percent individuals age 25 or over with less than high school degree (median across all tracts)',    \n",
    "'Percent enrollment in college or graduate school median'\n",
    "    :'Percent enrollment in college or graduate school (median across all tracts)',\n",
    "'Percent Black or African American alone median':\n",
    "    'Percent Black or African American alone (median across all tracts)',\n",
    "'Percent American Indian and Alaska Native alone median':\n",
    "    'Percent American Indian and Alaska Native alone (median across all tracts)',\n",
    "'Percent Non-Hispanic White median':\n",
    "    'Percent Non-Hispanic White (median across all tracts)',\n",
    "'Percent Hispanic or Latino median':\n",
    "    'Percent Hispanic or Latino (median across all tracts)',\n",
    "'GEOID10_TRACT nunique': \"Total Number of Unique Tracts\",\n",
    "\"current_summed_methodology sum\": \"Total Owned and Rented Burdened Households (Current Aggregation Methodology)\"    \n",
    "})"
   ]
  },
  {
   "cell_type": "code",
   "execution_count": 246,
   "metadata": {},
   "outputs": [],
   "source": [
    "values_4 = list(grouped_stats_both_not_met[list_of_columns].mean())\n",
    "\n",
    "values_4.extend([False, False])"
   ]
  },
  {
   "cell_type": "code",
   "execution_count": 247,
   "metadata": {},
   "outputs": [
    {
     "data": {
      "text/html": [
       "<div>\n",
       "<style scoped>\n",
       "    .dataframe tbody tr th:only-of-type {\n",
       "        vertical-align: middle;\n",
       "    }\n",
       "\n",
       "    .dataframe tbody tr th {\n",
       "        vertical-align: top;\n",
       "    }\n",
       "\n",
       "    .dataframe thead th {\n",
       "        text-align: right;\n",
       "    }\n",
       "</style>\n",
       "<table border=\"1\" class=\"dataframe\">\n",
       "  <thead>\n",
       "    <tr style=\"text-align: right;\">\n",
       "      <th></th>\n",
       "      <th>0</th>\n",
       "      <th>1</th>\n",
       "      <th>2</th>\n",
       "      <th>3</th>\n",
       "      <th>4</th>\n",
       "      <th>5</th>\n",
       "      <th>6</th>\n",
       "      <th>7</th>\n",
       "      <th>8</th>\n",
       "      <th>9</th>\n",
       "      <th>10</th>\n",
       "    </tr>\n",
       "  </thead>\n",
       "  <tbody>\n",
       "    <tr>\n",
       "      <th>0</th>\n",
       "      <td>57.052724</td>\n",
       "      <td>19.383813</td>\n",
       "      <td>8.132533</td>\n",
       "      <td>33.692806</td>\n",
       "      <td>1.221395</td>\n",
       "      <td>31.321886</td>\n",
       "      <td>19.378348</td>\n",
       "      <td>62.088889</td>\n",
       "      <td>40949.200000</td>\n",
       "      <td>True</td>\n",
       "      <td>False</td>\n",
       "    </tr>\n",
       "    <tr>\n",
       "      <th>1</th>\n",
       "      <td>47.082927</td>\n",
       "      <td>13.224927</td>\n",
       "      <td>8.685441</td>\n",
       "      <td>23.061683</td>\n",
       "      <td>0.772400</td>\n",
       "      <td>48.240042</td>\n",
       "      <td>12.553371</td>\n",
       "      <td>44.549020</td>\n",
       "      <td>24719.098039</td>\n",
       "      <td>False</td>\n",
       "      <td>True</td>\n",
       "    </tr>\n",
       "    <tr>\n",
       "      <th>2</th>\n",
       "      <td>62.331263</td>\n",
       "      <td>17.689811</td>\n",
       "      <td>11.824205</td>\n",
       "      <td>33.455525</td>\n",
       "      <td>0.921755</td>\n",
       "      <td>34.495797</td>\n",
       "      <td>15.855933</td>\n",
       "      <td>88.803922</td>\n",
       "      <td>60757.901961</td>\n",
       "      <td>True</td>\n",
       "      <td>True</td>\n",
       "    </tr>\n",
       "    <tr>\n",
       "      <th>3</th>\n",
       "      <td>27.736502</td>\n",
       "      <td>8.785280</td>\n",
       "      <td>5.847120</td>\n",
       "      <td>5.729181</td>\n",
       "      <td>0.537429</td>\n",
       "      <td>75.916536</td>\n",
       "      <td>7.463468</td>\n",
       "      <td>1244.333333</td>\n",
       "      <td>443680.568627</td>\n",
       "      <td>False</td>\n",
       "      <td>False</td>\n",
       "    </tr>\n",
       "  </tbody>\n",
       "</table>\n",
       "</div>"
      ],
      "text/plain": [
       "          0          1          2          3         4          5          6   \\\n",
       "0  57.052724  19.383813   8.132533  33.692806  1.221395  31.321886  19.378348   \n",
       "1  47.082927  13.224927   8.685441  23.061683  0.772400  48.240042  12.553371   \n",
       "2  62.331263  17.689811  11.824205  33.455525  0.921755  34.495797  15.855933   \n",
       "3  27.736502   8.785280   5.847120   5.729181  0.537429  75.916536   7.463468   \n",
       "\n",
       "            7              8      9      10  \n",
       "0    62.088889   40949.200000   True  False  \n",
       "1    44.549020   24719.098039  False   True  \n",
       "2    88.803922   60757.901961   True   True  \n",
       "3  1244.333333  443680.568627  False  False  "
      ]
     },
     "execution_count": 247,
     "metadata": {},
     "output_type": "execute_result"
    }
   ],
   "source": [
    "final_summary_data_values = [values_1, values_2, values_3, values_4]\n",
    " \n",
    "# Create the pandas DataFrame\n",
    "df = pd.DataFrame(final_summary_data_values)\n",
    " \n",
    "df"
   ]
  },
  {
   "cell_type": "code",
   "execution_count": 248,
   "metadata": {},
   "outputs": [],
   "source": [
    "cols = list(grouped_stats_both_not_met.columns)\n",
    "cols.extend([\n",
    "             'Score L Relative Housing Burden for all households met burden threshold',                     \n",
    "             'CalEnviroScreen Housing Burden Met Burden Threshold (Ranked Percentile)'])"
   ]
  },
  {
   "cell_type": "code",
   "execution_count": 249,
   "metadata": {},
   "outputs": [],
   "source": [
    "df.rename(columns={df.columns[idx]: cols[idx] for idx, _ in enumerate(cols)}, inplace=True)"
   ]
  },
  {
   "cell_type": "code",
   "execution_count": 250,
   "metadata": {},
   "outputs": [],
   "source": [
    "df = df.set_index([\n",
    "             'Score L Relative Housing Burden for all households met burden threshold',                     \n",
    "             'CalEnviroScreen Housing Burden Met Burden Threshold (Ranked Percentile)'], inplace=False)"
   ]
  },
  {
   "cell_type": "code",
   "execution_count": 251,
   "metadata": {},
   "outputs": [],
   "source": [
    "df = df.rename(columns={\n",
    "'Percent of individuals < 200% Federal Poverty Line (median across all tracts)'\n",
    "    : 'Percent of individuals < 200% Federal Poverty Line (mean of median across all states)', \n",
    "'Percent individuals age 25 or over with less than high school degree median':\n",
    "'Percent individuals age 25 or over with less than high school degree (mean of median across all states)',    \n",
    "'Percent enrollment in college or graduate school (median across all states)'\n",
    "    :'Percent enrollment in college or graduate school (mean of median across all states)',\n",
    "'Percent Black or African American alone (median across all tracts)':\n",
    "    'Percent Black or African American alone (mean of median across all states)',\n",
    "'Percent American Indian and Alaska Native alone (median across all tracts)':\n",
    "    'Percent American Indian and Alaska Native alone (mean of median across all states)',\n",
    "'Percent Non-Hispanic White (median across all tracts)':\n",
    "    'Percent Non-Hispanic White (mean of median across all states)',\n",
    "'Percent Hispanic or Latino (median across all tracts)':\n",
    "    'Percent Hispanic or Latino (mean of median across all states)',\n",
    "\"Total Number of Unique Tracts\": \"Total Number of Tracts - Mean of median across all states\",\n",
    "\"Total Owned and Rented Burdened Households (Current Aggregation Methodology)\": \"Total Owned and Rented Burdened Households (Current Aggregation Methodology)- Mean of median across all states\"\n",
    "})"
   ]
  },
  {
   "cell_type": "code",
   "execution_count": 252,
   "metadata": {},
   "outputs": [
    {
     "data": {
      "text/html": [
       "<div>\n",
       "<style scoped>\n",
       "    .dataframe tbody tr th:only-of-type {\n",
       "        vertical-align: middle;\n",
       "    }\n",
       "\n",
       "    .dataframe tbody tr th {\n",
       "        vertical-align: top;\n",
       "    }\n",
       "\n",
       "    .dataframe thead th {\n",
       "        text-align: right;\n",
       "    }\n",
       "</style>\n",
       "<table border=\"1\" class=\"dataframe\">\n",
       "  <thead>\n",
       "    <tr style=\"text-align: right;\">\n",
       "      <th></th>\n",
       "      <th></th>\n",
       "      <th>Percent of individuals &lt; 200% Federal Poverty Line (mean of median across all states)</th>\n",
       "      <th>Percent individuals age 25 or over with less than high school degree (median across all tracts)</th>\n",
       "      <th>Percent enrollment in college or graduate school (median across all tracts)</th>\n",
       "      <th>Percent Black or African American alone (mean of median across all states)</th>\n",
       "      <th>Percent American Indian and Alaska Native alone (mean of median across all states)</th>\n",
       "      <th>Percent Non-Hispanic White (mean of median across all states)</th>\n",
       "      <th>Percent Hispanic or Latino (mean of median across all states)</th>\n",
       "      <th>Total Number of Tracts - Mean of median across all states</th>\n",
       "      <th>Total Owned and Rented Burdened Households (Current Aggregation Methodology)- Mean of median across all states</th>\n",
       "    </tr>\n",
       "    <tr>\n",
       "      <th>Score L Relative Housing Burden for all households met burden threshold</th>\n",
       "      <th>CalEnviroScreen Housing Burden Met Burden Threshold (Ranked Percentile)</th>\n",
       "      <th></th>\n",
       "      <th></th>\n",
       "      <th></th>\n",
       "      <th></th>\n",
       "      <th></th>\n",
       "      <th></th>\n",
       "      <th></th>\n",
       "      <th></th>\n",
       "      <th></th>\n",
       "    </tr>\n",
       "  </thead>\n",
       "  <tbody>\n",
       "    <tr>\n",
       "      <th>True</th>\n",
       "      <th>False</th>\n",
       "      <td>57.052724</td>\n",
       "      <td>19.383813</td>\n",
       "      <td>8.132533</td>\n",
       "      <td>33.692806</td>\n",
       "      <td>1.221395</td>\n",
       "      <td>31.321886</td>\n",
       "      <td>19.378348</td>\n",
       "      <td>62.088889</td>\n",
       "      <td>40949.200000</td>\n",
       "    </tr>\n",
       "    <tr>\n",
       "      <th>False</th>\n",
       "      <th>True</th>\n",
       "      <td>47.082927</td>\n",
       "      <td>13.224927</td>\n",
       "      <td>8.685441</td>\n",
       "      <td>23.061683</td>\n",
       "      <td>0.772400</td>\n",
       "      <td>48.240042</td>\n",
       "      <td>12.553371</td>\n",
       "      <td>44.549020</td>\n",
       "      <td>24719.098039</td>\n",
       "    </tr>\n",
       "    <tr>\n",
       "      <th>True</th>\n",
       "      <th>True</th>\n",
       "      <td>62.331263</td>\n",
       "      <td>17.689811</td>\n",
       "      <td>11.824205</td>\n",
       "      <td>33.455525</td>\n",
       "      <td>0.921755</td>\n",
       "      <td>34.495797</td>\n",
       "      <td>15.855933</td>\n",
       "      <td>88.803922</td>\n",
       "      <td>60757.901961</td>\n",
       "    </tr>\n",
       "    <tr>\n",
       "      <th>False</th>\n",
       "      <th>False</th>\n",
       "      <td>27.736502</td>\n",
       "      <td>8.785280</td>\n",
       "      <td>5.847120</td>\n",
       "      <td>5.729181</td>\n",
       "      <td>0.537429</td>\n",
       "      <td>75.916536</td>\n",
       "      <td>7.463468</td>\n",
       "      <td>1244.333333</td>\n",
       "      <td>443680.568627</td>\n",
       "    </tr>\n",
       "  </tbody>\n",
       "</table>\n",
       "</div>"
      ],
      "text/plain": [
       "                                                                                                       Percent of individuals < 200% Federal Poverty Line (mean of median across all states)  \\\n",
       "Score L Relative Housing Burden for all househo... CalEnviroScreen Housing Burden Met Burden Thres...                                                                                          \n",
       "True                                               False                                                                                       57.052724                                       \n",
       "False                                              True                                                                                        47.082927                                       \n",
       "True                                               True                                                                                        62.331263                                       \n",
       "False                                              False                                                                                       27.736502                                       \n",
       "\n",
       "                                                                                                       Percent individuals age 25 or over with less than high school degree (median across all tracts)  \\\n",
       "Score L Relative Housing Burden for all househo... CalEnviroScreen Housing Burden Met Burden Thres...                                                                                                    \n",
       "True                                               False                                                                                       19.383813                                                 \n",
       "False                                              True                                                                                        13.224927                                                 \n",
       "True                                               True                                                                                        17.689811                                                 \n",
       "False                                              False                                                                                        8.785280                                                 \n",
       "\n",
       "                                                                                                       Percent enrollment in college or graduate school (median across all tracts)  \\\n",
       "Score L Relative Housing Burden for all househo... CalEnviroScreen Housing Burden Met Burden Thres...                                                                                \n",
       "True                                               False                                                                                        8.132533                             \n",
       "False                                              True                                                                                         8.685441                             \n",
       "True                                               True                                                                                        11.824205                             \n",
       "False                                              False                                                                                        5.847120                             \n",
       "\n",
       "                                                                                                       Percent Black or African American alone (mean of median across all states)  \\\n",
       "Score L Relative Housing Burden for all househo... CalEnviroScreen Housing Burden Met Burden Thres...                                                                               \n",
       "True                                               False                                                                                       33.692806                            \n",
       "False                                              True                                                                                        23.061683                            \n",
       "True                                               True                                                                                        33.455525                            \n",
       "False                                              False                                                                                        5.729181                            \n",
       "\n",
       "                                                                                                       Percent American Indian and Alaska Native alone (mean of median across all states)  \\\n",
       "Score L Relative Housing Burden for all househo... CalEnviroScreen Housing Burden Met Burden Thres...                                                                                       \n",
       "True                                               False                                                                                        1.221395                                    \n",
       "False                                              True                                                                                         0.772400                                    \n",
       "True                                               True                                                                                         0.921755                                    \n",
       "False                                              False                                                                                        0.537429                                    \n",
       "\n",
       "                                                                                                       Percent Non-Hispanic White (mean of median across all states)  \\\n",
       "Score L Relative Housing Burden for all househo... CalEnviroScreen Housing Burden Met Burden Thres...                                                                  \n",
       "True                                               False                                                                                       31.321886               \n",
       "False                                              True                                                                                        48.240042               \n",
       "True                                               True                                                                                        34.495797               \n",
       "False                                              False                                                                                       75.916536               \n",
       "\n",
       "                                                                                                       Percent Hispanic or Latino (mean of median across all states)  \\\n",
       "Score L Relative Housing Burden for all househo... CalEnviroScreen Housing Burden Met Burden Thres...                                                                  \n",
       "True                                               False                                                                                       19.378348               \n",
       "False                                              True                                                                                        12.553371               \n",
       "True                                               True                                                                                        15.855933               \n",
       "False                                              False                                                                                        7.463468               \n",
       "\n",
       "                                                                                                       Total Number of Tracts - Mean of median across all states  \\\n",
       "Score L Relative Housing Burden for all househo... CalEnviroScreen Housing Burden Met Burden Thres...                                                              \n",
       "True                                               False                                                                                       62.088889           \n",
       "False                                              True                                                                                        44.549020           \n",
       "True                                               True                                                                                        88.803922           \n",
       "False                                              False                                                                                     1244.333333           \n",
       "\n",
       "                                                                                                       Total Owned and Rented Burdened Households (Current Aggregation Methodology)- Mean of median across all states  \n",
       "Score L Relative Housing Burden for all househo... CalEnviroScreen Housing Burden Met Burden Thres...                                                                                                                  \n",
       "True                                               False                                                                                    40949.200000                                                               \n",
       "False                                              True                                                                                     24719.098039                                                               \n",
       "True                                               True                                                                                     60757.901961                                                               \n",
       "False                                              False                                                                                   443680.568627                                                               "
      ]
     },
     "execution_count": 252,
     "metadata": {},
     "output_type": "execute_result"
    }
   ],
   "source": [
    "df"
   ]
  },
  {
   "cell_type": "code",
   "execution_count": 211,
   "metadata": {},
   "outputs": [],
   "source": [
    "def highlight_min(s, props=''):\n",
    "    return np.where(s == np.nanmin(s.values), props, '')\n",
    "\n",
    "def highlight_max(s, props=''):\n",
    "    return np.where(s == np.nanmax(s.values), props, '')\n",
    "\n",
    "df_styled = df.style.format(\n",
    "                na_rep='MISSING',\n",
    "                formatter={df.columns[idx]: \"{:.2f}\" for idx, _ in enumerate(df.columns) })"
   ]
  },
  {
   "cell_type": "code",
   "execution_count": 255,
   "metadata": {},
   "outputs": [],
   "source": [
    "df_styled_max_min = df_styled.apply(highlight_max, props='color:#FFFFFF;background-color:#00008b', axis=0)\\\n",
    "    .apply(highlight_min, props='color:#FFFFFF;background-color:#FF0000', axis=0)"
   ]
  },
  {
   "cell_type": "code",
   "execution_count": 256,
   "metadata": {},
   "outputs": [],
   "source": [
    "df_styled_max_min.to_excel(\"summary_all_states.xlsx\")"
   ]
  },
  {
   "cell_type": "code",
   "execution_count": 257,
   "metadata": {
    "scrolled": true
   },
   "outputs": [
    {
     "data": {
      "text/html": [
       "<style  type=\"text/css\" >\n",
       "#T_e608ff42_681e_11ec_b57c_acde48001122row0_col1,#T_e608ff42_681e_11ec_b57c_acde48001122row0_col3,#T_e608ff42_681e_11ec_b57c_acde48001122row0_col4,#T_e608ff42_681e_11ec_b57c_acde48001122row0_col6,#T_e608ff42_681e_11ec_b57c_acde48001122row2_col0,#T_e608ff42_681e_11ec_b57c_acde48001122row2_col2,#T_e608ff42_681e_11ec_b57c_acde48001122row3_col5,#T_e608ff42_681e_11ec_b57c_acde48001122row3_col7,#T_e608ff42_681e_11ec_b57c_acde48001122row3_col8{\n",
       "            color: white;\n",
       "            background-color: darkblue;\n",
       "            color: white;\n",
       "            background-color: darkblue;\n",
       "            color: white;\n",
       "            background-color: darkblue;\n",
       "            color: white;\n",
       "            background-color: darkblue;\n",
       "            color: white;\n",
       "            background-color: darkblue;\n",
       "            color: white;\n",
       "            background-color: darkblue;\n",
       "            color: white;\n",
       "            background-color: darkblue;\n",
       "            color: white;\n",
       "            background-color: darkblue;\n",
       "            color: white;\n",
       "            background-color: darkblue;\n",
       "            color: #FFFFFF;\n",
       "            background-color: #00008b;\n",
       "            color: white;\n",
       "            background-color: darkblue;\n",
       "            color: white;\n",
       "            background-color: darkblue;\n",
       "            color: white;\n",
       "            background-color: darkblue;\n",
       "            color: #FFFFFF;\n",
       "            background-color: #00008b;\n",
       "            color: #FFFFFF;\n",
       "            background-color: #00008b;\n",
       "            color: white;\n",
       "            background-color: darkblue;\n",
       "            color: white;\n",
       "            background-color: darkblue;\n",
       "            color: white;\n",
       "            background-color: darkblue;\n",
       "            color: #FFFFFF;\n",
       "            background-color: #00008b;\n",
       "            color: #FFFFFF;\n",
       "            background-color: #00008b;\n",
       "        }#T_e608ff42_681e_11ec_b57c_acde48001122row0_col5,#T_e608ff42_681e_11ec_b57c_acde48001122row1_col7,#T_e608ff42_681e_11ec_b57c_acde48001122row1_col8,#T_e608ff42_681e_11ec_b57c_acde48001122row3_col0,#T_e608ff42_681e_11ec_b57c_acde48001122row3_col1,#T_e608ff42_681e_11ec_b57c_acde48001122row3_col2,#T_e608ff42_681e_11ec_b57c_acde48001122row3_col3,#T_e608ff42_681e_11ec_b57c_acde48001122row3_col4,#T_e608ff42_681e_11ec_b57c_acde48001122row3_col6{\n",
       "            color: white;\n",
       "            background-color: pink;\n",
       "            color: white;\n",
       "            background-color: pink;\n",
       "            color: white;\n",
       "            background-color: red;\n",
       "            color: white;\n",
       "            background-color: pink;\n",
       "            color: white;\n",
       "            background-color: red;\n",
       "            color: #FFFFFF;\n",
       "            background-color: #FF0000;\n",
       "            color: white;\n",
       "            background-color: pink;\n",
       "            color: white;\n",
       "            background-color: red;\n",
       "            color: #FFFFFF;\n",
       "            background-color: #FF0000;\n",
       "            color: #FFFFFF;\n",
       "            background-color: #FF0000;\n",
       "            color: white;\n",
       "            background-color: pink;\n",
       "            color: white;\n",
       "            background-color: red;\n",
       "            color: #FFFFFF;\n",
       "            background-color: #FF0000;\n",
       "            color: #FFFFFF;\n",
       "            background-color: #FF0000;\n",
       "        }</style><table id=\"T_e608ff42_681e_11ec_b57c_acde48001122\" ><thead>    <tr>        <th class=\"blank\" ></th>        <th class=\"blank level0\" ></th>        <th class=\"col_heading level0 col0\" >Percent of individuals < 200% Federal Poverty Line (mean of median across all states)</th>        <th class=\"col_heading level0 col1\" >Percent individuals age 25 or over with less than high school degree (median across all tracts)</th>        <th class=\"col_heading level0 col2\" >Percent enrollment in college or graduate school (median across all tracts)</th>        <th class=\"col_heading level0 col3\" >Percent Black or African American alone (mean of median across all states)</th>        <th class=\"col_heading level0 col4\" >Percent American Indian and Alaska Native alone (mean of median across all states)</th>        <th class=\"col_heading level0 col5\" >Percent Non-Hispanic White (mean of median across all states)</th>        <th class=\"col_heading level0 col6\" >Percent Hispanic or Latino (mean of median across all states)</th>        <th class=\"col_heading level0 col7\" >Total Number of Tracts - Mean of median across all states</th>        <th class=\"col_heading level0 col8\" >Total Owned and Rented Burdened Households (Current Aggregation Methodology)- Mean of median across all states</th>    </tr>    <tr>        <th class=\"index_name level0\" >Score L Relative Housing Burden for all households met burden threshold</th>        <th class=\"index_name level1\" >CalEnviroScreen Housing Burden Met Burden Threshold (Ranked Percentile)</th>        <th class=\"blank\" ></th>        <th class=\"blank\" ></th>        <th class=\"blank\" ></th>        <th class=\"blank\" ></th>        <th class=\"blank\" ></th>        <th class=\"blank\" ></th>        <th class=\"blank\" ></th>        <th class=\"blank\" ></th>        <th class=\"blank\" ></th>    </tr></thead><tbody>\n",
       "                <tr>\n",
       "                        <th id=\"T_e608ff42_681e_11ec_b57c_acde48001122level0_row0\" class=\"row_heading level0 row0\" >True</th>\n",
       "                        <th id=\"T_e608ff42_681e_11ec_b57c_acde48001122level1_row0\" class=\"row_heading level1 row0\" >False</th>\n",
       "                        <td id=\"T_e608ff42_681e_11ec_b57c_acde48001122row0_col0\" class=\"data row0 col0\" >57.05</td>\n",
       "                        <td id=\"T_e608ff42_681e_11ec_b57c_acde48001122row0_col1\" class=\"data row0 col1\" >19.38</td>\n",
       "                        <td id=\"T_e608ff42_681e_11ec_b57c_acde48001122row0_col2\" class=\"data row0 col2\" >8.13</td>\n",
       "                        <td id=\"T_e608ff42_681e_11ec_b57c_acde48001122row0_col3\" class=\"data row0 col3\" >33.69</td>\n",
       "                        <td id=\"T_e608ff42_681e_11ec_b57c_acde48001122row0_col4\" class=\"data row0 col4\" >1.22</td>\n",
       "                        <td id=\"T_e608ff42_681e_11ec_b57c_acde48001122row0_col5\" class=\"data row0 col5\" >31.32</td>\n",
       "                        <td id=\"T_e608ff42_681e_11ec_b57c_acde48001122row0_col6\" class=\"data row0 col6\" >19.38</td>\n",
       "                        <td id=\"T_e608ff42_681e_11ec_b57c_acde48001122row0_col7\" class=\"data row0 col7\" >62.09</td>\n",
       "                        <td id=\"T_e608ff42_681e_11ec_b57c_acde48001122row0_col8\" class=\"data row0 col8\" >40949.20</td>\n",
       "            </tr>\n",
       "            <tr>\n",
       "                        <th id=\"T_e608ff42_681e_11ec_b57c_acde48001122level0_row1\" class=\"row_heading level0 row1\" >False</th>\n",
       "                        <th id=\"T_e608ff42_681e_11ec_b57c_acde48001122level1_row1\" class=\"row_heading level1 row1\" >True</th>\n",
       "                        <td id=\"T_e608ff42_681e_11ec_b57c_acde48001122row1_col0\" class=\"data row1 col0\" >47.08</td>\n",
       "                        <td id=\"T_e608ff42_681e_11ec_b57c_acde48001122row1_col1\" class=\"data row1 col1\" >13.22</td>\n",
       "                        <td id=\"T_e608ff42_681e_11ec_b57c_acde48001122row1_col2\" class=\"data row1 col2\" >8.69</td>\n",
       "                        <td id=\"T_e608ff42_681e_11ec_b57c_acde48001122row1_col3\" class=\"data row1 col3\" >23.06</td>\n",
       "                        <td id=\"T_e608ff42_681e_11ec_b57c_acde48001122row1_col4\" class=\"data row1 col4\" >0.77</td>\n",
       "                        <td id=\"T_e608ff42_681e_11ec_b57c_acde48001122row1_col5\" class=\"data row1 col5\" >48.24</td>\n",
       "                        <td id=\"T_e608ff42_681e_11ec_b57c_acde48001122row1_col6\" class=\"data row1 col6\" >12.55</td>\n",
       "                        <td id=\"T_e608ff42_681e_11ec_b57c_acde48001122row1_col7\" class=\"data row1 col7\" >44.55</td>\n",
       "                        <td id=\"T_e608ff42_681e_11ec_b57c_acde48001122row1_col8\" class=\"data row1 col8\" >24719.10</td>\n",
       "            </tr>\n",
       "            <tr>\n",
       "                        <th id=\"T_e608ff42_681e_11ec_b57c_acde48001122level0_row2\" class=\"row_heading level0 row2\" >True</th>\n",
       "                        <th id=\"T_e608ff42_681e_11ec_b57c_acde48001122level1_row2\" class=\"row_heading level1 row2\" >True</th>\n",
       "                        <td id=\"T_e608ff42_681e_11ec_b57c_acde48001122row2_col0\" class=\"data row2 col0\" >62.33</td>\n",
       "                        <td id=\"T_e608ff42_681e_11ec_b57c_acde48001122row2_col1\" class=\"data row2 col1\" >17.69</td>\n",
       "                        <td id=\"T_e608ff42_681e_11ec_b57c_acde48001122row2_col2\" class=\"data row2 col2\" >11.82</td>\n",
       "                        <td id=\"T_e608ff42_681e_11ec_b57c_acde48001122row2_col3\" class=\"data row2 col3\" >33.46</td>\n",
       "                        <td id=\"T_e608ff42_681e_11ec_b57c_acde48001122row2_col4\" class=\"data row2 col4\" >0.92</td>\n",
       "                        <td id=\"T_e608ff42_681e_11ec_b57c_acde48001122row2_col5\" class=\"data row2 col5\" >34.50</td>\n",
       "                        <td id=\"T_e608ff42_681e_11ec_b57c_acde48001122row2_col6\" class=\"data row2 col6\" >15.86</td>\n",
       "                        <td id=\"T_e608ff42_681e_11ec_b57c_acde48001122row2_col7\" class=\"data row2 col7\" >88.80</td>\n",
       "                        <td id=\"T_e608ff42_681e_11ec_b57c_acde48001122row2_col8\" class=\"data row2 col8\" >60757.90</td>\n",
       "            </tr>\n",
       "            <tr>\n",
       "                        <th id=\"T_e608ff42_681e_11ec_b57c_acde48001122level0_row3\" class=\"row_heading level0 row3\" >False</th>\n",
       "                        <th id=\"T_e608ff42_681e_11ec_b57c_acde48001122level1_row3\" class=\"row_heading level1 row3\" >False</th>\n",
       "                        <td id=\"T_e608ff42_681e_11ec_b57c_acde48001122row3_col0\" class=\"data row3 col0\" >27.74</td>\n",
       "                        <td id=\"T_e608ff42_681e_11ec_b57c_acde48001122row3_col1\" class=\"data row3 col1\" >8.79</td>\n",
       "                        <td id=\"T_e608ff42_681e_11ec_b57c_acde48001122row3_col2\" class=\"data row3 col2\" >5.85</td>\n",
       "                        <td id=\"T_e608ff42_681e_11ec_b57c_acde48001122row3_col3\" class=\"data row3 col3\" >5.73</td>\n",
       "                        <td id=\"T_e608ff42_681e_11ec_b57c_acde48001122row3_col4\" class=\"data row3 col4\" >0.54</td>\n",
       "                        <td id=\"T_e608ff42_681e_11ec_b57c_acde48001122row3_col5\" class=\"data row3 col5\" >75.92</td>\n",
       "                        <td id=\"T_e608ff42_681e_11ec_b57c_acde48001122row3_col6\" class=\"data row3 col6\" >7.46</td>\n",
       "                        <td id=\"T_e608ff42_681e_11ec_b57c_acde48001122row3_col7\" class=\"data row3 col7\" >1244.33</td>\n",
       "                        <td id=\"T_e608ff42_681e_11ec_b57c_acde48001122row3_col8\" class=\"data row3 col8\" >443680.57</td>\n",
       "            </tr>\n",
       "    </tbody></table>"
      ],
      "text/plain": [
       "<pandas.io.formats.style.Styler at 0x142d4e588>"
      ]
     },
     "execution_count": 257,
     "metadata": {},
     "output_type": "execute_result"
    }
   ],
   "source": [
    "df_styled_max_min"
   ]
  },
  {
   "cell_type": "code",
   "execution_count": 270,
   "metadata": {},
   "outputs": [],
   "source": [
    "df_1 = pd.read_excel(\"score_l_burdened_not_calenviroscreen.xlsx\", engine='openpyxl')\n",
    "df_1.set_index(\"state_name\", inplace=True)\n",
    "df_2 = pd.read_excel(\"calenviroscreen_summary.xlsx\", engine='openpyxl')\n",
    "df_2.set_index(\"state_name\", inplace=True)"
   ]
  },
  {
   "cell_type": "code",
   "execution_count": 272,
   "metadata": {},
   "outputs": [
    {
     "data": {
      "text/html": [
       "<div>\n",
       "<style scoped>\n",
       "    .dataframe tbody tr th:only-of-type {\n",
       "        vertical-align: middle;\n",
       "    }\n",
       "\n",
       "    .dataframe tbody tr th {\n",
       "        vertical-align: top;\n",
       "    }\n",
       "\n",
       "    .dataframe thead th {\n",
       "        text-align: right;\n",
       "    }\n",
       "</style>\n",
       "<table border=\"1\" class=\"dataframe\">\n",
       "  <thead>\n",
       "    <tr style=\"text-align: right;\">\n",
       "      <th></th>\n",
       "      <th>Percent of individuals &lt; 200% Federal Poverty Line (median across all tracts)</th>\n",
       "      <th>Percent individuals age 25 or over with less than high school degree (median across all tracts)</th>\n",
       "      <th>Percent enrollment in college or graduate school (median across all tracts)</th>\n",
       "      <th>Percent Black or African American alone (median across all tracts)</th>\n",
       "      <th>Percent American Indian and Alaska Native alone (median across all tracts)</th>\n",
       "      <th>Percent Non-Hispanic White (median across all tracts)</th>\n",
       "      <th>Percent Hispanic or Latino (median across all tracts)</th>\n",
       "      <th>Total Number of Unique Tracts</th>\n",
       "      <th>Total Owned and Rented Burdened Households (Current Aggregation Methodology)</th>\n",
       "    </tr>\n",
       "    <tr>\n",
       "      <th>state_name</th>\n",
       "      <th></th>\n",
       "      <th></th>\n",
       "      <th></th>\n",
       "      <th></th>\n",
       "      <th></th>\n",
       "      <th></th>\n",
       "      <th></th>\n",
       "      <th></th>\n",
       "      <th></th>\n",
       "    </tr>\n",
       "  </thead>\n",
       "  <tbody>\n",
       "    <tr>\n",
       "      <th>AK</th>\n",
       "      <td>33.563081</td>\n",
       "      <td>10.407240</td>\n",
       "      <td>9.485638</td>\n",
       "      <td>4.553571</td>\n",
       "      <td>21.279762</td>\n",
       "      <td>48.839286</td>\n",
       "      <td>9.375000</td>\n",
       "      <td>1</td>\n",
       "      <td>825</td>\n",
       "    </tr>\n",
       "    <tr>\n",
       "      <th>AL</th>\n",
       "      <td>63.335854</td>\n",
       "      <td>20.273617</td>\n",
       "      <td>7.895408</td>\n",
       "      <td>79.236090</td>\n",
       "      <td>0.000000</td>\n",
       "      <td>8.436779</td>\n",
       "      <td>1.986055</td>\n",
       "      <td>14</td>\n",
       "      <td>7107</td>\n",
       "    </tr>\n",
       "  </tbody>\n",
       "</table>\n",
       "</div>"
      ],
      "text/plain": [
       "            Percent of individuals < 200% Federal Poverty Line (median across all tracts)  \\\n",
       "state_name                                                                                  \n",
       "AK                                                  33.563081                               \n",
       "AL                                                  63.335854                               \n",
       "\n",
       "            Percent individuals age 25 or over with less than high school degree (median across all tracts)  \\\n",
       "state_name                                                                                                    \n",
       "AK                                                  10.407240                                                 \n",
       "AL                                                  20.273617                                                 \n",
       "\n",
       "            Percent enrollment in college or graduate school (median across all tracts)  \\\n",
       "state_name                                                                                \n",
       "AK                                                   9.485638                             \n",
       "AL                                                   7.895408                             \n",
       "\n",
       "            Percent Black or African American alone (median across all tracts)  \\\n",
       "state_name                                                                       \n",
       "AK                                                   4.553571                    \n",
       "AL                                                  79.236090                    \n",
       "\n",
       "            Percent American Indian and Alaska Native alone (median across all tracts)  \\\n",
       "state_name                                                                               \n",
       "AK                                                  21.279762                            \n",
       "AL                                                   0.000000                            \n",
       "\n",
       "            Percent Non-Hispanic White (median across all tracts)  \\\n",
       "state_name                                                          \n",
       "AK                                                  48.839286       \n",
       "AL                                                   8.436779       \n",
       "\n",
       "            Percent Hispanic or Latino (median across all tracts)  \\\n",
       "state_name                                                          \n",
       "AK                                                   9.375000       \n",
       "AL                                                   1.986055       \n",
       "\n",
       "            Total Number of Unique Tracts  \\\n",
       "state_name                                  \n",
       "AK                                      1   \n",
       "AL                                     14   \n",
       "\n",
       "            Total Owned and Rented Burdened Households (Current Aggregation Methodology)  \n",
       "state_name                                                                                \n",
       "AK                                                        825                             \n",
       "AL                                                       7107                             "
      ]
     },
     "execution_count": 272,
     "metadata": {},
     "output_type": "execute_result"
    }
   ],
   "source": [
    "df_1.head(2)"
   ]
  },
  {
   "cell_type": "code",
   "execution_count": 273,
   "metadata": {},
   "outputs": [],
   "source": [
    "candidate_columns = ['Percent of individuals < 200% Federal Poverty Line (median across all tracts)',\n",
    "       'Percent individuals age 25 or over with less than high school degree (median across all tracts)',\n",
    "       'Percent enrollment in college or graduate school (median across all tracts)',\n",
    "       'Percent Black or African American alone (median across all tracts)',\n",
    "       'Percent American Indian and Alaska Native alone (median across all tracts)',\n",
    "       'Percent Non-Hispanic White (median across all tracts)',\n",
    "       'Percent Hispanic or Latino (median across all tracts)',\n",
    "       'Total Number of Unique Tracts',\n",
    "       'Total Owned and Rented Burdened Households (Current Aggregation Methodology)']"
   ]
  },
  {
   "cell_type": "code",
   "execution_count": 276,
   "metadata": {},
   "outputs": [],
   "source": [
    "diff = (df_1[candidate_columns] - df_2[candidate_columns]).fillna(0)"
   ]
  },
  {
   "cell_type": "code",
   "execution_count": 277,
   "metadata": {},
   "outputs": [
    {
     "data": {
      "text/html": [
       "<div>\n",
       "<style scoped>\n",
       "    .dataframe tbody tr th:only-of-type {\n",
       "        vertical-align: middle;\n",
       "    }\n",
       "\n",
       "    .dataframe tbody tr th {\n",
       "        vertical-align: top;\n",
       "    }\n",
       "\n",
       "    .dataframe thead th {\n",
       "        text-align: right;\n",
       "    }\n",
       "</style>\n",
       "<table border=\"1\" class=\"dataframe\">\n",
       "  <thead>\n",
       "    <tr style=\"text-align: right;\">\n",
       "      <th></th>\n",
       "      <th>Percent of individuals &lt; 200% Federal Poverty Line (median across all tracts)</th>\n",
       "      <th>Percent individuals age 25 or over with less than high school degree (median across all tracts)</th>\n",
       "      <th>Percent enrollment in college or graduate school (median across all tracts)</th>\n",
       "      <th>Percent Black or African American alone (median across all tracts)</th>\n",
       "      <th>Percent American Indian and Alaska Native alone (median across all tracts)</th>\n",
       "      <th>Percent Non-Hispanic White (median across all tracts)</th>\n",
       "      <th>Percent Hispanic or Latino (median across all tracts)</th>\n",
       "      <th>Total Number of Unique Tracts</th>\n",
       "      <th>Total Owned and Rented Burdened Households (Current Aggregation Methodology)</th>\n",
       "    </tr>\n",
       "    <tr>\n",
       "      <th>state_name</th>\n",
       "      <th></th>\n",
       "      <th></th>\n",
       "      <th></th>\n",
       "      <th></th>\n",
       "      <th></th>\n",
       "      <th></th>\n",
       "      <th></th>\n",
       "      <th></th>\n",
       "      <th></th>\n",
       "    </tr>\n",
       "  </thead>\n",
       "  <tbody>\n",
       "    <tr>\n",
       "      <th>AK</th>\n",
       "      <td>0.985223</td>\n",
       "      <td>-0.274578</td>\n",
       "      <td>3.206568</td>\n",
       "      <td>-1.085258</td>\n",
       "      <td>8.721076</td>\n",
       "      <td>-6.803172</td>\n",
       "      <td>-1.778285</td>\n",
       "      <td>-10.0</td>\n",
       "      <td>-4179.0</td>\n",
       "    </tr>\n",
       "    <tr>\n",
       "      <th>AL</th>\n",
       "      <td>6.211917</td>\n",
       "      <td>4.283941</td>\n",
       "      <td>0.331430</td>\n",
       "      <td>6.212278</td>\n",
       "      <td>0.000000</td>\n",
       "      <td>-9.011147</td>\n",
       "      <td>-0.630017</td>\n",
       "      <td>-28.0</td>\n",
       "      <td>-15422.0</td>\n",
       "    </tr>\n",
       "    <tr>\n",
       "      <th>AR</th>\n",
       "      <td>5.432052</td>\n",
       "      <td>1.601861</td>\n",
       "      <td>3.942754</td>\n",
       "      <td>20.319049</td>\n",
       "      <td>0.102459</td>\n",
       "      <td>-23.263854</td>\n",
       "      <td>-0.896646</td>\n",
       "      <td>-35.0</td>\n",
       "      <td>-16843.0</td>\n",
       "    </tr>\n",
       "    <tr>\n",
       "      <th>AZ</th>\n",
       "      <td>13.594871</td>\n",
       "      <td>11.979424</td>\n",
       "      <td>-0.272040</td>\n",
       "      <td>1.361388</td>\n",
       "      <td>-0.915677</td>\n",
       "      <td>-8.953361</td>\n",
       "      <td>8.757832</td>\n",
       "      <td>-39.0</td>\n",
       "      <td>-23253.0</td>\n",
       "    </tr>\n",
       "    <tr>\n",
       "      <th>CA</th>\n",
       "      <td>15.717598</td>\n",
       "      <td>16.799587</td>\n",
       "      <td>-0.702951</td>\n",
       "      <td>0.247647</td>\n",
       "      <td>0.415820</td>\n",
       "      <td>-21.870519</td>\n",
       "      <td>40.216194</td>\n",
       "      <td>783.0</td>\n",
       "      <td>542144.0</td>\n",
       "    </tr>\n",
       "  </tbody>\n",
       "</table>\n",
       "</div>"
      ],
      "text/plain": [
       "            Percent of individuals < 200% Federal Poverty Line (median across all tracts)  \\\n",
       "state_name                                                                                  \n",
       "AK                                                   0.985223                               \n",
       "AL                                                   6.211917                               \n",
       "AR                                                   5.432052                               \n",
       "AZ                                                  13.594871                               \n",
       "CA                                                  15.717598                               \n",
       "\n",
       "            Percent individuals age 25 or over with less than high school degree (median across all tracts)  \\\n",
       "state_name                                                                                                    \n",
       "AK                                                  -0.274578                                                 \n",
       "AL                                                   4.283941                                                 \n",
       "AR                                                   1.601861                                                 \n",
       "AZ                                                  11.979424                                                 \n",
       "CA                                                  16.799587                                                 \n",
       "\n",
       "            Percent enrollment in college or graduate school (median across all tracts)  \\\n",
       "state_name                                                                                \n",
       "AK                                                   3.206568                             \n",
       "AL                                                   0.331430                             \n",
       "AR                                                   3.942754                             \n",
       "AZ                                                  -0.272040                             \n",
       "CA                                                  -0.702951                             \n",
       "\n",
       "            Percent Black or African American alone (median across all tracts)  \\\n",
       "state_name                                                                       \n",
       "AK                                                  -1.085258                    \n",
       "AL                                                   6.212278                    \n",
       "AR                                                  20.319049                    \n",
       "AZ                                                   1.361388                    \n",
       "CA                                                   0.247647                    \n",
       "\n",
       "            Percent American Indian and Alaska Native alone (median across all tracts)  \\\n",
       "state_name                                                                               \n",
       "AK                                                   8.721076                            \n",
       "AL                                                   0.000000                            \n",
       "AR                                                   0.102459                            \n",
       "AZ                                                  -0.915677                            \n",
       "CA                                                   0.415820                            \n",
       "\n",
       "            Percent Non-Hispanic White (median across all tracts)  \\\n",
       "state_name                                                          \n",
       "AK                                                  -6.803172       \n",
       "AL                                                  -9.011147       \n",
       "AR                                                 -23.263854       \n",
       "AZ                                                  -8.953361       \n",
       "CA                                                 -21.870519       \n",
       "\n",
       "            Percent Hispanic or Latino (median across all tracts)  \\\n",
       "state_name                                                          \n",
       "AK                                                  -1.778285       \n",
       "AL                                                  -0.630017       \n",
       "AR                                                  -0.896646       \n",
       "AZ                                                   8.757832       \n",
       "CA                                                  40.216194       \n",
       "\n",
       "            Total Number of Unique Tracts  \\\n",
       "state_name                                  \n",
       "AK                                  -10.0   \n",
       "AL                                  -28.0   \n",
       "AR                                  -35.0   \n",
       "AZ                                  -39.0   \n",
       "CA                                  783.0   \n",
       "\n",
       "            Total Owned and Rented Burdened Households (Current Aggregation Methodology)  \n",
       "state_name                                                                                \n",
       "AK                                                    -4179.0                             \n",
       "AL                                                   -15422.0                             \n",
       "AR                                                   -16843.0                             \n",
       "AZ                                                   -23253.0                             \n",
       "CA                                                   542144.0                             "
      ]
     },
     "execution_count": 277,
     "metadata": {},
     "output_type": "execute_result"
    }
   ],
   "source": [
    "diff.head()"
   ]
  },
  {
   "cell_type": "code",
   "execution_count": 279,
   "metadata": {},
   "outputs": [
    {
     "data": {
      "text/html": [
       "<style  type=\"text/css\" >\n",
       "#T_45f988e2_6822_11ec_a00c_acde48001122row0_col1,#T_45f988e2_6822_11ec_a00c_acde48001122row0_col3,#T_45f988e2_6822_11ec_a00c_acde48001122row0_col5,#T_45f988e2_6822_11ec_a00c_acde48001122row0_col6,#T_45f988e2_6822_11ec_a00c_acde48001122row0_col7,#T_45f988e2_6822_11ec_a00c_acde48001122row0_col8,#T_45f988e2_6822_11ec_a00c_acde48001122row1_col5,#T_45f988e2_6822_11ec_a00c_acde48001122row1_col6,#T_45f988e2_6822_11ec_a00c_acde48001122row1_col7,#T_45f988e2_6822_11ec_a00c_acde48001122row1_col8,#T_45f988e2_6822_11ec_a00c_acde48001122row2_col5,#T_45f988e2_6822_11ec_a00c_acde48001122row2_col6,#T_45f988e2_6822_11ec_a00c_acde48001122row2_col7,#T_45f988e2_6822_11ec_a00c_acde48001122row2_col8,#T_45f988e2_6822_11ec_a00c_acde48001122row3_col2,#T_45f988e2_6822_11ec_a00c_acde48001122row3_col4,#T_45f988e2_6822_11ec_a00c_acde48001122row3_col5,#T_45f988e2_6822_11ec_a00c_acde48001122row3_col7,#T_45f988e2_6822_11ec_a00c_acde48001122row3_col8,#T_45f988e2_6822_11ec_a00c_acde48001122row4_col2,#T_45f988e2_6822_11ec_a00c_acde48001122row4_col5,#T_45f988e2_6822_11ec_a00c_acde48001122row5_col5,#T_45f988e2_6822_11ec_a00c_acde48001122row5_col7,#T_45f988e2_6822_11ec_a00c_acde48001122row5_col8,#T_45f988e2_6822_11ec_a00c_acde48001122row6_col3,#T_45f988e2_6822_11ec_a00c_acde48001122row6_col5,#T_45f988e2_6822_11ec_a00c_acde48001122row7_col2,#T_45f988e2_6822_11ec_a00c_acde48001122row7_col5,#T_45f988e2_6822_11ec_a00c_acde48001122row7_col6,#T_45f988e2_6822_11ec_a00c_acde48001122row8_col1,#T_45f988e2_6822_11ec_a00c_acde48001122row8_col2,#T_45f988e2_6822_11ec_a00c_acde48001122row8_col3,#T_45f988e2_6822_11ec_a00c_acde48001122row8_col7,#T_45f988e2_6822_11ec_a00c_acde48001122row8_col8,#T_45f988e2_6822_11ec_a00c_acde48001122row9_col2,#T_45f988e2_6822_11ec_a00c_acde48001122row9_col5,#T_45f988e2_6822_11ec_a00c_acde48001122row10_col2,#T_45f988e2_6822_11ec_a00c_acde48001122row10_col4,#T_45f988e2_6822_11ec_a00c_acde48001122row10_col5,#T_45f988e2_6822_11ec_a00c_acde48001122row10_col7,#T_45f988e2_6822_11ec_a00c_acde48001122row11_col3,#T_45f988e2_6822_11ec_a00c_acde48001122row11_col4,#T_45f988e2_6822_11ec_a00c_acde48001122row11_col5,#T_45f988e2_6822_11ec_a00c_acde48001122row12_col1,#T_45f988e2_6822_11ec_a00c_acde48001122row12_col2,#T_45f988e2_6822_11ec_a00c_acde48001122row12_col3,#T_45f988e2_6822_11ec_a00c_acde48001122row12_col6,#T_45f988e2_6822_11ec_a00c_acde48001122row12_col7,#T_45f988e2_6822_11ec_a00c_acde48001122row12_col8,#T_45f988e2_6822_11ec_a00c_acde48001122row13_col3,#T_45f988e2_6822_11ec_a00c_acde48001122row13_col4,#T_45f988e2_6822_11ec_a00c_acde48001122row13_col5,#T_45f988e2_6822_11ec_a00c_acde48001122row13_col7,#T_45f988e2_6822_11ec_a00c_acde48001122row13_col8,#T_45f988e2_6822_11ec_a00c_acde48001122row14_col2,#T_45f988e2_6822_11ec_a00c_acde48001122row14_col5,#T_45f988e2_6822_11ec_a00c_acde48001122row15_col7,#T_45f988e2_6822_11ec_a00c_acde48001122row15_col8,#T_45f988e2_6822_11ec_a00c_acde48001122row16_col1,#T_45f988e2_6822_11ec_a00c_acde48001122row16_col6,#T_45f988e2_6822_11ec_a00c_acde48001122row16_col7,#T_45f988e2_6822_11ec_a00c_acde48001122row16_col8,#T_45f988e2_6822_11ec_a00c_acde48001122row17_col3,#T_45f988e2_6822_11ec_a00c_acde48001122row17_col5,#T_45f988e2_6822_11ec_a00c_acde48001122row17_col7,#T_45f988e2_6822_11ec_a00c_acde48001122row17_col8,#T_45f988e2_6822_11ec_a00c_acde48001122row18_col5,#T_45f988e2_6822_11ec_a00c_acde48001122row18_col6,#T_45f988e2_6822_11ec_a00c_acde48001122row19_col5,#T_45f988e2_6822_11ec_a00c_acde48001122row20_col2,#T_45f988e2_6822_11ec_a00c_acde48001122row20_col5,#T_45f988e2_6822_11ec_a00c_acde48001122row20_col6,#T_45f988e2_6822_11ec_a00c_acde48001122row20_col7,#T_45f988e2_6822_11ec_a00c_acde48001122row20_col8,#T_45f988e2_6822_11ec_a00c_acde48001122row21_col2,#T_45f988e2_6822_11ec_a00c_acde48001122row21_col3,#T_45f988e2_6822_11ec_a00c_acde48001122row21_col4,#T_45f988e2_6822_11ec_a00c_acde48001122row21_col5,#T_45f988e2_6822_11ec_a00c_acde48001122row21_col6,#T_45f988e2_6822_11ec_a00c_acde48001122row21_col7,#T_45f988e2_6822_11ec_a00c_acde48001122row21_col8,#T_45f988e2_6822_11ec_a00c_acde48001122row22_col5,#T_45f988e2_6822_11ec_a00c_acde48001122row22_col6,#T_45f988e2_6822_11ec_a00c_acde48001122row22_col7,#T_45f988e2_6822_11ec_a00c_acde48001122row22_col8,#T_45f988e2_6822_11ec_a00c_acde48001122row23_col5,#T_45f988e2_6822_11ec_a00c_acde48001122row23_col7,#T_45f988e2_6822_11ec_a00c_acde48001122row23_col8,#T_45f988e2_6822_11ec_a00c_acde48001122row24_col1,#T_45f988e2_6822_11ec_a00c_acde48001122row24_col2,#T_45f988e2_6822_11ec_a00c_acde48001122row24_col5,#T_45f988e2_6822_11ec_a00c_acde48001122row24_col6,#T_45f988e2_6822_11ec_a00c_acde48001122row24_col7,#T_45f988e2_6822_11ec_a00c_acde48001122row24_col8,#T_45f988e2_6822_11ec_a00c_acde48001122row25_col2,#T_45f988e2_6822_11ec_a00c_acde48001122row25_col5,#T_45f988e2_6822_11ec_a00c_acde48001122row25_col7,#T_45f988e2_6822_11ec_a00c_acde48001122row25_col8,#T_45f988e2_6822_11ec_a00c_acde48001122row27_col2,#T_45f988e2_6822_11ec_a00c_acde48001122row27_col5,#T_45f988e2_6822_11ec_a00c_acde48001122row27_col7,#T_45f988e2_6822_11ec_a00c_acde48001122row27_col8,#T_45f988e2_6822_11ec_a00c_acde48001122row29_col2,#T_45f988e2_6822_11ec_a00c_acde48001122row29_col3,#T_45f988e2_6822_11ec_a00c_acde48001122row29_col5,#T_45f988e2_6822_11ec_a00c_acde48001122row29_col7,#T_45f988e2_6822_11ec_a00c_acde48001122row29_col8,#T_45f988e2_6822_11ec_a00c_acde48001122row30_col2,#T_45f988e2_6822_11ec_a00c_acde48001122row30_col5,#T_45f988e2_6822_11ec_a00c_acde48001122row30_col7,#T_45f988e2_6822_11ec_a00c_acde48001122row30_col8,#T_45f988e2_6822_11ec_a00c_acde48001122row31_col2,#T_45f988e2_6822_11ec_a00c_acde48001122row31_col3,#T_45f988e2_6822_11ec_a00c_acde48001122row31_col5,#T_45f988e2_6822_11ec_a00c_acde48001122row33_col2,#T_45f988e2_6822_11ec_a00c_acde48001122row33_col3,#T_45f988e2_6822_11ec_a00c_acde48001122row34_col2,#T_45f988e2_6822_11ec_a00c_acde48001122row34_col3,#T_45f988e2_6822_11ec_a00c_acde48001122row35_col5,#T_45f988e2_6822_11ec_a00c_acde48001122row35_col7,#T_45f988e2_6822_11ec_a00c_acde48001122row36_col2,#T_45f988e2_6822_11ec_a00c_acde48001122row36_col4,#T_45f988e2_6822_11ec_a00c_acde48001122row36_col5,#T_45f988e2_6822_11ec_a00c_acde48001122row36_col7,#T_45f988e2_6822_11ec_a00c_acde48001122row36_col8,#T_45f988e2_6822_11ec_a00c_acde48001122row37_col2,#T_45f988e2_6822_11ec_a00c_acde48001122row37_col4,#T_45f988e2_6822_11ec_a00c_acde48001122row37_col5,#T_45f988e2_6822_11ec_a00c_acde48001122row37_col7,#T_45f988e2_6822_11ec_a00c_acde48001122row37_col8,#T_45f988e2_6822_11ec_a00c_acde48001122row38_col2,#T_45f988e2_6822_11ec_a00c_acde48001122row38_col5,#T_45f988e2_6822_11ec_a00c_acde48001122row38_col7,#T_45f988e2_6822_11ec_a00c_acde48001122row38_col8,#T_45f988e2_6822_11ec_a00c_acde48001122row39_col2,#T_45f988e2_6822_11ec_a00c_acde48001122row39_col5,#T_45f988e2_6822_11ec_a00c_acde48001122row40_col5,#T_45f988e2_6822_11ec_a00c_acde48001122row40_col7,#T_45f988e2_6822_11ec_a00c_acde48001122row40_col8,#T_45f988e2_6822_11ec_a00c_acde48001122row42_col2,#T_45f988e2_6822_11ec_a00c_acde48001122row42_col5,#T_45f988e2_6822_11ec_a00c_acde48001122row42_col7,#T_45f988e2_6822_11ec_a00c_acde48001122row42_col8,#T_45f988e2_6822_11ec_a00c_acde48001122row43_col2,#T_45f988e2_6822_11ec_a00c_acde48001122row43_col5,#T_45f988e2_6822_11ec_a00c_acde48001122row43_col7,#T_45f988e2_6822_11ec_a00c_acde48001122row43_col8,#T_45f988e2_6822_11ec_a00c_acde48001122row44_col3,#T_45f988e2_6822_11ec_a00c_acde48001122row44_col5,#T_45f988e2_6822_11ec_a00c_acde48001122row44_col7,#T_45f988e2_6822_11ec_a00c_acde48001122row44_col8,#T_45f988e2_6822_11ec_a00c_acde48001122row45_col2,#T_45f988e2_6822_11ec_a00c_acde48001122row45_col5,#T_45f988e2_6822_11ec_a00c_acde48001122row45_col7,#T_45f988e2_6822_11ec_a00c_acde48001122row45_col8,#T_45f988e2_6822_11ec_a00c_acde48001122row47_col2,#T_45f988e2_6822_11ec_a00c_acde48001122row47_col5,#T_45f988e2_6822_11ec_a00c_acde48001122row47_col7,#T_45f988e2_6822_11ec_a00c_acde48001122row47_col8,#T_45f988e2_6822_11ec_a00c_acde48001122row48_col2,#T_45f988e2_6822_11ec_a00c_acde48001122row48_col4,#T_45f988e2_6822_11ec_a00c_acde48001122row48_col5,#T_45f988e2_6822_11ec_a00c_acde48001122row48_col6,#T_45f988e2_6822_11ec_a00c_acde48001122row48_col7,#T_45f988e2_6822_11ec_a00c_acde48001122row48_col8{\n",
       "            color: red;\n",
       "        }</style><table id=\"T_45f988e2_6822_11ec_a00c_acde48001122\" ><thead>    <tr>        <th class=\"blank level0\" ></th>        <th class=\"col_heading level0 col0\" >Percent of individuals < 200% Federal Poverty Line (median across all tracts)</th>        <th class=\"col_heading level0 col1\" >Percent individuals age 25 or over with less than high school degree (median across all tracts)</th>        <th class=\"col_heading level0 col2\" >Percent enrollment in college or graduate school (median across all tracts)</th>        <th class=\"col_heading level0 col3\" >Percent Black or African American alone (median across all tracts)</th>        <th class=\"col_heading level0 col4\" >Percent American Indian and Alaska Native alone (median across all tracts)</th>        <th class=\"col_heading level0 col5\" >Percent Non-Hispanic White (median across all tracts)</th>        <th class=\"col_heading level0 col6\" >Percent Hispanic or Latino (median across all tracts)</th>        <th class=\"col_heading level0 col7\" >Total Number of Unique Tracts</th>        <th class=\"col_heading level0 col8\" >Total Owned and Rented Burdened Households (Current Aggregation Methodology)</th>    </tr>    <tr>        <th class=\"index_name level0\" >state_name</th>        <th class=\"blank\" ></th>        <th class=\"blank\" ></th>        <th class=\"blank\" ></th>        <th class=\"blank\" ></th>        <th class=\"blank\" ></th>        <th class=\"blank\" ></th>        <th class=\"blank\" ></th>        <th class=\"blank\" ></th>        <th class=\"blank\" ></th>    </tr></thead><tbody>\n",
       "                <tr>\n",
       "                        <th id=\"T_45f988e2_6822_11ec_a00c_acde48001122level0_row0\" class=\"row_heading level0 row0\" >AK</th>\n",
       "                        <td id=\"T_45f988e2_6822_11ec_a00c_acde48001122row0_col0\" class=\"data row0 col0\" >0.985223</td>\n",
       "                        <td id=\"T_45f988e2_6822_11ec_a00c_acde48001122row0_col1\" class=\"data row0 col1\" >-0.274578</td>\n",
       "                        <td id=\"T_45f988e2_6822_11ec_a00c_acde48001122row0_col2\" class=\"data row0 col2\" >3.206568</td>\n",
       "                        <td id=\"T_45f988e2_6822_11ec_a00c_acde48001122row0_col3\" class=\"data row0 col3\" >-1.085258</td>\n",
       "                        <td id=\"T_45f988e2_6822_11ec_a00c_acde48001122row0_col4\" class=\"data row0 col4\" >8.721076</td>\n",
       "                        <td id=\"T_45f988e2_6822_11ec_a00c_acde48001122row0_col5\" class=\"data row0 col5\" >-6.803172</td>\n",
       "                        <td id=\"T_45f988e2_6822_11ec_a00c_acde48001122row0_col6\" class=\"data row0 col6\" >-1.778285</td>\n",
       "                        <td id=\"T_45f988e2_6822_11ec_a00c_acde48001122row0_col7\" class=\"data row0 col7\" >-10.000000</td>\n",
       "                        <td id=\"T_45f988e2_6822_11ec_a00c_acde48001122row0_col8\" class=\"data row0 col8\" >-4179.000000</td>\n",
       "            </tr>\n",
       "            <tr>\n",
       "                        <th id=\"T_45f988e2_6822_11ec_a00c_acde48001122level0_row1\" class=\"row_heading level0 row1\" >AL</th>\n",
       "                        <td id=\"T_45f988e2_6822_11ec_a00c_acde48001122row1_col0\" class=\"data row1 col0\" >6.211917</td>\n",
       "                        <td id=\"T_45f988e2_6822_11ec_a00c_acde48001122row1_col1\" class=\"data row1 col1\" >4.283941</td>\n",
       "                        <td id=\"T_45f988e2_6822_11ec_a00c_acde48001122row1_col2\" class=\"data row1 col2\" >0.331430</td>\n",
       "                        <td id=\"T_45f988e2_6822_11ec_a00c_acde48001122row1_col3\" class=\"data row1 col3\" >6.212278</td>\n",
       "                        <td id=\"T_45f988e2_6822_11ec_a00c_acde48001122row1_col4\" class=\"data row1 col4\" >0.000000</td>\n",
       "                        <td id=\"T_45f988e2_6822_11ec_a00c_acde48001122row1_col5\" class=\"data row1 col5\" >-9.011147</td>\n",
       "                        <td id=\"T_45f988e2_6822_11ec_a00c_acde48001122row1_col6\" class=\"data row1 col6\" >-0.630017</td>\n",
       "                        <td id=\"T_45f988e2_6822_11ec_a00c_acde48001122row1_col7\" class=\"data row1 col7\" >-28.000000</td>\n",
       "                        <td id=\"T_45f988e2_6822_11ec_a00c_acde48001122row1_col8\" class=\"data row1 col8\" >-15422.000000</td>\n",
       "            </tr>\n",
       "            <tr>\n",
       "                        <th id=\"T_45f988e2_6822_11ec_a00c_acde48001122level0_row2\" class=\"row_heading level0 row2\" >AR</th>\n",
       "                        <td id=\"T_45f988e2_6822_11ec_a00c_acde48001122row2_col0\" class=\"data row2 col0\" >5.432052</td>\n",
       "                        <td id=\"T_45f988e2_6822_11ec_a00c_acde48001122row2_col1\" class=\"data row2 col1\" >1.601861</td>\n",
       "                        <td id=\"T_45f988e2_6822_11ec_a00c_acde48001122row2_col2\" class=\"data row2 col2\" >3.942754</td>\n",
       "                        <td id=\"T_45f988e2_6822_11ec_a00c_acde48001122row2_col3\" class=\"data row2 col3\" >20.319049</td>\n",
       "                        <td id=\"T_45f988e2_6822_11ec_a00c_acde48001122row2_col4\" class=\"data row2 col4\" >0.102459</td>\n",
       "                        <td id=\"T_45f988e2_6822_11ec_a00c_acde48001122row2_col5\" class=\"data row2 col5\" >-23.263854</td>\n",
       "                        <td id=\"T_45f988e2_6822_11ec_a00c_acde48001122row2_col6\" class=\"data row2 col6\" >-0.896646</td>\n",
       "                        <td id=\"T_45f988e2_6822_11ec_a00c_acde48001122row2_col7\" class=\"data row2 col7\" >-35.000000</td>\n",
       "                        <td id=\"T_45f988e2_6822_11ec_a00c_acde48001122row2_col8\" class=\"data row2 col8\" >-16843.000000</td>\n",
       "            </tr>\n",
       "            <tr>\n",
       "                        <th id=\"T_45f988e2_6822_11ec_a00c_acde48001122level0_row3\" class=\"row_heading level0 row3\" >AZ</th>\n",
       "                        <td id=\"T_45f988e2_6822_11ec_a00c_acde48001122row3_col0\" class=\"data row3 col0\" >13.594871</td>\n",
       "                        <td id=\"T_45f988e2_6822_11ec_a00c_acde48001122row3_col1\" class=\"data row3 col1\" >11.979424</td>\n",
       "                        <td id=\"T_45f988e2_6822_11ec_a00c_acde48001122row3_col2\" class=\"data row3 col2\" >-0.272040</td>\n",
       "                        <td id=\"T_45f988e2_6822_11ec_a00c_acde48001122row3_col3\" class=\"data row3 col3\" >1.361388</td>\n",
       "                        <td id=\"T_45f988e2_6822_11ec_a00c_acde48001122row3_col4\" class=\"data row3 col4\" >-0.915677</td>\n",
       "                        <td id=\"T_45f988e2_6822_11ec_a00c_acde48001122row3_col5\" class=\"data row3 col5\" >-8.953361</td>\n",
       "                        <td id=\"T_45f988e2_6822_11ec_a00c_acde48001122row3_col6\" class=\"data row3 col6\" >8.757832</td>\n",
       "                        <td id=\"T_45f988e2_6822_11ec_a00c_acde48001122row3_col7\" class=\"data row3 col7\" >-39.000000</td>\n",
       "                        <td id=\"T_45f988e2_6822_11ec_a00c_acde48001122row3_col8\" class=\"data row3 col8\" >-23253.000000</td>\n",
       "            </tr>\n",
       "            <tr>\n",
       "                        <th id=\"T_45f988e2_6822_11ec_a00c_acde48001122level0_row4\" class=\"row_heading level0 row4\" >CA</th>\n",
       "                        <td id=\"T_45f988e2_6822_11ec_a00c_acde48001122row4_col0\" class=\"data row4 col0\" >15.717598</td>\n",
       "                        <td id=\"T_45f988e2_6822_11ec_a00c_acde48001122row4_col1\" class=\"data row4 col1\" >16.799587</td>\n",
       "                        <td id=\"T_45f988e2_6822_11ec_a00c_acde48001122row4_col2\" class=\"data row4 col2\" >-0.702951</td>\n",
       "                        <td id=\"T_45f988e2_6822_11ec_a00c_acde48001122row4_col3\" class=\"data row4 col3\" >0.247647</td>\n",
       "                        <td id=\"T_45f988e2_6822_11ec_a00c_acde48001122row4_col4\" class=\"data row4 col4\" >0.415820</td>\n",
       "                        <td id=\"T_45f988e2_6822_11ec_a00c_acde48001122row4_col5\" class=\"data row4 col5\" >-21.870519</td>\n",
       "                        <td id=\"T_45f988e2_6822_11ec_a00c_acde48001122row4_col6\" class=\"data row4 col6\" >40.216194</td>\n",
       "                        <td id=\"T_45f988e2_6822_11ec_a00c_acde48001122row4_col7\" class=\"data row4 col7\" >783.000000</td>\n",
       "                        <td id=\"T_45f988e2_6822_11ec_a00c_acde48001122row4_col8\" class=\"data row4 col8\" >542144.000000</td>\n",
       "            </tr>\n",
       "            <tr>\n",
       "                        <th id=\"T_45f988e2_6822_11ec_a00c_acde48001122level0_row5\" class=\"row_heading level0 row5\" >CO</th>\n",
       "                        <td id=\"T_45f988e2_6822_11ec_a00c_acde48001122row5_col0\" class=\"data row5 col0\" >5.267963</td>\n",
       "                        <td id=\"T_45f988e2_6822_11ec_a00c_acde48001122row5_col1\" class=\"data row5 col1\" >0.816207</td>\n",
       "                        <td id=\"T_45f988e2_6822_11ec_a00c_acde48001122row5_col2\" class=\"data row5 col2\" >0.089370</td>\n",
       "                        <td id=\"T_45f988e2_6822_11ec_a00c_acde48001122row5_col3\" class=\"data row5 col3\" >5.338649</td>\n",
       "                        <td id=\"T_45f988e2_6822_11ec_a00c_acde48001122row5_col4\" class=\"data row5 col4\" >0.149809</td>\n",
       "                        <td id=\"T_45f988e2_6822_11ec_a00c_acde48001122row5_col5\" class=\"data row5 col5\" >-24.425903</td>\n",
       "                        <td id=\"T_45f988e2_6822_11ec_a00c_acde48001122row5_col6\" class=\"data row5 col6\" >10.133080</td>\n",
       "                        <td id=\"T_45f988e2_6822_11ec_a00c_acde48001122row5_col7\" class=\"data row5 col7\" >-34.000000</td>\n",
       "                        <td id=\"T_45f988e2_6822_11ec_a00c_acde48001122row5_col8\" class=\"data row5 col8\" >-17296.000000</td>\n",
       "            </tr>\n",
       "            <tr>\n",
       "                        <th id=\"T_45f988e2_6822_11ec_a00c_acde48001122level0_row6\" class=\"row_heading level0 row6\" >CT</th>\n",
       "                        <td id=\"T_45f988e2_6822_11ec_a00c_acde48001122row6_col0\" class=\"data row6 col0\" >20.337916</td>\n",
       "                        <td id=\"T_45f988e2_6822_11ec_a00c_acde48001122row6_col1\" class=\"data row6 col1\" >6.865214</td>\n",
       "                        <td id=\"T_45f988e2_6822_11ec_a00c_acde48001122row6_col2\" class=\"data row6 col2\" >0.574592</td>\n",
       "                        <td id=\"T_45f988e2_6822_11ec_a00c_acde48001122row6_col3\" class=\"data row6 col3\" >-7.952396</td>\n",
       "                        <td id=\"T_45f988e2_6822_11ec_a00c_acde48001122row6_col4\" class=\"data row6 col4\" >0.000000</td>\n",
       "                        <td id=\"T_45f988e2_6822_11ec_a00c_acde48001122row6_col5\" class=\"data row6 col5\" >-9.384233</td>\n",
       "                        <td id=\"T_45f988e2_6822_11ec_a00c_acde48001122row6_col6\" class=\"data row6 col6\" >3.734253</td>\n",
       "                        <td id=\"T_45f988e2_6822_11ec_a00c_acde48001122row6_col7\" class=\"data row6 col7\" >48.000000</td>\n",
       "                        <td id=\"T_45f988e2_6822_11ec_a00c_acde48001122row6_col8\" class=\"data row6 col8\" >33786.000000</td>\n",
       "            </tr>\n",
       "            <tr>\n",
       "                        <th id=\"T_45f988e2_6822_11ec_a00c_acde48001122level0_row7\" class=\"row_heading level0 row7\" >DC</th>\n",
       "                        <td id=\"T_45f988e2_6822_11ec_a00c_acde48001122row7_col0\" class=\"data row7 col0\" >20.225619</td>\n",
       "                        <td id=\"T_45f988e2_6822_11ec_a00c_acde48001122row7_col1\" class=\"data row7 col1\" >9.277701</td>\n",
       "                        <td id=\"T_45f988e2_6822_11ec_a00c_acde48001122row7_col2\" class=\"data row7 col2\" >-10.589364</td>\n",
       "                        <td id=\"T_45f988e2_6822_11ec_a00c_acde48001122row7_col3\" class=\"data row7 col3\" >65.946763</td>\n",
       "                        <td id=\"T_45f988e2_6822_11ec_a00c_acde48001122row7_col4\" class=\"data row7 col4\" >0.000000</td>\n",
       "                        <td id=\"T_45f988e2_6822_11ec_a00c_acde48001122row7_col5\" class=\"data row7 col5\" >-49.789447</td>\n",
       "                        <td id=\"T_45f988e2_6822_11ec_a00c_acde48001122row7_col6\" class=\"data row7 col6\" >-6.124777</td>\n",
       "                        <td id=\"T_45f988e2_6822_11ec_a00c_acde48001122row7_col7\" class=\"data row7 col7\" >13.000000</td>\n",
       "                        <td id=\"T_45f988e2_6822_11ec_a00c_acde48001122row7_col8\" class=\"data row7 col8\" >9673.000000</td>\n",
       "            </tr>\n",
       "            <tr>\n",
       "                        <th id=\"T_45f988e2_6822_11ec_a00c_acde48001122level0_row8\" class=\"row_heading level0 row8\" >DE</th>\n",
       "                        <td id=\"T_45f988e2_6822_11ec_a00c_acde48001122row8_col0\" class=\"data row8 col0\" >1.370275</td>\n",
       "                        <td id=\"T_45f988e2_6822_11ec_a00c_acde48001122row8_col1\" class=\"data row8 col1\" >-1.231413</td>\n",
       "                        <td id=\"T_45f988e2_6822_11ec_a00c_acde48001122row8_col2\" class=\"data row8 col2\" >-4.499021</td>\n",
       "                        <td id=\"T_45f988e2_6822_11ec_a00c_acde48001122row8_col3\" class=\"data row8 col3\" >-27.806872</td>\n",
       "                        <td id=\"T_45f988e2_6822_11ec_a00c_acde48001122row8_col4\" class=\"data row8 col4\" >0.581898</td>\n",
       "                        <td id=\"T_45f988e2_6822_11ec_a00c_acde48001122row8_col5\" class=\"data row8 col5\" >9.572051</td>\n",
       "                        <td id=\"T_45f988e2_6822_11ec_a00c_acde48001122row8_col6\" class=\"data row8 col6\" >6.704117</td>\n",
       "                        <td id=\"T_45f988e2_6822_11ec_a00c_acde48001122row8_col7\" class=\"data row8 col7\" >-8.000000</td>\n",
       "                        <td id=\"T_45f988e2_6822_11ec_a00c_acde48001122row8_col8\" class=\"data row8 col8\" >-2816.000000</td>\n",
       "            </tr>\n",
       "            <tr>\n",
       "                        <th id=\"T_45f988e2_6822_11ec_a00c_acde48001122level0_row9\" class=\"row_heading level0 row9\" >FL</th>\n",
       "                        <td id=\"T_45f988e2_6822_11ec_a00c_acde48001122row9_col0\" class=\"data row9 col0\" >12.798641</td>\n",
       "                        <td id=\"T_45f988e2_6822_11ec_a00c_acde48001122row9_col1\" class=\"data row9 col1\" >7.913089</td>\n",
       "                        <td id=\"T_45f988e2_6822_11ec_a00c_acde48001122row9_col2\" class=\"data row9 col2\" >-0.464450</td>\n",
       "                        <td id=\"T_45f988e2_6822_11ec_a00c_acde48001122row9_col3\" class=\"data row9 col3\" >13.453116</td>\n",
       "                        <td id=\"T_45f988e2_6822_11ec_a00c_acde48001122row9_col4\" class=\"data row9 col4\" >0.000000</td>\n",
       "                        <td id=\"T_45f988e2_6822_11ec_a00c_acde48001122row9_col5\" class=\"data row9 col5\" >-19.567955</td>\n",
       "                        <td id=\"T_45f988e2_6822_11ec_a00c_acde48001122row9_col6\" class=\"data row9 col6\" >2.960044</td>\n",
       "                        <td id=\"T_45f988e2_6822_11ec_a00c_acde48001122row9_col7\" class=\"data row9 col7\" >88.000000</td>\n",
       "                        <td id=\"T_45f988e2_6822_11ec_a00c_acde48001122row9_col8\" class=\"data row9 col8\" >71042.000000</td>\n",
       "            </tr>\n",
       "            <tr>\n",
       "                        <th id=\"T_45f988e2_6822_11ec_a00c_acde48001122level0_row10\" class=\"row_heading level0 row10\" >GA</th>\n",
       "                        <td id=\"T_45f988e2_6822_11ec_a00c_acde48001122row10_col0\" class=\"data row10 col0\" >0.623927</td>\n",
       "                        <td id=\"T_45f988e2_6822_11ec_a00c_acde48001122row10_col1\" class=\"data row10 col1\" >2.733393</td>\n",
       "                        <td id=\"T_45f988e2_6822_11ec_a00c_acde48001122row10_col2\" class=\"data row10 col2\" >-0.799951</td>\n",
       "                        <td id=\"T_45f988e2_6822_11ec_a00c_acde48001122row10_col3\" class=\"data row10 col3\" >1.511527</td>\n",
       "                        <td id=\"T_45f988e2_6822_11ec_a00c_acde48001122row10_col4\" class=\"data row10 col4\" >-0.093487</td>\n",
       "                        <td id=\"T_45f988e2_6822_11ec_a00c_acde48001122row10_col5\" class=\"data row10 col5\" >-9.680710</td>\n",
       "                        <td id=\"T_45f988e2_6822_11ec_a00c_acde48001122row10_col6\" class=\"data row10 col6\" >2.172740</td>\n",
       "                        <td id=\"T_45f988e2_6822_11ec_a00c_acde48001122row10_col7\" class=\"data row10 col7\" >-3.000000</td>\n",
       "                        <td id=\"T_45f988e2_6822_11ec_a00c_acde48001122row10_col8\" class=\"data row10 col8\" >12615.000000</td>\n",
       "            </tr>\n",
       "            <tr>\n",
       "                        <th id=\"T_45f988e2_6822_11ec_a00c_acde48001122level0_row11\" class=\"row_heading level0 row11\" >HI</th>\n",
       "                        <td id=\"T_45f988e2_6822_11ec_a00c_acde48001122row11_col0\" class=\"data row11 col0\" >4.897141</td>\n",
       "                        <td id=\"T_45f988e2_6822_11ec_a00c_acde48001122row11_col1\" class=\"data row11 col1\" >9.101461</td>\n",
       "                        <td id=\"T_45f988e2_6822_11ec_a00c_acde48001122row11_col2\" class=\"data row11 col2\" >0.265372</td>\n",
       "                        <td id=\"T_45f988e2_6822_11ec_a00c_acde48001122row11_col3\" class=\"data row11 col3\" >-0.896060</td>\n",
       "                        <td id=\"T_45f988e2_6822_11ec_a00c_acde48001122row11_col4\" class=\"data row11 col4\" >-0.094805</td>\n",
       "                        <td id=\"T_45f988e2_6822_11ec_a00c_acde48001122row11_col5\" class=\"data row11 col5\" >-35.939385</td>\n",
       "                        <td id=\"T_45f988e2_6822_11ec_a00c_acde48001122row11_col6\" class=\"data row11 col6\" >0.379145</td>\n",
       "                        <td id=\"T_45f988e2_6822_11ec_a00c_acde48001122row11_col7\" class=\"data row11 col7\" >7.000000</td>\n",
       "                        <td id=\"T_45f988e2_6822_11ec_a00c_acde48001122row11_col8\" class=\"data row11 col8\" >4771.000000</td>\n",
       "            </tr>\n",
       "            <tr>\n",
       "                        <th id=\"T_45f988e2_6822_11ec_a00c_acde48001122level0_row12\" class=\"row_heading level0 row12\" >IA</th>\n",
       "                        <td id=\"T_45f988e2_6822_11ec_a00c_acde48001122row12_col0\" class=\"data row12 col0\" >10.953716</td>\n",
       "                        <td id=\"T_45f988e2_6822_11ec_a00c_acde48001122row12_col1\" class=\"data row12 col1\" >-0.708470</td>\n",
       "                        <td id=\"T_45f988e2_6822_11ec_a00c_acde48001122row12_col2\" class=\"data row12 col2\" >-4.742017</td>\n",
       "                        <td id=\"T_45f988e2_6822_11ec_a00c_acde48001122row12_col3\" class=\"data row12 col3\" >-1.623474</td>\n",
       "                        <td id=\"T_45f988e2_6822_11ec_a00c_acde48001122row12_col4\" class=\"data row12 col4\" >0.732012</td>\n",
       "                        <td id=\"T_45f988e2_6822_11ec_a00c_acde48001122row12_col5\" class=\"data row12 col5\" >19.552402</td>\n",
       "                        <td id=\"T_45f988e2_6822_11ec_a00c_acde48001122row12_col6\" class=\"data row12 col6\" >-7.997991</td>\n",
       "                        <td id=\"T_45f988e2_6822_11ec_a00c_acde48001122row12_col7\" class=\"data row12 col7\" >-53.000000</td>\n",
       "                        <td id=\"T_45f988e2_6822_11ec_a00c_acde48001122row12_col8\" class=\"data row12 col8\" >-25766.000000</td>\n",
       "            </tr>\n",
       "            <tr>\n",
       "                        <th id=\"T_45f988e2_6822_11ec_a00c_acde48001122level0_row13\" class=\"row_heading level0 row13\" >ID</th>\n",
       "                        <td id=\"T_45f988e2_6822_11ec_a00c_acde48001122row13_col0\" class=\"data row13 col0\" >4.722145</td>\n",
       "                        <td id=\"T_45f988e2_6822_11ec_a00c_acde48001122row13_col1\" class=\"data row13 col1\" >9.643493</td>\n",
       "                        <td id=\"T_45f988e2_6822_11ec_a00c_acde48001122row13_col2\" class=\"data row13 col2\" >7.189788</td>\n",
       "                        <td id=\"T_45f988e2_6822_11ec_a00c_acde48001122row13_col3\" class=\"data row13 col3\" >-0.311804</td>\n",
       "                        <td id=\"T_45f988e2_6822_11ec_a00c_acde48001122row13_col4\" class=\"data row13 col4\" >-1.015539</td>\n",
       "                        <td id=\"T_45f988e2_6822_11ec_a00c_acde48001122row13_col5\" class=\"data row13 col5\" >-15.992569</td>\n",
       "                        <td id=\"T_45f988e2_6822_11ec_a00c_acde48001122row13_col6\" class=\"data row13 col6\" >19.816490</td>\n",
       "                        <td id=\"T_45f988e2_6822_11ec_a00c_acde48001122row13_col7\" class=\"data row13 col7\" >-23.000000</td>\n",
       "                        <td id=\"T_45f988e2_6822_11ec_a00c_acde48001122row13_col8\" class=\"data row13 col8\" >-16597.000000</td>\n",
       "            </tr>\n",
       "            <tr>\n",
       "                        <th id=\"T_45f988e2_6822_11ec_a00c_acde48001122level0_row14\" class=\"row_heading level0 row14\" >IL</th>\n",
       "                        <td id=\"T_45f988e2_6822_11ec_a00c_acde48001122row14_col0\" class=\"data row14 col0\" >5.155379</td>\n",
       "                        <td id=\"T_45f988e2_6822_11ec_a00c_acde48001122row14_col1\" class=\"data row14 col1\" >5.303919</td>\n",
       "                        <td id=\"T_45f988e2_6822_11ec_a00c_acde48001122row14_col2\" class=\"data row14 col2\" >-0.630714</td>\n",
       "                        <td id=\"T_45f988e2_6822_11ec_a00c_acde48001122row14_col3\" class=\"data row14 col3\" >5.037600</td>\n",
       "                        <td id=\"T_45f988e2_6822_11ec_a00c_acde48001122row14_col4\" class=\"data row14 col4\" >0.000000</td>\n",
       "                        <td id=\"T_45f988e2_6822_11ec_a00c_acde48001122row14_col5\" class=\"data row14 col5\" >-25.049480</td>\n",
       "                        <td id=\"T_45f988e2_6822_11ec_a00c_acde48001122row14_col6\" class=\"data row14 col6\" >6.050435</td>\n",
       "                        <td id=\"T_45f988e2_6822_11ec_a00c_acde48001122row14_col7\" class=\"data row14 col7\" >93.000000</td>\n",
       "                        <td id=\"T_45f988e2_6822_11ec_a00c_acde48001122row14_col8\" class=\"data row14 col8\" >54402.000000</td>\n",
       "            </tr>\n",
       "            <tr>\n",
       "                        <th id=\"T_45f988e2_6822_11ec_a00c_acde48001122level0_row15\" class=\"row_heading level0 row15\" >IN</th>\n",
       "                        <td id=\"T_45f988e2_6822_11ec_a00c_acde48001122row15_col0\" class=\"data row15 col0\" >2.113662</td>\n",
       "                        <td id=\"T_45f988e2_6822_11ec_a00c_acde48001122row15_col1\" class=\"data row15 col1\" >2.437293</td>\n",
       "                        <td id=\"T_45f988e2_6822_11ec_a00c_acde48001122row15_col2\" class=\"data row15 col2\" >0.719657</td>\n",
       "                        <td id=\"T_45f988e2_6822_11ec_a00c_acde48001122row15_col3\" class=\"data row15 col3\" >7.315713</td>\n",
       "                        <td id=\"T_45f988e2_6822_11ec_a00c_acde48001122row15_col4\" class=\"data row15 col4\" >0.000000</td>\n",
       "                        <td id=\"T_45f988e2_6822_11ec_a00c_acde48001122row15_col5\" class=\"data row15 col5\" >1.347745</td>\n",
       "                        <td id=\"T_45f988e2_6822_11ec_a00c_acde48001122row15_col6\" class=\"data row15 col6\" >0.492553</td>\n",
       "                        <td id=\"T_45f988e2_6822_11ec_a00c_acde48001122row15_col7\" class=\"data row15 col7\" >-36.000000</td>\n",
       "                        <td id=\"T_45f988e2_6822_11ec_a00c_acde48001122row15_col8\" class=\"data row15 col8\" >-16444.000000</td>\n",
       "            </tr>\n",
       "            <tr>\n",
       "                        <th id=\"T_45f988e2_6822_11ec_a00c_acde48001122level0_row16\" class=\"row_heading level0 row16\" >KS</th>\n",
       "                        <td id=\"T_45f988e2_6822_11ec_a00c_acde48001122row16_col0\" class=\"data row16 col0\" >5.264502</td>\n",
       "                        <td id=\"T_45f988e2_6822_11ec_a00c_acde48001122row16_col1\" class=\"data row16 col1\" >-7.562943</td>\n",
       "                        <td id=\"T_45f988e2_6822_11ec_a00c_acde48001122row16_col2\" class=\"data row16 col2\" >0.627460</td>\n",
       "                        <td id=\"T_45f988e2_6822_11ec_a00c_acde48001122row16_col3\" class=\"data row16 col3\" >12.245890</td>\n",
       "                        <td id=\"T_45f988e2_6822_11ec_a00c_acde48001122row16_col4\" class=\"data row16 col4\" >0.466634</td>\n",
       "                        <td id=\"T_45f988e2_6822_11ec_a00c_acde48001122row16_col5\" class=\"data row16 col5\" >1.465143</td>\n",
       "                        <td id=\"T_45f988e2_6822_11ec_a00c_acde48001122row16_col6\" class=\"data row16 col6\" >-0.964424</td>\n",
       "                        <td id=\"T_45f988e2_6822_11ec_a00c_acde48001122row16_col7\" class=\"data row16 col7\" >-46.000000</td>\n",
       "                        <td id=\"T_45f988e2_6822_11ec_a00c_acde48001122row16_col8\" class=\"data row16 col8\" >-21169.000000</td>\n",
       "            </tr>\n",
       "            <tr>\n",
       "                        <th id=\"T_45f988e2_6822_11ec_a00c_acde48001122level0_row17\" class=\"row_heading level0 row17\" >KY</th>\n",
       "                        <td id=\"T_45f988e2_6822_11ec_a00c_acde48001122row17_col0\" class=\"data row17 col0\" >8.794436</td>\n",
       "                        <td id=\"T_45f988e2_6822_11ec_a00c_acde48001122row17_col1\" class=\"data row17 col1\" >6.683970</td>\n",
       "                        <td id=\"T_45f988e2_6822_11ec_a00c_acde48001122row17_col2\" class=\"data row17 col2\" >0.862572</td>\n",
       "                        <td id=\"T_45f988e2_6822_11ec_a00c_acde48001122row17_col3\" class=\"data row17 col3\" >-0.575122</td>\n",
       "                        <td id=\"T_45f988e2_6822_11ec_a00c_acde48001122row17_col4\" class=\"data row17 col4\" >0.578035</td>\n",
       "                        <td id=\"T_45f988e2_6822_11ec_a00c_acde48001122row17_col5\" class=\"data row17 col5\" >-6.133101</td>\n",
       "                        <td id=\"T_45f988e2_6822_11ec_a00c_acde48001122row17_col6\" class=\"data row17 col6\" >5.455541</td>\n",
       "                        <td id=\"T_45f988e2_6822_11ec_a00c_acde48001122row17_col7\" class=\"data row17 col7\" >-57.000000</td>\n",
       "                        <td id=\"T_45f988e2_6822_11ec_a00c_acde48001122row17_col8\" class=\"data row17 col8\" >-27542.000000</td>\n",
       "            </tr>\n",
       "            <tr>\n",
       "                        <th id=\"T_45f988e2_6822_11ec_a00c_acde48001122level0_row18\" class=\"row_heading level0 row18\" >LA</th>\n",
       "                        <td id=\"T_45f988e2_6822_11ec_a00c_acde48001122row18_col0\" class=\"data row18 col0\" >8.343117</td>\n",
       "                        <td id=\"T_45f988e2_6822_11ec_a00c_acde48001122row18_col1\" class=\"data row18 col1\" >3.494850</td>\n",
       "                        <td id=\"T_45f988e2_6822_11ec_a00c_acde48001122row18_col2\" class=\"data row18 col2\" >1.398804</td>\n",
       "                        <td id=\"T_45f988e2_6822_11ec_a00c_acde48001122row18_col3\" class=\"data row18 col3\" >7.964377</td>\n",
       "                        <td id=\"T_45f988e2_6822_11ec_a00c_acde48001122row18_col4\" class=\"data row18 col4\" >0.000000</td>\n",
       "                        <td id=\"T_45f988e2_6822_11ec_a00c_acde48001122row18_col5\" class=\"data row18 col5\" >-11.833643</td>\n",
       "                        <td id=\"T_45f988e2_6822_11ec_a00c_acde48001122row18_col6\" class=\"data row18 col6\" >-1.607310</td>\n",
       "                        <td id=\"T_45f988e2_6822_11ec_a00c_acde48001122row18_col7\" class=\"data row18 col7\" >27.000000</td>\n",
       "                        <td id=\"T_45f988e2_6822_11ec_a00c_acde48001122row18_col8\" class=\"data row18 col8\" >19739.000000</td>\n",
       "            </tr>\n",
       "            <tr>\n",
       "                        <th id=\"T_45f988e2_6822_11ec_a00c_acde48001122level0_row19\" class=\"row_heading level0 row19\" >MA</th>\n",
       "                        <td id=\"T_45f988e2_6822_11ec_a00c_acde48001122row19_col0\" class=\"data row19 col0\" >8.936772</td>\n",
       "                        <td id=\"T_45f988e2_6822_11ec_a00c_acde48001122row19_col1\" class=\"data row19 col1\" >7.732666</td>\n",
       "                        <td id=\"T_45f988e2_6822_11ec_a00c_acde48001122row19_col2\" class=\"data row19 col2\" >1.005028</td>\n",
       "                        <td id=\"T_45f988e2_6822_11ec_a00c_acde48001122row19_col3\" class=\"data row19 col3\" >8.415698</td>\n",
       "                        <td id=\"T_45f988e2_6822_11ec_a00c_acde48001122row19_col4\" class=\"data row19 col4\" >0.000000</td>\n",
       "                        <td id=\"T_45f988e2_6822_11ec_a00c_acde48001122row19_col5\" class=\"data row19 col5\" >-19.359667</td>\n",
       "                        <td id=\"T_45f988e2_6822_11ec_a00c_acde48001122row19_col6\" class=\"data row19 col6\" >15.170475</td>\n",
       "                        <td id=\"T_45f988e2_6822_11ec_a00c_acde48001122row19_col7\" class=\"data row19 col7\" >38.000000</td>\n",
       "                        <td id=\"T_45f988e2_6822_11ec_a00c_acde48001122row19_col8\" class=\"data row19 col8\" >28222.000000</td>\n",
       "            </tr>\n",
       "            <tr>\n",
       "                        <th id=\"T_45f988e2_6822_11ec_a00c_acde48001122level0_row20\" class=\"row_heading level0 row20\" >MD</th>\n",
       "                        <td id=\"T_45f988e2_6822_11ec_a00c_acde48001122row20_col0\" class=\"data row20 col0\" >9.100530</td>\n",
       "                        <td id=\"T_45f988e2_6822_11ec_a00c_acde48001122row20_col1\" class=\"data row20 col1\" >3.424516</td>\n",
       "                        <td id=\"T_45f988e2_6822_11ec_a00c_acde48001122row20_col2\" class=\"data row20 col2\" >-1.341899</td>\n",
       "                        <td id=\"T_45f988e2_6822_11ec_a00c_acde48001122row20_col3\" class=\"data row20 col3\" >21.848353</td>\n",
       "                        <td id=\"T_45f988e2_6822_11ec_a00c_acde48001122row20_col4\" class=\"data row20 col4\" >0.000000</td>\n",
       "                        <td id=\"T_45f988e2_6822_11ec_a00c_acde48001122row20_col5\" class=\"data row20 col5\" >-10.271062</td>\n",
       "                        <td id=\"T_45f988e2_6822_11ec_a00c_acde48001122row20_col6\" class=\"data row20 col6\" >-2.199229</td>\n",
       "                        <td id=\"T_45f988e2_6822_11ec_a00c_acde48001122row20_col7\" class=\"data row20 col7\" >-26.000000</td>\n",
       "                        <td id=\"T_45f988e2_6822_11ec_a00c_acde48001122row20_col8\" class=\"data row20 col8\" >-8900.000000</td>\n",
       "            </tr>\n",
       "            <tr>\n",
       "                        <th id=\"T_45f988e2_6822_11ec_a00c_acde48001122level0_row21\" class=\"row_heading level0 row21\" >ME</th>\n",
       "                        <td id=\"T_45f988e2_6822_11ec_a00c_acde48001122row21_col0\" class=\"data row21 col0\" >12.565009</td>\n",
       "                        <td id=\"T_45f988e2_6822_11ec_a00c_acde48001122row21_col1\" class=\"data row21 col1\" >9.122611</td>\n",
       "                        <td id=\"T_45f988e2_6822_11ec_a00c_acde48001122row21_col2\" class=\"data row21 col2\" >-3.922820</td>\n",
       "                        <td id=\"T_45f988e2_6822_11ec_a00c_acde48001122row21_col3\" class=\"data row21 col3\" >-0.880265</td>\n",
       "                        <td id=\"T_45f988e2_6822_11ec_a00c_acde48001122row21_col4\" class=\"data row21 col4\" >-0.439467</td>\n",
       "                        <td id=\"T_45f988e2_6822_11ec_a00c_acde48001122row21_col5\" class=\"data row21 col5\" >-5.913473</td>\n",
       "                        <td id=\"T_45f988e2_6822_11ec_a00c_acde48001122row21_col6\" class=\"data row21 col6\" >-0.866007</td>\n",
       "                        <td id=\"T_45f988e2_6822_11ec_a00c_acde48001122row21_col7\" class=\"data row21 col7\" >-25.000000</td>\n",
       "                        <td id=\"T_45f988e2_6822_11ec_a00c_acde48001122row21_col8\" class=\"data row21 col8\" >-14441.000000</td>\n",
       "            </tr>\n",
       "            <tr>\n",
       "                        <th id=\"T_45f988e2_6822_11ec_a00c_acde48001122level0_row22\" class=\"row_heading level0 row22\" >MI</th>\n",
       "                        <td id=\"T_45f988e2_6822_11ec_a00c_acde48001122row22_col0\" class=\"data row22 col0\" >6.453785</td>\n",
       "                        <td id=\"T_45f988e2_6822_11ec_a00c_acde48001122row22_col1\" class=\"data row22 col1\" >1.068588</td>\n",
       "                        <td id=\"T_45f988e2_6822_11ec_a00c_acde48001122row22_col2\" class=\"data row22 col2\" >0.689832</td>\n",
       "                        <td id=\"T_45f988e2_6822_11ec_a00c_acde48001122row22_col3\" class=\"data row22 col3\" >6.708850</td>\n",
       "                        <td id=\"T_45f988e2_6822_11ec_a00c_acde48001122row22_col4\" class=\"data row22 col4\" >0.000000</td>\n",
       "                        <td id=\"T_45f988e2_6822_11ec_a00c_acde48001122row22_col5\" class=\"data row22 col5\" >-8.072578</td>\n",
       "                        <td id=\"T_45f988e2_6822_11ec_a00c_acde48001122row22_col6\" class=\"data row22 col6\" >-1.350049</td>\n",
       "                        <td id=\"T_45f988e2_6822_11ec_a00c_acde48001122row22_col7\" class=\"data row22 col7\" >-23.000000</td>\n",
       "                        <td id=\"T_45f988e2_6822_11ec_a00c_acde48001122row22_col8\" class=\"data row22 col8\" >-6868.000000</td>\n",
       "            </tr>\n",
       "            <tr>\n",
       "                        <th id=\"T_45f988e2_6822_11ec_a00c_acde48001122level0_row23\" class=\"row_heading level0 row23\" >MN</th>\n",
       "                        <td id=\"T_45f988e2_6822_11ec_a00c_acde48001122row23_col0\" class=\"data row23 col0\" >15.920965</td>\n",
       "                        <td id=\"T_45f988e2_6822_11ec_a00c_acde48001122row23_col1\" class=\"data row23 col1\" >17.740780</td>\n",
       "                        <td id=\"T_45f988e2_6822_11ec_a00c_acde48001122row23_col2\" class=\"data row23 col2\" >3.141607</td>\n",
       "                        <td id=\"T_45f988e2_6822_11ec_a00c_acde48001122row23_col3\" class=\"data row23 col3\" >22.498320</td>\n",
       "                        <td id=\"T_45f988e2_6822_11ec_a00c_acde48001122row23_col4\" class=\"data row23 col4\" >1.758343</td>\n",
       "                        <td id=\"T_45f988e2_6822_11ec_a00c_acde48001122row23_col5\" class=\"data row23 col5\" >-38.332396</td>\n",
       "                        <td id=\"T_45f988e2_6822_11ec_a00c_acde48001122row23_col6\" class=\"data row23 col6\" >22.509297</td>\n",
       "                        <td id=\"T_45f988e2_6822_11ec_a00c_acde48001122row23_col7\" class=\"data row23 col7\" >-87.000000</td>\n",
       "                        <td id=\"T_45f988e2_6822_11ec_a00c_acde48001122row23_col8\" class=\"data row23 col8\" >-46742.000000</td>\n",
       "            </tr>\n",
       "            <tr>\n",
       "                        <th id=\"T_45f988e2_6822_11ec_a00c_acde48001122level0_row24\" class=\"row_heading level0 row24\" >MO</th>\n",
       "                        <td id=\"T_45f988e2_6822_11ec_a00c_acde48001122row24_col0\" class=\"data row24 col0\" >4.976759</td>\n",
       "                        <td id=\"T_45f988e2_6822_11ec_a00c_acde48001122row24_col1\" class=\"data row24 col1\" >-0.085646</td>\n",
       "                        <td id=\"T_45f988e2_6822_11ec_a00c_acde48001122row24_col2\" class=\"data row24 col2\" >-3.577408</td>\n",
       "                        <td id=\"T_45f988e2_6822_11ec_a00c_acde48001122row24_col3\" class=\"data row24 col3\" >47.102090</td>\n",
       "                        <td id=\"T_45f988e2_6822_11ec_a00c_acde48001122row24_col4\" class=\"data row24 col4\" >0.000000</td>\n",
       "                        <td id=\"T_45f988e2_6822_11ec_a00c_acde48001122row24_col5\" class=\"data row24 col5\" >-35.919908</td>\n",
       "                        <td id=\"T_45f988e2_6822_11ec_a00c_acde48001122row24_col6\" class=\"data row24 col6\" >-2.378652</td>\n",
       "                        <td id=\"T_45f988e2_6822_11ec_a00c_acde48001122row24_col7\" class=\"data row24 col7\" >-30.000000</td>\n",
       "                        <td id=\"T_45f988e2_6822_11ec_a00c_acde48001122row24_col8\" class=\"data row24 col8\" >-13248.000000</td>\n",
       "            </tr>\n",
       "            <tr>\n",
       "                        <th id=\"T_45f988e2_6822_11ec_a00c_acde48001122level0_row25\" class=\"row_heading level0 row25\" >MS</th>\n",
       "                        <td id=\"T_45f988e2_6822_11ec_a00c_acde48001122row25_col0\" class=\"data row25 col0\" >8.484879</td>\n",
       "                        <td id=\"T_45f988e2_6822_11ec_a00c_acde48001122row25_col1\" class=\"data row25 col1\" >1.040226</td>\n",
       "                        <td id=\"T_45f988e2_6822_11ec_a00c_acde48001122row25_col2\" class=\"data row25 col2\" >-0.572744</td>\n",
       "                        <td id=\"T_45f988e2_6822_11ec_a00c_acde48001122row25_col3\" class=\"data row25 col3\" >24.863184</td>\n",
       "                        <td id=\"T_45f988e2_6822_11ec_a00c_acde48001122row25_col4\" class=\"data row25 col4\" >0.000000</td>\n",
       "                        <td id=\"T_45f988e2_6822_11ec_a00c_acde48001122row25_col5\" class=\"data row25 col5\" >-22.951000</td>\n",
       "                        <td id=\"T_45f988e2_6822_11ec_a00c_acde48001122row25_col6\" class=\"data row25 col6\" >0.051741</td>\n",
       "                        <td id=\"T_45f988e2_6822_11ec_a00c_acde48001122row25_col7\" class=\"data row25 col7\" >-27.000000</td>\n",
       "                        <td id=\"T_45f988e2_6822_11ec_a00c_acde48001122row25_col8\" class=\"data row25 col8\" >-12524.000000</td>\n",
       "            </tr>\n",
       "            <tr>\n",
       "                        <th id=\"T_45f988e2_6822_11ec_a00c_acde48001122level0_row26\" class=\"row_heading level0 row26\" >MT</th>\n",
       "                        <td id=\"T_45f988e2_6822_11ec_a00c_acde48001122row26_col0\" class=\"data row26 col0\" >0.000000</td>\n",
       "                        <td id=\"T_45f988e2_6822_11ec_a00c_acde48001122row26_col1\" class=\"data row26 col1\" >0.000000</td>\n",
       "                        <td id=\"T_45f988e2_6822_11ec_a00c_acde48001122row26_col2\" class=\"data row26 col2\" >0.000000</td>\n",
       "                        <td id=\"T_45f988e2_6822_11ec_a00c_acde48001122row26_col3\" class=\"data row26 col3\" >0.000000</td>\n",
       "                        <td id=\"T_45f988e2_6822_11ec_a00c_acde48001122row26_col4\" class=\"data row26 col4\" >0.000000</td>\n",
       "                        <td id=\"T_45f988e2_6822_11ec_a00c_acde48001122row26_col5\" class=\"data row26 col5\" >0.000000</td>\n",
       "                        <td id=\"T_45f988e2_6822_11ec_a00c_acde48001122row26_col6\" class=\"data row26 col6\" >0.000000</td>\n",
       "                        <td id=\"T_45f988e2_6822_11ec_a00c_acde48001122row26_col7\" class=\"data row26 col7\" >0.000000</td>\n",
       "                        <td id=\"T_45f988e2_6822_11ec_a00c_acde48001122row26_col8\" class=\"data row26 col8\" >0.000000</td>\n",
       "            </tr>\n",
       "            <tr>\n",
       "                        <th id=\"T_45f988e2_6822_11ec_a00c_acde48001122level0_row27\" class=\"row_heading level0 row27\" >NC</th>\n",
       "                        <td id=\"T_45f988e2_6822_11ec_a00c_acde48001122row27_col0\" class=\"data row27 col0\" >8.153384</td>\n",
       "                        <td id=\"T_45f988e2_6822_11ec_a00c_acde48001122row27_col1\" class=\"data row27 col1\" >11.292289</td>\n",
       "                        <td id=\"T_45f988e2_6822_11ec_a00c_acde48001122row27_col2\" class=\"data row27 col2\" >-2.811982</td>\n",
       "                        <td id=\"T_45f988e2_6822_11ec_a00c_acde48001122row27_col3\" class=\"data row27 col3\" >6.496331</td>\n",
       "                        <td id=\"T_45f988e2_6822_11ec_a00c_acde48001122row27_col4\" class=\"data row27 col4\" >0.078513</td>\n",
       "                        <td id=\"T_45f988e2_6822_11ec_a00c_acde48001122row27_col5\" class=\"data row27 col5\" >-19.504668</td>\n",
       "                        <td id=\"T_45f988e2_6822_11ec_a00c_acde48001122row27_col6\" class=\"data row27 col6\" >11.151508</td>\n",
       "                        <td id=\"T_45f988e2_6822_11ec_a00c_acde48001122row27_col7\" class=\"data row27 col7\" >-71.000000</td>\n",
       "                        <td id=\"T_45f988e2_6822_11ec_a00c_acde48001122row27_col8\" class=\"data row27 col8\" >-45011.000000</td>\n",
       "            </tr>\n",
       "            <tr>\n",
       "                        <th id=\"T_45f988e2_6822_11ec_a00c_acde48001122level0_row28\" class=\"row_heading level0 row28\" >ND</th>\n",
       "                        <td id=\"T_45f988e2_6822_11ec_a00c_acde48001122row28_col0\" class=\"data row28 col0\" >0.000000</td>\n",
       "                        <td id=\"T_45f988e2_6822_11ec_a00c_acde48001122row28_col1\" class=\"data row28 col1\" >0.000000</td>\n",
       "                        <td id=\"T_45f988e2_6822_11ec_a00c_acde48001122row28_col2\" class=\"data row28 col2\" >0.000000</td>\n",
       "                        <td id=\"T_45f988e2_6822_11ec_a00c_acde48001122row28_col3\" class=\"data row28 col3\" >0.000000</td>\n",
       "                        <td id=\"T_45f988e2_6822_11ec_a00c_acde48001122row28_col4\" class=\"data row28 col4\" >0.000000</td>\n",
       "                        <td id=\"T_45f988e2_6822_11ec_a00c_acde48001122row28_col5\" class=\"data row28 col5\" >0.000000</td>\n",
       "                        <td id=\"T_45f988e2_6822_11ec_a00c_acde48001122row28_col6\" class=\"data row28 col6\" >0.000000</td>\n",
       "                        <td id=\"T_45f988e2_6822_11ec_a00c_acde48001122row28_col7\" class=\"data row28 col7\" >0.000000</td>\n",
       "                        <td id=\"T_45f988e2_6822_11ec_a00c_acde48001122row28_col8\" class=\"data row28 col8\" >0.000000</td>\n",
       "            </tr>\n",
       "            <tr>\n",
       "                        <th id=\"T_45f988e2_6822_11ec_a00c_acde48001122level0_row29\" class=\"row_heading level0 row29\" >NE</th>\n",
       "                        <td id=\"T_45f988e2_6822_11ec_a00c_acde48001122row29_col0\" class=\"data row29 col0\" >7.484343</td>\n",
       "                        <td id=\"T_45f988e2_6822_11ec_a00c_acde48001122row29_col1\" class=\"data row29 col1\" >37.676269</td>\n",
       "                        <td id=\"T_45f988e2_6822_11ec_a00c_acde48001122row29_col2\" class=\"data row29 col2\" >-9.271518</td>\n",
       "                        <td id=\"T_45f988e2_6822_11ec_a00c_acde48001122row29_col3\" class=\"data row29 col3\" >-7.562947</td>\n",
       "                        <td id=\"T_45f988e2_6822_11ec_a00c_acde48001122row29_col4\" class=\"data row29 col4\" >0.634817</td>\n",
       "                        <td id=\"T_45f988e2_6822_11ec_a00c_acde48001122row29_col5\" class=\"data row29 col5\" >-37.670893</td>\n",
       "                        <td id=\"T_45f988e2_6822_11ec_a00c_acde48001122row29_col6\" class=\"data row29 col6\" >58.015686</td>\n",
       "                        <td id=\"T_45f988e2_6822_11ec_a00c_acde48001122row29_col7\" class=\"data row29 col7\" >-27.000000</td>\n",
       "                        <td id=\"T_45f988e2_6822_11ec_a00c_acde48001122row29_col8\" class=\"data row29 col8\" >-13452.000000</td>\n",
       "            </tr>\n",
       "            <tr>\n",
       "                        <th id=\"T_45f988e2_6822_11ec_a00c_acde48001122level0_row30\" class=\"row_heading level0 row30\" >NH</th>\n",
       "                        <td id=\"T_45f988e2_6822_11ec_a00c_acde48001122row30_col0\" class=\"data row30 col0\" >11.333692</td>\n",
       "                        <td id=\"T_45f988e2_6822_11ec_a00c_acde48001122row30_col1\" class=\"data row30 col1\" >7.394888</td>\n",
       "                        <td id=\"T_45f988e2_6822_11ec_a00c_acde48001122row30_col2\" class=\"data row30 col2\" >-1.695591</td>\n",
       "                        <td id=\"T_45f988e2_6822_11ec_a00c_acde48001122row30_col3\" class=\"data row30 col3\" >2.079689</td>\n",
       "                        <td id=\"T_45f988e2_6822_11ec_a00c_acde48001122row30_col4\" class=\"data row30 col4\" >0.000000</td>\n",
       "                        <td id=\"T_45f988e2_6822_11ec_a00c_acde48001122row30_col5\" class=\"data row30 col5\" >-14.216572</td>\n",
       "                        <td id=\"T_45f988e2_6822_11ec_a00c_acde48001122row30_col6\" class=\"data row30 col6\" >9.124264</td>\n",
       "                        <td id=\"T_45f988e2_6822_11ec_a00c_acde48001122row30_col7\" class=\"data row30 col7\" >-16.000000</td>\n",
       "                        <td id=\"T_45f988e2_6822_11ec_a00c_acde48001122row30_col8\" class=\"data row30 col8\" >-11851.000000</td>\n",
       "            </tr>\n",
       "            <tr>\n",
       "                        <th id=\"T_45f988e2_6822_11ec_a00c_acde48001122level0_row31\" class=\"row_heading level0 row31\" >NJ</th>\n",
       "                        <td id=\"T_45f988e2_6822_11ec_a00c_acde48001122row31_col0\" class=\"data row31 col0\" >5.927327</td>\n",
       "                        <td id=\"T_45f988e2_6822_11ec_a00c_acde48001122row31_col1\" class=\"data row31 col1\" >8.713014</td>\n",
       "                        <td id=\"T_45f988e2_6822_11ec_a00c_acde48001122row31_col2\" class=\"data row31 col2\" >-2.337923</td>\n",
       "                        <td id=\"T_45f988e2_6822_11ec_a00c_acde48001122row31_col3\" class=\"data row31 col3\" >-10.341142</td>\n",
       "                        <td id=\"T_45f988e2_6822_11ec_a00c_acde48001122row31_col4\" class=\"data row31 col4\" >0.000000</td>\n",
       "                        <td id=\"T_45f988e2_6822_11ec_a00c_acde48001122row31_col5\" class=\"data row31 col5\" >-5.623117</td>\n",
       "                        <td id=\"T_45f988e2_6822_11ec_a00c_acde48001122row31_col6\" class=\"data row31 col6\" >25.764242</td>\n",
       "                        <td id=\"T_45f988e2_6822_11ec_a00c_acde48001122row31_col7\" class=\"data row31 col7\" >151.000000</td>\n",
       "                        <td id=\"T_45f988e2_6822_11ec_a00c_acde48001122row31_col8\" class=\"data row31 col8\" >102626.000000</td>\n",
       "            </tr>\n",
       "            <tr>\n",
       "                        <th id=\"T_45f988e2_6822_11ec_a00c_acde48001122level0_row32\" class=\"row_heading level0 row32\" >NM</th>\n",
       "                        <td id=\"T_45f988e2_6822_11ec_a00c_acde48001122row32_col0\" class=\"data row32 col0\" >0.000000</td>\n",
       "                        <td id=\"T_45f988e2_6822_11ec_a00c_acde48001122row32_col1\" class=\"data row32 col1\" >0.000000</td>\n",
       "                        <td id=\"T_45f988e2_6822_11ec_a00c_acde48001122row32_col2\" class=\"data row32 col2\" >0.000000</td>\n",
       "                        <td id=\"T_45f988e2_6822_11ec_a00c_acde48001122row32_col3\" class=\"data row32 col3\" >0.000000</td>\n",
       "                        <td id=\"T_45f988e2_6822_11ec_a00c_acde48001122row32_col4\" class=\"data row32 col4\" >0.000000</td>\n",
       "                        <td id=\"T_45f988e2_6822_11ec_a00c_acde48001122row32_col5\" class=\"data row32 col5\" >0.000000</td>\n",
       "                        <td id=\"T_45f988e2_6822_11ec_a00c_acde48001122row32_col6\" class=\"data row32 col6\" >0.000000</td>\n",
       "                        <td id=\"T_45f988e2_6822_11ec_a00c_acde48001122row32_col7\" class=\"data row32 col7\" >0.000000</td>\n",
       "                        <td id=\"T_45f988e2_6822_11ec_a00c_acde48001122row32_col8\" class=\"data row32 col8\" >0.000000</td>\n",
       "            </tr>\n",
       "            <tr>\n",
       "                        <th id=\"T_45f988e2_6822_11ec_a00c_acde48001122level0_row33\" class=\"row_heading level0 row33\" >NV</th>\n",
       "                        <td id=\"T_45f988e2_6822_11ec_a00c_acde48001122row33_col0\" class=\"data row33 col0\" >7.485453</td>\n",
       "                        <td id=\"T_45f988e2_6822_11ec_a00c_acde48001122row33_col1\" class=\"data row33 col1\" >2.632552</td>\n",
       "                        <td id=\"T_45f988e2_6822_11ec_a00c_acde48001122row33_col2\" class=\"data row33 col2\" >-0.783104</td>\n",
       "                        <td id=\"T_45f988e2_6822_11ec_a00c_acde48001122row33_col3\" class=\"data row33 col3\" >-0.500327</td>\n",
       "                        <td id=\"T_45f988e2_6822_11ec_a00c_acde48001122row33_col4\" class=\"data row33 col4\" >0.076985</td>\n",
       "                        <td id=\"T_45f988e2_6822_11ec_a00c_acde48001122row33_col5\" class=\"data row33 col5\" >2.512022</td>\n",
       "                        <td id=\"T_45f988e2_6822_11ec_a00c_acde48001122row33_col6\" class=\"data row33 col6\" >8.687485</td>\n",
       "                        <td id=\"T_45f988e2_6822_11ec_a00c_acde48001122row33_col7\" class=\"data row33 col7\" >12.000000</td>\n",
       "                        <td id=\"T_45f988e2_6822_11ec_a00c_acde48001122row33_col8\" class=\"data row33 col8\" >14693.000000</td>\n",
       "            </tr>\n",
       "            <tr>\n",
       "                        <th id=\"T_45f988e2_6822_11ec_a00c_acde48001122level0_row34\" class=\"row_heading level0 row34\" >NY</th>\n",
       "                        <td id=\"T_45f988e2_6822_11ec_a00c_acde48001122row34_col0\" class=\"data row34 col0\" >12.369088</td>\n",
       "                        <td id=\"T_45f988e2_6822_11ec_a00c_acde48001122row34_col1\" class=\"data row34 col1\" >8.434444</td>\n",
       "                        <td id=\"T_45f988e2_6822_11ec_a00c_acde48001122row34_col2\" class=\"data row34 col2\" >-0.870792</td>\n",
       "                        <td id=\"T_45f988e2_6822_11ec_a00c_acde48001122row34_col3\" class=\"data row34 col3\" >-10.437037</td>\n",
       "                        <td id=\"T_45f988e2_6822_11ec_a00c_acde48001122row34_col4\" class=\"data row34 col4\" >0.000000</td>\n",
       "                        <td id=\"T_45f988e2_6822_11ec_a00c_acde48001122row34_col5\" class=\"data row34 col5\" >4.477567</td>\n",
       "                        <td id=\"T_45f988e2_6822_11ec_a00c_acde48001122row34_col6\" class=\"data row34 col6\" >15.929982</td>\n",
       "                        <td id=\"T_45f988e2_6822_11ec_a00c_acde48001122row34_col7\" class=\"data row34 col7\" >573.000000</td>\n",
       "                        <td id=\"T_45f988e2_6822_11ec_a00c_acde48001122row34_col8\" class=\"data row34 col8\" >407383.000000</td>\n",
       "            </tr>\n",
       "            <tr>\n",
       "                        <th id=\"T_45f988e2_6822_11ec_a00c_acde48001122level0_row35\" class=\"row_heading level0 row35\" >OH</th>\n",
       "                        <td id=\"T_45f988e2_6822_11ec_a00c_acde48001122row35_col0\" class=\"data row35 col0\" >5.166431</td>\n",
       "                        <td id=\"T_45f988e2_6822_11ec_a00c_acde48001122row35_col1\" class=\"data row35 col1\" >2.626470</td>\n",
       "                        <td id=\"T_45f988e2_6822_11ec_a00c_acde48001122row35_col2\" class=\"data row35 col2\" >0.160945</td>\n",
       "                        <td id=\"T_45f988e2_6822_11ec_a00c_acde48001122row35_col3\" class=\"data row35 col3\" >16.322108</td>\n",
       "                        <td id=\"T_45f988e2_6822_11ec_a00c_acde48001122row35_col4\" class=\"data row35 col4\" >0.000000</td>\n",
       "                        <td id=\"T_45f988e2_6822_11ec_a00c_acde48001122row35_col5\" class=\"data row35 col5\" >-16.400598</td>\n",
       "                        <td id=\"T_45f988e2_6822_11ec_a00c_acde48001122row35_col6\" class=\"data row35 col6\" >0.628654</td>\n",
       "                        <td id=\"T_45f988e2_6822_11ec_a00c_acde48001122row35_col7\" class=\"data row35 col7\" >-21.000000</td>\n",
       "                        <td id=\"T_45f988e2_6822_11ec_a00c_acde48001122row35_col8\" class=\"data row35 col8\" >355.000000</td>\n",
       "            </tr>\n",
       "            <tr>\n",
       "                        <th id=\"T_45f988e2_6822_11ec_a00c_acde48001122level0_row36\" class=\"row_heading level0 row36\" >OK</th>\n",
       "                        <td id=\"T_45f988e2_6822_11ec_a00c_acde48001122row36_col0\" class=\"data row36 col0\" >17.267863</td>\n",
       "                        <td id=\"T_45f988e2_6822_11ec_a00c_acde48001122row36_col1\" class=\"data row36 col1\" >5.687201</td>\n",
       "                        <td id=\"T_45f988e2_6822_11ec_a00c_acde48001122row36_col2\" class=\"data row36 col2\" >-2.733525</td>\n",
       "                        <td id=\"T_45f988e2_6822_11ec_a00c_acde48001122row36_col3\" class=\"data row36 col3\" >5.227426</td>\n",
       "                        <td id=\"T_45f988e2_6822_11ec_a00c_acde48001122row36_col4\" class=\"data row36 col4\" >-1.254840</td>\n",
       "                        <td id=\"T_45f988e2_6822_11ec_a00c_acde48001122row36_col5\" class=\"data row36 col5\" >-4.629739</td>\n",
       "                        <td id=\"T_45f988e2_6822_11ec_a00c_acde48001122row36_col6\" class=\"data row36 col6\" >13.684527</td>\n",
       "                        <td id=\"T_45f988e2_6822_11ec_a00c_acde48001122row36_col7\" class=\"data row36 col7\" >-60.000000</td>\n",
       "                        <td id=\"T_45f988e2_6822_11ec_a00c_acde48001122row36_col8\" class=\"data row36 col8\" >-25920.000000</td>\n",
       "            </tr>\n",
       "            <tr>\n",
       "                        <th id=\"T_45f988e2_6822_11ec_a00c_acde48001122level0_row37\" class=\"row_heading level0 row37\" >OR</th>\n",
       "                        <td id=\"T_45f988e2_6822_11ec_a00c_acde48001122row37_col0\" class=\"data row37 col0\" >10.312702</td>\n",
       "                        <td id=\"T_45f988e2_6822_11ec_a00c_acde48001122row37_col1\" class=\"data row37 col1\" >7.677240</td>\n",
       "                        <td id=\"T_45f988e2_6822_11ec_a00c_acde48001122row37_col2\" class=\"data row37 col2\" >-0.667578</td>\n",
       "                        <td id=\"T_45f988e2_6822_11ec_a00c_acde48001122row37_col3\" class=\"data row37 col3\" >1.177527</td>\n",
       "                        <td id=\"T_45f988e2_6822_11ec_a00c_acde48001122row37_col4\" class=\"data row37 col4\" >-0.110343</td>\n",
       "                        <td id=\"T_45f988e2_6822_11ec_a00c_acde48001122row37_col5\" class=\"data row37 col5\" >-15.168623</td>\n",
       "                        <td id=\"T_45f988e2_6822_11ec_a00c_acde48001122row37_col6\" class=\"data row37 col6\" >16.277201</td>\n",
       "                        <td id=\"T_45f988e2_6822_11ec_a00c_acde48001122row37_col7\" class=\"data row37 col7\" >-35.000000</td>\n",
       "                        <td id=\"T_45f988e2_6822_11ec_a00c_acde48001122row37_col8\" class=\"data row37 col8\" >-26320.000000</td>\n",
       "            </tr>\n",
       "            <tr>\n",
       "                        <th id=\"T_45f988e2_6822_11ec_a00c_acde48001122level0_row38\" class=\"row_heading level0 row38\" >PA</th>\n",
       "                        <td id=\"T_45f988e2_6822_11ec_a00c_acde48001122row38_col0\" class=\"data row38 col0\" >9.568567</td>\n",
       "                        <td id=\"T_45f988e2_6822_11ec_a00c_acde48001122row38_col1\" class=\"data row38 col1\" >6.789819</td>\n",
       "                        <td id=\"T_45f988e2_6822_11ec_a00c_acde48001122row38_col2\" class=\"data row38 col2\" >-1.100045</td>\n",
       "                        <td id=\"T_45f988e2_6822_11ec_a00c_acde48001122row38_col3\" class=\"data row38 col3\" >2.768551</td>\n",
       "                        <td id=\"T_45f988e2_6822_11ec_a00c_acde48001122row38_col4\" class=\"data row38 col4\" >0.000000</td>\n",
       "                        <td id=\"T_45f988e2_6822_11ec_a00c_acde48001122row38_col5\" class=\"data row38 col5\" >-7.188058</td>\n",
       "                        <td id=\"T_45f988e2_6822_11ec_a00c_acde48001122row38_col6\" class=\"data row38 col6\" >6.730014</td>\n",
       "                        <td id=\"T_45f988e2_6822_11ec_a00c_acde48001122row38_col7\" class=\"data row38 col7\" >-63.000000</td>\n",
       "                        <td id=\"T_45f988e2_6822_11ec_a00c_acde48001122row38_col8\" class=\"data row38 col8\" >-33293.000000</td>\n",
       "            </tr>\n",
       "            <tr>\n",
       "                        <th id=\"T_45f988e2_6822_11ec_a00c_acde48001122level0_row39\" class=\"row_heading level0 row39\" >RI</th>\n",
       "                        <td id=\"T_45f988e2_6822_11ec_a00c_acde48001122row39_col0\" class=\"data row39 col0\" >28.097665</td>\n",
       "                        <td id=\"T_45f988e2_6822_11ec_a00c_acde48001122row39_col1\" class=\"data row39 col1\" >18.885313</td>\n",
       "                        <td id=\"T_45f988e2_6822_11ec_a00c_acde48001122row39_col2\" class=\"data row39 col2\" >-28.064680</td>\n",
       "                        <td id=\"T_45f988e2_6822_11ec_a00c_acde48001122row39_col3\" class=\"data row39 col3\" >9.569074</td>\n",
       "                        <td id=\"T_45f988e2_6822_11ec_a00c_acde48001122row39_col4\" class=\"data row39 col4\" >0.344864</td>\n",
       "                        <td id=\"T_45f988e2_6822_11ec_a00c_acde48001122row39_col5\" class=\"data row39 col5\" >-42.404295</td>\n",
       "                        <td id=\"T_45f988e2_6822_11ec_a00c_acde48001122row39_col6\" class=\"data row39 col6\" >39.740670</td>\n",
       "                        <td id=\"T_45f988e2_6822_11ec_a00c_acde48001122row39_col7\" class=\"data row39 col7\" >5.000000</td>\n",
       "                        <td id=\"T_45f988e2_6822_11ec_a00c_acde48001122row39_col8\" class=\"data row39 col8\" >4138.000000</td>\n",
       "            </tr>\n",
       "            <tr>\n",
       "                        <th id=\"T_45f988e2_6822_11ec_a00c_acde48001122level0_row40\" class=\"row_heading level0 row40\" >SC</th>\n",
       "                        <td id=\"T_45f988e2_6822_11ec_a00c_acde48001122row40_col0\" class=\"data row40 col0\" >3.709508</td>\n",
       "                        <td id=\"T_45f988e2_6822_11ec_a00c_acde48001122row40_col1\" class=\"data row40 col1\" >2.304021</td>\n",
       "                        <td id=\"T_45f988e2_6822_11ec_a00c_acde48001122row40_col2\" class=\"data row40 col2\" >3.766892</td>\n",
       "                        <td id=\"T_45f988e2_6822_11ec_a00c_acde48001122row40_col3\" class=\"data row40 col3\" >19.048750</td>\n",
       "                        <td id=\"T_45f988e2_6822_11ec_a00c_acde48001122row40_col4\" class=\"data row40 col4\" >0.000000</td>\n",
       "                        <td id=\"T_45f988e2_6822_11ec_a00c_acde48001122row40_col5\" class=\"data row40 col5\" >-12.734147</td>\n",
       "                        <td id=\"T_45f988e2_6822_11ec_a00c_acde48001122row40_col6\" class=\"data row40 col6\" >1.243649</td>\n",
       "                        <td id=\"T_45f988e2_6822_11ec_a00c_acde48001122row40_col7\" class=\"data row40 col7\" >-43.000000</td>\n",
       "                        <td id=\"T_45f988e2_6822_11ec_a00c_acde48001122row40_col8\" class=\"data row40 col8\" >-22081.000000</td>\n",
       "            </tr>\n",
       "            <tr>\n",
       "                        <th id=\"T_45f988e2_6822_11ec_a00c_acde48001122level0_row41\" class=\"row_heading level0 row41\" >SD</th>\n",
       "                        <td id=\"T_45f988e2_6822_11ec_a00c_acde48001122row41_col0\" class=\"data row41 col0\" >0.000000</td>\n",
       "                        <td id=\"T_45f988e2_6822_11ec_a00c_acde48001122row41_col1\" class=\"data row41 col1\" >0.000000</td>\n",
       "                        <td id=\"T_45f988e2_6822_11ec_a00c_acde48001122row41_col2\" class=\"data row41 col2\" >0.000000</td>\n",
       "                        <td id=\"T_45f988e2_6822_11ec_a00c_acde48001122row41_col3\" class=\"data row41 col3\" >0.000000</td>\n",
       "                        <td id=\"T_45f988e2_6822_11ec_a00c_acde48001122row41_col4\" class=\"data row41 col4\" >0.000000</td>\n",
       "                        <td id=\"T_45f988e2_6822_11ec_a00c_acde48001122row41_col5\" class=\"data row41 col5\" >0.000000</td>\n",
       "                        <td id=\"T_45f988e2_6822_11ec_a00c_acde48001122row41_col6\" class=\"data row41 col6\" >0.000000</td>\n",
       "                        <td id=\"T_45f988e2_6822_11ec_a00c_acde48001122row41_col7\" class=\"data row41 col7\" >0.000000</td>\n",
       "                        <td id=\"T_45f988e2_6822_11ec_a00c_acde48001122row41_col8\" class=\"data row41 col8\" >0.000000</td>\n",
       "            </tr>\n",
       "            <tr>\n",
       "                        <th id=\"T_45f988e2_6822_11ec_a00c_acde48001122level0_row42\" class=\"row_heading level0 row42\" >TN</th>\n",
       "                        <td id=\"T_45f988e2_6822_11ec_a00c_acde48001122row42_col0\" class=\"data row42 col0\" >8.692949</td>\n",
       "                        <td id=\"T_45f988e2_6822_11ec_a00c_acde48001122row42_col1\" class=\"data row42 col1\" >4.908793</td>\n",
       "                        <td id=\"T_45f988e2_6822_11ec_a00c_acde48001122row42_col2\" class=\"data row42 col2\" >-1.487781</td>\n",
       "                        <td id=\"T_45f988e2_6822_11ec_a00c_acde48001122row42_col3\" class=\"data row42 col3\" >31.162224</td>\n",
       "                        <td id=\"T_45f988e2_6822_11ec_a00c_acde48001122row42_col4\" class=\"data row42 col4\" >0.000000</td>\n",
       "                        <td id=\"T_45f988e2_6822_11ec_a00c_acde48001122row42_col5\" class=\"data row42 col5\" >-26.640514</td>\n",
       "                        <td id=\"T_45f988e2_6822_11ec_a00c_acde48001122row42_col6\" class=\"data row42 col6\" >2.135541</td>\n",
       "                        <td id=\"T_45f988e2_6822_11ec_a00c_acde48001122row42_col7\" class=\"data row42 col7\" >-31.000000</td>\n",
       "                        <td id=\"T_45f988e2_6822_11ec_a00c_acde48001122row42_col8\" class=\"data row42 col8\" >-13021.000000</td>\n",
       "            </tr>\n",
       "            <tr>\n",
       "                        <th id=\"T_45f988e2_6822_11ec_a00c_acde48001122level0_row43\" class=\"row_heading level0 row43\" >TX</th>\n",
       "                        <td id=\"T_45f988e2_6822_11ec_a00c_acde48001122row43_col0\" class=\"data row43 col0\" >8.229632</td>\n",
       "                        <td id=\"T_45f988e2_6822_11ec_a00c_acde48001122row43_col1\" class=\"data row43 col1\" >4.785835</td>\n",
       "                        <td id=\"T_45f988e2_6822_11ec_a00c_acde48001122row43_col2\" class=\"data row43 col2\" >-0.018445</td>\n",
       "                        <td id=\"T_45f988e2_6822_11ec_a00c_acde48001122row43_col3\" class=\"data row43 col3\" >7.608903</td>\n",
       "                        <td id=\"T_45f988e2_6822_11ec_a00c_acde48001122row43_col4\" class=\"data row43 col4\" >0.000000</td>\n",
       "                        <td id=\"T_45f988e2_6822_11ec_a00c_acde48001122row43_col5\" class=\"data row43 col5\" >-6.991503</td>\n",
       "                        <td id=\"T_45f988e2_6822_11ec_a00c_acde48001122row43_col6\" class=\"data row43 col6\" >11.472775</td>\n",
       "                        <td id=\"T_45f988e2_6822_11ec_a00c_acde48001122row43_col7\" class=\"data row43 col7\" >-103.000000</td>\n",
       "                        <td id=\"T_45f988e2_6822_11ec_a00c_acde48001122row43_col8\" class=\"data row43 col8\" >-58670.000000</td>\n",
       "            </tr>\n",
       "            <tr>\n",
       "                        <th id=\"T_45f988e2_6822_11ec_a00c_acde48001122level0_row44\" class=\"row_heading level0 row44\" >UT</th>\n",
       "                        <td id=\"T_45f988e2_6822_11ec_a00c_acde48001122row44_col0\" class=\"data row44 col0\" >12.401135</td>\n",
       "                        <td id=\"T_45f988e2_6822_11ec_a00c_acde48001122row44_col1\" class=\"data row44 col1\" >9.279480</td>\n",
       "                        <td id=\"T_45f988e2_6822_11ec_a00c_acde48001122row44_col2\" class=\"data row44 col2\" >2.393714</td>\n",
       "                        <td id=\"T_45f988e2_6822_11ec_a00c_acde48001122row44_col3\" class=\"data row44 col3\" >-1.095225</td>\n",
       "                        <td id=\"T_45f988e2_6822_11ec_a00c_acde48001122row44_col4\" class=\"data row44 col4\" >2.211103</td>\n",
       "                        <td id=\"T_45f988e2_6822_11ec_a00c_acde48001122row44_col5\" class=\"data row44 col5\" >-27.444168</td>\n",
       "                        <td id=\"T_45f988e2_6822_11ec_a00c_acde48001122row44_col6\" class=\"data row44 col6\" >33.552393</td>\n",
       "                        <td id=\"T_45f988e2_6822_11ec_a00c_acde48001122row44_col7\" class=\"data row44 col7\" >-31.000000</td>\n",
       "                        <td id=\"T_45f988e2_6822_11ec_a00c_acde48001122row44_col8\" class=\"data row44 col8\" >-18553.000000</td>\n",
       "            </tr>\n",
       "            <tr>\n",
       "                        <th id=\"T_45f988e2_6822_11ec_a00c_acde48001122level0_row45\" class=\"row_heading level0 row45\" >VA</th>\n",
       "                        <td id=\"T_45f988e2_6822_11ec_a00c_acde48001122row45_col0\" class=\"data row45 col0\" >12.747983</td>\n",
       "                        <td id=\"T_45f988e2_6822_11ec_a00c_acde48001122row45_col1\" class=\"data row45 col1\" >4.210496</td>\n",
       "                        <td id=\"T_45f988e2_6822_11ec_a00c_acde48001122row45_col2\" class=\"data row45 col2\" >-2.294801</td>\n",
       "                        <td id=\"T_45f988e2_6822_11ec_a00c_acde48001122row45_col3\" class=\"data row45 col3\" >20.581487</td>\n",
       "                        <td id=\"T_45f988e2_6822_11ec_a00c_acde48001122row45_col4\" class=\"data row45 col4\" >0.000000</td>\n",
       "                        <td id=\"T_45f988e2_6822_11ec_a00c_acde48001122row45_col5\" class=\"data row45 col5\" >-12.192675</td>\n",
       "                        <td id=\"T_45f988e2_6822_11ec_a00c_acde48001122row45_col6\" class=\"data row45 col6\" >2.823834</td>\n",
       "                        <td id=\"T_45f988e2_6822_11ec_a00c_acde48001122row45_col7\" class=\"data row45 col7\" >-48.000000</td>\n",
       "                        <td id=\"T_45f988e2_6822_11ec_a00c_acde48001122row45_col8\" class=\"data row45 col8\" >-24962.000000</td>\n",
       "            </tr>\n",
       "            <tr>\n",
       "                        <th id=\"T_45f988e2_6822_11ec_a00c_acde48001122level0_row46\" class=\"row_heading level0 row46\" >VT</th>\n",
       "                        <td id=\"T_45f988e2_6822_11ec_a00c_acde48001122row46_col0\" class=\"data row46 col0\" >0.000000</td>\n",
       "                        <td id=\"T_45f988e2_6822_11ec_a00c_acde48001122row46_col1\" class=\"data row46 col1\" >0.000000</td>\n",
       "                        <td id=\"T_45f988e2_6822_11ec_a00c_acde48001122row46_col2\" class=\"data row46 col2\" >0.000000</td>\n",
       "                        <td id=\"T_45f988e2_6822_11ec_a00c_acde48001122row46_col3\" class=\"data row46 col3\" >0.000000</td>\n",
       "                        <td id=\"T_45f988e2_6822_11ec_a00c_acde48001122row46_col4\" class=\"data row46 col4\" >0.000000</td>\n",
       "                        <td id=\"T_45f988e2_6822_11ec_a00c_acde48001122row46_col5\" class=\"data row46 col5\" >0.000000</td>\n",
       "                        <td id=\"T_45f988e2_6822_11ec_a00c_acde48001122row46_col6\" class=\"data row46 col6\" >0.000000</td>\n",
       "                        <td id=\"T_45f988e2_6822_11ec_a00c_acde48001122row46_col7\" class=\"data row46 col7\" >0.000000</td>\n",
       "                        <td id=\"T_45f988e2_6822_11ec_a00c_acde48001122row46_col8\" class=\"data row46 col8\" >0.000000</td>\n",
       "            </tr>\n",
       "            <tr>\n",
       "                        <th id=\"T_45f988e2_6822_11ec_a00c_acde48001122level0_row47\" class=\"row_heading level0 row47\" >WA</th>\n",
       "                        <td id=\"T_45f988e2_6822_11ec_a00c_acde48001122row47_col0\" class=\"data row47 col0\" >0.836843</td>\n",
       "                        <td id=\"T_45f988e2_6822_11ec_a00c_acde48001122row47_col1\" class=\"data row47 col1\" >3.285992</td>\n",
       "                        <td id=\"T_45f988e2_6822_11ec_a00c_acde48001122row47_col2\" class=\"data row47 col2\" >-2.853985</td>\n",
       "                        <td id=\"T_45f988e2_6822_11ec_a00c_acde48001122row47_col3\" class=\"data row47 col3\" >1.365010</td>\n",
       "                        <td id=\"T_45f988e2_6822_11ec_a00c_acde48001122row47_col4\" class=\"data row47 col4\" >0.242227</td>\n",
       "                        <td id=\"T_45f988e2_6822_11ec_a00c_acde48001122row47_col5\" class=\"data row47 col5\" >-14.708699</td>\n",
       "                        <td id=\"T_45f988e2_6822_11ec_a00c_acde48001122row47_col6\" class=\"data row47 col6\" >5.595930</td>\n",
       "                        <td id=\"T_45f988e2_6822_11ec_a00c_acde48001122row47_col7\" class=\"data row47 col7\" >-84.000000</td>\n",
       "                        <td id=\"T_45f988e2_6822_11ec_a00c_acde48001122row47_col8\" class=\"data row47 col8\" >-61277.000000</td>\n",
       "            </tr>\n",
       "            <tr>\n",
       "                        <th id=\"T_45f988e2_6822_11ec_a00c_acde48001122level0_row48\" class=\"row_heading level0 row48\" >WI</th>\n",
       "                        <td id=\"T_45f988e2_6822_11ec_a00c_acde48001122row48_col0\" class=\"data row48 col0\" >15.552119</td>\n",
       "                        <td id=\"T_45f988e2_6822_11ec_a00c_acde48001122row48_col1\" class=\"data row48 col1\" >4.422237</td>\n",
       "                        <td id=\"T_45f988e2_6822_11ec_a00c_acde48001122row48_col2\" class=\"data row48 col2\" >-0.796047</td>\n",
       "                        <td id=\"T_45f988e2_6822_11ec_a00c_acde48001122row48_col3\" class=\"data row48 col3\" >40.591511</td>\n",
       "                        <td id=\"T_45f988e2_6822_11ec_a00c_acde48001122row48_col4\" class=\"data row48 col4\" >-0.526995</td>\n",
       "                        <td id=\"T_45f988e2_6822_11ec_a00c_acde48001122row48_col5\" class=\"data row48 col5\" >-20.282972</td>\n",
       "                        <td id=\"T_45f988e2_6822_11ec_a00c_acde48001122row48_col6\" class=\"data row48 col6\" >-3.363747</td>\n",
       "                        <td id=\"T_45f988e2_6822_11ec_a00c_acde48001122row48_col7\" class=\"data row48 col7\" >-17.000000</td>\n",
       "                        <td id=\"T_45f988e2_6822_11ec_a00c_acde48001122row48_col8\" class=\"data row48 col8\" >-8795.000000</td>\n",
       "            </tr>\n",
       "            <tr>\n",
       "                        <th id=\"T_45f988e2_6822_11ec_a00c_acde48001122level0_row49\" class=\"row_heading level0 row49\" >WV</th>\n",
       "                        <td id=\"T_45f988e2_6822_11ec_a00c_acde48001122row49_col0\" class=\"data row49 col0\" >0.000000</td>\n",
       "                        <td id=\"T_45f988e2_6822_11ec_a00c_acde48001122row49_col1\" class=\"data row49 col1\" >0.000000</td>\n",
       "                        <td id=\"T_45f988e2_6822_11ec_a00c_acde48001122row49_col2\" class=\"data row49 col2\" >0.000000</td>\n",
       "                        <td id=\"T_45f988e2_6822_11ec_a00c_acde48001122row49_col3\" class=\"data row49 col3\" >0.000000</td>\n",
       "                        <td id=\"T_45f988e2_6822_11ec_a00c_acde48001122row49_col4\" class=\"data row49 col4\" >0.000000</td>\n",
       "                        <td id=\"T_45f988e2_6822_11ec_a00c_acde48001122row49_col5\" class=\"data row49 col5\" >0.000000</td>\n",
       "                        <td id=\"T_45f988e2_6822_11ec_a00c_acde48001122row49_col6\" class=\"data row49 col6\" >0.000000</td>\n",
       "                        <td id=\"T_45f988e2_6822_11ec_a00c_acde48001122row49_col7\" class=\"data row49 col7\" >0.000000</td>\n",
       "                        <td id=\"T_45f988e2_6822_11ec_a00c_acde48001122row49_col8\" class=\"data row49 col8\" >0.000000</td>\n",
       "            </tr>\n",
       "            <tr>\n",
       "                        <th id=\"T_45f988e2_6822_11ec_a00c_acde48001122level0_row50\" class=\"row_heading level0 row50\" >WY</th>\n",
       "                        <td id=\"T_45f988e2_6822_11ec_a00c_acde48001122row50_col0\" class=\"data row50 col0\" >0.000000</td>\n",
       "                        <td id=\"T_45f988e2_6822_11ec_a00c_acde48001122row50_col1\" class=\"data row50 col1\" >0.000000</td>\n",
       "                        <td id=\"T_45f988e2_6822_11ec_a00c_acde48001122row50_col2\" class=\"data row50 col2\" >0.000000</td>\n",
       "                        <td id=\"T_45f988e2_6822_11ec_a00c_acde48001122row50_col3\" class=\"data row50 col3\" >0.000000</td>\n",
       "                        <td id=\"T_45f988e2_6822_11ec_a00c_acde48001122row50_col4\" class=\"data row50 col4\" >0.000000</td>\n",
       "                        <td id=\"T_45f988e2_6822_11ec_a00c_acde48001122row50_col5\" class=\"data row50 col5\" >0.000000</td>\n",
       "                        <td id=\"T_45f988e2_6822_11ec_a00c_acde48001122row50_col6\" class=\"data row50 col6\" >0.000000</td>\n",
       "                        <td id=\"T_45f988e2_6822_11ec_a00c_acde48001122row50_col7\" class=\"data row50 col7\" >0.000000</td>\n",
       "                        <td id=\"T_45f988e2_6822_11ec_a00c_acde48001122row50_col8\" class=\"data row50 col8\" >0.000000</td>\n",
       "            </tr>\n",
       "    </tbody></table>"
      ],
      "text/plain": [
       "<pandas.io.formats.style.Styler at 0x145e87eb8>"
      ]
     },
     "execution_count": 279,
     "metadata": {},
     "output_type": "execute_result"
    }
   ],
   "source": [
    "def style_negative(v, props=''):\n",
    "    return props if v < 0 else None\n",
    "\n",
    "diff_style = diff.style.applymap(style_negative, props='color:red;')\\\n",
    "              .applymap(lambda v: 'opacity: 20%;' if (v < 0.0) and (v > 0.0) else None)\n",
    "diff_style"
   ]
  },
  {
   "cell_type": "code",
   "execution_count": null,
   "metadata": {},
   "outputs": [],
   "source": []
  }
 ],
 "metadata": {
  "kernelspec": {
   "display_name": "Python 3",
   "language": "python",
   "name": "python3"
  },
  "language_info": {
   "codemirror_mode": {
    "name": "ipython",
    "version": 3
   },
   "file_extension": ".py",
   "mimetype": "text/x-python",
   "name": "python",
   "nbconvert_exporter": "python",
   "pygments_lexer": "ipython3",
   "version": "3.6.2"
  }
 },
 "nbformat": 4,
 "nbformat_minor": 4
}
