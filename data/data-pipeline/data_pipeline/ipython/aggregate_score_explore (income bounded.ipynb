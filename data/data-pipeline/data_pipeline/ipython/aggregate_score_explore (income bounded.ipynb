{
 "cells": [
  {
   "cell_type": "markdown",
   "id": "b00e4a4c",
   "metadata": {},
   "source": [
    "Tests that I want to run include:\n",
    "* Checking if the construct is unidimensional a the macro level (sum indicator) level\n",
    "* Examining the indicators to see if each sub indicator is uni-dimensional\n",
    "* Seeing what happens to the distribution/number of communities included if we move to a %Population based scoring system. "
   ]
  },
  {
   "cell_type": "code",
   "execution_count": 19,
   "id": "73697590",
   "metadata": {},
   "outputs": [],
   "source": [
    "library(tidyverse)\n",
    "library(psych)"
   ]
  },
  {
   "cell_type": "code",
   "execution_count": 2,
   "id": "188379c1",
   "metadata": {},
   "outputs": [
    {
     "name": "stderr",
     "output_type": "stream",
     "text": [
      "\n",
      "\u001b[36m──\u001b[39m \u001b[1m\u001b[1mColumn specification\u001b[1m\u001b[22m \u001b[36m────────────────────────────────────────────────────────\u001b[39m\n",
      "cols(\n",
      "  .default = col_double(),\n",
      "  GEOID10_TRACT = \u001b[31mcol_character()\u001b[39m,\n",
      "  `Does the tract have at least 35 acres in it?` = \u001b[33mcol_logical()\u001b[39m,\n",
      "  `Contains agricultural value` = \u001b[33mcol_logical()\u001b[39m,\n",
      "  `Names of Tribal areas within Census tract` = \u001b[31mcol_character()\u001b[39m,\n",
      "  `Percent individuals age 25 or over with less than high school degree in 2009` = \u001b[33mcol_logical()\u001b[39m,\n",
      "  `Percentage households below 100% of federal poverty line in 2009` = \u001b[33mcol_logical()\u001b[39m,\n",
      "  `Unemployment (percent) in 2009` = \u001b[33mcol_logical()\u001b[39m,\n",
      "  `Total population in 2009` = \u001b[33mcol_logical()\u001b[39m,\n",
      "  `Number of Tribal areas within Census tract for Alaska` = \u001b[33mcol_logical()\u001b[39m,\n",
      "  `Number of Tribal areas within Census tract` = \u001b[33mcol_logical()\u001b[39m,\n",
      "  `Median household income as a percent of territory median income in 2009` = \u001b[33mcol_logical()\u001b[39m,\n",
      "  `Is there at least one abandoned mine in this census tract?` = \u001b[33mcol_logical()\u001b[39m,\n",
      "  `Income data has been estimated based on neighbor income` = \u001b[33mcol_logical()\u001b[39m,\n",
      "  `Is there at least one Formerly Used Defense Site (FUDS) in the tract?` = \u001b[33mcol_logical()\u001b[39m,\n",
      "  `Tract-level redlining score meets or exceeds 3.25` = \u001b[33mcol_logical()\u001b[39m,\n",
      "  `Identified as disadvantaged due to tribal overlap` = \u001b[33mcol_logical()\u001b[39m,\n",
      "  `Percent individuals age 25 or over with less than high school degree in 2009 (percentile)` = \u001b[33mcol_logical()\u001b[39m,\n",
      "  `Percentage households below 100% of federal poverty line in 2009 (percentile)` = \u001b[33mcol_logical()\u001b[39m,\n",
      "  `Unemployment (percent) in 2009 (percentile)` = \u001b[33mcol_logical()\u001b[39m,\n",
      "  `Total population in 2009 (percentile)` = \u001b[33mcol_logical()\u001b[39m\n",
      "  # ... with 103 more columns\n",
      ")\n",
      "\u001b[36mℹ\u001b[39m Use \u001b[30m\u001b[47m\u001b[30m\u001b[47m`spec()`\u001b[47m\u001b[30m\u001b[49m\u001b[39m for the full column specifications.\n",
      "\n",
      "\n",
      "Warning message:\n",
      "“2219 parsing failures.\n",
      " row                                                                col           expected              actual                             file\n",
      "1182 Number of Tribal areas within Census tract for Alaska              1/0/T/F/TRUE/FALSE 1.0                 '../data/score/csv/full/usa.csv'\n",
      "1182 Number of Tribal areas within Census tract for Alaska (percentile) 1/0/T/F/TRUE/FALSE 0.19230769230769232 '../data/score/csv/full/usa.csv'\n",
      "1183 Number of Tribal areas within Census tract for Alaska              1/0/T/F/TRUE/FALSE 4.0                 '../data/score/csv/full/usa.csv'\n",
      "1183 Number of Tribal areas within Census tract for Alaska (percentile) 1/0/T/F/TRUE/FALSE 0.6634615384615384  '../data/score/csv/full/usa.csv'\n",
      "1184 Number of Tribal areas within Census tract for Alaska              1/0/T/F/TRUE/FALSE 3.0                 '../data/score/csv/full/usa.csv'\n",
      ".... .................................................................. .................. ................... ................................\n",
      "See problems(...) for more details.\n",
      "”\n"
     ]
    }
   ],
   "source": [
    "score_files = list.files(\"../data/score/csv/full\", full.names = TRUE)\n",
    "usa = read_csv(score_files[grepl(\"usa.csv\", score_files)]) # read in the data"
   ]
  },
  {
   "cell_type": "code",
   "execution_count": 3,
   "id": "26838701",
   "metadata": {
    "scrolled": true
   },
   "outputs": [
    {
     "data": {
      "text/html": [
       "<table class=\"dataframe\">\n",
       "<caption>A tibble: 6 × 261</caption>\n",
       "<thead>\n",
       "\t<tr><th scope=col>GEOID10_TRACT</th><th scope=col>Does the tract have at least 35 acres in it?</th><th scope=col>Contains agricultural value</th><th scope=col>Names of Tribal areas within Census tract</th><th scope=col>Housing burden (percent)</th><th scope=col>Share of homes with no kitchen or indoor plumbing (percent)</th><th scope=col>Total population</th><th scope=col>Median household income (% of state median household income)</th><th scope=col>Current asthma among adults aged greater than or equal to 18 years</th><th scope=col>Coronary heart disease among adults aged greater than or equal to 18 years</th><th scope=col>⋯</th><th scope=col>Workforce Factor (Definition N)</th><th scope=col>Total categories exceeded</th><th scope=col>Definition N (communities)</th><th scope=col>Definition N (communities) (percentile)</th><th scope=col>Meets the less stringent low income criterion for the adjacency index?</th><th scope=col>Definition N (communities) (average of neighbors)</th><th scope=col>Is the tract surrounded by disadvantaged communities?</th><th scope=col>Definition N (communities) (based on adjacency index and low income alone)</th><th scope=col>Definition N community, including adjacency index tracts</th><th scope=col>Percentage of tract that is disadvantaged</th></tr>\n",
       "\t<tr><th scope=col>&lt;chr&gt;</th><th scope=col>&lt;lgl&gt;</th><th scope=col>&lt;lgl&gt;</th><th scope=col>&lt;chr&gt;</th><th scope=col>&lt;dbl&gt;</th><th scope=col>&lt;dbl&gt;</th><th scope=col>&lt;dbl&gt;</th><th scope=col>&lt;dbl&gt;</th><th scope=col>&lt;dbl&gt;</th><th scope=col>&lt;dbl&gt;</th><th scope=col>⋯</th><th scope=col>&lt;lgl&gt;</th><th scope=col>&lt;dbl&gt;</th><th scope=col>&lt;lgl&gt;</th><th scope=col>&lt;dbl&gt;</th><th scope=col>&lt;lgl&gt;</th><th scope=col>&lt;dbl&gt;</th><th scope=col>&lt;lgl&gt;</th><th scope=col>&lt;lgl&gt;</th><th scope=col>&lt;lgl&gt;</th><th scope=col>&lt;dbl&gt;</th></tr>\n",
       "</thead>\n",
       "<tbody>\n",
       "\t<tr><td>01073001100</td><td>TRUE</td><td> TRUE</td><td>NA</td><td>0.2752044</td><td>0.000000000</td><td>4781</td><td>0.7327450</td><td>11.2</td><td> 7.2</td><td>⋯</td><td>FALSE</td><td>0</td><td>FALSE</td><td>0</td><td>TRUE</td><td>0.8571429</td><td>FALSE</td><td>FALSE</td><td>FALSE</td><td>0</td></tr>\n",
       "\t<tr><td>01073001400</td><td>TRUE</td><td> TRUE</td><td>NA</td><td>0.1823529</td><td>0.004705882</td><td>1946</td><td>0.7136695</td><td>11.1</td><td> 9.1</td><td>⋯</td><td> TRUE</td><td>6</td><td> TRUE</td><td>1</td><td>TRUE</td><td>1.0000000</td><td> TRUE</td><td> TRUE</td><td> TRUE</td><td>1</td></tr>\n",
       "\t<tr><td>01073002000</td><td>TRUE</td><td> TRUE</td><td>NA</td><td>0.4350877</td><td>0.006872852</td><td>4080</td><td>0.5374189</td><td>13.5</td><td> 9.5</td><td>⋯</td><td> TRUE</td><td>3</td><td> TRUE</td><td>1</td><td>TRUE</td><td>1.0000000</td><td> TRUE</td><td> TRUE</td><td> TRUE</td><td>1</td></tr>\n",
       "\t<tr><td>01073003802</td><td>TRUE</td><td> TRUE</td><td>NA</td><td>0.4111406</td><td>0.038961039</td><td>5291</td><td>0.7662063</td><td>12.0</td><td> 6.6</td><td>⋯</td><td>FALSE</td><td>4</td><td> TRUE</td><td>1</td><td>TRUE</td><td>1.0000000</td><td> TRUE</td><td> TRUE</td><td> TRUE</td><td>1</td></tr>\n",
       "\t<tr><td>01073004000</td><td>TRUE</td><td>FALSE</td><td>NA</td><td>0.4683099</td><td>0.009900990</td><td>2533</td><td>0.3665704</td><td>13.1</td><td>10.0</td><td>⋯</td><td> TRUE</td><td>5</td><td> TRUE</td><td>1</td><td>TRUE</td><td>1.0000000</td><td> TRUE</td><td> TRUE</td><td> TRUE</td><td>1</td></tr>\n",
       "\t<tr><td>01073005101</td><td>TRUE</td><td>FALSE</td><td>NA</td><td>0.5264000</td><td>0.000000000</td><td>1467</td><td>0.3133014</td><td>15.2</td><td>11.6</td><td>⋯</td><td> TRUE</td><td>6</td><td> TRUE</td><td>1</td><td>TRUE</td><td>1.0000000</td><td> TRUE</td><td> TRUE</td><td> TRUE</td><td>1</td></tr>\n",
       "</tbody>\n",
       "</table>\n"
      ],
      "text/latex": [
       "A tibble: 6 × 261\n",
       "\\begin{tabular}{lllllllllllllllllllll}\n",
       " GEOID10\\_TRACT & Does the tract have at least 35 acres in it? & Contains agricultural value & Names of Tribal areas within Census tract & Housing burden (percent) & Share of homes with no kitchen or indoor plumbing (percent) & Total population & Median household income (\\% of state median household income) & Current asthma among adults aged greater than or equal to 18 years & Coronary heart disease among adults aged greater than or equal to 18 years & ⋯ & Workforce Factor (Definition N) & Total categories exceeded & Definition N (communities) & Definition N (communities) (percentile) & Meets the less stringent low income criterion for the adjacency index? & Definition N (communities) (average of neighbors) & Is the tract surrounded by disadvantaged communities? & Definition N (communities) (based on adjacency index and low income alone) & Definition N community, including adjacency index tracts & Percentage of tract that is disadvantaged\\\\\n",
       " <chr> & <lgl> & <lgl> & <chr> & <dbl> & <dbl> & <dbl> & <dbl> & <dbl> & <dbl> & ⋯ & <lgl> & <dbl> & <lgl> & <dbl> & <lgl> & <dbl> & <lgl> & <lgl> & <lgl> & <dbl>\\\\\n",
       "\\hline\n",
       "\t 01073001100 & TRUE &  TRUE & NA & 0.2752044 & 0.000000000 & 4781 & 0.7327450 & 11.2 &  7.2 & ⋯ & FALSE & 0 & FALSE & 0 & TRUE & 0.8571429 & FALSE & FALSE & FALSE & 0\\\\\n",
       "\t 01073001400 & TRUE &  TRUE & NA & 0.1823529 & 0.004705882 & 1946 & 0.7136695 & 11.1 &  9.1 & ⋯ &  TRUE & 6 &  TRUE & 1 & TRUE & 1.0000000 &  TRUE &  TRUE &  TRUE & 1\\\\\n",
       "\t 01073002000 & TRUE &  TRUE & NA & 0.4350877 & 0.006872852 & 4080 & 0.5374189 & 13.5 &  9.5 & ⋯ &  TRUE & 3 &  TRUE & 1 & TRUE & 1.0000000 &  TRUE &  TRUE &  TRUE & 1\\\\\n",
       "\t 01073003802 & TRUE &  TRUE & NA & 0.4111406 & 0.038961039 & 5291 & 0.7662063 & 12.0 &  6.6 & ⋯ & FALSE & 4 &  TRUE & 1 & TRUE & 1.0000000 &  TRUE &  TRUE &  TRUE & 1\\\\\n",
       "\t 01073004000 & TRUE & FALSE & NA & 0.4683099 & 0.009900990 & 2533 & 0.3665704 & 13.1 & 10.0 & ⋯ &  TRUE & 5 &  TRUE & 1 & TRUE & 1.0000000 &  TRUE &  TRUE &  TRUE & 1\\\\\n",
       "\t 01073005101 & TRUE & FALSE & NA & 0.5264000 & 0.000000000 & 1467 & 0.3133014 & 15.2 & 11.6 & ⋯ &  TRUE & 6 &  TRUE & 1 & TRUE & 1.0000000 &  TRUE &  TRUE &  TRUE & 1\\\\\n",
       "\\end{tabular}\n"
      ],
      "text/markdown": [
       "\n",
       "A tibble: 6 × 261\n",
       "\n",
       "| GEOID10_TRACT &lt;chr&gt; | Does the tract have at least 35 acres in it? &lt;lgl&gt; | Contains agricultural value &lt;lgl&gt; | Names of Tribal areas within Census tract &lt;chr&gt; | Housing burden (percent) &lt;dbl&gt; | Share of homes with no kitchen or indoor plumbing (percent) &lt;dbl&gt; | Total population &lt;dbl&gt; | Median household income (% of state median household income) &lt;dbl&gt; | Current asthma among adults aged greater than or equal to 18 years &lt;dbl&gt; | Coronary heart disease among adults aged greater than or equal to 18 years &lt;dbl&gt; | ⋯ ⋯ | Workforce Factor (Definition N) &lt;lgl&gt; | Total categories exceeded &lt;dbl&gt; | Definition N (communities) &lt;lgl&gt; | Definition N (communities) (percentile) &lt;dbl&gt; | Meets the less stringent low income criterion for the adjacency index? &lt;lgl&gt; | Definition N (communities) (average of neighbors) &lt;dbl&gt; | Is the tract surrounded by disadvantaged communities? &lt;lgl&gt; | Definition N (communities) (based on adjacency index and low income alone) &lt;lgl&gt; | Definition N community, including adjacency index tracts &lt;lgl&gt; | Percentage of tract that is disadvantaged &lt;dbl&gt; |\n",
       "|---|---|---|---|---|---|---|---|---|---|---|---|---|---|---|---|---|---|---|---|---|\n",
       "| 01073001100 | TRUE |  TRUE | NA | 0.2752044 | 0.000000000 | 4781 | 0.7327450 | 11.2 |  7.2 | ⋯ | FALSE | 0 | FALSE | 0 | TRUE | 0.8571429 | FALSE | FALSE | FALSE | 0 |\n",
       "| 01073001400 | TRUE |  TRUE | NA | 0.1823529 | 0.004705882 | 1946 | 0.7136695 | 11.1 |  9.1 | ⋯ |  TRUE | 6 |  TRUE | 1 | TRUE | 1.0000000 |  TRUE |  TRUE |  TRUE | 1 |\n",
       "| 01073002000 | TRUE |  TRUE | NA | 0.4350877 | 0.006872852 | 4080 | 0.5374189 | 13.5 |  9.5 | ⋯ |  TRUE | 3 |  TRUE | 1 | TRUE | 1.0000000 |  TRUE |  TRUE |  TRUE | 1 |\n",
       "| 01073003802 | TRUE |  TRUE | NA | 0.4111406 | 0.038961039 | 5291 | 0.7662063 | 12.0 |  6.6 | ⋯ | FALSE | 4 |  TRUE | 1 | TRUE | 1.0000000 |  TRUE |  TRUE |  TRUE | 1 |\n",
       "| 01073004000 | TRUE | FALSE | NA | 0.4683099 | 0.009900990 | 2533 | 0.3665704 | 13.1 | 10.0 | ⋯ |  TRUE | 5 |  TRUE | 1 | TRUE | 1.0000000 |  TRUE |  TRUE |  TRUE | 1 |\n",
       "| 01073005101 | TRUE | FALSE | NA | 0.5264000 | 0.000000000 | 1467 | 0.3133014 | 15.2 | 11.6 | ⋯ |  TRUE | 6 |  TRUE | 1 | TRUE | 1.0000000 |  TRUE |  TRUE |  TRUE | 1 |\n",
       "\n"
      ],
      "text/plain": [
       "  GEOID10_TRACT Does the tract have at least 35 acres in it?\n",
       "1 01073001100   TRUE                                        \n",
       "2 01073001400   TRUE                                        \n",
       "3 01073002000   TRUE                                        \n",
       "4 01073003802   TRUE                                        \n",
       "5 01073004000   TRUE                                        \n",
       "6 01073005101   TRUE                                        \n",
       "  Contains agricultural value Names of Tribal areas within Census tract\n",
       "1  TRUE                       NA                                       \n",
       "2  TRUE                       NA                                       \n",
       "3  TRUE                       NA                                       \n",
       "4  TRUE                       NA                                       \n",
       "5 FALSE                       NA                                       \n",
       "6 FALSE                       NA                                       \n",
       "  Housing burden (percent)\n",
       "1 0.2752044               \n",
       "2 0.1823529               \n",
       "3 0.4350877               \n",
       "4 0.4111406               \n",
       "5 0.4683099               \n",
       "6 0.5264000               \n",
       "  Share of homes with no kitchen or indoor plumbing (percent) Total population\n",
       "1 0.000000000                                                 4781            \n",
       "2 0.004705882                                                 1946            \n",
       "3 0.006872852                                                 4080            \n",
       "4 0.038961039                                                 5291            \n",
       "5 0.009900990                                                 2533            \n",
       "6 0.000000000                                                 1467            \n",
       "  Median household income (% of state median household income)\n",
       "1 0.7327450                                                   \n",
       "2 0.7136695                                                   \n",
       "3 0.5374189                                                   \n",
       "4 0.7662063                                                   \n",
       "5 0.3665704                                                   \n",
       "6 0.3133014                                                   \n",
       "  Current asthma among adults aged greater than or equal to 18 years\n",
       "1 11.2                                                              \n",
       "2 11.1                                                              \n",
       "3 13.5                                                              \n",
       "4 12.0                                                              \n",
       "5 13.1                                                              \n",
       "6 15.2                                                              \n",
       "  Coronary heart disease among adults aged greater than or equal to 18 years ⋯\n",
       "1  7.2                                                                       ⋯\n",
       "2  9.1                                                                       ⋯\n",
       "3  9.5                                                                       ⋯\n",
       "4  6.6                                                                       ⋯\n",
       "5 10.0                                                                       ⋯\n",
       "6 11.6                                                                       ⋯\n",
       "  Workforce Factor (Definition N) Total categories exceeded\n",
       "1 FALSE                           0                        \n",
       "2  TRUE                           6                        \n",
       "3  TRUE                           3                        \n",
       "4 FALSE                           4                        \n",
       "5  TRUE                           5                        \n",
       "6  TRUE                           6                        \n",
       "  Definition N (communities) Definition N (communities) (percentile)\n",
       "1 FALSE                      0                                      \n",
       "2  TRUE                      1                                      \n",
       "3  TRUE                      1                                      \n",
       "4  TRUE                      1                                      \n",
       "5  TRUE                      1                                      \n",
       "6  TRUE                      1                                      \n",
       "  Meets the less stringent low income criterion for the adjacency index?\n",
       "1 TRUE                                                                  \n",
       "2 TRUE                                                                  \n",
       "3 TRUE                                                                  \n",
       "4 TRUE                                                                  \n",
       "5 TRUE                                                                  \n",
       "6 TRUE                                                                  \n",
       "  Definition N (communities) (average of neighbors)\n",
       "1 0.8571429                                        \n",
       "2 1.0000000                                        \n",
       "3 1.0000000                                        \n",
       "4 1.0000000                                        \n",
       "5 1.0000000                                        \n",
       "6 1.0000000                                        \n",
       "  Is the tract surrounded by disadvantaged communities?\n",
       "1 FALSE                                                \n",
       "2  TRUE                                                \n",
       "3  TRUE                                                \n",
       "4  TRUE                                                \n",
       "5  TRUE                                                \n",
       "6  TRUE                                                \n",
       "  Definition N (communities) (based on adjacency index and low income alone)\n",
       "1 FALSE                                                                     \n",
       "2  TRUE                                                                     \n",
       "3  TRUE                                                                     \n",
       "4  TRUE                                                                     \n",
       "5  TRUE                                                                     \n",
       "6  TRUE                                                                     \n",
       "  Definition N community, including adjacency index tracts\n",
       "1 FALSE                                                   \n",
       "2  TRUE                                                   \n",
       "3  TRUE                                                   \n",
       "4  TRUE                                                   \n",
       "5  TRUE                                                   \n",
       "6  TRUE                                                   \n",
       "  Percentage of tract that is disadvantaged\n",
       "1 0                                        \n",
       "2 1                                        \n",
       "3 1                                        \n",
       "4 1                                        \n",
       "5 1                                        \n",
       "6 1                                        "
      ]
     },
     "metadata": {},
     "output_type": "display_data"
    }
   ],
   "source": [
    "head(usa) ## take a quick look to make sure its in the right format"
   ]
  },
  {
   "cell_type": "code",
   "execution_count": 4,
   "id": "98408148",
   "metadata": {},
   "outputs": [
    {
     "data": {
      "text/html": [
       "<style>\n",
       ".list-inline {list-style: none; margin:0; padding: 0}\n",
       ".list-inline>li {display: inline-block}\n",
       ".list-inline>li:not(:last-child)::after {content: \"\\00b7\"; padding: 0 .5ex}\n",
       "</style>\n",
       "<ol class=list-inline><li>'Climate Factor (Definition N)'</li><li>'Energy Factor (Definition N)'</li><li>'Transportation Factor (Definition N)'</li><li>'Housing Factor (Definition N)'</li><li>'Pollution Factor (Definition N)'</li><li>'Water Factor (Definition N)'</li><li>'Health Factor (Definition N)'</li><li>'Workforce Factor (Definition N)'</li></ol>\n"
      ],
      "text/latex": [
       "\\begin{enumerate*}\n",
       "\\item 'Climate Factor (Definition N)'\n",
       "\\item 'Energy Factor (Definition N)'\n",
       "\\item 'Transportation Factor (Definition N)'\n",
       "\\item 'Housing Factor (Definition N)'\n",
       "\\item 'Pollution Factor (Definition N)'\n",
       "\\item 'Water Factor (Definition N)'\n",
       "\\item 'Health Factor (Definition N)'\n",
       "\\item 'Workforce Factor (Definition N)'\n",
       "\\end{enumerate*}\n"
      ],
      "text/markdown": [
       "1. 'Climate Factor (Definition N)'\n",
       "2. 'Energy Factor (Definition N)'\n",
       "3. 'Transportation Factor (Definition N)'\n",
       "4. 'Housing Factor (Definition N)'\n",
       "5. 'Pollution Factor (Definition N)'\n",
       "6. 'Water Factor (Definition N)'\n",
       "7. 'Health Factor (Definition N)'\n",
       "8. 'Workforce Factor (Definition N)'\n",
       "\n",
       "\n"
      ],
      "text/plain": [
       "[1] \"Climate Factor (Definition N)\"       \n",
       "[2] \"Energy Factor (Definition N)\"        \n",
       "[3] \"Transportation Factor (Definition N)\"\n",
       "[4] \"Housing Factor (Definition N)\"       \n",
       "[5] \"Pollution Factor (Definition N)\"     \n",
       "[6] \"Water Factor (Definition N)\"         \n",
       "[7] \"Health Factor (Definition N)\"        \n",
       "[8] \"Workforce Factor (Definition N)\"     "
      ]
     },
     "metadata": {},
     "output_type": "display_data"
    }
   ],
   "source": [
    "usa %>% select(contains(\"Factor\")) %>% colnames"
   ]
  },
  {
   "cell_type": "markdown",
   "id": "5c8f0179",
   "metadata": {},
   "source": [
    "First thing that I want to do is explore just the aggregate level metrics. They are already put into groups and that is super helpful"
   ]
  },
  {
   "cell_type": "code",
   "execution_count": 82,
   "id": "00fd7c12",
   "metadata": {},
   "outputs": [
    {
     "data": {
      "text/html": [
       "<table class=\"dataframe\">\n",
       "<caption>A tibble: 6 × 11</caption>\n",
       "<thead>\n",
       "\t<tr><th scope=col>Climate_Factor</th><th scope=col>Energy_Factor</th><th scope=col>Transportation_Factor</th><th scope=col>Housing_Factor</th><th scope=col>Pollution_Factor</th><th scope=col>Water_Factor</th><th scope=col>Health_Factor</th><th scope=col>Workforce_Factor</th><th scope=col>GEOID10_TRACT</th><th scope=col>pop</th><th scope=col>total</th></tr>\n",
       "\t<tr><th scope=col>&lt;dbl&gt;</th><th scope=col>&lt;dbl&gt;</th><th scope=col>&lt;dbl&gt;</th><th scope=col>&lt;dbl&gt;</th><th scope=col>&lt;dbl&gt;</th><th scope=col>&lt;dbl&gt;</th><th scope=col>&lt;dbl&gt;</th><th scope=col>&lt;dbl&gt;</th><th scope=col>&lt;chr&gt;</th><th scope=col>&lt;dbl&gt;</th><th scope=col>&lt;dbl&gt;</th></tr>\n",
       "</thead>\n",
       "<tbody>\n",
       "\t<tr><td>0</td><td>0</td><td>0</td><td>0</td><td>0</td><td>0</td><td>0</td><td>0</td><td>01073001100</td><td>4781</td><td>0</td></tr>\n",
       "\t<tr><td>1</td><td>1</td><td>1</td><td>1</td><td>0</td><td>0</td><td>1</td><td>1</td><td>01073001400</td><td>1946</td><td>6</td></tr>\n",
       "\t<tr><td>0</td><td>1</td><td>0</td><td>0</td><td>0</td><td>0</td><td>1</td><td>1</td><td>01073002000</td><td>4080</td><td>3</td></tr>\n",
       "\t<tr><td>1</td><td>1</td><td>0</td><td>1</td><td>0</td><td>0</td><td>1</td><td>0</td><td>01073003802</td><td>5291</td><td>4</td></tr>\n",
       "\t<tr><td>1</td><td>1</td><td>0</td><td>1</td><td>0</td><td>0</td><td>1</td><td>1</td><td>01073004000</td><td>2533</td><td>5</td></tr>\n",
       "\t<tr><td>1</td><td>1</td><td>1</td><td>1</td><td>0</td><td>0</td><td>1</td><td>1</td><td>01073005101</td><td>1467</td><td>6</td></tr>\n",
       "</tbody>\n",
       "</table>\n"
      ],
      "text/latex": [
       "A tibble: 6 × 11\n",
       "\\begin{tabular}{lllllllllll}\n",
       " Climate\\_Factor & Energy\\_Factor & Transportation\\_Factor & Housing\\_Factor & Pollution\\_Factor & Water\\_Factor & Health\\_Factor & Workforce\\_Factor & GEOID10\\_TRACT & pop & total\\\\\n",
       " <dbl> & <dbl> & <dbl> & <dbl> & <dbl> & <dbl> & <dbl> & <dbl> & <chr> & <dbl> & <dbl>\\\\\n",
       "\\hline\n",
       "\t 0 & 0 & 0 & 0 & 0 & 0 & 0 & 0 & 01073001100 & 4781 & 0\\\\\n",
       "\t 1 & 1 & 1 & 1 & 0 & 0 & 1 & 1 & 01073001400 & 1946 & 6\\\\\n",
       "\t 0 & 1 & 0 & 0 & 0 & 0 & 1 & 1 & 01073002000 & 4080 & 3\\\\\n",
       "\t 1 & 1 & 0 & 1 & 0 & 0 & 1 & 0 & 01073003802 & 5291 & 4\\\\\n",
       "\t 1 & 1 & 0 & 1 & 0 & 0 & 1 & 1 & 01073004000 & 2533 & 5\\\\\n",
       "\t 1 & 1 & 1 & 1 & 0 & 0 & 1 & 1 & 01073005101 & 1467 & 6\\\\\n",
       "\\end{tabular}\n"
      ],
      "text/markdown": [
       "\n",
       "A tibble: 6 × 11\n",
       "\n",
       "| Climate_Factor &lt;dbl&gt; | Energy_Factor &lt;dbl&gt; | Transportation_Factor &lt;dbl&gt; | Housing_Factor &lt;dbl&gt; | Pollution_Factor &lt;dbl&gt; | Water_Factor &lt;dbl&gt; | Health_Factor &lt;dbl&gt; | Workforce_Factor &lt;dbl&gt; | GEOID10_TRACT &lt;chr&gt; | pop &lt;dbl&gt; | total &lt;dbl&gt; |\n",
       "|---|---|---|---|---|---|---|---|---|---|---|\n",
       "| 0 | 0 | 0 | 0 | 0 | 0 | 0 | 0 | 01073001100 | 4781 | 0 |\n",
       "| 1 | 1 | 1 | 1 | 0 | 0 | 1 | 1 | 01073001400 | 1946 | 6 |\n",
       "| 0 | 1 | 0 | 0 | 0 | 0 | 1 | 1 | 01073002000 | 4080 | 3 |\n",
       "| 1 | 1 | 0 | 1 | 0 | 0 | 1 | 0 | 01073003802 | 5291 | 4 |\n",
       "| 1 | 1 | 0 | 1 | 0 | 0 | 1 | 1 | 01073004000 | 2533 | 5 |\n",
       "| 1 | 1 | 1 | 1 | 0 | 0 | 1 | 1 | 01073005101 | 1467 | 6 |\n",
       "\n"
      ],
      "text/plain": [
       "  Climate_Factor Energy_Factor Transportation_Factor Housing_Factor\n",
       "1 0              0             0                     0             \n",
       "2 1              1             1                     1             \n",
       "3 0              1             0                     0             \n",
       "4 1              1             0                     1             \n",
       "5 1              1             0                     1             \n",
       "6 1              1             1                     1             \n",
       "  Pollution_Factor Water_Factor Health_Factor Workforce_Factor GEOID10_TRACT\n",
       "1 0                0            0             0                01073001100  \n",
       "2 0                0            1             1                01073001400  \n",
       "3 0                0            1             1                01073002000  \n",
       "4 0                0            1             0                01073003802  \n",
       "5 0                0            1             1                01073004000  \n",
       "6 0                0            1             1                01073005101  \n",
       "  pop  total\n",
       "1 4781 0    \n",
       "2 1946 6    \n",
       "3 4080 3    \n",
       "4 5291 4    \n",
       "5 2533 5    \n",
       "6 1467 6    "
      ]
     },
     "metadata": {},
     "output_type": "display_data"
    }
   ],
   "source": [
    "macro_factors <- usa %>% \n",
    "select(contains(\"Factor\"), GEOID10_TRACT, pop =  `Total population`) %>% \n",
    "rename_with(.cols = everything()\n",
    "            , .fn = ~str_replace_all(str_trim(str_replace_all(.x, \"\\\\(Definition N\\\\)\", \"\")), \" \", \"_\")) %>%\n",
    "mutate(across(contains(\"Factor\"), as.numeric)) %>%\n",
    "rowwise(GEOID10_TRACT) %>%\n",
    "mutate(total = sum(c_across(contains(\"Factor\")))) %>%\n",
    "ungroup()\n",
    "\n",
    "head(macro_factors)"
   ]
  },
  {
   "cell_type": "markdown",
   "id": "c12927b9",
   "metadata": {},
   "source": [
    "First, we run tetrachoric correlations to see which factors correlate well with other factors. (Tetrachoric correlations are designed for binary factors. They make the assumption that the binary factor is based off of a normal distribution that has been binned. this is a really fair assumption for this data because that is similar to what happened)."
   ]
  },
  {
   "cell_type": "code",
   "execution_count": 10,
   "id": "49ed2ed9",
   "metadata": {},
   "outputs": [
    {
     "name": "stdout",
     "output_type": "stream",
     "text": [
      "\n"
     ]
    },
    {
     "data": {
      "text/plain": [
       "Call: tetrachoric(x = .)\n",
       "tetrachoric correlation \n",
       "                      Clm_F Enr_F Trn_F Hsn_F Pll_F Wtr_F Hlt_F Wrk_F\n",
       "Climate_Factor        1.00                                           \n",
       "Energy_Factor         0.50  1.00                                     \n",
       "Transportation_Factor 0.49  0.57  1.00                               \n",
       "Housing_Factor        0.37  0.71  0.67  1.00                         \n",
       "Pollution_Factor      0.42  0.60  0.63  0.75  1.00                   \n",
       "Water_Factor          0.30  0.46  0.61  0.73  0.65  1.00             \n",
       "Health_Factor         0.60  0.72  0.57  0.69  0.57  0.53  1.00       \n",
       "Workforce_Factor      0.40  0.71  0.59  0.78  0.67  0.64  0.68  1.00 \n",
       "\n",
       " with tau of \n",
       "       Climate_Factor         Energy_Factor Transportation_Factor \n",
       "                 1.14                  1.20                  1.19 \n",
       "       Housing_Factor      Pollution_Factor          Water_Factor \n",
       "                 1.00                  1.16                  1.46 \n",
       "        Health_Factor      Workforce_Factor \n",
       "                 0.94                  0.82 "
      ]
     },
     "metadata": {},
     "output_type": "display_data"
    }
   ],
   "source": [
    "tetra_cor <- macro_factors %>% select(contains(\"Factor\")) %>% tetrachoric\n",
    "tetra_cor"
   ]
  },
  {
   "cell_type": "markdown",
   "id": "94778f8d",
   "metadata": {},
   "source": [
    "* Climate has moderate correlations with all of them\n",
    "* Energy has some stronger, positive coincidence with housing, health, and workforce (>.7)\n",
    "* Traffice has pretty strong coincidence with pollution, water, and workforce (> .6)\n",
    "* Housing is pretty strongly related with water and workforce (.75) and to health (.69), also to transportation and pollution.  \n",
    "* Pollution has stronger connections to traffic, housing, water, and workforce (.7)\n",
    "* Water has strong linkages to housing (.73) and workforce (.47) and moderate linkage to health (.46)\n",
    "* Workforce is intertwined with Energy (.71),  housing (.78) and water & health (.6) and Pollution (.67)"
   ]
  },
  {
   "cell_type": "markdown",
   "id": "6c0bce8b",
   "metadata": {},
   "source": [
    "We run a scree plot of the tetrachoric correlations. The scree plot shows hows how much of the variance is explained in different levels of factor models. We really care about the lower (hollow) line more than the principal components line. This suggests that two factors at most are probably sufficient. Although, it could be convincingly unidimensional. "
   ]
  },
  {
   "cell_type": "code",
   "execution_count": 11,
   "id": "17bf2e6a",
   "metadata": {},
   "outputs": [
    {
     "data": {
      "image/png": "[encoded data removed]",
      "text/plain": [
       "Plot with title “Scree plot”"
      ]
     },
     "metadata": {
      "image/png": {
       "height": 420,
       "width": 420
      }
     },
     "output_type": "display_data"
    }
   ],
   "source": [
    "scree(tetra_cor[[1]])"
   ]
  },
  {
   "cell_type": "markdown",
   "id": "7e5a2a2b",
   "metadata": {},
   "source": [
    "After running the scree plot, we start to run some factor models to interrogate what is actually happening here. For all of these, I use (a) a tetrachoric correlation measure, (b) allow rotation of factors (hint, check for factor correlations) and (c) try both weighted least squares and maximum likelihood solutions for robustness"
   ]
  },
  {
   "cell_type": "code",
   "execution_count": 13,
   "id": "7fedcbcb",
   "metadata": {},
   "outputs": [],
   "source": [
    "factor_names <- names(macro_factors)[grepl(\"Factor\", names(macro_factors))]"
   ]
  },
  {
   "cell_type": "code",
   "execution_count": 14,
   "id": "561f87d9",
   "metadata": {},
   "outputs": [
    {
     "name": "stdout",
     "output_type": "stream",
     "text": [
      "\n",
      "Factor Analysis using method =  wls\n",
      "Call: fa(r = macro_factors[, factor_names], nfactors = 1, rotate = \"promax\", \n",
      "    SMC = TRUE, fm = \"wls\", cor = \"tet\")\n",
      "Standardized loadings (pattern matrix) based upon correlation matrix\n",
      "                      V WLS1   h2   u2 com\n",
      "Housing_Factor        4 0.90 0.81 0.19   1\n",
      "Workforce_Factor      8 0.85 0.72 0.28   1\n",
      "Pollution_Factor      5 0.80 0.64 0.36   1\n",
      "Health_Factor         7 0.80 0.64 0.36   1\n",
      "Energy_Factor         2 0.79 0.63 0.37   1\n",
      "Transportation_Factor 3 0.75 0.57 0.43   1\n",
      "Water_Factor          6 0.73 0.54 0.46   1\n",
      "Climate_Factor        1 0.54 0.30 0.70   1\n",
      "\n",
      "               WLS1\n",
      "SS loadings    4.83\n",
      "Proportion Var 0.60\n",
      "\n",
      "Mean item complexity =  1\n",
      "Test of the hypothesis that 1 factor is sufficient.\n",
      "\n",
      "The degrees of freedom for the null model are  28  and the objective function was  5.79 with Chi Square of  429470\n",
      "The degrees of freedom for the model are 20  and the objective function was  0.64 \n",
      "\n",
      "The root mean square of the residuals (RMSR) is  0.07 \n",
      "The df corrected root mean square of the residuals is  0.08 \n",
      "\n",
      "The harmonic number of observations is  74134 with the empirical chi square  17898.76  with prob <  0 \n",
      "The total number of observations was  74134  with Likelihood Chi Square =  47110.13  with prob <  0 \n",
      "\n",
      "Tucker Lewis Index of factoring reliability =  0.846\n",
      "RMSEA index =  0.178  and the 90 % confidence intervals are  0.177 0.18\n",
      "BIC =  46885.86\n",
      "Fit based upon off diagonal values = 0.99\n",
      "Measures of factor score adequacy             \n",
      "                                                  WLS1\n",
      "Correlation of (regression) scores with factors   0.97\n",
      "Multiple R square of scores with factors          0.94\n",
      "Minimum correlation of possible factor scores     0.88\n",
      "\n",
      "Factor Analysis using method =  ml\n",
      "Call: fa(r = macro_factors[, factor_names], nfactors = 1, rotate = \"promax\", \n",
      "    SMC = TRUE, fm = \"ml\", cor = \"tet\")\n",
      "Standardized loadings (pattern matrix) based upon correlation matrix\n",
      "                      V  ML1   h2   u2 com\n",
      "Housing_Factor        4 0.91 0.83 0.17   1\n",
      "Workforce_Factor      8 0.85 0.73 0.27   1\n",
      "Pollution_Factor      5 0.80 0.65 0.35   1\n",
      "Energy_Factor         2 0.79 0.62 0.38   1\n",
      "Health_Factor         7 0.79 0.62 0.38   1\n",
      "Water_Factor          6 0.75 0.56 0.44   1\n",
      "Transportation_Factor 3 0.74 0.55 0.45   1\n",
      "Climate_Factor        1 0.52 0.27 0.73   1\n",
      "\n",
      "                ML1\n",
      "SS loadings    4.82\n",
      "Proportion Var 0.60\n",
      "\n",
      "Mean item complexity =  1\n",
      "Test of the hypothesis that 1 factor is sufficient.\n",
      "\n",
      "The degrees of freedom for the null model are  28  and the objective function was  5.79 with Chi Square of  429470\n",
      "The degrees of freedom for the model are 20  and the objective function was  0.63 \n",
      "\n",
      "The root mean square of the residuals (RMSR) is  0.07 \n",
      "The df corrected root mean square of the residuals is  0.08 \n",
      "\n",
      "The harmonic number of observations is  74134 with the empirical chi square  19007.62  with prob <  0 \n",
      "The total number of observations was  74134  with Likelihood Chi Square =  46682.5  with prob <  0 \n",
      "\n",
      "Tucker Lewis Index of factoring reliability =  0.848\n",
      "RMSEA index =  0.177  and the 90 % confidence intervals are  0.176 0.179\n",
      "BIC =  46458.23\n",
      "Fit based upon off diagonal values = 0.99\n",
      "Measures of factor score adequacy             \n",
      "                                                   ML1\n",
      "Correlation of (regression) scores with factors   0.97\n",
      "Multiple R square of scores with factors          0.94\n",
      "Minimum correlation of possible factor scores     0.88\n"
     ]
    }
   ],
   "source": [
    "faOut1ProWls <- fa(macro_factors[, factor_names], nfactors = 1, cor = \"tet\",  rotate=\"promax\", fm=\"wls\", SMC=TRUE)\n",
    "print(faOut1ProWls, sort=TRUE)\n",
    "\n",
    "faOut1ProMl <- fa(macro_factors[, factor_names], nfactors = 1, cor = \"tet\",  rotate=\"promax\", fm=\"ml\", SMC=TRUE)\n",
    "print(faOut1ProMl, sort=TRUE)"
   ]
  },
  {
   "cell_type": "markdown",
   "id": "ab736351",
   "metadata": {},
   "source": [
    "The results for the unifactor analysis are promising. It is pretty clear that the climate factor does not vary in the same way as the other factors. The RMSEA is higher than we'd want. So we don't think these results support a conclusion of unidimensionality."
   ]
  },
  {
   "cell_type": "code",
   "execution_count": 15,
   "id": "605bf7df",
   "metadata": {},
   "outputs": [
    {
     "name": "stdout",
     "output_type": "stream",
     "text": [
      "\n"
     ]
    },
    {
     "name": "stderr",
     "output_type": "stream",
     "text": [
      "Loading required namespace: GPArotation\n",
      "\n"
     ]
    },
    {
     "name": "stdout",
     "output_type": "stream",
     "text": [
      "Factor Analysis using method =  wls\n",
      "Call: fa(r = macro_factors[, factor_names], nfactors = 2, rotate = \"promax\", \n",
      "    SMC = TRUE, fm = \"wls\", cor = \"tet\")\n",
      "Standardized loadings (pattern matrix) based upon correlation matrix\n",
      "                      item  WLS1  WLS2   h2   u2 com\n",
      "Housing_Factor           4  0.98 -0.05 0.89 0.11 1.0\n",
      "Water_Factor             6  0.90 -0.16 0.63 0.37 1.1\n",
      "Pollution_Factor         5  0.76  0.07 0.65 0.35 1.0\n",
      "Workforce_Factor         8  0.71  0.17 0.71 0.29 1.1\n",
      "Transportation_Factor    3  0.55  0.25 0.56 0.44 1.4\n",
      "Climate_Factor           1 -0.18  0.87 0.56 0.44 1.1\n",
      "Health_Factor            7  0.24  0.67 0.74 0.26 1.3\n",
      "Energy_Factor            2  0.36  0.52 0.66 0.34 1.8\n",
      "\n",
      "                      WLS1 WLS2\n",
      "SS loadings           3.60 1.81\n",
      "Proportion Var        0.45 0.23\n",
      "Cumulative Var        0.45 0.68\n",
      "Proportion Explained  0.67 0.33\n",
      "Cumulative Proportion 0.67 1.00\n",
      "\n",
      " With factor correlations of \n",
      "     WLS1 WLS2\n",
      "WLS1 1.00 0.72\n",
      "WLS2 0.72 1.00\n",
      "\n",
      "Mean item complexity =  1.2\n",
      "Test of the hypothesis that 2 factors are sufficient.\n",
      "\n",
      "The degrees of freedom for the null model are  28  and the objective function was  5.79 with Chi Square of  429470\n",
      "The degrees of freedom for the model are 13  and the objective function was  0.25 \n",
      "\n",
      "The root mean square of the residuals (RMSR) is  0.03 \n",
      "The df corrected root mean square of the residuals is  0.05 \n",
      "\n",
      "The harmonic number of observations is  74134 with the empirical chi square  4719.6  with prob <  0 \n",
      "The total number of observations was  74134  with Likelihood Chi Square =  18515.85  with prob <  0 \n",
      "\n",
      "Tucker Lewis Index of factoring reliability =  0.907\n",
      "RMSEA index =  0.139  and the 90 % confidence intervals are  0.137 0.14\n",
      "BIC =  18370.07\n",
      "Fit based upon off diagonal values = 1\n",
      "Measures of factor score adequacy             \n",
      "                                                  WLS1 WLS2\n",
      "Correlation of (regression) scores with factors   0.97 0.92\n",
      "Multiple R square of scores with factors          0.95 0.85\n",
      "Minimum correlation of possible factor scores     0.89 0.70\n",
      "\n",
      "Factor Analysis using method =  ml\n",
      "Call: fa(r = macro_factors[, factor_names], nfactors = 2, rotate = \"promax\", \n",
      "    SMC = TRUE, fm = \"ml\", cor = \"tet\")\n",
      "Standardized loadings (pattern matrix) based upon correlation matrix\n",
      "                      item   ML1   ML2   h2   u2 com\n",
      "Housing_Factor           4  0.95 -0.01 0.88 0.12 1.0\n",
      "Water_Factor             6  0.90 -0.17 0.62 0.38 1.1\n",
      "Pollution_Factor         5  0.78  0.03 0.65 0.35 1.0\n",
      "Workforce_Factor         8  0.69  0.20 0.72 0.28 1.2\n",
      "Transportation_Factor    3  0.57  0.21 0.54 0.46 1.3\n",
      "Climate_Factor           1 -0.17  0.83 0.52 0.48 1.1\n",
      "Health_Factor            7  0.23  0.69 0.77 0.23 1.2\n",
      "Energy_Factor            2  0.35  0.54 0.69 0.31 1.7\n",
      "\n",
      "                       ML1  ML2\n",
      "SS loadings           3.58 1.81\n",
      "Proportion Var        0.45 0.23\n",
      "Cumulative Var        0.45 0.67\n",
      "Proportion Explained  0.66 0.34\n",
      "Cumulative Proportion 0.66 1.00\n",
      "\n",
      " With factor correlations of \n",
      "     ML1  ML2\n",
      "ML1 1.00 0.72\n",
      "ML2 0.72 1.00\n",
      "\n",
      "Mean item complexity =  1.2\n",
      "Test of the hypothesis that 2 factors are sufficient.\n",
      "\n",
      "The degrees of freedom for the null model are  28  and the objective function was  5.79 with Chi Square of  429470\n",
      "The degrees of freedom for the model are 13  and the objective function was  0.24 \n",
      "\n",
      "The root mean square of the residuals (RMSR) is  0.04 \n",
      "The df corrected root mean square of the residuals is  0.05 \n",
      "\n",
      "The harmonic number of observations is  74134 with the empirical chi square  5303.75  with prob <  0 \n",
      "The total number of observations was  74134  with Likelihood Chi Square =  17948.27  with prob <  0 \n",
      "\n",
      "Tucker Lewis Index of factoring reliability =  0.91\n",
      "RMSEA index =  0.136  and the 90 % confidence intervals are  0.135 0.138\n",
      "BIC =  17802.5\n",
      "Fit based upon off diagonal values = 1\n",
      "Measures of factor score adequacy             \n",
      "                                                   ML1  ML2\n",
      "Correlation of (regression) scores with factors   0.97 0.92\n",
      "Multiple R square of scores with factors          0.94 0.85\n",
      "Minimum correlation of possible factor scores     0.88 0.71\n"
     ]
    }
   ],
   "source": [
    "faOut2ProWls <- fa(macro_factors[, factor_names], nfactors = 2, cor = \"tet\",  rotate=\"promax\", fm=\"wls\", SMC=TRUE)\n",
    "print(faOut2ProWls, sort=TRUE)\n",
    "\n",
    "faOut2ProMl <- fa(macro_factors[, factor_names], nfactors = 2, cor = \"tet\",  rotate=\"promax\", fm=\"ml\", SMC=TRUE)\n",
    "print(faOut2ProMl, sort=TRUE)\n"
   ]
  },
  {
   "cell_type": "markdown",
   "id": "11f851d1",
   "metadata": {},
   "source": [
    "Climate health and energy as a separate, but correlated factor is really interesting here. "
   ]
  },
  {
   "cell_type": "code",
   "execution_count": 17,
   "id": "2ae1bfed",
   "metadata": {},
   "outputs": [
    {
     "name": "stdout",
     "output_type": "stream",
     "text": [
      "\n",
      "Factor Analysis using method =  wls\n",
      "Call: fa(r = macro_factors[, factor_names], nfactors = 3, rotate = \"promax\", \n",
      "    SMC = TRUE, fm = \"wls\", cor = \"tet\")\n",
      "Standardized loadings (pattern matrix) based upon correlation matrix\n",
      "                      item  WLS1  WLS3  WLS2   h2     u2 com\n",
      "Water_Factor             6  1.00 -0.18 -0.03 0.72 0.2827 1.1\n",
      "Pollution_Factor         5  0.69  0.13  0.03 0.66 0.3361 1.1\n",
      "Housing_Factor           4  0.66  0.39 -0.15 0.87 0.1343 1.8\n",
      "Transportation_Factor    3  0.60  0.07  0.19 0.58 0.4155 1.2\n",
      "Energy_Factor            2 -0.11  0.98  0.00 0.81 0.1905 1.0\n",
      "Health_Factor            7  0.12  0.61  0.20 0.70 0.3022 1.3\n",
      "Workforce_Factor         8  0.41  0.54 -0.09 0.73 0.2713 1.9\n",
      "Climate_Factor           1 -0.03  0.01  1.01 1.00 0.0034 1.0\n",
      "\n",
      "                      WLS1 WLS3 WLS2\n",
      "SS loadings           2.76 2.18 1.13\n",
      "Proportion Var        0.35 0.27 0.14\n",
      "Cumulative Var        0.35 0.62 0.76\n",
      "Proportion Explained  0.46 0.36 0.19\n",
      "Cumulative Proportion 0.46 0.81 1.00\n",
      "\n",
      " With factor correlations of \n",
      "     WLS1 WLS3 WLS2\n",
      "WLS1 1.00 0.78 0.47\n",
      "WLS3 0.78 1.00 0.58\n",
      "WLS2 0.47 0.58 1.00\n",
      "\n",
      "Mean item complexity =  1.3\n",
      "Test of the hypothesis that 3 factors are sufficient.\n",
      "\n",
      "The degrees of freedom for the null model are  28  and the objective function was  5.79 with Chi Square of  429470\n",
      "The degrees of freedom for the model are 7  and the objective function was  0.04 \n",
      "\n",
      "The root mean square of the residuals (RMSR) is  0.01 \n",
      "The df corrected root mean square of the residuals is  0.02 \n",
      "\n",
      "The harmonic number of observations is  74134 with the empirical chi square  536.18  with prob <  1.3e-111 \n",
      "The total number of observations was  74134  with Likelihood Chi Square =  3151.41  with prob <  0 \n",
      "\n",
      "Tucker Lewis Index of factoring reliability =  0.971\n",
      "RMSEA index =  0.078  and the 90 % confidence intervals are  0.076 0.08\n",
      "BIC =  3072.92\n",
      "Fit based upon off diagonal values = 1\n",
      "Measures of factor score adequacy             \n",
      "                                                  WLS1 WLS3 WLS2\n",
      "Correlation of (regression) scores with factors   0.96 0.96 1.00\n",
      "Multiple R square of scores with factors          0.92 0.92 1.00\n",
      "Minimum correlation of possible factor scores     0.84 0.83 0.99\n",
      "\n",
      "Factor Analysis using method =  ml\n",
      "Call: fa(r = macro_factors[, factor_names], nfactors = 3, rotate = \"promax\", \n",
      "    SMC = TRUE, fm = \"ml\", cor = \"tet\")\n",
      "Standardized loadings (pattern matrix) based upon correlation matrix\n",
      "                      item   ML2   ML3   ML1   h2    u2 com\n",
      "Water_Factor             6  1.00 -0.19 -0.03 0.72 0.282 1.1\n",
      "Pollution_Factor         5  0.69  0.14  0.04 0.67 0.334 1.1\n",
      "Housing_Factor           4  0.67  0.39 -0.15 0.87 0.135 1.7\n",
      "Transportation_Factor    3  0.59  0.08  0.19 0.58 0.418 1.2\n",
      "Energy_Factor            2 -0.11  0.99 -0.01 0.81 0.194 1.0\n",
      "Health_Factor            7  0.12  0.60  0.21 0.70 0.297 1.3\n",
      "Workforce_Factor         8  0.42  0.54 -0.09 0.73 0.271 1.9\n",
      "Climate_Factor           1 -0.03  0.00  1.01 1.00 0.005 1.0\n",
      "\n",
      "                       ML2  ML3  ML1\n",
      "SS loadings           2.76 2.17 1.14\n",
      "Proportion Var        0.34 0.27 0.14\n",
      "Cumulative Var        0.34 0.62 0.76\n",
      "Proportion Explained  0.45 0.36 0.19\n",
      "Cumulative Proportion 0.45 0.81 1.00\n",
      "\n",
      " With factor correlations of \n",
      "     ML2  ML3  ML1\n",
      "ML2 1.00 0.78 0.47\n",
      "ML3 0.78 1.00 0.59\n",
      "ML1 0.47 0.59 1.00\n",
      "\n",
      "Mean item complexity =  1.3\n",
      "Test of the hypothesis that 3 factors are sufficient.\n",
      "\n",
      "The degrees of freedom for the null model are  28  and the objective function was  5.79 with Chi Square of  429470\n",
      "The degrees of freedom for the model are 7  and the objective function was  0.04 \n",
      "\n",
      "The root mean square of the residuals (RMSR) is  0.01 \n",
      "The df corrected root mean square of the residuals is  0.02 \n",
      "\n",
      "The harmonic number of observations is  74134 with the empirical chi square  582.76  with prob <  1.3e-121 \n",
      "The total number of observations was  74134  with Likelihood Chi Square =  3076.53  with prob <  0 \n",
      "\n",
      "Tucker Lewis Index of factoring reliability =  0.971\n",
      "RMSEA index =  0.077  and the 90 % confidence intervals are  0.075 0.079\n",
      "BIC =  2998.04\n",
      "Fit based upon off diagonal values = 1\n",
      "Measures of factor score adequacy             \n",
      "                                                   ML2  ML3  ML1\n",
      "Correlation of (regression) scores with factors   0.96 0.96 1.00\n",
      "Multiple R square of scores with factors          0.92 0.91 1.00\n",
      "Minimum correlation of possible factor scores     0.84 0.83 0.99\n"
     ]
    }
   ],
   "source": [
    "faOut3ProWls <- fa(macro_factors[, factor_names], nfactors = 3, cor = \"tet\",  rotate=\"promax\", fm=\"wls\", SMC=TRUE)\n",
    "print(faOut3ProWls, sort=TRUE)\n",
    "\n",
    "faOut3ProMl <- fa(macro_factors[, factor_names], nfactors = 3, cor = \"tet\",  rotate=\"promax\", fm=\"ml\", SMC=TRUE)\n",
    "print(faOut3ProMl, sort=TRUE)"
   ]
  },
  {
   "cell_type": "markdown",
   "id": "d3669796",
   "metadata": {},
   "source": [
    "This is explaining 76% of the variance which is really fascinating. It is pretty clear that climate is just a different dimension than the others. But it has a heywood type of behavior (loading > 1) which is suspect. "
   ]
  },
  {
   "cell_type": "markdown",
   "id": "0bd7a1ef",
   "metadata": {},
   "source": [
    "We've analyzed how the indicators relate to eachother. Now we want to see, if we force them to be unidimensional, how do they relate to a potential sum score?"
   ]
  },
  {
   "cell_type": "code",
   "execution_count": 75,
   "id": "6ecf617e",
   "metadata": {},
   "outputs": [
    {
     "data": {
      "text/html": [
       "<table class=\"dataframe\">\n",
       "<caption>A tibble: 8 × 2</caption>\n",
       "<thead>\n",
       "\t<tr><th scope=col>var</th><th scope=col>cor</th></tr>\n",
       "\t<tr><th scope=col>&lt;chr&gt;</th><th scope=col>&lt;dbl&gt;</th></tr>\n",
       "</thead>\n",
       "<tbody>\n",
       "\t<tr><td>Housing_Factor       </td><td>0.7517154</td></tr>\n",
       "\t<tr><td>Workforce_Factor     </td><td>0.7285986</td></tr>\n",
       "\t<tr><td>Health_Factor        </td><td>0.7037795</td></tr>\n",
       "\t<tr><td>Pollution_Factor     </td><td>0.6610811</td></tr>\n",
       "\t<tr><td>Energy_Factor        </td><td>0.6589622</td></tr>\n",
       "\t<tr><td>Transportation_Factor</td><td>0.6237871</td></tr>\n",
       "\t<tr><td>Water_Factor         </td><td>0.5479080</td></tr>\n",
       "\t<tr><td>Climate_Factor       </td><td>0.5001500</td></tr>\n",
       "</tbody>\n",
       "</table>\n"
      ],
      "text/latex": [
       "A tibble: 8 × 2\n",
       "\\begin{tabular}{ll}\n",
       " var & cor\\\\\n",
       " <chr> & <dbl>\\\\\n",
       "\\hline\n",
       "\t Housing\\_Factor        & 0.7517154\\\\\n",
       "\t Workforce\\_Factor      & 0.7285986\\\\\n",
       "\t Health\\_Factor         & 0.7037795\\\\\n",
       "\t Pollution\\_Factor      & 0.6610811\\\\\n",
       "\t Energy\\_Factor         & 0.6589622\\\\\n",
       "\t Transportation\\_Factor & 0.6237871\\\\\n",
       "\t Water\\_Factor          & 0.5479080\\\\\n",
       "\t Climate\\_Factor        & 0.5001500\\\\\n",
       "\\end{tabular}\n"
      ],
      "text/markdown": [
       "\n",
       "A tibble: 8 × 2\n",
       "\n",
       "| var &lt;chr&gt; | cor &lt;dbl&gt; |\n",
       "|---|---|\n",
       "| Housing_Factor        | 0.7517154 |\n",
       "| Workforce_Factor      | 0.7285986 |\n",
       "| Health_Factor         | 0.7037795 |\n",
       "| Pollution_Factor      | 0.6610811 |\n",
       "| Energy_Factor         | 0.6589622 |\n",
       "| Transportation_Factor | 0.6237871 |\n",
       "| Water_Factor          | 0.5479080 |\n",
       "| Climate_Factor        | 0.5001500 |\n",
       "\n"
      ],
      "text/plain": [
       "  var                   cor      \n",
       "1 Housing_Factor        0.7517154\n",
       "2 Workforce_Factor      0.7285986\n",
       "3 Health_Factor         0.7037795\n",
       "4 Pollution_Factor      0.6610811\n",
       "5 Energy_Factor         0.6589622\n",
       "6 Transportation_Factor 0.6237871\n",
       "7 Water_Factor          0.5479080\n",
       "8 Climate_Factor        0.5001500"
      ]
     },
     "metadata": {},
     "output_type": "display_data"
    }
   ],
   "source": [
    "biserial_cor <- map_df(factor_names,\n",
    "~tibble(\n",
    " var = .x\n",
    ", cor =  cor.test( pull(macro_factors, !!.x), pull(macro_factors, total))$estimate[[1]]\n",
    ")) %>%\n",
    "arrange(desc(cor))\n",
    "\n",
    "biserial_cor\n",
    "\n"
   ]
  },
  {
   "cell_type": "markdown",
   "id": "2a99104f",
   "metadata": {},
   "source": [
    "The result here is honestly very promising. Again, we see that scoring a point on the climate burden isn't as predictive of scoring higher points overall. But we see that the other indicators really do cling together"
   ]
  },
  {
   "cell_type": "markdown",
   "id": "7ffcdf0e",
   "metadata": {},
   "source": [
    "What does this look like in practice? Can we see if there are overall contrasts on sum score between answering yes and no on other scores? If you get one, do you usually get others? These tables have the contrast as well as the percent with sum scores above 6"
   ]
  },
  {
   "cell_type": "code",
   "execution_count": 76,
   "id": "c9d2be31",
   "metadata": {},
   "outputs": [
    {
     "data": {
      "text/html": [
       "<table class=\"dataframe\">\n",
       "<caption>A tibble: 8 × 5</caption>\n",
       "<thead>\n",
       "\t<tr><th scope=col>indicator</th><th scope=col>Average Total Score for\n",
       "No's on this Indicator</th><th scope=col>Average Total Score for\n",
       "Yes's on this Indicator</th><th scope=col>contrast</th><th scope=col>pct_contrast</th></tr>\n",
       "\t<tr><th scope=col>&lt;chr&gt;</th><th scope=col>&lt;dbl&gt;</th><th scope=col>&lt;dbl&gt;</th><th scope=col>&lt;dbl&gt;</th><th scope=col>&lt;dbl&gt;</th></tr>\n",
       "</thead>\n",
       "<tbody>\n",
       "\t<tr><td>Workforce_Factor     </td><td>0.4319225</td><td>3.618270</td><td>3.186347</td><td>7.377127</td></tr>\n",
       "\t<tr><td>Housing_Factor       </td><td>0.5139329</td><td>4.164642</td><td>3.650710</td><td>7.103475</td></tr>\n",
       "\t<tr><td>Health_Factor        </td><td>0.5189483</td><td>3.808661</td><td>3.289713</td><td>6.339192</td></tr>\n",
       "\t<tr><td>Pollution_Factor     </td><td>0.6510254</td><td>4.211056</td><td>3.560031</td><td>5.468344</td></tr>\n",
       "\t<tr><td>Energy_Factor        </td><td>0.6709811</td><td>4.338887</td><td>3.667906</td><td>5.466482</td></tr>\n",
       "\t<tr><td>Transportation_Factor</td><td>0.6891409</td><td>4.133264</td><td>3.444123</td><td>4.997705</td></tr>\n",
       "\t<tr><td>Water_Factor         </td><td>0.8192801</td><td>4.567876</td><td>3.748596</td><td>4.575475</td></tr>\n",
       "\t<tr><td>Climate_Factor       </td><td>0.7532111</td><td>3.418893</td><td>2.665682</td><td>3.539090</td></tr>\n",
       "</tbody>\n",
       "</table>\n"
      ],
      "text/latex": [
       "A tibble: 8 × 5\n",
       "\\begin{tabular}{lllll}\n",
       " indicator & Average Total Score for\n",
       "No's on this Indicator & Average Total Score for\n",
       "Yes's on this Indicator & contrast & pct\\_contrast\\\\\n",
       " <chr> & <dbl> & <dbl> & <dbl> & <dbl>\\\\\n",
       "\\hline\n",
       "\t Workforce\\_Factor      & 0.4319225 & 3.618270 & 3.186347 & 7.377127\\\\\n",
       "\t Housing\\_Factor        & 0.5139329 & 4.164642 & 3.650710 & 7.103475\\\\\n",
       "\t Health\\_Factor         & 0.5189483 & 3.808661 & 3.289713 & 6.339192\\\\\n",
       "\t Pollution\\_Factor      & 0.6510254 & 4.211056 & 3.560031 & 5.468344\\\\\n",
       "\t Energy\\_Factor         & 0.6709811 & 4.338887 & 3.667906 & 5.466482\\\\\n",
       "\t Transportation\\_Factor & 0.6891409 & 4.133264 & 3.444123 & 4.997705\\\\\n",
       "\t Water\\_Factor          & 0.8192801 & 4.567876 & 3.748596 & 4.575475\\\\\n",
       "\t Climate\\_Factor        & 0.7532111 & 3.418893 & 2.665682 & 3.539090\\\\\n",
       "\\end{tabular}\n"
      ],
      "text/markdown": [
       "\n",
       "A tibble: 8 × 5\n",
       "\n",
       "| indicator &lt;chr&gt; | Average Total Score for\n",
       "No's on this Indicator &lt;dbl&gt; | Average Total Score for\n",
       "Yes's on this Indicator &lt;dbl&gt; | contrast &lt;dbl&gt; | pct_contrast &lt;dbl&gt; |\n",
       "|---|---|---|---|---|\n",
       "| Workforce_Factor      | 0.4319225 | 3.618270 | 3.186347 | 7.377127 |\n",
       "| Housing_Factor        | 0.5139329 | 4.164642 | 3.650710 | 7.103475 |\n",
       "| Health_Factor         | 0.5189483 | 3.808661 | 3.289713 | 6.339192 |\n",
       "| Pollution_Factor      | 0.6510254 | 4.211056 | 3.560031 | 5.468344 |\n",
       "| Energy_Factor         | 0.6709811 | 4.338887 | 3.667906 | 5.466482 |\n",
       "| Transportation_Factor | 0.6891409 | 4.133264 | 3.444123 | 4.997705 |\n",
       "| Water_Factor          | 0.8192801 | 4.567876 | 3.748596 | 4.575475 |\n",
       "| Climate_Factor        | 0.7532111 | 3.418893 | 2.665682 | 3.539090 |\n",
       "\n"
      ],
      "text/plain": [
       "  indicator             Average Total Score for\\nNo's on this Indicator\n",
       "1 Workforce_Factor      0.4319225                                      \n",
       "2 Housing_Factor        0.5139329                                      \n",
       "3 Health_Factor         0.5189483                                      \n",
       "4 Pollution_Factor      0.6510254                                      \n",
       "5 Energy_Factor         0.6709811                                      \n",
       "6 Transportation_Factor 0.6891409                                      \n",
       "7 Water_Factor          0.8192801                                      \n",
       "8 Climate_Factor        0.7532111                                      \n",
       "  Average Total Score for\\nYes's on this Indicator contrast pct_contrast\n",
       "1 3.618270                                         3.186347 7.377127    \n",
       "2 4.164642                                         3.650710 7.103475    \n",
       "3 3.808661                                         3.289713 6.339192    \n",
       "4 4.211056                                         3.560031 5.468344    \n",
       "5 4.338887                                         3.667906 5.466482    \n",
       "6 4.133264                                         3.444123 4.997705    \n",
       "7 4.567876                                         3.748596 4.575475    \n",
       "8 3.418893                                         2.665682 3.539090    "
      ]
     },
     "metadata": {},
     "output_type": "display_data"
    },
    {
     "data": {
      "text/html": [
       "<table class=\"dataframe\">\n",
       "<caption>A tibble: 8 × 5</caption>\n",
       "<thead>\n",
       "\t<tr><th scope=col>indicator</th><th scope=col>% with total above 6 for\n",
       "No's on this Indicator</th><th scope=col>% with no's above 6 for\n",
       "Yes's on this Indicator</th><th scope=col>contrast</th><th scope=col>pct_contrast</th></tr>\n",
       "\t<tr><th scope=col>&lt;chr&gt;</th><th scope=col>&lt;dbl&gt;</th><th scope=col>&lt;dbl&gt;</th><th scope=col>&lt;dbl&gt;</th><th scope=col>&lt;dbl&gt;</th></tr>\n",
       "</thead>\n",
       "<tbody>\n",
       "\t<tr><td>Water_Factor         </td><td>0.041113017</td><td>0.5635752</td><td>0.5224622</td><td>0.9270496</td></tr>\n",
       "\t<tr><td>Energy_Factor        </td><td>0.028323004</td><td>0.4705187</td><td>0.4421957</td><td>0.9398047</td></tr>\n",
       "\t<tr><td>Pollution_Factor     </td><td>0.024861921</td><td>0.4626163</td><td>0.4377544</td><td>0.9462580</td></tr>\n",
       "\t<tr><td>Housing_Factor       </td><td>0.011002210</td><td>0.4408998</td><td>0.4298976</td><td>0.9750460</td></tr>\n",
       "\t<tr><td>Transportation_Factor</td><td>0.031093540</td><td>0.4413129</td><td>0.4102194</td><td>0.9295431</td></tr>\n",
       "\t<tr><td>Workforce_Factor     </td><td>0.006850246</td><td>0.3553973</td><td>0.3485470</td><td>0.9807251</td></tr>\n",
       "\t<tr><td>Health_Factor        </td><td>0.024986943</td><td>0.3351734</td><td>0.3101864</td><td>0.9254507</td></tr>\n",
       "\t<tr><td>Climate_Factor       </td><td>0.053785353</td><td>0.2519769</td><td>0.1981916</td><td>0.7865465</td></tr>\n",
       "</tbody>\n",
       "</table>\n"
      ],
      "text/latex": [
       "A tibble: 8 × 5\n",
       "\\begin{tabular}{lllll}\n",
       " indicator & \\% with total above 6 for\n",
       "No's on this Indicator & \\% with no's above 6 for\n",
       "Yes's on this Indicator & contrast & pct\\_contrast\\\\\n",
       " <chr> & <dbl> & <dbl> & <dbl> & <dbl>\\\\\n",
       "\\hline\n",
       "\t Water\\_Factor          & 0.041113017 & 0.5635752 & 0.5224622 & 0.9270496\\\\\n",
       "\t Energy\\_Factor         & 0.028323004 & 0.4705187 & 0.4421957 & 0.9398047\\\\\n",
       "\t Pollution\\_Factor      & 0.024861921 & 0.4626163 & 0.4377544 & 0.9462580\\\\\n",
       "\t Housing\\_Factor        & 0.011002210 & 0.4408998 & 0.4298976 & 0.9750460\\\\\n",
       "\t Transportation\\_Factor & 0.031093540 & 0.4413129 & 0.4102194 & 0.9295431\\\\\n",
       "\t Workforce\\_Factor      & 0.006850246 & 0.3553973 & 0.3485470 & 0.9807251\\\\\n",
       "\t Health\\_Factor         & 0.024986943 & 0.3351734 & 0.3101864 & 0.9254507\\\\\n",
       "\t Climate\\_Factor        & 0.053785353 & 0.2519769 & 0.1981916 & 0.7865465\\\\\n",
       "\\end{tabular}\n"
      ],
      "text/markdown": [
       "\n",
       "A tibble: 8 × 5\n",
       "\n",
       "| indicator &lt;chr&gt; | % with total above 6 for\n",
       "No's on this Indicator &lt;dbl&gt; | % with no's above 6 for\n",
       "Yes's on this Indicator &lt;dbl&gt; | contrast &lt;dbl&gt; | pct_contrast &lt;dbl&gt; |\n",
       "|---|---|---|---|---|\n",
       "| Water_Factor          | 0.041113017 | 0.5635752 | 0.5224622 | 0.9270496 |\n",
       "| Energy_Factor         | 0.028323004 | 0.4705187 | 0.4421957 | 0.9398047 |\n",
       "| Pollution_Factor      | 0.024861921 | 0.4626163 | 0.4377544 | 0.9462580 |\n",
       "| Housing_Factor        | 0.011002210 | 0.4408998 | 0.4298976 | 0.9750460 |\n",
       "| Transportation_Factor | 0.031093540 | 0.4413129 | 0.4102194 | 0.9295431 |\n",
       "| Workforce_Factor      | 0.006850246 | 0.3553973 | 0.3485470 | 0.9807251 |\n",
       "| Health_Factor         | 0.024986943 | 0.3351734 | 0.3101864 | 0.9254507 |\n",
       "| Climate_Factor        | 0.053785353 | 0.2519769 | 0.1981916 | 0.7865465 |\n",
       "\n"
      ],
      "text/plain": [
       "  indicator             % with total above 6 for\\nNo's on this Indicator\n",
       "1 Water_Factor          0.041113017                                     \n",
       "2 Energy_Factor         0.028323004                                     \n",
       "3 Pollution_Factor      0.024861921                                     \n",
       "4 Housing_Factor        0.011002210                                     \n",
       "5 Transportation_Factor 0.031093540                                     \n",
       "6 Workforce_Factor      0.006850246                                     \n",
       "7 Health_Factor         0.024986943                                     \n",
       "8 Climate_Factor        0.053785353                                     \n",
       "  % with no's above 6 for\\nYes's on this Indicator contrast  pct_contrast\n",
       "1 0.5635752                                        0.5224622 0.9270496   \n",
       "2 0.4705187                                        0.4421957 0.9398047   \n",
       "3 0.4626163                                        0.4377544 0.9462580   \n",
       "4 0.4408998                                        0.4298976 0.9750460   \n",
       "5 0.4413129                                        0.4102194 0.9295431   \n",
       "6 0.3553973                                        0.3485470 0.9807251   \n",
       "7 0.3351734                                        0.3101864 0.9254507   \n",
       "8 0.2519769                                        0.1981916 0.7865465   "
      ]
     },
     "metadata": {},
     "output_type": "display_data"
    }
   ],
   "source": [
    "yes_no_averages <- map_df( factor_names,\n",
    "~macro_factors %>% \n",
    "    group_by(group = !!sym(.x) ) %>% \n",
    "    mutate(six = total >= 5) %>%\n",
    "    summarise(\n",
    "        total = mean(total)\n",
    "      , count = n()\n",
    "      , six = mean(as.numeric(six))\n",
    "             ) %>%\n",
    "    mutate(indicator = !!.x)\n",
    ")\n",
    "\n",
    "yes_no_averages %>%\n",
    "select(group, total, indicator) %>%\n",
    "spread(group, total) %>%\n",
    "mutate(contrast = `1` - `0`,\n",
    "      pct_contrast = contrast/`0`) %>%\n",
    "arrange(desc(pct_contrast)) %>%\n",
    "rename(\n",
    "`Average Total Score for\\nNo's on this Indicator` = '0' \n",
    ", `Average Total Score for\\nYes's on this Indicator` = '1' \n",
    "\n",
    ")\n",
    "\n",
    "\n",
    "yes_no_averages %>%\n",
    "select(group, six, indicator) %>%\n",
    "spread(group, six) %>%\n",
    "mutate(contrast = `1` - `0`,\n",
    "      pct_contrast = contrast/`1`) %>%\n",
    "rename(\n",
    "`% with total above 6 for\\nNo's on this Indicator` = '0' \n",
    ", `% with no's above 6 for\\nYes's on this Indicator` = '1' \n",
    ") %>%\n",
    "arrange(desc(contrast))\n"
   ]
  },
  {
   "cell_type": "markdown",
   "id": "f3a5688c",
   "metadata": {},
   "source": [
    "Above is another way to show a very similar thing. "
   ]
  },
  {
   "cell_type": "markdown",
   "id": "278cd183",
   "metadata": {},
   "source": [
    "We also want to check the distribution of this score across communities"
   ]
  },
  {
   "cell_type": "code",
   "execution_count": 77,
   "id": "6e408de7",
   "metadata": {},
   "outputs": [
    {
     "data": {
      "image/png": "[encoded data removed]",
      "text/plain": [
       "Plot with title “Histogram of macro_factors$total”"
      ]
     },
     "metadata": {
      "image/png": {
       "height": 420,
       "width": 420
      }
     },
     "output_type": "display_data"
    }
   ],
   "source": [
    "hist(macro_factors$total)"
   ]
  },
  {
   "cell_type": "code",
   "execution_count": 84,
   "id": "0394c5e5",
   "metadata": {},
   "outputs": [
    {
     "data": {
      "text/html": [
       "<table class=\"dataframe\">\n",
       "<caption>A tibble: 9 × 9</caption>\n",
       "<thead>\n",
       "\t<tr><th scope=col>total</th><th scope=col>count</th><th scope=col>pop</th><th scope=col>pct</th><th scope=col>cumpct</th><th scope=col>pct_pop</th><th scope=col>cumpct_pop</th><th scope=col>under_sum</th><th scope=col>under_sumpop</th></tr>\n",
       "\t<tr><th scope=col>&lt;dbl&gt;</th><th scope=col>&lt;int&gt;</th><th scope=col>&lt;dbl&gt;</th><th scope=col>&lt;dbl&gt;</th><th scope=col>&lt;dbl&gt;</th><th scope=col>&lt;dbl&gt;</th><th scope=col>&lt;dbl&gt;</th><th scope=col>&lt;dbl&gt;</th><th scope=col>&lt;dbl&gt;</th></tr>\n",
       "</thead>\n",
       "<tbody>\n",
       "\t<tr><td>8</td><td>   65</td><td>   163983</td><td>0.0008767907</td><td>1.0000000</td><td>0.0004995405</td><td>1.0000000</td><td>0.0008767907</td><td>0.0004995405</td></tr>\n",
       "\t<tr><td>7</td><td>  525</td><td>  1673274</td><td>0.0070817708</td><td>0.9991232</td><td>0.0050972848</td><td>0.9995005</td><td>0.0079585615</td><td>0.0055968252</td></tr>\n",
       "\t<tr><td>6</td><td> 1835</td><td>  6315784</td><td>0.0247524752</td><td>0.9920414</td><td>0.0192397358</td><td>0.9944032</td><td>0.0327110368</td><td>0.0248365611</td></tr>\n",
       "\t<tr><td>5</td><td> 3417</td><td> 12174680</td><td>0.0460922114</td><td>0.9672890</td><td>0.0370876564</td><td>0.9751634</td><td>0.0788032482</td><td>0.0619242175</td></tr>\n",
       "\t<tr><td>4</td><td> 4227</td><td> 15900433</td><td>0.0570183721</td><td>0.9211968</td><td>0.0484373960</td><td>0.9380758</td><td>0.1358216203</td><td>0.1103616134</td></tr>\n",
       "\t<tr><td>3</td><td> 4874</td><td> 19303789</td><td>0.0657458116</td><td>0.8641784</td><td>0.0588050194</td><td>0.8896384</td><td>0.2015674319</td><td>0.1691666328</td></tr>\n",
       "\t<tr><td>2</td><td> 5235</td><td> 21922736</td><td>0.0706153722</td><td>0.7984326</td><td>0.0667831023</td><td>0.8308334</td><td>0.2721828041</td><td>0.2359497352</td></tr>\n",
       "\t<tr><td>1</td><td> 6494</td><td> 29459396</td><td>0.0875981331</td><td>0.7278172</td><td>0.0897419856</td><td>0.7640503</td><td>0.3597809372</td><td>0.3256917207</td></tr>\n",
       "\t<tr><td>0</td><td>47462</td><td>221353634</td><td>0.6402190628</td><td>0.6402191</td><td>0.6743082793</td><td>0.6743083</td><td>1.0000000000</td><td>1.0000000000</td></tr>\n",
       "</tbody>\n",
       "</table>\n"
      ],
      "text/latex": [
       "A tibble: 9 × 9\n",
       "\\begin{tabular}{lllllllll}\n",
       " total & count & pop & pct & cumpct & pct\\_pop & cumpct\\_pop & under\\_sum & under\\_sumpop\\\\\n",
       " <dbl> & <int> & <dbl> & <dbl> & <dbl> & <dbl> & <dbl> & <dbl> & <dbl>\\\\\n",
       "\\hline\n",
       "\t 8 &    65 &    163983 & 0.0008767907 & 1.0000000 & 0.0004995405 & 1.0000000 & 0.0008767907 & 0.0004995405\\\\\n",
       "\t 7 &   525 &   1673274 & 0.0070817708 & 0.9991232 & 0.0050972848 & 0.9995005 & 0.0079585615 & 0.0055968252\\\\\n",
       "\t 6 &  1835 &   6315784 & 0.0247524752 & 0.9920414 & 0.0192397358 & 0.9944032 & 0.0327110368 & 0.0248365611\\\\\n",
       "\t 5 &  3417 &  12174680 & 0.0460922114 & 0.9672890 & 0.0370876564 & 0.9751634 & 0.0788032482 & 0.0619242175\\\\\n",
       "\t 4 &  4227 &  15900433 & 0.0570183721 & 0.9211968 & 0.0484373960 & 0.9380758 & 0.1358216203 & 0.1103616134\\\\\n",
       "\t 3 &  4874 &  19303789 & 0.0657458116 & 0.8641784 & 0.0588050194 & 0.8896384 & 0.2015674319 & 0.1691666328\\\\\n",
       "\t 2 &  5235 &  21922736 & 0.0706153722 & 0.7984326 & 0.0667831023 & 0.8308334 & 0.2721828041 & 0.2359497352\\\\\n",
       "\t 1 &  6494 &  29459396 & 0.0875981331 & 0.7278172 & 0.0897419856 & 0.7640503 & 0.3597809372 & 0.3256917207\\\\\n",
       "\t 0 & 47462 & 221353634 & 0.6402190628 & 0.6402191 & 0.6743082793 & 0.6743083 & 1.0000000000 & 1.0000000000\\\\\n",
       "\\end{tabular}\n"
      ],
      "text/markdown": [
       "\n",
       "A tibble: 9 × 9\n",
       "\n",
       "| total &lt;dbl&gt; | count &lt;int&gt; | pop &lt;dbl&gt; | pct &lt;dbl&gt; | cumpct &lt;dbl&gt; | pct_pop &lt;dbl&gt; | cumpct_pop &lt;dbl&gt; | under_sum &lt;dbl&gt; | under_sumpop &lt;dbl&gt; |\n",
       "|---|---|---|---|---|---|---|---|---|\n",
       "| 8 |    65 |    163983 | 0.0008767907 | 1.0000000 | 0.0004995405 | 1.0000000 | 0.0008767907 | 0.0004995405 |\n",
       "| 7 |   525 |   1673274 | 0.0070817708 | 0.9991232 | 0.0050972848 | 0.9995005 | 0.0079585615 | 0.0055968252 |\n",
       "| 6 |  1835 |   6315784 | 0.0247524752 | 0.9920414 | 0.0192397358 | 0.9944032 | 0.0327110368 | 0.0248365611 |\n",
       "| 5 |  3417 |  12174680 | 0.0460922114 | 0.9672890 | 0.0370876564 | 0.9751634 | 0.0788032482 | 0.0619242175 |\n",
       "| 4 |  4227 |  15900433 | 0.0570183721 | 0.9211968 | 0.0484373960 | 0.9380758 | 0.1358216203 | 0.1103616134 |\n",
       "| 3 |  4874 |  19303789 | 0.0657458116 | 0.8641784 | 0.0588050194 | 0.8896384 | 0.2015674319 | 0.1691666328 |\n",
       "| 2 |  5235 |  21922736 | 0.0706153722 | 0.7984326 | 0.0667831023 | 0.8308334 | 0.2721828041 | 0.2359497352 |\n",
       "| 1 |  6494 |  29459396 | 0.0875981331 | 0.7278172 | 0.0897419856 | 0.7640503 | 0.3597809372 | 0.3256917207 |\n",
       "| 0 | 47462 | 221353634 | 0.6402190628 | 0.6402191 | 0.6743082793 | 0.6743083 | 1.0000000000 | 1.0000000000 |\n",
       "\n"
      ],
      "text/plain": [
       "  total count pop       pct          cumpct    pct_pop      cumpct_pop\n",
       "1 8        65    163983 0.0008767907 1.0000000 0.0004995405 1.0000000 \n",
       "2 7       525   1673274 0.0070817708 0.9991232 0.0050972848 0.9995005 \n",
       "3 6      1835   6315784 0.0247524752 0.9920414 0.0192397358 0.9944032 \n",
       "4 5      3417  12174680 0.0460922114 0.9672890 0.0370876564 0.9751634 \n",
       "5 4      4227  15900433 0.0570183721 0.9211968 0.0484373960 0.9380758 \n",
       "6 3      4874  19303789 0.0657458116 0.8641784 0.0588050194 0.8896384 \n",
       "7 2      5235  21922736 0.0706153722 0.7984326 0.0667831023 0.8308334 \n",
       "8 1      6494  29459396 0.0875981331 0.7278172 0.0897419856 0.7640503 \n",
       "9 0     47462 221353634 0.6402190628 0.6402191 0.6743082793 0.6743083 \n",
       "  under_sum    under_sumpop\n",
       "1 0.0008767907 0.0004995405\n",
       "2 0.0079585615 0.0055968252\n",
       "3 0.0327110368 0.0248365611\n",
       "4 0.0788032482 0.0619242175\n",
       "5 0.1358216203 0.1103616134\n",
       "6 0.2015674319 0.1691666328\n",
       "7 0.2721828041 0.2359497352\n",
       "8 0.3597809372 0.3256917207\n",
       "9 1.0000000000 1.0000000000"
      ]
     },
     "metadata": {},
     "output_type": "display_data"
    }
   ],
   "source": [
    "## need to edit this to get a more population-focused analysis. \n",
    "macro_factors %>% \n",
    "group_by(total) %>% \n",
    "summarise(count = n(), pop = sum(pop, na.rm = TRUE)) %>%\n",
    "ungroup() %>%\n",
    "mutate(\n",
    "      pct = count/sum(count)\n",
    "    , cumpct = cumsum(pct)\n",
    "    , pct_pop = pop/sum(pop)\n",
    "    , cumpct_pop = cumsum(pct_pop)\n",
    ") %>%\n",
    "arrange(desc(total)) %>%\n",
    "mutate(\n",
    "    under_sum = cumsum(pct)\n",
    "   , under_sumpop = cumsum(pct_pop)\n",
    "\n",
    ")"
   ]
  },
  {
   "cell_type": "markdown",
   "id": "496ec0da",
   "metadata": {},
   "source": [
    "Where do we go from here?\n",
    "\n",
    "What is the purpose of investigating multiple impacts? J40 doesn't have a mechanism for prioritizing \"more disadvantaged\" communities. So we don't necessarily need to just add the components. \n",
    "\n",
    "Is the problem we are trying to solve the issue of multiple disadvantages but that are less than one of the thresholds? Is the issue that they aren't low income? Do we remove that from the consideration? Is the issue that each indicator is thresholded? Do we want to just add up all of those indicators to make a macro level indicator? Do we include "
   ]
  }
 ],
 "metadata": {
  "kernelspec": {
   "display_name": "R",
   "language": "R",
   "name": "ir"
  },
  "language_info": {
   "codemirror_mode": "r",
   "file_extension": ".r",
   "mimetype": "text/x-r-source",
   "name": "R",
   "pygments_lexer": "r",
   "version": "4.0.2"
  }
 },
 "nbformat": 4,
 "nbformat_minor": 5
}
