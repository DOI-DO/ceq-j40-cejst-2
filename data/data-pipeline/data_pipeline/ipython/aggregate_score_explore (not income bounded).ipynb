{
 "cells": [
  {
   "cell_type": "markdown",
   "id": "95c9d651",
   "metadata": {},
   "source": [
    "Tests that I want to run include:\n",
    "* Checking if the construct is unidimensional a the macro level (sum indicator) level\n",
    "* Examining the indicators to see if each sub indicator is uni-dimensional\n",
    "* Seeing what happens to the distribution/number of communities included if we move to a %Population based scoring system. "
   ]
  },
  {
   "cell_type": "code",
   "execution_count": 1,
   "id": "73697590",
   "metadata": {},
   "outputs": [
    {
     "name": "stderr",
     "output_type": "stream",
     "text": [
      "── \u001b[1mAttaching packages\u001b[22m ─────────────────────────────────────── tidyverse 1.3.0 ──\n",
      "\n",
      "\u001b[32m✔\u001b[39m \u001b[34mggplot2\u001b[39m 3.3.6     \u001b[32m✔\u001b[39m \u001b[34mpurrr  \u001b[39m 0.3.4\n",
      "\u001b[32m✔\u001b[39m \u001b[34mtibble \u001b[39m 3.1.0     \u001b[32m✔\u001b[39m \u001b[34mdplyr  \u001b[39m 1.0.5\n",
      "\u001b[32m✔\u001b[39m \u001b[34mtidyr  \u001b[39m 1.1.3     \u001b[32m✔\u001b[39m \u001b[34mstringr\u001b[39m 1.4.0\n",
      "\u001b[32m✔\u001b[39m \u001b[34mreadr  \u001b[39m 1.4.0     \u001b[32m✔\u001b[39m \u001b[34mforcats\u001b[39m 0.5.1\n",
      "\n",
      "── \u001b[1mConflicts\u001b[22m ────────────────────────────────────────── tidyverse_conflicts() ──\n",
      "\u001b[31m✖\u001b[39m \u001b[34mdplyr\u001b[39m::\u001b[32mfilter()\u001b[39m masks \u001b[34mstats\u001b[39m::filter()\n",
      "\u001b[31m✖\u001b[39m \u001b[34mdplyr\u001b[39m::\u001b[32mlag()\u001b[39m    masks \u001b[34mstats\u001b[39m::lag()\n",
      "\n",
      "\n",
      "Attaching package: ‘psych’\n",
      "\n",
      "\n",
      "The following objects are masked from ‘package:ggplot2’:\n",
      "\n",
      "    %+%, alpha\n",
      "\n",
      "\n"
     ]
    }
   ],
   "source": [
    "library(tidyverse)\n",
    "library(psych)"
   ]
  },
  {
   "cell_type": "code",
   "execution_count": 2,
   "id": "188379c1",
   "metadata": {},
   "outputs": [
    {
     "name": "stderr",
     "output_type": "stream",
     "text": [
      "\n",
      "\u001b[36m──\u001b[39m \u001b[1m\u001b[1mColumn specification\u001b[1m\u001b[22m \u001b[36m────────────────────────────────────────────────────────\u001b[39m\n",
      "cols(\n",
      "  .default = col_double(),\n",
      "  GEOID10_TRACT = \u001b[31mcol_character()\u001b[39m,\n",
      "  `Does the tract have at least 35 acres in it?` = \u001b[33mcol_logical()\u001b[39m,\n",
      "  `Contains agricultural value` = \u001b[33mcol_logical()\u001b[39m,\n",
      "  `Names of Tribal areas within Census tract` = \u001b[31mcol_character()\u001b[39m,\n",
      "  `Percent individuals age 25 or over with less than high school degree in 2009` = \u001b[33mcol_logical()\u001b[39m,\n",
      "  `Percentage households below 100% of federal poverty line in 2009` = \u001b[33mcol_logical()\u001b[39m,\n",
      "  `Unemployment (percent) in 2009` = \u001b[33mcol_logical()\u001b[39m,\n",
      "  `Total population in 2009` = \u001b[33mcol_logical()\u001b[39m,\n",
      "  `Number of Tribal areas within Census tract for Alaska` = \u001b[33mcol_logical()\u001b[39m,\n",
      "  `Number of Tribal areas within Census tract` = \u001b[33mcol_logical()\u001b[39m,\n",
      "  `Median household income as a percent of territory median income in 2009` = \u001b[33mcol_logical()\u001b[39m,\n",
      "  `Is there at least one abandoned mine in this census tract?` = \u001b[33mcol_logical()\u001b[39m,\n",
      "  `Income data has been estimated based on neighbor income` = \u001b[33mcol_logical()\u001b[39m,\n",
      "  `Is there at least one Formerly Used Defense Site (FUDS) in the tract?` = \u001b[33mcol_logical()\u001b[39m,\n",
      "  `Tract-level redlining score meets or exceeds 3.25` = \u001b[33mcol_logical()\u001b[39m,\n",
      "  `Identified as disadvantaged due to tribal overlap` = \u001b[33mcol_logical()\u001b[39m,\n",
      "  `Percent individuals age 25 or over with less than high school degree in 2009 (percentile)` = \u001b[33mcol_logical()\u001b[39m,\n",
      "  `Percentage households below 100% of federal poverty line in 2009 (percentile)` = \u001b[33mcol_logical()\u001b[39m,\n",
      "  `Unemployment (percent) in 2009 (percentile)` = \u001b[33mcol_logical()\u001b[39m,\n",
      "  `Total population in 2009 (percentile)` = \u001b[33mcol_logical()\u001b[39m\n",
      "  # ... with 103 more columns\n",
      ")\n",
      "\u001b[36mℹ\u001b[39m Use \u001b[30m\u001b[47m\u001b[30m\u001b[47m`spec()`\u001b[47m\u001b[30m\u001b[49m\u001b[39m for the full column specifications.\n",
      "\n",
      "\n",
      "Warning message:\n",
      "“2219 parsing failures.\n",
      " row                                                                col           expected              actual                             file\n",
      "1182 Number of Tribal areas within Census tract for Alaska              1/0/T/F/TRUE/FALSE 1.0                 '../data/score/csv/full/usa.csv'\n",
      "1182 Number of Tribal areas within Census tract for Alaska (percentile) 1/0/T/F/TRUE/FALSE 0.19230769230769232 '../data/score/csv/full/usa.csv'\n",
      "1183 Number of Tribal areas within Census tract for Alaska              1/0/T/F/TRUE/FALSE 4.0                 '../data/score/csv/full/usa.csv'\n",
      "1183 Number of Tribal areas within Census tract for Alaska (percentile) 1/0/T/F/TRUE/FALSE 0.6634615384615384  '../data/score/csv/full/usa.csv'\n",
      "1184 Number of Tribal areas within Census tract for Alaska              1/0/T/F/TRUE/FALSE 3.0                 '../data/score/csv/full/usa.csv'\n",
      ".... .................................................................. .................. ................... ................................\n",
      "See problems(...) for more details.\n",
      "”\n"
     ]
    }
   ],
   "source": [
    "score_files = list.files(\"../data/score/csv/full\", full.names = TRUE)\n",
    "usa = read_csv(score_files[grepl(\"usa.csv\", score_files)]) # read in the data"
   ]
  },
  {
   "cell_type": "code",
   "execution_count": 3,
   "id": "26838701",
   "metadata": {
    "scrolled": true
   },
   "outputs": [
    {
     "data": {
      "text/html": [
       "<table class=\"dataframe\">\n",
       "<caption>A tibble: 6 × 261</caption>\n",
       "<thead>\n",
       "\t<tr><th scope=col>GEOID10_TRACT</th><th scope=col>Does the tract have at least 35 acres in it?</th><th scope=col>Contains agricultural value</th><th scope=col>Names of Tribal areas within Census tract</th><th scope=col>Housing burden (percent)</th><th scope=col>Share of homes with no kitchen or indoor plumbing (percent)</th><th scope=col>Total population</th><th scope=col>Median household income (% of state median household income)</th><th scope=col>Current asthma among adults aged greater than or equal to 18 years</th><th scope=col>Coronary heart disease among adults aged greater than or equal to 18 years</th><th scope=col>⋯</th><th scope=col>Workforce Factor (Definition N)</th><th scope=col>Total categories exceeded</th><th scope=col>Definition N (communities)</th><th scope=col>Definition N (communities) (percentile)</th><th scope=col>Meets the less stringent low income criterion for the adjacency index?</th><th scope=col>Definition N (communities) (average of neighbors)</th><th scope=col>Is the tract surrounded by disadvantaged communities?</th><th scope=col>Definition N (communities) (based on adjacency index and low income alone)</th><th scope=col>Definition N community, including adjacency index tracts</th><th scope=col>Percentage of tract that is disadvantaged</th></tr>\n",
       "\t<tr><th scope=col>&lt;chr&gt;</th><th scope=col>&lt;lgl&gt;</th><th scope=col>&lt;lgl&gt;</th><th scope=col>&lt;chr&gt;</th><th scope=col>&lt;dbl&gt;</th><th scope=col>&lt;dbl&gt;</th><th scope=col>&lt;dbl&gt;</th><th scope=col>&lt;dbl&gt;</th><th scope=col>&lt;dbl&gt;</th><th scope=col>&lt;dbl&gt;</th><th scope=col>⋯</th><th scope=col>&lt;lgl&gt;</th><th scope=col>&lt;dbl&gt;</th><th scope=col>&lt;lgl&gt;</th><th scope=col>&lt;dbl&gt;</th><th scope=col>&lt;lgl&gt;</th><th scope=col>&lt;dbl&gt;</th><th scope=col>&lt;lgl&gt;</th><th scope=col>&lt;lgl&gt;</th><th scope=col>&lt;lgl&gt;</th><th scope=col>&lt;dbl&gt;</th></tr>\n",
       "</thead>\n",
       "<tbody>\n",
       "\t<tr><td>01073001100</td><td>TRUE</td><td> TRUE</td><td>NA</td><td>0.2752044</td><td>0.000000000</td><td>4781</td><td>0.7327450</td><td>11.2</td><td> 7.2</td><td>⋯</td><td>FALSE</td><td>0</td><td>FALSE</td><td>0</td><td>TRUE</td><td>0.8571429</td><td>FALSE</td><td>FALSE</td><td>FALSE</td><td>0</td></tr>\n",
       "\t<tr><td>01073001400</td><td>TRUE</td><td> TRUE</td><td>NA</td><td>0.1823529</td><td>0.004705882</td><td>1946</td><td>0.7136695</td><td>11.1</td><td> 9.1</td><td>⋯</td><td> TRUE</td><td>6</td><td> TRUE</td><td>1</td><td>TRUE</td><td>1.0000000</td><td> TRUE</td><td> TRUE</td><td> TRUE</td><td>1</td></tr>\n",
       "\t<tr><td>01073002000</td><td>TRUE</td><td> TRUE</td><td>NA</td><td>0.4350877</td><td>0.006872852</td><td>4080</td><td>0.5374189</td><td>13.5</td><td> 9.5</td><td>⋯</td><td> TRUE</td><td>3</td><td> TRUE</td><td>1</td><td>TRUE</td><td>1.0000000</td><td> TRUE</td><td> TRUE</td><td> TRUE</td><td>1</td></tr>\n",
       "\t<tr><td>01073003802</td><td>TRUE</td><td> TRUE</td><td>NA</td><td>0.4111406</td><td>0.038961039</td><td>5291</td><td>0.7662063</td><td>12.0</td><td> 6.6</td><td>⋯</td><td>FALSE</td><td>4</td><td> TRUE</td><td>1</td><td>TRUE</td><td>1.0000000</td><td> TRUE</td><td> TRUE</td><td> TRUE</td><td>1</td></tr>\n",
       "\t<tr><td>01073004000</td><td>TRUE</td><td>FALSE</td><td>NA</td><td>0.4683099</td><td>0.009900990</td><td>2533</td><td>0.3665704</td><td>13.1</td><td>10.0</td><td>⋯</td><td> TRUE</td><td>5</td><td> TRUE</td><td>1</td><td>TRUE</td><td>1.0000000</td><td> TRUE</td><td> TRUE</td><td> TRUE</td><td>1</td></tr>\n",
       "\t<tr><td>01073005101</td><td>TRUE</td><td>FALSE</td><td>NA</td><td>0.5264000</td><td>0.000000000</td><td>1467</td><td>0.3133014</td><td>15.2</td><td>11.6</td><td>⋯</td><td> TRUE</td><td>6</td><td> TRUE</td><td>1</td><td>TRUE</td><td>1.0000000</td><td> TRUE</td><td> TRUE</td><td> TRUE</td><td>1</td></tr>\n",
       "</tbody>\n",
       "</table>\n"
      ],
      "text/latex": [
       "A tibble: 6 × 261\n",
       "\\begin{tabular}{lllllllllllllllllllll}\n",
       " GEOID10\\_TRACT & Does the tract have at least 35 acres in it? & Contains agricultural value & Names of Tribal areas within Census tract & Housing burden (percent) & Share of homes with no kitchen or indoor plumbing (percent) & Total population & Median household income (\\% of state median household income) & Current asthma among adults aged greater than or equal to 18 years & Coronary heart disease among adults aged greater than or equal to 18 years & ⋯ & Workforce Factor (Definition N) & Total categories exceeded & Definition N (communities) & Definition N (communities) (percentile) & Meets the less stringent low income criterion for the adjacency index? & Definition N (communities) (average of neighbors) & Is the tract surrounded by disadvantaged communities? & Definition N (communities) (based on adjacency index and low income alone) & Definition N community, including adjacency index tracts & Percentage of tract that is disadvantaged\\\\\n",
       " <chr> & <lgl> & <lgl> & <chr> & <dbl> & <dbl> & <dbl> & <dbl> & <dbl> & <dbl> & ⋯ & <lgl> & <dbl> & <lgl> & <dbl> & <lgl> & <dbl> & <lgl> & <lgl> & <lgl> & <dbl>\\\\\n",
       "\\hline\n",
       "\t 01073001100 & TRUE &  TRUE & NA & 0.2752044 & 0.000000000 & 4781 & 0.7327450 & 11.2 &  7.2 & ⋯ & FALSE & 0 & FALSE & 0 & TRUE & 0.8571429 & FALSE & FALSE & FALSE & 0\\\\\n",
       "\t 01073001400 & TRUE &  TRUE & NA & 0.1823529 & 0.004705882 & 1946 & 0.7136695 & 11.1 &  9.1 & ⋯ &  TRUE & 6 &  TRUE & 1 & TRUE & 1.0000000 &  TRUE &  TRUE &  TRUE & 1\\\\\n",
       "\t 01073002000 & TRUE &  TRUE & NA & 0.4350877 & 0.006872852 & 4080 & 0.5374189 & 13.5 &  9.5 & ⋯ &  TRUE & 3 &  TRUE & 1 & TRUE & 1.0000000 &  TRUE &  TRUE &  TRUE & 1\\\\\n",
       "\t 01073003802 & TRUE &  TRUE & NA & 0.4111406 & 0.038961039 & 5291 & 0.7662063 & 12.0 &  6.6 & ⋯ & FALSE & 4 &  TRUE & 1 & TRUE & 1.0000000 &  TRUE &  TRUE &  TRUE & 1\\\\\n",
       "\t 01073004000 & TRUE & FALSE & NA & 0.4683099 & 0.009900990 & 2533 & 0.3665704 & 13.1 & 10.0 & ⋯ &  TRUE & 5 &  TRUE & 1 & TRUE & 1.0000000 &  TRUE &  TRUE &  TRUE & 1\\\\\n",
       "\t 01073005101 & TRUE & FALSE & NA & 0.5264000 & 0.000000000 & 1467 & 0.3133014 & 15.2 & 11.6 & ⋯ &  TRUE & 6 &  TRUE & 1 & TRUE & 1.0000000 &  TRUE &  TRUE &  TRUE & 1\\\\\n",
       "\\end{tabular}\n"
      ],
      "text/markdown": [
       "\n",
       "A tibble: 6 × 261\n",
       "\n",
       "| GEOID10_TRACT &lt;chr&gt; | Does the tract have at least 35 acres in it? &lt;lgl&gt; | Contains agricultural value &lt;lgl&gt; | Names of Tribal areas within Census tract &lt;chr&gt; | Housing burden (percent) &lt;dbl&gt; | Share of homes with no kitchen or indoor plumbing (percent) &lt;dbl&gt; | Total population &lt;dbl&gt; | Median household income (% of state median household income) &lt;dbl&gt; | Current asthma among adults aged greater than or equal to 18 years &lt;dbl&gt; | Coronary heart disease among adults aged greater than or equal to 18 years &lt;dbl&gt; | ⋯ ⋯ | Workforce Factor (Definition N) &lt;lgl&gt; | Total categories exceeded &lt;dbl&gt; | Definition N (communities) &lt;lgl&gt; | Definition N (communities) (percentile) &lt;dbl&gt; | Meets the less stringent low income criterion for the adjacency index? &lt;lgl&gt; | Definition N (communities) (average of neighbors) &lt;dbl&gt; | Is the tract surrounded by disadvantaged communities? &lt;lgl&gt; | Definition N (communities) (based on adjacency index and low income alone) &lt;lgl&gt; | Definition N community, including adjacency index tracts &lt;lgl&gt; | Percentage of tract that is disadvantaged &lt;dbl&gt; |\n",
       "|---|---|---|---|---|---|---|---|---|---|---|---|---|---|---|---|---|---|---|---|---|\n",
       "| 01073001100 | TRUE |  TRUE | NA | 0.2752044 | 0.000000000 | 4781 | 0.7327450 | 11.2 |  7.2 | ⋯ | FALSE | 0 | FALSE | 0 | TRUE | 0.8571429 | FALSE | FALSE | FALSE | 0 |\n",
       "| 01073001400 | TRUE |  TRUE | NA | 0.1823529 | 0.004705882 | 1946 | 0.7136695 | 11.1 |  9.1 | ⋯ |  TRUE | 6 |  TRUE | 1 | TRUE | 1.0000000 |  TRUE |  TRUE |  TRUE | 1 |\n",
       "| 01073002000 | TRUE |  TRUE | NA | 0.4350877 | 0.006872852 | 4080 | 0.5374189 | 13.5 |  9.5 | ⋯ |  TRUE | 3 |  TRUE | 1 | TRUE | 1.0000000 |  TRUE |  TRUE |  TRUE | 1 |\n",
       "| 01073003802 | TRUE |  TRUE | NA | 0.4111406 | 0.038961039 | 5291 | 0.7662063 | 12.0 |  6.6 | ⋯ | FALSE | 4 |  TRUE | 1 | TRUE | 1.0000000 |  TRUE |  TRUE |  TRUE | 1 |\n",
       "| 01073004000 | TRUE | FALSE | NA | 0.4683099 | 0.009900990 | 2533 | 0.3665704 | 13.1 | 10.0 | ⋯ |  TRUE | 5 |  TRUE | 1 | TRUE | 1.0000000 |  TRUE |  TRUE |  TRUE | 1 |\n",
       "| 01073005101 | TRUE | FALSE | NA | 0.5264000 | 0.000000000 | 1467 | 0.3133014 | 15.2 | 11.6 | ⋯ |  TRUE | 6 |  TRUE | 1 | TRUE | 1.0000000 |  TRUE |  TRUE |  TRUE | 1 |\n",
       "\n"
      ],
      "text/plain": [
       "  GEOID10_TRACT Does the tract have at least 35 acres in it?\n",
       "1 01073001100   TRUE                                        \n",
       "2 01073001400   TRUE                                        \n",
       "3 01073002000   TRUE                                        \n",
       "4 01073003802   TRUE                                        \n",
       "5 01073004000   TRUE                                        \n",
       "6 01073005101   TRUE                                        \n",
       "  Contains agricultural value Names of Tribal areas within Census tract\n",
       "1  TRUE                       NA                                       \n",
       "2  TRUE                       NA                                       \n",
       "3  TRUE                       NA                                       \n",
       "4  TRUE                       NA                                       \n",
       "5 FALSE                       NA                                       \n",
       "6 FALSE                       NA                                       \n",
       "  Housing burden (percent)\n",
       "1 0.2752044               \n",
       "2 0.1823529               \n",
       "3 0.4350877               \n",
       "4 0.4111406               \n",
       "5 0.4683099               \n",
       "6 0.5264000               \n",
       "  Share of homes with no kitchen or indoor plumbing (percent) Total population\n",
       "1 0.000000000                                                 4781            \n",
       "2 0.004705882                                                 1946            \n",
       "3 0.006872852                                                 4080            \n",
       "4 0.038961039                                                 5291            \n",
       "5 0.009900990                                                 2533            \n",
       "6 0.000000000                                                 1467            \n",
       "  Median household income (% of state median household income)\n",
       "1 0.7327450                                                   \n",
       "2 0.7136695                                                   \n",
       "3 0.5374189                                                   \n",
       "4 0.7662063                                                   \n",
       "5 0.3665704                                                   \n",
       "6 0.3133014                                                   \n",
       "  Current asthma among adults aged greater than or equal to 18 years\n",
       "1 11.2                                                              \n",
       "2 11.1                                                              \n",
       "3 13.5                                                              \n",
       "4 12.0                                                              \n",
       "5 13.1                                                              \n",
       "6 15.2                                                              \n",
       "  Coronary heart disease among adults aged greater than or equal to 18 years ⋯\n",
       "1  7.2                                                                       ⋯\n",
       "2  9.1                                                                       ⋯\n",
       "3  9.5                                                                       ⋯\n",
       "4  6.6                                                                       ⋯\n",
       "5 10.0                                                                       ⋯\n",
       "6 11.6                                                                       ⋯\n",
       "  Workforce Factor (Definition N) Total categories exceeded\n",
       "1 FALSE                           0                        \n",
       "2  TRUE                           6                        \n",
       "3  TRUE                           3                        \n",
       "4 FALSE                           4                        \n",
       "5  TRUE                           5                        \n",
       "6  TRUE                           6                        \n",
       "  Definition N (communities) Definition N (communities) (percentile)\n",
       "1 FALSE                      0                                      \n",
       "2  TRUE                      1                                      \n",
       "3  TRUE                      1                                      \n",
       "4  TRUE                      1                                      \n",
       "5  TRUE                      1                                      \n",
       "6  TRUE                      1                                      \n",
       "  Meets the less stringent low income criterion for the adjacency index?\n",
       "1 TRUE                                                                  \n",
       "2 TRUE                                                                  \n",
       "3 TRUE                                                                  \n",
       "4 TRUE                                                                  \n",
       "5 TRUE                                                                  \n",
       "6 TRUE                                                                  \n",
       "  Definition N (communities) (average of neighbors)\n",
       "1 0.8571429                                        \n",
       "2 1.0000000                                        \n",
       "3 1.0000000                                        \n",
       "4 1.0000000                                        \n",
       "5 1.0000000                                        \n",
       "6 1.0000000                                        \n",
       "  Is the tract surrounded by disadvantaged communities?\n",
       "1 FALSE                                                \n",
       "2  TRUE                                                \n",
       "3  TRUE                                                \n",
       "4  TRUE                                                \n",
       "5  TRUE                                                \n",
       "6  TRUE                                                \n",
       "  Definition N (communities) (based on adjacency index and low income alone)\n",
       "1 FALSE                                                                     \n",
       "2  TRUE                                                                     \n",
       "3  TRUE                                                                     \n",
       "4  TRUE                                                                     \n",
       "5  TRUE                                                                     \n",
       "6  TRUE                                                                     \n",
       "  Definition N community, including adjacency index tracts\n",
       "1 FALSE                                                   \n",
       "2  TRUE                                                   \n",
       "3  TRUE                                                   \n",
       "4  TRUE                                                   \n",
       "5  TRUE                                                   \n",
       "6  TRUE                                                   \n",
       "  Percentage of tract that is disadvantaged\n",
       "1 0                                        \n",
       "2 1                                        \n",
       "3 1                                        \n",
       "4 1                                        \n",
       "5 1                                        \n",
       "6 1                                        "
      ]
     },
     "metadata": {},
     "output_type": "display_data"
    }
   ],
   "source": [
    "head(usa) ## take a quick look to make sure its in the right format"
   ]
  },
  {
   "cell_type": "markdown",
   "id": "5c8f0179",
   "metadata": {},
   "source": [
    "First thing that I want to do is explore just the aggregate level metrics. They are already put into groups and that is super helpful"
   ]
  },
  {
   "cell_type": "code",
   "execution_count": 4,
   "id": "6592ad8e",
   "metadata": {},
   "outputs": [],
   "source": [
    "## take these definitions from field_names.py\n",
    "CLIMATE_THRESHOLD_EXCEEDED = \"At least one climate threshold exceeded\"\n",
    "ENERGY_THRESHOLD_EXCEEDED = \"At least one energy threshold exceeded\"\n",
    "TRAFFIC_THRESHOLD_EXCEEDED = \"At least one traffic threshold exceeded\"\n",
    "HOUSING_THREHSOLD_EXCEEDED = \"At least one housing threshold exceeded\"\n",
    "POLLUTION_THRESHOLD_EXCEEDED = \"At least one pollution threshold exceeded\"\n",
    "WATER_THRESHOLD_EXCEEDED = \"At least one water threshold exceeded\"\n",
    "HEALTH_THRESHOLD_EXCEEDED = \"At least one health threshold exceeded\"\n",
    "WORKFORCE_THRESHOLD_EXCEEDED = \"At least one workforce threshold exceeded\"\n"
   ]
  },
  {
   "cell_type": "code",
   "execution_count": 29,
   "id": "00fd7c12",
   "metadata": {},
   "outputs": [
    {
     "data": {
      "text/html": [
       "<table class=\"dataframe\">\n",
       "<caption>A tibble: 6 × 11</caption>\n",
       "<thead>\n",
       "\t<tr><th scope=col>climate_threshold</th><th scope=col>energy_threshold</th><th scope=col>traffic_threshold</th><th scope=col>housing_threshold</th><th scope=col>pollution_threshold</th><th scope=col>water_threshold</th><th scope=col>health_threshold</th><th scope=col>workforce_threshold</th><th scope=col>GEOID10_TRACT</th><th scope=col>pop</th><th scope=col>total</th></tr>\n",
       "\t<tr><th scope=col>&lt;dbl&gt;</th><th scope=col>&lt;dbl&gt;</th><th scope=col>&lt;dbl&gt;</th><th scope=col>&lt;dbl&gt;</th><th scope=col>&lt;dbl&gt;</th><th scope=col>&lt;dbl&gt;</th><th scope=col>&lt;dbl&gt;</th><th scope=col>&lt;dbl&gt;</th><th scope=col>&lt;chr&gt;</th><th scope=col>&lt;dbl&gt;</th><th scope=col>&lt;dbl&gt;</th></tr>\n",
       "</thead>\n",
       "<tbody>\n",
       "\t<tr><td>0</td><td>0</td><td>0</td><td>0</td><td>1</td><td>0</td><td>1</td><td>0</td><td>01073001100</td><td>4781</td><td>2</td></tr>\n",
       "\t<tr><td>1</td><td>1</td><td>1</td><td>1</td><td>0</td><td>0</td><td>1</td><td>1</td><td>01073001400</td><td>1946</td><td>6</td></tr>\n",
       "\t<tr><td>0</td><td>1</td><td>0</td><td>0</td><td>0</td><td>0</td><td>1</td><td>1</td><td>01073002000</td><td>4080</td><td>3</td></tr>\n",
       "\t<tr><td>1</td><td>1</td><td>0</td><td>1</td><td>0</td><td>0</td><td>1</td><td>0</td><td>01073003802</td><td>5291</td><td>4</td></tr>\n",
       "\t<tr><td>1</td><td>1</td><td>0</td><td>1</td><td>0</td><td>0</td><td>1</td><td>1</td><td>01073004000</td><td>2533</td><td>5</td></tr>\n",
       "\t<tr><td>1</td><td>1</td><td>1</td><td>1</td><td>0</td><td>0</td><td>1</td><td>1</td><td>01073005101</td><td>1467</td><td>6</td></tr>\n",
       "</tbody>\n",
       "</table>\n"
      ],
      "text/latex": [
       "A tibble: 6 × 11\n",
       "\\begin{tabular}{lllllllllll}\n",
       " climate\\_threshold & energy\\_threshold & traffic\\_threshold & housing\\_threshold & pollution\\_threshold & water\\_threshold & health\\_threshold & workforce\\_threshold & GEOID10\\_TRACT & pop & total\\\\\n",
       " <dbl> & <dbl> & <dbl> & <dbl> & <dbl> & <dbl> & <dbl> & <dbl> & <chr> & <dbl> & <dbl>\\\\\n",
       "\\hline\n",
       "\t 0 & 0 & 0 & 0 & 1 & 0 & 1 & 0 & 01073001100 & 4781 & 2\\\\\n",
       "\t 1 & 1 & 1 & 1 & 0 & 0 & 1 & 1 & 01073001400 & 1946 & 6\\\\\n",
       "\t 0 & 1 & 0 & 0 & 0 & 0 & 1 & 1 & 01073002000 & 4080 & 3\\\\\n",
       "\t 1 & 1 & 0 & 1 & 0 & 0 & 1 & 0 & 01073003802 & 5291 & 4\\\\\n",
       "\t 1 & 1 & 0 & 1 & 0 & 0 & 1 & 1 & 01073004000 & 2533 & 5\\\\\n",
       "\t 1 & 1 & 1 & 1 & 0 & 0 & 1 & 1 & 01073005101 & 1467 & 6\\\\\n",
       "\\end{tabular}\n"
      ],
      "text/markdown": [
       "\n",
       "A tibble: 6 × 11\n",
       "\n",
       "| climate_threshold &lt;dbl&gt; | energy_threshold &lt;dbl&gt; | traffic_threshold &lt;dbl&gt; | housing_threshold &lt;dbl&gt; | pollution_threshold &lt;dbl&gt; | water_threshold &lt;dbl&gt; | health_threshold &lt;dbl&gt; | workforce_threshold &lt;dbl&gt; | GEOID10_TRACT &lt;chr&gt; | pop &lt;dbl&gt; | total &lt;dbl&gt; |\n",
       "|---|---|---|---|---|---|---|---|---|---|---|\n",
       "| 0 | 0 | 0 | 0 | 1 | 0 | 1 | 0 | 01073001100 | 4781 | 2 |\n",
       "| 1 | 1 | 1 | 1 | 0 | 0 | 1 | 1 | 01073001400 | 1946 | 6 |\n",
       "| 0 | 1 | 0 | 0 | 0 | 0 | 1 | 1 | 01073002000 | 4080 | 3 |\n",
       "| 1 | 1 | 0 | 1 | 0 | 0 | 1 | 0 | 01073003802 | 5291 | 4 |\n",
       "| 1 | 1 | 0 | 1 | 0 | 0 | 1 | 1 | 01073004000 | 2533 | 5 |\n",
       "| 1 | 1 | 1 | 1 | 0 | 0 | 1 | 1 | 01073005101 | 1467 | 6 |\n",
       "\n"
      ],
      "text/plain": [
       "  climate_threshold energy_threshold traffic_threshold housing_threshold\n",
       "1 0                 0                0                 0                \n",
       "2 1                 1                1                 1                \n",
       "3 0                 1                0                 0                \n",
       "4 1                 1                0                 1                \n",
       "5 1                 1                0                 1                \n",
       "6 1                 1                1                 1                \n",
       "  pollution_threshold water_threshold health_threshold workforce_threshold\n",
       "1 1                   0               1                0                  \n",
       "2 0                   0               1                1                  \n",
       "3 0                   0               1                1                  \n",
       "4 0                   0               1                0                  \n",
       "5 0                   0               1                1                  \n",
       "6 0                   0               1                1                  \n",
       "  GEOID10_TRACT pop  total\n",
       "1 01073001100   4781 2    \n",
       "2 01073001400   1946 6    \n",
       "3 01073002000   4080 3    \n",
       "4 01073003802   5291 4    \n",
       "5 01073004000   2533 5    \n",
       "6 01073005101   1467 6    "
      ]
     },
     "metadata": {},
     "output_type": "display_data"
    }
   ],
   "source": [
    "macro_factors <- usa %>% \n",
    "select(contains(\"threshold exceeded\"), GEOID10_TRACT, pop = `Total population`) %>% \n",
    "rename_with(.cols = everything()\n",
    "            , .fn = ~str_replace_all(str_trim(str_replace_all(.x, \"At least one|exceeded\", \"\")), \" \", \"_\")) %>%\n",
    "mutate(across(contains(\"threshold\"), as.numeric)) %>%\n",
    "rowwise(GEOID10_TRACT) %>%\n",
    "mutate(total = sum(c_across(contains(\"threshold\")))) %>%\n",
    "ungroup()\n",
    "\n",
    "head(macro_factors)"
   ]
  },
  {
   "cell_type": "markdown",
   "id": "d083eb56",
   "metadata": {},
   "source": [
    "First, we run tetrachoric correlations to see which factors correlate well with other factors. (Tetrachoric correlations are designed for binary factors. They make the assumption that the binary factor is based off of a normal distribution that has been binned. this is a really fair assumption for this data because that is similar to what happened)."
   ]
  },
  {
   "cell_type": "code",
   "execution_count": 6,
   "id": "49ed2ed9",
   "metadata": {},
   "outputs": [
    {
     "name": "stdout",
     "output_type": "stream",
     "text": [
      "\n"
     ]
    },
    {
     "data": {
      "text/plain": [
       "Call: tetrachoric(x = .)\n",
       "tetrachoric correlation \n",
       "                    clmt_ enrg_ trff_ hsng_ pllt_ wtr_t hlth_ wrkf_\n",
       "climate_threshold    1.00                                          \n",
       "energy_threshold     0.06  1.00                                    \n",
       "traffic_threshold   -0.02  0.23  1.00                              \n",
       "housing_threshold   -0.13  0.45  0.29  1.00                        \n",
       "pollution_threshold -0.11  0.27  0.33  0.35  1.00                  \n",
       "water_threshold     -0.09  0.26  0.32  0.73  0.35  1.00            \n",
       "health_threshold     0.08  0.40  0.14  0.60  0.10  0.46  1.00      \n",
       "workforce_threshold -0.06  0.49  0.30  0.76  0.33  0.62  0.61  1.00\n",
       "\n",
       " with tau of \n",
       "  climate_threshold    energy_threshold   traffic_threshold   housing_threshold \n",
       "               0.42                0.85                0.66                1.00 \n",
       "pollution_threshold     water_threshold    health_threshold workforce_threshold \n",
       "               0.57                1.46                0.80                0.72 "
      ]
     },
     "metadata": {},
     "output_type": "display_data"
    }
   ],
   "source": [
    "tetra_cor <- macro_factors %>% select(contains(\"threshold\")) %>% tetrachoric\n",
    "tetra_cor"
   ]
  },
  {
   "cell_type": "markdown",
   "id": "55c266e7",
   "metadata": {},
   "source": [
    "* Climate is pretty independent\n",
    "* Energy has some moderate, positive coincidence with housing, health, and workforce (.4-.5)\n",
    "* Traffice has weak coincidence with pollution, water, and workforce (.3)\n",
    "* Housing is pretty strongly related wo water and workforce (.75) and to health (.g) \n",
    "* Pollution has weaker connections to traffic, housing, water, and workforce (.3)\n",
    "* Water has strong linkages to housing (.73) and workforce (.62) and moderate linkage to health (.46)\n",
    "* Workforce is intertwined with housing (.76) and water & health (.6) and energy (.49)"
   ]
  },
  {
   "cell_type": "markdown",
   "id": "f9f865c2",
   "metadata": {},
   "source": [
    "We run a scree plot of the tetrachoric correlations. The scree plot shows hows how much of the variance is explained in different levels of factor models. We really care about the lower (hollow) line more than the principal components line. This suggests that two factors at most are probably sufficient. Although, it could be convincingly unidimensional. "
   ]
  },
  {
   "cell_type": "code",
   "execution_count": 86,
   "id": "17bf2e6a",
   "metadata": {},
   "outputs": [
    {
     "data": {
      "image/png": "[encoded data removed]",
      "text/plain": [
       "Plot with title “Scree plot”"
      ]
     },
     "metadata": {
      "image/png": {
       "height": 420,
       "width": 420
      }
     },
     "output_type": "display_data"
    }
   ],
   "source": [
    "scree(tetra_cor[[1]])"
   ]
  },
  {
   "cell_type": "markdown",
   "id": "32aca78c",
   "metadata": {},
   "source": [
    "After running the scree plot, we start to run some factor models to interrogate what is actually happening here. For all of these, I use (a) a tetrachoric correlation measure, (b) allow rotation of factors (hint, check for factor correlations) and (c) try both weighted least squares and maximum likelihood solutions for robustness"
   ]
  },
  {
   "cell_type": "code",
   "execution_count": 8,
   "id": "57b73bb2",
   "metadata": {},
   "outputs": [],
   "source": [
    "factor_names <- names(macro_factors)[grepl(\"threshold\", names(macro_factors))]"
   ]
  },
  {
   "cell_type": "code",
   "execution_count": 9,
   "id": "561f87d9",
   "metadata": {},
   "outputs": [
    {
     "name": "stdout",
     "output_type": "stream",
     "text": [
      "\n",
      "Factor Analysis using method =  wls\n",
      "Call: fa(r = macro_factors[, factor_names], nfactors = 1, rotate = \"promax\", \n",
      "    SMC = TRUE, fm = \"wls\", cor = \"tet\")\n",
      "Standardized loadings (pattern matrix) based upon correlation matrix\n",
      "                    V  WLS1     h2   u2 com\n",
      "housing_threshold   4  0.91 0.8354 0.16   1\n",
      "workforce_threshold 8  0.86 0.7375 0.26   1\n",
      "water_threshold     6  0.75 0.5596 0.44   1\n",
      "health_threshold    7  0.64 0.4087 0.59   1\n",
      "energy_threshold    2  0.52 0.2690 0.73   1\n",
      "pollution_threshold 5  0.41 0.1649 0.84   1\n",
      "traffic_threshold   3  0.37 0.1360 0.86   1\n",
      "climate_threshold   1 -0.07 0.0045 1.00   1\n",
      "\n",
      "               WLS1\n",
      "SS loadings    3.12\n",
      "Proportion Var 0.39\n",
      "\n",
      "Mean item complexity =  1\n",
      "Test of the hypothesis that 1 factor is sufficient.\n",
      "\n",
      "The degrees of freedom for the null model are  28  and the objective function was  3.03 with Chi Square of  224265.5\n",
      "The degrees of freedom for the model are 20  and the objective function was  0.35 \n",
      "\n",
      "The root mean square of the residuals (RMSR) is  0.07 \n",
      "The df corrected root mean square of the residuals is  0.09 \n",
      "\n",
      "The harmonic number of observations is  74134 with the empirical chi square  22071.66  with prob <  0 \n",
      "The total number of observations was  74134  with Likelihood Chi Square =  25657.57  with prob <  0 \n",
      "\n",
      "Tucker Lewis Index of factoring reliability =  0.84\n",
      "RMSEA index =  0.131  and the 90 % confidence intervals are  0.13 0.133\n",
      "BIC =  25433.3\n",
      "Fit based upon off diagonal values = 0.96\n",
      "Measures of factor score adequacy             \n",
      "                                                  WLS1\n",
      "Correlation of (regression) scores with factors   0.96\n",
      "Multiple R square of scores with factors          0.92\n",
      "Minimum correlation of possible factor scores     0.83\n",
      "\n",
      "Factor Analysis using method =  ml\n",
      "Call: fa(r = macro_factors[, factor_names], nfactors = 1, rotate = \"promax\", \n",
      "    SMC = TRUE, fm = \"ml\", cor = \"tet\")\n",
      "Standardized loadings (pattern matrix) based upon correlation matrix\n",
      "                    V   ML1     h2   u2 com\n",
      "housing_threshold   4  0.92 0.8397 0.16   1\n",
      "workforce_threshold 8  0.85 0.7160 0.28   1\n",
      "water_threshold     6  0.76 0.5829 0.42   1\n",
      "health_threshold    7  0.66 0.4348 0.57   1\n",
      "energy_threshold    2  0.51 0.2593 0.74   1\n",
      "pollution_threshold 5  0.39 0.1535 0.85   1\n",
      "traffic_threshold   3  0.34 0.1184 0.88   1\n",
      "climate_threshold   1 -0.10 0.0093 0.99   1\n",
      "\n",
      "                ML1\n",
      "SS loadings    3.11\n",
      "Proportion Var 0.39\n",
      "\n",
      "Mean item complexity =  1\n",
      "Test of the hypothesis that 1 factor is sufficient.\n",
      "\n",
      "The degrees of freedom for the null model are  28  and the objective function was  3.03 with Chi Square of  224265.5\n",
      "The degrees of freedom for the model are 20  and the objective function was  0.34 \n",
      "\n",
      "The root mean square of the residuals (RMSR) is  0.08 \n",
      "The df corrected root mean square of the residuals is  0.09 \n",
      "\n",
      "The harmonic number of observations is  74134 with the empirical chi square  23370.89  with prob <  0 \n",
      "The total number of observations was  74134  with Likelihood Chi Square =  25200.58  with prob <  0 \n",
      "\n",
      "Tucker Lewis Index of factoring reliability =  0.843\n",
      "RMSEA index =  0.13  and the 90 % confidence intervals are  0.129 0.132\n",
      "BIC =  24976.31\n",
      "Fit based upon off diagonal values = 0.96\n",
      "Measures of factor score adequacy             \n",
      "                                                   ML1\n",
      "Correlation of (regression) scores with factors   0.96\n",
      "Multiple R square of scores with factors          0.91\n",
      "Minimum correlation of possible factor scores     0.83\n"
     ]
    }
   ],
   "source": [
    "faOut1ProWls <- fa(macro_factors[, factor_names], nfactors = 1, cor = \"tet\",  rotate=\"promax\", fm=\"wls\", SMC=TRUE)\n",
    "print(faOut1ProWls, sort=TRUE)\n",
    "\n",
    "faOut1ProMl <- fa(macro_factors[, factor_names], nfactors = 1, cor = \"tet\",  rotate=\"promax\", fm=\"ml\", SMC=TRUE)\n",
    "print(faOut1ProMl, sort=TRUE)"
   ]
  },
  {
   "cell_type": "markdown",
   "id": "31af0964",
   "metadata": {},
   "source": [
    "The results for the unifactor analysis are promising. It is pretty clear that the climate factor does not vary in the same way as the other factors. Energy, Pollution, and Traffic also leave much variation to be explained by this one factor. The RMSEA is higher than we'd want. So we don't think these results support a conclusion of unidimensionality. But it is not so far off that it is grossly inappropriate. "
   ]
  },
  {
   "cell_type": "code",
   "execution_count": 10,
   "id": "605bf7df",
   "metadata": {},
   "outputs": [
    {
     "name": "stdout",
     "output_type": "stream",
     "text": [
      "\n"
     ]
    },
    {
     "name": "stderr",
     "output_type": "stream",
     "text": [
      "Loading required namespace: GPArotation\n",
      "\n"
     ]
    },
    {
     "name": "stdout",
     "output_type": "stream",
     "text": [
      "Factor Analysis using method =  wls\n",
      "Call: fa(r = macro_factors[, factor_names], nfactors = 2, rotate = \"promax\", \n",
      "    SMC = TRUE, fm = \"wls\", cor = \"tet\")\n",
      "Standardized loadings (pattern matrix) based upon correlation matrix\n",
      "                    item WLS1  WLS2   h2   u2 com\n",
      "housing_threshold      4 0.91 -0.07 0.84 0.16 1.0\n",
      "workforce_threshold    8 0.86  0.02 0.74 0.26 1.0\n",
      "water_threshold        6 0.74 -0.07 0.56 0.44 1.0\n",
      "health_threshold       7 0.66  0.17 0.45 0.55 1.1\n",
      "energy_threshold       2 0.53  0.12 0.29 0.71 1.1\n",
      "pollution_threshold    5 0.40 -0.11 0.18 0.82 1.2\n",
      "traffic_threshold      3 0.37 -0.03 0.14 0.86 1.0\n",
      "climate_threshold      1 0.01  0.94 0.88 0.12 1.0\n",
      "\n",
      "                      WLS1 WLS2\n",
      "SS loadings           3.12 0.94\n",
      "Proportion Var        0.39 0.12\n",
      "Cumulative Var        0.39 0.51\n",
      "Proportion Explained  0.77 0.23\n",
      "Cumulative Proportion 0.77 1.00\n",
      "\n",
      " With factor correlations of \n",
      "      WLS1  WLS2\n",
      "WLS1  1.00 -0.08\n",
      "WLS2 -0.08  1.00\n",
      "\n",
      "Mean item complexity =  1.1\n",
      "Test of the hypothesis that 2 factors are sufficient.\n",
      "\n",
      "The degrees of freedom for the null model are  28  and the objective function was  3.03 with Chi Square of  224265.5\n",
      "The degrees of freedom for the model are 13  and the objective function was  0.27 \n",
      "\n",
      "The root mean square of the residuals (RMSR) is  0.06 \n",
      "The df corrected root mean square of the residuals is  0.09 \n",
      "\n",
      "The harmonic number of observations is  74134 with the empirical chi square  15254.42  with prob <  0 \n",
      "The total number of observations was  74134  with Likelihood Chi Square =  20161.39  with prob <  0 \n",
      "\n",
      "Tucker Lewis Index of factoring reliability =  0.806\n",
      "RMSEA index =  0.145  and the 90 % confidence intervals are  0.143 0.146\n",
      "BIC =  20015.61\n",
      "Fit based upon off diagonal values = 0.97\n",
      "Measures of factor score adequacy             \n",
      "                                                  WLS1 WLS2\n",
      "Correlation of (regression) scores with factors   0.96 0.94\n",
      "Multiple R square of scores with factors          0.92 0.88\n",
      "Minimum correlation of possible factor scores     0.83 0.77\n",
      "\n",
      "Factor Analysis using method =  ml\n",
      "Call: fa(r = macro_factors[, factor_names], nfactors = 2, rotate = \"promax\", \n",
      "    SMC = TRUE, fm = \"ml\", cor = \"tet\")\n",
      "Standardized loadings (pattern matrix) based upon correlation matrix\n",
      "                    item  ML1   ML2    h2   u2 com\n",
      "health_threshold       7 0.96 -0.38 0.712 0.29 1.3\n",
      "workforce_threshold    8 0.78  0.13 0.720 0.28 1.1\n",
      "housing_threshold      4 0.75  0.26 0.831 0.17 1.2\n",
      "water_threshold        6 0.54  0.37 0.620 0.38 1.8\n",
      "energy_threshold       2 0.53 -0.02 0.273 0.73 1.0\n",
      "pollution_threshold    5 0.09  0.47 0.271 0.73 1.1\n",
      "traffic_threshold      3 0.13  0.33 0.173 0.83 1.3\n",
      "climate_threshold      1 0.12 -0.33 0.084 0.92 1.3\n",
      "\n",
      "                       ML1  ML2\n",
      "SS loadings           2.79 0.89\n",
      "Proportion Var        0.35 0.11\n",
      "Cumulative Var        0.35 0.46\n",
      "Proportion Explained  0.76 0.24\n",
      "Cumulative Proportion 0.76 1.00\n",
      "\n",
      " With factor correlations of \n",
      "     ML1  ML2\n",
      "ML1 1.00 0.48\n",
      "ML2 0.48 1.00\n",
      "\n",
      "Mean item complexity =  1.3\n",
      "Test of the hypothesis that 2 factors are sufficient.\n",
      "\n",
      "The degrees of freedom for the null model are  28  and the objective function was  3.03 with Chi Square of  224265.5\n",
      "The degrees of freedom for the model are 13  and the objective function was  0.17 \n",
      "\n",
      "The root mean square of the residuals (RMSR) is  0.05 \n",
      "The df corrected root mean square of the residuals is  0.07 \n",
      "\n",
      "The harmonic number of observations is  74134 with the empirical chi square  9645.91  with prob <  0 \n",
      "The total number of observations was  74134  with Likelihood Chi Square =  12333.18  with prob <  0 \n",
      "\n",
      "Tucker Lewis Index of factoring reliability =  0.882\n",
      "RMSEA index =  0.113  and the 90 % confidence intervals are  0.111 0.115\n",
      "BIC =  12187.4\n",
      "Fit based upon off diagonal values = 0.98\n",
      "Measures of factor score adequacy             \n",
      "                                                   ML1  ML2\n",
      "Correlation of (regression) scores with factors   0.95 0.83\n",
      "Multiple R square of scores with factors          0.91 0.69\n",
      "Minimum correlation of possible factor scores     0.82 0.37\n"
     ]
    }
   ],
   "source": [
    "faOut2ProWls <- fa(macro_factors[, factor_names], nfactors = 2, cor = \"tet\",  rotate=\"promax\", fm=\"wls\", SMC=TRUE)\n",
    "print(faOut2ProWls, sort=TRUE)\n",
    "\n",
    "faOut2ProMl <- fa(macro_factors[, factor_names], nfactors = 2, cor = \"tet\",  rotate=\"promax\", fm=\"ml\", SMC=TRUE)\n",
    "print(faOut2ProMl, sort=TRUE)\n"
   ]
  },
  {
   "cell_type": "markdown",
   "id": "62276d90",
   "metadata": {},
   "source": [
    "The WLS solution clearly splits cimate off onto its own factor, but the RMSEA there actually increases. The additional factor doesn't give us enough variance to justify addint it. \n",
    "\n",
    "The ML solution re-covers a factor that weakly contains split elements of pollution and water and a negative, but weak, loading for climate. IT does improve the RMSEA a bit. But it is still not an amazing solution. "
   ]
  },
  {
   "cell_type": "code",
   "execution_count": 11,
   "id": "2ae1bfed",
   "metadata": {},
   "outputs": [
    {
     "name": "stdout",
     "output_type": "stream",
     "text": [
      "\n",
      "Factor Analysis using method =  wls\n",
      "Call: fa(r = macro_factors[, factor_names], nfactors = 3, rotate = \"promax\", \n",
      "    SMC = TRUE, fm = \"wls\", cor = \"tet\")\n",
      "Standardized loadings (pattern matrix) based upon correlation matrix\n",
      "                    item  WLS1  WLS2  WLS3    h2   u2 com\n",
      "housing_threshold      4  0.88  0.04 -0.17 0.838 0.16 1.1\n",
      "health_threshold       7  0.86 -0.22  0.20 0.616 0.38 1.2\n",
      "workforce_threshold    8  0.77  0.13  0.02 0.733 0.27 1.1\n",
      "water_threshold        6  0.72  0.05 -0.35 0.680 0.32 1.5\n",
      "pollution_threshold    5 -0.12  0.72 -0.12 0.470 0.53 1.1\n",
      "traffic_threshold      3  0.03  0.45 -0.06 0.233 0.77 1.0\n",
      "energy_threshold       2  0.26  0.42  0.42 0.512 0.49 2.7\n",
      "climate_threshold      1 -0.01 -0.06  0.27 0.078 0.92 1.1\n",
      "\n",
      "                      WLS1 WLS2 WLS3\n",
      "SS loadings           2.71 0.99 0.46\n",
      "Proportion Var        0.34 0.12 0.06\n",
      "Cumulative Var        0.34 0.46 0.52\n",
      "Proportion Explained  0.65 0.24 0.11\n",
      "Cumulative Proportion 0.65 0.89 1.00\n",
      "\n",
      " With factor correlations of \n",
      "     WLS1  WLS2  WLS3\n",
      "WLS1 1.00  0.62  0.02\n",
      "WLS2 0.62  1.00 -0.14\n",
      "WLS3 0.02 -0.14  1.00\n",
      "\n",
      "Mean item complexity =  1.3\n",
      "Test of the hypothesis that 3 factors are sufficient.\n",
      "\n",
      "The degrees of freedom for the null model are  28  and the objective function was  3.03 with Chi Square of  224265.5\n",
      "The degrees of freedom for the model are 7  and the objective function was  0.05 \n",
      "\n",
      "The root mean square of the residuals (RMSR) is  0.02 \n",
      "The df corrected root mean square of the residuals is  0.04 \n",
      "\n",
      "The harmonic number of observations is  74134 with the empirical chi square  1621.36  with prob <  0 \n",
      "The total number of observations was  74134  with Likelihood Chi Square =  3547.1  with prob <  0 \n",
      "\n",
      "Tucker Lewis Index of factoring reliability =  0.937\n",
      "RMSEA index =  0.083  and the 90 % confidence intervals are  0.08 0.085\n",
      "BIC =  3468.61\n",
      "Fit based upon off diagonal values = 1\n",
      "Measures of factor score adequacy             \n",
      "                                                  WLS1 WLS2 WLS3\n",
      "Correlation of (regression) scores with factors   0.96 0.84 0.72\n",
      "Multiple R square of scores with factors          0.91 0.71 0.52\n",
      "Minimum correlation of possible factor scores     0.83 0.43 0.04\n",
      "\n",
      "Factor Analysis using method =  ml\n",
      "Call: fa(r = macro_factors[, factor_names], nfactors = 3, rotate = \"promax\", \n",
      "    SMC = TRUE, fm = \"ml\", cor = \"tet\")\n",
      "Standardized loadings (pattern matrix) based upon correlation matrix\n",
      "                    item   ML1   ML3   ML2    h2   u2 com\n",
      "health_threshold       7  0.87 -0.22  0.18 0.613 0.39 1.2\n",
      "housing_threshold      4  0.85  0.06 -0.16 0.832 0.17 1.1\n",
      "workforce_threshold    8  0.76  0.14  0.02 0.731 0.27 1.1\n",
      "water_threshold        6  0.70  0.03 -0.38 0.690 0.31 1.5\n",
      "pollution_threshold    5 -0.11  0.68 -0.13 0.436 0.56 1.1\n",
      "energy_threshold       2  0.26  0.47  0.43 0.552 0.45 2.6\n",
      "traffic_threshold      3  0.01  0.45 -0.09 0.236 0.76 1.1\n",
      "climate_threshold      1  0.00 -0.07  0.26 0.079 0.92 1.1\n",
      "\n",
      "                       ML1  ML3  ML2\n",
      "SS loadings           2.68 1.00 0.49\n",
      "Proportion Var        0.33 0.13 0.06\n",
      "Cumulative Var        0.33 0.46 0.52\n",
      "Proportion Explained  0.64 0.24 0.12\n",
      "Cumulative Proportion 0.64 0.88 1.00\n",
      "\n",
      " With factor correlations of \n",
      "      ML1   ML3   ML2\n",
      "ML1  1.00  0.62 -0.03\n",
      "ML3  0.62  1.00 -0.18\n",
      "ML2 -0.03 -0.18  1.00\n",
      "\n",
      "Mean item complexity =  1.4\n",
      "Test of the hypothesis that 3 factors are sufficient.\n",
      "\n",
      "The degrees of freedom for the null model are  28  and the objective function was  3.03 with Chi Square of  224265.5\n",
      "The degrees of freedom for the model are 7  and the objective function was  0.05 \n",
      "\n",
      "The root mean square of the residuals (RMSR) is  0.02 \n",
      "The df corrected root mean square of the residuals is  0.04 \n",
      "\n",
      "The harmonic number of observations is  74134 with the empirical chi square  1844.51  with prob <  0 \n",
      "The total number of observations was  74134  with Likelihood Chi Square =  3397.27  with prob <  0 \n",
      "\n",
      "Tucker Lewis Index of factoring reliability =  0.94\n",
      "RMSEA index =  0.081  and the 90 % confidence intervals are  0.079 0.083\n",
      "BIC =  3318.78\n",
      "Fit based upon off diagonal values = 1\n",
      "Measures of factor score adequacy             \n",
      "                                                   ML1  ML3  ML2\n",
      "Correlation of (regression) scores with factors   0.95 0.84 0.73\n",
      "Multiple R square of scores with factors          0.91 0.71 0.54\n",
      "Minimum correlation of possible factor scores     0.82 0.42 0.08\n"
     ]
    }
   ],
   "source": [
    "faOut3ProWls <- fa(macro_factors[, factor_names], nfactors = 3, cor = \"tet\",  rotate=\"promax\", fm=\"wls\", SMC=TRUE)\n",
    "print(faOut3ProWls, sort=TRUE)\n",
    "\n",
    "faOut3ProMl <- fa(macro_factors[, factor_names], nfactors = 3, cor = \"tet\",  rotate=\"promax\", fm=\"ml\", SMC=TRUE)\n",
    "print(faOut3ProMl, sort=TRUE)"
   ]
  },
  {
   "cell_type": "markdown",
   "id": "ee5dbd4f",
   "metadata": {},
   "source": [
    "It is clear that this is a very complex system. Even after 3 factors, its only explaining 52% of the variance. \n",
    "Housing, Health, Workforce, and Water are clearly very related to eachother. Pollution, part of energy, and traffic share some variance. \n",
    "and then climate doesn't really find a good place in this model"
   ]
  },
  {
   "cell_type": "markdown",
   "id": "20397f1a",
   "metadata": {},
   "source": [
    "We've analyzed how the indicators relate to eachother. Now we want to see, if we force them to be unidimensional, how do they relate to a potential sum score?"
   ]
  },
  {
   "cell_type": "code",
   "execution_count": 28,
   "id": "6ecf617e",
   "metadata": {},
   "outputs": [
    {
     "data": {
      "text/html": [
       "<table class=\"dataframe\">\n",
       "<caption>A tibble: 8 × 2</caption>\n",
       "<thead>\n",
       "\t<tr><th scope=col>var</th><th scope=col>cor</th></tr>\n",
       "\t<tr><th scope=col>&lt;chr&gt;</th><th scope=col>&lt;dbl&gt;</th></tr>\n",
       "</thead>\n",
       "<tbody>\n",
       "\t<tr><td>workforce_threshold</td><td>0.6779313</td></tr>\n",
       "\t<tr><td>housing_threshold  </td><td>0.6456541</td></tr>\n",
       "\t<tr><td>health_threshold   </td><td>0.5690530</td></tr>\n",
       "\t<tr><td>energy_threshold   </td><td>0.5363731</td></tr>\n",
       "\t<tr><td>water_threshold    </td><td>0.4840263</td></tr>\n",
       "\t<tr><td>pollution_threshold</td><td>0.4796387</td></tr>\n",
       "\t<tr><td>traffic_threshold  </td><td>0.4673516</td></tr>\n",
       "\t<tr><td>climate_threshold  </td><td>0.2589900</td></tr>\n",
       "</tbody>\n",
       "</table>\n"
      ],
      "text/latex": [
       "A tibble: 8 × 2\n",
       "\\begin{tabular}{ll}\n",
       " var & cor\\\\\n",
       " <chr> & <dbl>\\\\\n",
       "\\hline\n",
       "\t workforce\\_threshold & 0.6779313\\\\\n",
       "\t housing\\_threshold   & 0.6456541\\\\\n",
       "\t health\\_threshold    & 0.5690530\\\\\n",
       "\t energy\\_threshold    & 0.5363731\\\\\n",
       "\t water\\_threshold     & 0.4840263\\\\\n",
       "\t pollution\\_threshold & 0.4796387\\\\\n",
       "\t traffic\\_threshold   & 0.4673516\\\\\n",
       "\t climate\\_threshold   & 0.2589900\\\\\n",
       "\\end{tabular}\n"
      ],
      "text/markdown": [
       "\n",
       "A tibble: 8 × 2\n",
       "\n",
       "| var &lt;chr&gt; | cor &lt;dbl&gt; |\n",
       "|---|---|\n",
       "| workforce_threshold | 0.6779313 |\n",
       "| housing_threshold   | 0.6456541 |\n",
       "| health_threshold    | 0.5690530 |\n",
       "| energy_threshold    | 0.5363731 |\n",
       "| water_threshold     | 0.4840263 |\n",
       "| pollution_threshold | 0.4796387 |\n",
       "| traffic_threshold   | 0.4673516 |\n",
       "| climate_threshold   | 0.2589900 |\n",
       "\n"
      ],
      "text/plain": [
       "  var                 cor      \n",
       "1 workforce_threshold 0.6779313\n",
       "2 housing_threshold   0.6456541\n",
       "3 health_threshold    0.5690530\n",
       "4 energy_threshold    0.5363731\n",
       "5 water_threshold     0.4840263\n",
       "6 pollution_threshold 0.4796387\n",
       "7 traffic_threshold   0.4673516\n",
       "8 climate_threshold   0.2589900"
      ]
     },
     "metadata": {},
     "output_type": "display_data"
    }
   ],
   "source": [
    "biserial_cor <- map_df(factor_names,\n",
    "~tibble(\n",
    " var = .x\n",
    ", cor =  cor.test( pull(macro_factors, !!.x), pull(macro_factors, total))$estimate[[1]]\n",
    ")) %>%\n",
    "arrange(desc(cor))\n",
    "\n",
    "biserial_cor"
   ]
  },
  {
   "cell_type": "markdown",
   "id": "2a99104f",
   "metadata": {},
   "source": [
    "The result here is honestly very promising. Again, we see that scoring a point on the climate burden isn't as predictive of scoring higher points overall. But we see that the other indicators really do cling together"
   ]
  },
  {
   "cell_type": "markdown",
   "id": "1778dfdb",
   "metadata": {},
   "source": [
    "What does this look like in practice? Can we see if there are overall contrasts on sum score between answering yes and no on other scores? If you get one, do you usually get others? These tables have the contrast as well as the percent with sum scores above 6"
   ]
  },
  {
   "cell_type": "code",
   "execution_count": 26,
   "id": "c9d2be31",
   "metadata": {},
   "outputs": [
    {
     "data": {
      "text/html": [
       "<table class=\"dataframe\">\n",
       "<caption>A tibble: 8 × 5</caption>\n",
       "<thead>\n",
       "\t<tr><th scope=col>indicator</th><th scope=col>Average Total Score for\n",
       "No's on this Indicator</th><th scope=col>Average Total Score for\n",
       "Yes's on this Indicator</th><th scope=col>contrast</th><th scope=col>pct_contrast</th></tr>\n",
       "\t<tr><th scope=col>&lt;chr&gt;</th><th scope=col>&lt;dbl&gt;</th><th scope=col>&lt;dbl&gt;</th><th scope=col>&lt;dbl&gt;</th><th scope=col>&lt;dbl&gt;</th></tr>\n",
       "</thead>\n",
       "<tbody>\n",
       "\t<tr><td>workforce_threshold</td><td>1.137333</td><td>3.753081</td><td>2.6157477</td><td>2.2998959</td></tr>\n",
       "\t<tr><td>housing_threshold  </td><td>1.295634</td><td>4.195176</td><td>2.8995418</td><td>2.2379322</td></tr>\n",
       "\t<tr><td>water_threshold    </td><td>1.532027</td><td>4.594241</td><td>3.0622140</td><td>1.9987991</td></tr>\n",
       "\t<tr><td>health_threshold   </td><td>1.270176</td><td>3.550006</td><td>2.2798305</td><td>1.7948935</td></tr>\n",
       "\t<tr><td>energy_threshold   </td><td>1.318001</td><td>3.525087</td><td>2.2070864</td><td>1.6745713</td></tr>\n",
       "\t<tr><td>pollution_threshold</td><td>1.256561</td><td>2.994616</td><td>1.7380542</td><td>1.3831830</td></tr>\n",
       "\t<tr><td>traffic_threshold  </td><td>1.305906</td><td>3.061944</td><td>1.7560372</td><td>1.3446884</td></tr>\n",
       "\t<tr><td>climate_threshold  </td><td>1.449510</td><td>2.345186</td><td>0.8956755</td><td>0.6179159</td></tr>\n",
       "</tbody>\n",
       "</table>\n"
      ],
      "text/latex": [
       "A tibble: 8 × 5\n",
       "\\begin{tabular}{lllll}\n",
       " indicator & Average Total Score for\n",
       "No's on this Indicator & Average Total Score for\n",
       "Yes's on this Indicator & contrast & pct\\_contrast\\\\\n",
       " <chr> & <dbl> & <dbl> & <dbl> & <dbl>\\\\\n",
       "\\hline\n",
       "\t workforce\\_threshold & 1.137333 & 3.753081 & 2.6157477 & 2.2998959\\\\\n",
       "\t housing\\_threshold   & 1.295634 & 4.195176 & 2.8995418 & 2.2379322\\\\\n",
       "\t water\\_threshold     & 1.532027 & 4.594241 & 3.0622140 & 1.9987991\\\\\n",
       "\t health\\_threshold    & 1.270176 & 3.550006 & 2.2798305 & 1.7948935\\\\\n",
       "\t energy\\_threshold    & 1.318001 & 3.525087 & 2.2070864 & 1.6745713\\\\\n",
       "\t pollution\\_threshold & 1.256561 & 2.994616 & 1.7380542 & 1.3831830\\\\\n",
       "\t traffic\\_threshold   & 1.305906 & 3.061944 & 1.7560372 & 1.3446884\\\\\n",
       "\t climate\\_threshold   & 1.449510 & 2.345186 & 0.8956755 & 0.6179159\\\\\n",
       "\\end{tabular}\n"
      ],
      "text/markdown": [
       "\n",
       "A tibble: 8 × 5\n",
       "\n",
       "| indicator &lt;chr&gt; | Average Total Score for\n",
       "No's on this Indicator &lt;dbl&gt; | Average Total Score for\n",
       "Yes's on this Indicator &lt;dbl&gt; | contrast &lt;dbl&gt; | pct_contrast &lt;dbl&gt; |\n",
       "|---|---|---|---|---|\n",
       "| workforce_threshold | 1.137333 | 3.753081 | 2.6157477 | 2.2998959 |\n",
       "| housing_threshold   | 1.295634 | 4.195176 | 2.8995418 | 2.2379322 |\n",
       "| water_threshold     | 1.532027 | 4.594241 | 3.0622140 | 1.9987991 |\n",
       "| health_threshold    | 1.270176 | 3.550006 | 2.2798305 | 1.7948935 |\n",
       "| energy_threshold    | 1.318001 | 3.525087 | 2.2070864 | 1.6745713 |\n",
       "| pollution_threshold | 1.256561 | 2.994616 | 1.7380542 | 1.3831830 |\n",
       "| traffic_threshold   | 1.305906 | 3.061944 | 1.7560372 | 1.3446884 |\n",
       "| climate_threshold   | 1.449510 | 2.345186 | 0.8956755 | 0.6179159 |\n",
       "\n"
      ],
      "text/plain": [
       "  indicator           Average Total Score for\\nNo's on this Indicator\n",
       "1 workforce_threshold 1.137333                                       \n",
       "2 housing_threshold   1.295634                                       \n",
       "3 water_threshold     1.532027                                       \n",
       "4 health_threshold    1.270176                                       \n",
       "5 energy_threshold    1.318001                                       \n",
       "6 pollution_threshold 1.256561                                       \n",
       "7 traffic_threshold   1.305906                                       \n",
       "8 climate_threshold   1.449510                                       \n",
       "  Average Total Score for\\nYes's on this Indicator contrast  pct_contrast\n",
       "1 3.753081                                         2.6157477 2.2998959   \n",
       "2 4.195176                                         2.8995418 2.2379322   \n",
       "3 4.594241                                         3.0622140 1.9987991   \n",
       "4 3.550006                                         2.2798305 1.7948935   \n",
       "5 3.525087                                         2.2070864 1.6745713   \n",
       "6 2.994616                                         1.7380542 1.3831830   \n",
       "7 3.061944                                         1.7560372 1.3446884   \n",
       "8 2.345186                                         0.8956755 0.6179159   "
      ]
     },
     "metadata": {},
     "output_type": "display_data"
    },
    {
     "data": {
      "text/html": [
       "<table class=\"dataframe\">\n",
       "<caption>A tibble: 8 × 5</caption>\n",
       "<thead>\n",
       "\t<tr><th scope=col>indicator</th><th scope=col>% with total above 6 for\n",
       "No's on this Indicator</th><th scope=col>% with no's above 6 for\n",
       "Yes's on this Indicator</th><th scope=col>contrast</th><th scope=col>pct_contrast</th></tr>\n",
       "\t<tr><th scope=col>&lt;chr&gt;</th><th scope=col>&lt;dbl&gt;</th><th scope=col>&lt;dbl&gt;</th><th scope=col>&lt;dbl&gt;</th><th scope=col>&lt;dbl&gt;</th></tr>\n",
       "</thead>\n",
       "<tbody>\n",
       "\t<tr><td>water_threshold    </td><td>0.044020586</td><td>0.5719895</td><td>0.52796894</td><td>0.9230395</td></tr>\n",
       "\t<tr><td>housing_threshold  </td><td>0.013484514</td><td>0.4485973</td><td>0.43511282</td><td>0.9699407</td></tr>\n",
       "\t<tr><td>workforce_threshold</td><td>0.006315381</td><td>0.3283659</td><td>0.32205053</td><td>0.9807672</td></tr>\n",
       "\t<tr><td>health_threshold   </td><td>0.027876651</td><td>0.2839852</td><td>0.25610857</td><td>0.9018377</td></tr>\n",
       "\t<tr><td>energy_threshold   </td><td>0.032440151</td><td>0.2844822</td><td>0.25204202</td><td>0.8859677</td></tr>\n",
       "\t<tr><td>pollution_threshold</td><td>0.031664212</td><td>0.2082940</td><td>0.17662976</td><td>0.8479831</td></tr>\n",
       "\t<tr><td>traffic_threshold  </td><td>0.037801744</td><td>0.2118482</td><td>0.17404650</td><td>0.8215622</td></tr>\n",
       "\t<tr><td>climate_threshold  </td><td>0.072909017</td><td>0.1000637</td><td>0.02715469</td><td>0.2713740</td></tr>\n",
       "</tbody>\n",
       "</table>\n"
      ],
      "text/latex": [
       "A tibble: 8 × 5\n",
       "\\begin{tabular}{lllll}\n",
       " indicator & \\% with total above 6 for\n",
       "No's on this Indicator & \\% with no's above 6 for\n",
       "Yes's on this Indicator & contrast & pct\\_contrast\\\\\n",
       " <chr> & <dbl> & <dbl> & <dbl> & <dbl>\\\\\n",
       "\\hline\n",
       "\t water\\_threshold     & 0.044020586 & 0.5719895 & 0.52796894 & 0.9230395\\\\\n",
       "\t housing\\_threshold   & 0.013484514 & 0.4485973 & 0.43511282 & 0.9699407\\\\\n",
       "\t workforce\\_threshold & 0.006315381 & 0.3283659 & 0.32205053 & 0.9807672\\\\\n",
       "\t health\\_threshold    & 0.027876651 & 0.2839852 & 0.25610857 & 0.9018377\\\\\n",
       "\t energy\\_threshold    & 0.032440151 & 0.2844822 & 0.25204202 & 0.8859677\\\\\n",
       "\t pollution\\_threshold & 0.031664212 & 0.2082940 & 0.17662976 & 0.8479831\\\\\n",
       "\t traffic\\_threshold   & 0.037801744 & 0.2118482 & 0.17404650 & 0.8215622\\\\\n",
       "\t climate\\_threshold   & 0.072909017 & 0.1000637 & 0.02715469 & 0.2713740\\\\\n",
       "\\end{tabular}\n"
      ],
      "text/markdown": [
       "\n",
       "A tibble: 8 × 5\n",
       "\n",
       "| indicator &lt;chr&gt; | % with total above 6 for\n",
       "No's on this Indicator &lt;dbl&gt; | % with no's above 6 for\n",
       "Yes's on this Indicator &lt;dbl&gt; | contrast &lt;dbl&gt; | pct_contrast &lt;dbl&gt; |\n",
       "|---|---|---|---|---|\n",
       "| water_threshold     | 0.044020586 | 0.5719895 | 0.52796894 | 0.9230395 |\n",
       "| housing_threshold   | 0.013484514 | 0.4485973 | 0.43511282 | 0.9699407 |\n",
       "| workforce_threshold | 0.006315381 | 0.3283659 | 0.32205053 | 0.9807672 |\n",
       "| health_threshold    | 0.027876651 | 0.2839852 | 0.25610857 | 0.9018377 |\n",
       "| energy_threshold    | 0.032440151 | 0.2844822 | 0.25204202 | 0.8859677 |\n",
       "| pollution_threshold | 0.031664212 | 0.2082940 | 0.17662976 | 0.8479831 |\n",
       "| traffic_threshold   | 0.037801744 | 0.2118482 | 0.17404650 | 0.8215622 |\n",
       "| climate_threshold   | 0.072909017 | 0.1000637 | 0.02715469 | 0.2713740 |\n",
       "\n"
      ],
      "text/plain": [
       "  indicator           % with total above 6 for\\nNo's on this Indicator\n",
       "1 water_threshold     0.044020586                                     \n",
       "2 housing_threshold   0.013484514                                     \n",
       "3 workforce_threshold 0.006315381                                     \n",
       "4 health_threshold    0.027876651                                     \n",
       "5 energy_threshold    0.032440151                                     \n",
       "6 pollution_threshold 0.031664212                                     \n",
       "7 traffic_threshold   0.037801744                                     \n",
       "8 climate_threshold   0.072909017                                     \n",
       "  % with no's above 6 for\\nYes's on this Indicator contrast   pct_contrast\n",
       "1 0.5719895                                        0.52796894 0.9230395   \n",
       "2 0.4485973                                        0.43511282 0.9699407   \n",
       "3 0.3283659                                        0.32205053 0.9807672   \n",
       "4 0.2839852                                        0.25610857 0.9018377   \n",
       "5 0.2844822                                        0.25204202 0.8859677   \n",
       "6 0.2082940                                        0.17662976 0.8479831   \n",
       "7 0.2118482                                        0.17404650 0.8215622   \n",
       "8 0.1000637                                        0.02715469 0.2713740   "
      ]
     },
     "metadata": {},
     "output_type": "display_data"
    }
   ],
   "source": [
    "yes_no_averages <- map_df( factor_names,\n",
    "~macro_factors %>% \n",
    "    group_by(group = !!sym(.x) ) %>% \n",
    "    mutate(six = total >= 5) %>%\n",
    "    summarise(\n",
    "        total = mean(total)\n",
    "      , count = n()\n",
    "      , six = mean(as.numeric(six))\n",
    "             ) %>%\n",
    "    mutate(indicator = !!.x)\n",
    ")\n",
    "\n",
    "yes_no_averages %>%\n",
    "select(group, total, indicator) %>%\n",
    "spread(group, total) %>%\n",
    "mutate(contrast = `1` - `0`,\n",
    "      pct_contrast = contrast/`0`) %>%\n",
    "arrange(desc(pct_contrast)) %>%\n",
    "rename(\n",
    "`Average Total Score for\\nNo's on this Indicator` = '0' \n",
    ", `Average Total Score for\\nYes's on this Indicator` = '1' \n",
    "\n",
    ")\n",
    "\n",
    "\n",
    "yes_no_averages %>%\n",
    "select(group, six, indicator) %>%\n",
    "spread(group, six) %>%\n",
    "mutate(contrast = `1` - `0`,\n",
    "      pct_contrast = contrast/`1`) %>%\n",
    "rename(\n",
    "`% with total above 6 for\\nNo's on this Indicator` = '0' \n",
    ", `% with no's above 6 for\\nYes's on this Indicator` = '1' \n",
    ") %>%\n",
    "arrange(desc(contrast))\n"
   ]
  },
  {
   "cell_type": "markdown",
   "id": "3425f034",
   "metadata": {},
   "source": [
    "Above is another way to show a very similar thing. "
   ]
  },
  {
   "cell_type": "markdown",
   "id": "34913814",
   "metadata": {},
   "source": [
    "We also want to check the distribution of this score across communities"
   ]
  },
  {
   "cell_type": "code",
   "execution_count": 27,
   "id": "6e408de7",
   "metadata": {},
   "outputs": [
    {
     "data": {
      "image/png": "[encoded data removed]",
      "text/plain": [
       "Plot with title “Histogram of macro_factors$total”"
      ]
     },
     "metadata": {
      "image/png": {
       "height": 420,
       "width": 420
      }
     },
     "output_type": "display_data"
    }
   ],
   "source": [
    "hist(macro_factors$total)"
   ]
  },
  {
   "cell_type": "code",
   "execution_count": 30,
   "id": "0394c5e5",
   "metadata": {},
   "outputs": [
    {
     "data": {
      "text/html": [
       "<table class=\"dataframe\">\n",
       "<caption>A tibble: 9 × 9</caption>\n",
       "<thead>\n",
       "\t<tr><th scope=col>total</th><th scope=col>count</th><th scope=col>pop</th><th scope=col>pct</th><th scope=col>cumpct</th><th scope=col>pct_pop</th><th scope=col>cumpct_pop</th><th scope=col>under_sum</th><th scope=col>under_sumpop</th></tr>\n",
       "\t<tr><th scope=col>&lt;dbl&gt;</th><th scope=col>&lt;int&gt;</th><th scope=col>&lt;dbl&gt;</th><th scope=col>&lt;dbl&gt;</th><th scope=col>&lt;dbl&gt;</th><th scope=col>&lt;dbl&gt;</th><th scope=col>&lt;dbl&gt;</th><th scope=col>&lt;dbl&gt;</th><th scope=col>&lt;dbl&gt;</th></tr>\n",
       "</thead>\n",
       "<tbody>\n",
       "\t<tr><td>8</td><td>   65</td><td>   163983</td><td>0.0008767907</td><td>1.0000000</td><td>0.0004995405</td><td>1.0000000</td><td>0.0008767907</td><td>0.0004995405</td></tr>\n",
       "\t<tr><td>7</td><td>  536</td><td>  1704564</td><td>0.0072301508</td><td>0.9991232</td><td>0.0051926033</td><td>0.9995005</td><td>0.0081069415</td><td>0.0056921438</td></tr>\n",
       "\t<tr><td>6</td><td> 1866</td><td>  6412384</td><td>0.0251706370</td><td>0.9918931</td><td>0.0195340078</td><td>0.9943079</td><td>0.0332775784</td><td>0.0252261516</td></tr>\n",
       "\t<tr><td>5</td><td> 3620</td><td> 12934076</td><td>0.0488304961</td><td>0.9667224</td><td>0.0394010000</td><td>0.9747738</td><td>0.0821080746</td><td>0.0646271516</td></tr>\n",
       "\t<tr><td>4</td><td> 5195</td><td> 20088230</td><td>0.0700758087</td><td>0.9178919</td><td>0.0611946574</td><td>0.9353728</td><td>0.1521838832</td><td>0.1258218091</td></tr>\n",
       "\t<tr><td>3</td><td> 8432</td><td> 34800253</td><td>0.1137399844</td><td>0.8478161</td><td>0.1060118070</td><td>0.8741782</td><td>0.2659238676</td><td>0.2318336160</td></tr>\n",
       "\t<tr><td>2</td><td>14497</td><td> 62780724</td><td>0.1955512990</td><td>0.7340761</td><td>0.1912485520</td><td>0.7681664</td><td>0.4614751666</td><td>0.4230821680</td></tr>\n",
       "\t<tr><td>1</td><td>21314</td><td>101418977</td><td>0.2875064073</td><td>0.5385248</td><td>0.3089520359</td><td>0.5769178</td><td>0.7489815739</td><td>0.7320342038</td></tr>\n",
       "\t<tr><td>0</td><td>18609</td><td> 87964518</td><td>0.2510184261</td><td>0.2510184</td><td>0.2679657962</td><td>0.2679658</td><td>1.0000000000</td><td>1.0000000000</td></tr>\n",
       "</tbody>\n",
       "</table>\n"
      ],
      "text/latex": [
       "A tibble: 9 × 9\n",
       "\\begin{tabular}{lllllllll}\n",
       " total & count & pop & pct & cumpct & pct\\_pop & cumpct\\_pop & under\\_sum & under\\_sumpop\\\\\n",
       " <dbl> & <int> & <dbl> & <dbl> & <dbl> & <dbl> & <dbl> & <dbl> & <dbl>\\\\\n",
       "\\hline\n",
       "\t 8 &    65 &    163983 & 0.0008767907 & 1.0000000 & 0.0004995405 & 1.0000000 & 0.0008767907 & 0.0004995405\\\\\n",
       "\t 7 &   536 &   1704564 & 0.0072301508 & 0.9991232 & 0.0051926033 & 0.9995005 & 0.0081069415 & 0.0056921438\\\\\n",
       "\t 6 &  1866 &   6412384 & 0.0251706370 & 0.9918931 & 0.0195340078 & 0.9943079 & 0.0332775784 & 0.0252261516\\\\\n",
       "\t 5 &  3620 &  12934076 & 0.0488304961 & 0.9667224 & 0.0394010000 & 0.9747738 & 0.0821080746 & 0.0646271516\\\\\n",
       "\t 4 &  5195 &  20088230 & 0.0700758087 & 0.9178919 & 0.0611946574 & 0.9353728 & 0.1521838832 & 0.1258218091\\\\\n",
       "\t 3 &  8432 &  34800253 & 0.1137399844 & 0.8478161 & 0.1060118070 & 0.8741782 & 0.2659238676 & 0.2318336160\\\\\n",
       "\t 2 & 14497 &  62780724 & 0.1955512990 & 0.7340761 & 0.1912485520 & 0.7681664 & 0.4614751666 & 0.4230821680\\\\\n",
       "\t 1 & 21314 & 101418977 & 0.2875064073 & 0.5385248 & 0.3089520359 & 0.5769178 & 0.7489815739 & 0.7320342038\\\\\n",
       "\t 0 & 18609 &  87964518 & 0.2510184261 & 0.2510184 & 0.2679657962 & 0.2679658 & 1.0000000000 & 1.0000000000\\\\\n",
       "\\end{tabular}\n"
      ],
      "text/markdown": [
       "\n",
       "A tibble: 9 × 9\n",
       "\n",
       "| total &lt;dbl&gt; | count &lt;int&gt; | pop &lt;dbl&gt; | pct &lt;dbl&gt; | cumpct &lt;dbl&gt; | pct_pop &lt;dbl&gt; | cumpct_pop &lt;dbl&gt; | under_sum &lt;dbl&gt; | under_sumpop &lt;dbl&gt; |\n",
       "|---|---|---|---|---|---|---|---|---|\n",
       "| 8 |    65 |    163983 | 0.0008767907 | 1.0000000 | 0.0004995405 | 1.0000000 | 0.0008767907 | 0.0004995405 |\n",
       "| 7 |   536 |   1704564 | 0.0072301508 | 0.9991232 | 0.0051926033 | 0.9995005 | 0.0081069415 | 0.0056921438 |\n",
       "| 6 |  1866 |   6412384 | 0.0251706370 | 0.9918931 | 0.0195340078 | 0.9943079 | 0.0332775784 | 0.0252261516 |\n",
       "| 5 |  3620 |  12934076 | 0.0488304961 | 0.9667224 | 0.0394010000 | 0.9747738 | 0.0821080746 | 0.0646271516 |\n",
       "| 4 |  5195 |  20088230 | 0.0700758087 | 0.9178919 | 0.0611946574 | 0.9353728 | 0.1521838832 | 0.1258218091 |\n",
       "| 3 |  8432 |  34800253 | 0.1137399844 | 0.8478161 | 0.1060118070 | 0.8741782 | 0.2659238676 | 0.2318336160 |\n",
       "| 2 | 14497 |  62780724 | 0.1955512990 | 0.7340761 | 0.1912485520 | 0.7681664 | 0.4614751666 | 0.4230821680 |\n",
       "| 1 | 21314 | 101418977 | 0.2875064073 | 0.5385248 | 0.3089520359 | 0.5769178 | 0.7489815739 | 0.7320342038 |\n",
       "| 0 | 18609 |  87964518 | 0.2510184261 | 0.2510184 | 0.2679657962 | 0.2679658 | 1.0000000000 | 1.0000000000 |\n",
       "\n"
      ],
      "text/plain": [
       "  total count pop       pct          cumpct    pct_pop      cumpct_pop\n",
       "1 8        65    163983 0.0008767907 1.0000000 0.0004995405 1.0000000 \n",
       "2 7       536   1704564 0.0072301508 0.9991232 0.0051926033 0.9995005 \n",
       "3 6      1866   6412384 0.0251706370 0.9918931 0.0195340078 0.9943079 \n",
       "4 5      3620  12934076 0.0488304961 0.9667224 0.0394010000 0.9747738 \n",
       "5 4      5195  20088230 0.0700758087 0.9178919 0.0611946574 0.9353728 \n",
       "6 3      8432  34800253 0.1137399844 0.8478161 0.1060118070 0.8741782 \n",
       "7 2     14497  62780724 0.1955512990 0.7340761 0.1912485520 0.7681664 \n",
       "8 1     21314 101418977 0.2875064073 0.5385248 0.3089520359 0.5769178 \n",
       "9 0     18609  87964518 0.2510184261 0.2510184 0.2679657962 0.2679658 \n",
       "  under_sum    under_sumpop\n",
       "1 0.0008767907 0.0004995405\n",
       "2 0.0081069415 0.0056921438\n",
       "3 0.0332775784 0.0252261516\n",
       "4 0.0821080746 0.0646271516\n",
       "5 0.1521838832 0.1258218091\n",
       "6 0.2659238676 0.2318336160\n",
       "7 0.4614751666 0.4230821680\n",
       "8 0.7489815739 0.7320342038\n",
       "9 1.0000000000 1.0000000000"
      ]
     },
     "metadata": {},
     "output_type": "display_data"
    }
   ],
   "source": [
    "## need to edit this to get a more population-focused analysis. \n",
    "macro_factors %>% \n",
    "group_by(total) %>% \n",
    "summarise(count = n(), pop = sum(pop, na.rm = TRUE)) %>%\n",
    "ungroup() %>%\n",
    "mutate(\n",
    "      pct = count/sum(count)\n",
    "    , cumpct = cumsum(pct)\n",
    "    , pct_pop = pop/sum(pop)\n",
    "    , cumpct_pop = cumsum(pct_pop)\n",
    ") %>%\n",
    "arrange(desc(total)) %>%\n",
    "mutate(\n",
    "    under_sum = cumsum(pct)\n",
    "   , under_sumpop = cumsum(pct_pop)\n",
    "\n",
    ")"
   ]
  },
  {
   "cell_type": "code",
   "execution_count": null,
   "id": "6429130d",
   "metadata": {},
   "outputs": [],
   "source": [
    "# compare to current\n",
    "\n",
    "macro_factors \n"
   ]
  }
 ],
 "metadata": {
  "kernelspec": {
   "display_name": "R",
   "language": "R",
   "name": "ir"
  },
  "language_info": {
   "codemirror_mode": "r",
   "file_extension": ".r",
   "mimetype": "text/x-r-source",
   "name": "R",
   "pygments_lexer": "r",
   "version": "4.0.2"
  }
 },
 "nbformat": 4,
 "nbformat_minor": 5
}
